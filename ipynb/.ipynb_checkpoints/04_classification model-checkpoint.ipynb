{
 "cells": [
  {
   "cell_type": "code",
   "execution_count": 19,
   "metadata": {},
   "outputs": [],
   "source": [
    "import pandas as pd\n",
    "import numpy as np"
   ]
  },
  {
   "cell_type": "markdown",
   "metadata": {},
   "source": [
    "# import"
   ]
  },
  {
   "cell_type": "code",
   "execution_count": 20,
   "metadata": {},
   "outputs": [],
   "source": [
    "tok = pd.read_parquet('../../../data/train_chunk/result/dc_topword_food_dict_remove_single_words_1K')"
   ]
  },
  {
   "cell_type": "code",
   "execution_count": 23,
   "metadata": {},
   "outputs": [],
   "source": [
    "df = pd.read_csv('data/20200417_lda_classification_dataset.csv',header=0)\n",
    "df = pd.concat([df, tok[['tokenized','tok_remove_topwords']]], axis=1)"
   ]
  },
  {
   "cell_type": "code",
   "execution_count": 24,
   "metadata": {},
   "outputs": [
    {
     "data": {
      "text/plain": [
       "(40000, 4)"
      ]
     },
     "execution_count": 24,
     "metadata": {},
     "output_type": "execute_result"
    }
   ],
   "source": [
    "df.shape"
   ]
  },
  {
   "cell_type": "markdown",
   "metadata": {},
   "source": [
    "# prep target"
   ]
  },
  {
   "cell_type": "code",
   "execution_count": 51,
   "metadata": {},
   "outputs": [],
   "source": [
    "# target_class = ['taste','recommendation','restaurant_env','price','service','food_variety','other']\n",
    "target_class = ['taste','recommendation','restaurant_env','price','service','food_variety']"
   ]
  },
  {
   "cell_type": "code",
   "execution_count": 52,
   "metadata": {},
   "outputs": [],
   "source": [
    "target = df.copy()"
   ]
  },
  {
   "cell_type": "code",
   "execution_count": 53,
   "metadata": {},
   "outputs": [],
   "source": [
    "for class_ in target_class:\n",
    "    target[class_] = np.where(target['topics'].str.contains(class_ ), 1, 0)"
   ]
  },
  {
   "cell_type": "code",
   "execution_count": 54,
   "metadata": {},
   "outputs": [
    {
     "data": {
      "text/html": [
       "<div>\n",
       "<style scoped>\n",
       "    .dataframe tbody tr th:only-of-type {\n",
       "        vertical-align: middle;\n",
       "    }\n",
       "\n",
       "    .dataframe tbody tr th {\n",
       "        vertical-align: top;\n",
       "    }\n",
       "\n",
       "    .dataframe thead th {\n",
       "        text-align: right;\n",
       "    }\n",
       "</style>\n",
       "<table border=\"1\" class=\"dataframe\">\n",
       "  <thead>\n",
       "    <tr style=\"text-align: right;\">\n",
       "      <th></th>\n",
       "      <th>review</th>\n",
       "      <th>topics</th>\n",
       "      <th>tokenized</th>\n",
       "      <th>tok_remove_topwords</th>\n",
       "      <th>taste</th>\n",
       "      <th>recommendation</th>\n",
       "      <th>restaurant_env</th>\n",
       "      <th>price</th>\n",
       "      <th>service</th>\n",
       "      <th>food_variety</th>\n",
       "    </tr>\n",
       "  </thead>\n",
       "  <tbody>\n",
       "    <tr>\n",
       "      <th>0</th>\n",
       "      <td>ไปเที่ยวเกาะล้าน คงพลาดไม่ได้กับร้านอาหารขึ้นช...</td>\n",
       "      <td>{'other', 'price', 'food_variety', 'service', ...</td>\n",
       "      <td>[ไป, เที่ยว, เกาะ, ล้าน, คง, พลาดไม่ได้, กับ, ...</td>\n",
       "      <td>[เกาะ, ล้าน, พลาดไม่ได้, เกาะ, ครัวพวงพยอม, เบ...</td>\n",
       "      <td>0</td>\n",
       "      <td>1</td>\n",
       "      <td>0</td>\n",
       "      <td>1</td>\n",
       "      <td>1</td>\n",
       "      <td>1</td>\n",
       "    </tr>\n",
       "    <tr>\n",
       "      <th>1</th>\n",
       "      <td>อยากหาเค้กทานแถวบ้านพอดีขับผ่านร้านนี้พอดีเล...</td>\n",
       "      <td>{'other', 'food_variety', 'service', 'taste', ...</td>\n",
       "      <td>[อยาก, หา, เค้กทาน, แถว, บ้าน, พอดี, ขับ, ผ่าน...</td>\n",
       "      <td>[เค้กทาน, พอดีเลย, ฟิว, แปลก, ชินตา, ก่อนหน้า,...</td>\n",
       "      <td>1</td>\n",
       "      <td>0</td>\n",
       "      <td>1</td>\n",
       "      <td>0</td>\n",
       "      <td>1</td>\n",
       "      <td>1</td>\n",
       "    </tr>\n",
       "    <tr>\n",
       "      <th>2</th>\n",
       "      <td>จากเส้น พระราม   เลี้ยวเข้า ถนนเจริญราษฎร์ ชิด...</td>\n",
       "      <td>{'other', 'price', 'food_variety', 'service', ...</td>\n",
       "      <td>[จาก, เส้น, พระราม, เลี้ยว, เข้า, ถนน, เจริญรา...</td>\n",
       "      <td>[พระราม, เจริญราษฎร์, ชิด, ประดู่, ถนนแฉล้มนิม...</td>\n",
       "      <td>0</td>\n",
       "      <td>1</td>\n",
       "      <td>0</td>\n",
       "      <td>1</td>\n",
       "      <td>1</td>\n",
       "      <td>1</td>\n",
       "    </tr>\n",
       "    <tr>\n",
       "      <th>3</th>\n",
       "      <td>ไม่คิดว่าจะมีร้านเนื้อย่างเกาหลีราคาย่อมเยา แล...</td>\n",
       "      <td>{'price', 'other', 'food_variety', 'service', ...</td>\n",
       "      <td>[ไม่, คิด, ว่า, จะ, มี, ร้าน, เนื้อย่าง, เกาหล...</td>\n",
       "      <td>[เนื้อย่าง, ราคา, ย่อมเยา, นาน, มาลอง, ซักที, ...</td>\n",
       "      <td>1</td>\n",
       "      <td>0</td>\n",
       "      <td>1</td>\n",
       "      <td>1</td>\n",
       "      <td>1</td>\n",
       "      <td>1</td>\n",
       "    </tr>\n",
       "    <tr>\n",
       "      <th>4</th>\n",
       "      <td>เมนูโปรดคือ ซารุเซ็ต เพราะได้ทั้งหมี่เย็น และเ...</td>\n",
       "      <td>{'other', 'price', 'food_variety', 'service', ...</td>\n",
       "      <td>[เมนูโปรด, คือ, ซารุเซ็ต, เพราะ, ได้, ทั้ง, หม...</td>\n",
       "      <td>[เมนูโปรด, ซารุเซ็ต, หมี่เย็น, ซ่า, ชอบ, หมี่เ...</td>\n",
       "      <td>1</td>\n",
       "      <td>0</td>\n",
       "      <td>0</td>\n",
       "      <td>1</td>\n",
       "      <td>1</td>\n",
       "      <td>1</td>\n",
       "    </tr>\n",
       "  </tbody>\n",
       "</table>\n",
       "</div>"
      ],
      "text/plain": [
       "                                              review  \\\n",
       "0  ไปเที่ยวเกาะล้าน คงพลาดไม่ได้กับร้านอาหารขึ้นช...   \n",
       "1    อยากหาเค้กทานแถวบ้านพอดีขับผ่านร้านนี้พอดีเล...   \n",
       "2  จากเส้น พระราม   เลี้ยวเข้า ถนนเจริญราษฎร์ ชิด...   \n",
       "3  ไม่คิดว่าจะมีร้านเนื้อย่างเกาหลีราคาย่อมเยา แล...   \n",
       "4  เมนูโปรดคือ ซารุเซ็ต เพราะได้ทั้งหมี่เย็น และเ...   \n",
       "\n",
       "                                              topics  \\\n",
       "0  {'other', 'price', 'food_variety', 'service', ...   \n",
       "1  {'other', 'food_variety', 'service', 'taste', ...   \n",
       "2  {'other', 'price', 'food_variety', 'service', ...   \n",
       "3  {'price', 'other', 'food_variety', 'service', ...   \n",
       "4  {'other', 'price', 'food_variety', 'service', ...   \n",
       "\n",
       "                                           tokenized  \\\n",
       "0  [ไป, เที่ยว, เกาะ, ล้าน, คง, พลาดไม่ได้, กับ, ...   \n",
       "1  [อยาก, หา, เค้กทาน, แถว, บ้าน, พอดี, ขับ, ผ่าน...   \n",
       "2  [จาก, เส้น, พระราม, เลี้ยว, เข้า, ถนน, เจริญรา...   \n",
       "3  [ไม่, คิด, ว่า, จะ, มี, ร้าน, เนื้อย่าง, เกาหล...   \n",
       "4  [เมนูโปรด, คือ, ซารุเซ็ต, เพราะ, ได้, ทั้ง, หม...   \n",
       "\n",
       "                                 tok_remove_topwords  taste  recommendation  \\\n",
       "0  [เกาะ, ล้าน, พลาดไม่ได้, เกาะ, ครัวพวงพยอม, เบ...      0               1   \n",
       "1  [เค้กทาน, พอดีเลย, ฟิว, แปลก, ชินตา, ก่อนหน้า,...      1               0   \n",
       "2  [พระราม, เจริญราษฎร์, ชิด, ประดู่, ถนนแฉล้มนิม...      0               1   \n",
       "3  [เนื้อย่าง, ราคา, ย่อมเยา, นาน, มาลอง, ซักที, ...      1               0   \n",
       "4  [เมนูโปรด, ซารุเซ็ต, หมี่เย็น, ซ่า, ชอบ, หมี่เ...      1               0   \n",
       "\n",
       "   restaurant_env  price  service  food_variety  \n",
       "0               0      1        1             1  \n",
       "1               1      0        1             1  \n",
       "2               0      1        1             1  \n",
       "3               1      1        1             1  \n",
       "4               0      1        1             1  "
      ]
     },
     "execution_count": 54,
     "metadata": {},
     "output_type": "execute_result"
    }
   ],
   "source": [
    "target.head()"
   ]
  },
  {
   "cell_type": "code",
   "execution_count": 59,
   "metadata": {},
   "outputs": [
    {
     "data": {
      "text/html": [
       "<div>\n",
       "<style scoped>\n",
       "    .dataframe tbody tr th:only-of-type {\n",
       "        vertical-align: middle;\n",
       "    }\n",
       "\n",
       "    .dataframe tbody tr th {\n",
       "        vertical-align: top;\n",
       "    }\n",
       "\n",
       "    .dataframe thead th {\n",
       "        text-align: right;\n",
       "    }\n",
       "</style>\n",
       "<table border=\"1\" class=\"dataframe\">\n",
       "  <thead>\n",
       "    <tr style=\"text-align: right;\">\n",
       "      <th></th>\n",
       "      <th>target_dist_pct</th>\n",
       "    </tr>\n",
       "  </thead>\n",
       "  <tbody>\n",
       "    <tr>\n",
       "      <th>price</th>\n",
       "      <td>94.3475</td>\n",
       "    </tr>\n",
       "    <tr>\n",
       "      <th>food_variety</th>\n",
       "      <td>94.2075</td>\n",
       "    </tr>\n",
       "    <tr>\n",
       "      <th>service</th>\n",
       "      <td>87.7300</td>\n",
       "    </tr>\n",
       "    <tr>\n",
       "      <th>taste</th>\n",
       "      <td>71.5375</td>\n",
       "    </tr>\n",
       "    <tr>\n",
       "      <th>recommendation</th>\n",
       "      <td>55.5825</td>\n",
       "    </tr>\n",
       "    <tr>\n",
       "      <th>restaurant_env</th>\n",
       "      <td>19.6425</td>\n",
       "    </tr>\n",
       "  </tbody>\n",
       "</table>\n",
       "</div>"
      ],
      "text/plain": [
       "                target_dist_pct\n",
       "price                   94.3475\n",
       "food_variety            94.2075\n",
       "service                 87.7300\n",
       "taste                   71.5375\n",
       "recommendation          55.5825\n",
       "restaurant_env          19.6425"
      ]
     },
     "execution_count": 59,
     "metadata": {},
     "output_type": "execute_result"
    }
   ],
   "source": [
    "target[target_class].mean().sort_values(ascending=False).to_frame('target_dist_pct') * 100"
   ]
  },
  {
   "cell_type": "markdown",
   "metadata": {},
   "source": [
    "# Baseline model"
   ]
  },
  {
   "cell_type": "code",
   "execution_count": 61,
   "metadata": {},
   "outputs": [],
   "source": [
    "data_words = target['tok_remove_topwords'].tolist()"
   ]
  },
  {
   "cell_type": "code",
   "execution_count": 65,
   "metadata": {},
   "outputs": [],
   "source": [
    "# import the vectorizer\n",
    "from sklearn.feature_extraction.text import CountVectorizer\n",
    "from sklearn.feature_extraction.text import CountVectorizer, TfidfVectorizer\n",
    "\n",
    "def dummy(doc):\n",
    "    return doc\n",
    "\n",
    "tf_vectorizer = CountVectorizer(tokenizer=dummy, preprocessor=dummy)\n",
    "X = tf_vectorizer.fit_transform(data_words)"
   ]
  },
  {
   "cell_type": "code",
   "execution_count": 66,
   "metadata": {},
   "outputs": [],
   "source": [
    "y = target[target_class]"
   ]
  },
  {
   "cell_type": "code",
   "execution_count": 67,
   "metadata": {},
   "outputs": [],
   "source": [
    "from sklearn.model_selection import train_test_split\n",
    "\n",
    "X_train, X_test, y_train, y_test = train_test_split(X, y, test_size=0.25)"
   ]
  },
  {
   "cell_type": "code",
   "execution_count": 68,
   "metadata": {},
   "outputs": [
    {
     "name": "stdout",
     "output_type": "stream",
     "text": [
      "(30000, 122742)\n",
      "(10000, 122742)\n",
      "(30000, 6)\n",
      "(10000, 6)\n"
     ]
    }
   ],
   "source": [
    "for _df in (X_train, X_test, y_train, y_test):\n",
    "    print(_df.shape)"
   ]
  },
  {
   "cell_type": "code",
   "execution_count": 75,
   "metadata": {},
   "outputs": [],
   "source": [
    "from sklearn.ensemble import RandomForestClassifier\n",
    "clf = RandomForestClassifier(random_state=42,n_jobs=-1)"
   ]
  },
  {
   "cell_type": "code",
   "execution_count": 76,
   "metadata": {},
   "outputs": [
    {
     "name": "stdout",
     "output_type": "stream",
     "text": [
      "CPU times: user 13min 23s, sys: 947 ms, total: 13min 24s\n",
      "Wall time: 54.5 s\n"
     ]
    },
    {
     "data": {
      "text/plain": [
       "RandomForestClassifier(bootstrap=True, ccp_alpha=0.0, class_weight=None,\n",
       "                       criterion='gini', max_depth=None, max_features='auto',\n",
       "                       max_leaf_nodes=None, max_samples=None,\n",
       "                       min_impurity_decrease=0.0, min_impurity_split=None,\n",
       "                       min_samples_leaf=1, min_samples_split=2,\n",
       "                       min_weight_fraction_leaf=0.0, n_estimators=100,\n",
       "                       n_jobs=-1, oob_score=False, random_state=42, verbose=0,\n",
       "                       warm_start=False)"
      ]
     },
     "execution_count": 76,
     "metadata": {},
     "output_type": "execute_result"
    }
   ],
   "source": [
    "%%time\n",
    "clf.fit(X_train, y_train)"
   ]
  },
  {
   "cell_type": "code",
   "execution_count": 77,
   "metadata": {},
   "outputs": [],
   "source": [
    "pred = clf.predict_proba(X_test)"
   ]
  },
  {
   "cell_type": "code",
   "execution_count": 97,
   "metadata": {},
   "outputs": [],
   "source": [
    "_dict = dict()\n",
    "for i, class_ in enumerate(target_class):\n",
    "    _dict[class_] = pred[i][:,1]"
   ]
  },
  {
   "cell_type": "code",
   "execution_count": 98,
   "metadata": {},
   "outputs": [
    {
     "data": {
      "text/html": [
       "<div>\n",
       "<style scoped>\n",
       "    .dataframe tbody tr th:only-of-type {\n",
       "        vertical-align: middle;\n",
       "    }\n",
       "\n",
       "    .dataframe tbody tr th {\n",
       "        vertical-align: top;\n",
       "    }\n",
       "\n",
       "    .dataframe thead th {\n",
       "        text-align: right;\n",
       "    }\n",
       "</style>\n",
       "<table border=\"1\" class=\"dataframe\">\n",
       "  <thead>\n",
       "    <tr style=\"text-align: right;\">\n",
       "      <th></th>\n",
       "      <th>taste</th>\n",
       "      <th>recommendation</th>\n",
       "      <th>restaurant_env</th>\n",
       "      <th>price</th>\n",
       "      <th>service</th>\n",
       "      <th>food_variety</th>\n",
       "    </tr>\n",
       "  </thead>\n",
       "  <tbody>\n",
       "    <tr>\n",
       "      <th>0</th>\n",
       "      <td>0.55</td>\n",
       "      <td>0.59</td>\n",
       "      <td>0.13</td>\n",
       "      <td>0.98</td>\n",
       "      <td>0.91</td>\n",
       "      <td>0.99</td>\n",
       "    </tr>\n",
       "    <tr>\n",
       "      <th>1</th>\n",
       "      <td>0.88</td>\n",
       "      <td>0.64</td>\n",
       "      <td>0.34</td>\n",
       "      <td>0.87</td>\n",
       "      <td>0.74</td>\n",
       "      <td>0.89</td>\n",
       "    </tr>\n",
       "    <tr>\n",
       "      <th>2</th>\n",
       "      <td>0.77</td>\n",
       "      <td>0.43</td>\n",
       "      <td>0.25</td>\n",
       "      <td>0.92</td>\n",
       "      <td>0.86</td>\n",
       "      <td>0.91</td>\n",
       "    </tr>\n",
       "    <tr>\n",
       "      <th>3</th>\n",
       "      <td>0.79</td>\n",
       "      <td>0.51</td>\n",
       "      <td>0.13</td>\n",
       "      <td>1.00</td>\n",
       "      <td>0.96</td>\n",
       "      <td>1.00</td>\n",
       "    </tr>\n",
       "    <tr>\n",
       "      <th>4</th>\n",
       "      <td>0.66</td>\n",
       "      <td>0.44</td>\n",
       "      <td>0.06</td>\n",
       "      <td>0.98</td>\n",
       "      <td>0.91</td>\n",
       "      <td>0.96</td>\n",
       "    </tr>\n",
       "  </tbody>\n",
       "</table>\n",
       "</div>"
      ],
      "text/plain": [
       "   taste  recommendation  restaurant_env  price  service  food_variety\n",
       "0   0.55            0.59            0.13   0.98     0.91          0.99\n",
       "1   0.88            0.64            0.34   0.87     0.74          0.89\n",
       "2   0.77            0.43            0.25   0.92     0.86          0.91\n",
       "3   0.79            0.51            0.13   1.00     0.96          1.00\n",
       "4   0.66            0.44            0.06   0.98     0.91          0.96"
      ]
     },
     "execution_count": 98,
     "metadata": {},
     "output_type": "execute_result"
    }
   ],
   "source": [
    "pred_df = pd.DataFrame(_dict)\n",
    "pred_df.head()"
   ]
  },
  {
   "cell_type": "code",
   "execution_count": 106,
   "metadata": {},
   "outputs": [
    {
     "name": "stdout",
     "output_type": "stream",
     "text": [
      "label rankign average precision : 0.9514 | coverage error : 4.6746 | label ranking loss : 0.0847\n"
     ]
    }
   ],
   "source": [
    "from sklearn.metrics import label_ranking_average_precision_score, coverage_error, label_ranking_loss\n",
    "lrap = label_ranking_average_precision_score(y_test, pred_df)\n",
    "cov_err = coverage_error(y_test, pred_df)\n",
    "lrl = label_ranking_loss(y_test, pred_df)\n",
    "print('label rankign average precision : {:.4f} | coverage error : {:.4f} | label ranking loss : {:.4f}'\\\n",
    "      .format(lrap, cov_err, lrl))"
   ]
  },
  {
   "cell_type": "markdown",
   "metadata": {},
   "source": [
    "###### guidance\n",
    "\n",
    "- label rankign average precision, the higher the better\n",
    "- coverage error, the lower the better\n",
    "- label ranking loss, the lower the better"
   ]
  },
  {
   "cell_type": "code",
   "execution_count": 107,
   "metadata": {},
   "outputs": [],
   "source": [
    "pred_label = clf.predict(X_test)"
   ]
  },
  {
   "cell_type": "code",
   "execution_count": 108,
   "metadata": {},
   "outputs": [
    {
     "data": {
      "text/plain": [
       "array([[1, 1, 0, 1, 1, 1],\n",
       "       [1, 1, 0, 1, 1, 1],\n",
       "       [1, 0, 0, 1, 1, 1]])"
      ]
     },
     "execution_count": 108,
     "metadata": {},
     "output_type": "execute_result"
    }
   ],
   "source": [
    "pred_label[:3]"
   ]
  },
  {
   "cell_type": "code",
   "execution_count": 115,
   "metadata": {},
   "outputs": [
    {
     "data": {
      "text/html": [
       "<div>\n",
       "<style scoped>\n",
       "    .dataframe tbody tr th:only-of-type {\n",
       "        vertical-align: middle;\n",
       "    }\n",
       "\n",
       "    .dataframe tbody tr th {\n",
       "        vertical-align: top;\n",
       "    }\n",
       "\n",
       "    .dataframe thead th {\n",
       "        text-align: right;\n",
       "    }\n",
       "</style>\n",
       "<table border=\"1\" class=\"dataframe\">\n",
       "  <thead>\n",
       "    <tr style=\"text-align: right;\">\n",
       "      <th></th>\n",
       "      <th>taste</th>\n",
       "      <th>recommendation</th>\n",
       "      <th>restaurant_env</th>\n",
       "      <th>price</th>\n",
       "      <th>service</th>\n",
       "      <th>food_variety</th>\n",
       "    </tr>\n",
       "  </thead>\n",
       "  <tbody>\n",
       "    <tr>\n",
       "      <th>24465</th>\n",
       "      <td>0</td>\n",
       "      <td>1</td>\n",
       "      <td>1</td>\n",
       "      <td>1</td>\n",
       "      <td>1</td>\n",
       "      <td>1</td>\n",
       "    </tr>\n",
       "    <tr>\n",
       "      <th>38239</th>\n",
       "      <td>1</td>\n",
       "      <td>1</td>\n",
       "      <td>1</td>\n",
       "      <td>1</td>\n",
       "      <td>1</td>\n",
       "      <td>1</td>\n",
       "    </tr>\n",
       "    <tr>\n",
       "      <th>20140</th>\n",
       "      <td>1</td>\n",
       "      <td>0</td>\n",
       "      <td>0</td>\n",
       "      <td>1</td>\n",
       "      <td>1</td>\n",
       "      <td>1</td>\n",
       "    </tr>\n",
       "  </tbody>\n",
       "</table>\n",
       "</div>"
      ],
      "text/plain": [
       "       taste  recommendation  restaurant_env  price  service  food_variety\n",
       "24465      0               1               1      1        1             1\n",
       "38239      1               1               1      1        1             1\n",
       "20140      1               0               0      1        1             1"
      ]
     },
     "execution_count": 115,
     "metadata": {},
     "output_type": "execute_result"
    }
   ],
   "source": [
    "y_test.head(3)"
   ]
  },
  {
   "cell_type": "code",
   "execution_count": 117,
   "metadata": {},
   "outputs": [
    {
     "data": {
      "text/plain": [
       "array([[0, 1, 1, 1, 1, 1],\n",
       "       [1, 1, 1, 1, 1, 1],\n",
       "       [1, 0, 0, 1, 1, 1]])"
      ]
     },
     "execution_count": 117,
     "metadata": {},
     "output_type": "execute_result"
    }
   ],
   "source": [
    "y_test_np = np.array(y_test)\n",
    "y_test_np[:3]"
   ]
  },
  {
   "cell_type": "code",
   "execution_count": 116,
   "metadata": {},
   "outputs": [],
   "source": [
    "import matplotlib.pyplot as plt"
   ]
  },
  {
   "cell_type": "code",
   "execution_count": 129,
   "metadata": {},
   "outputs": [],
   "source": [
    "harvest = np.matmul(pred_label.transpose(), y_test_np)"
   ]
  },
  {
   "cell_type": "markdown",
   "metadata": {},
   "source": [
    "https://matplotlib.org/tutorials/colors/colormaps.html colormap\n",
    "https://matplotlib.org/3.2.1/tutorials/text/text_props.html text option\n",
    "https://matplotlib.org/3.1.1/gallery/images_contours_and_fields/image_annotated_heatmap.html heatmap ex"
   ]
  },
  {
   "cell_type": "code",
   "execution_count": 181,
   "metadata": {
    "scrolled": false
   },
   "outputs": [
    {
     "data": {
      "image/png": "[encoded data removed]",
      "text/plain": [
       "<Figure size 864x864 with 1 Axes>"
      ]
     },
     "metadata": {
      "needs_background": "light"
     },
     "output_type": "display_data"
    }
   ],
   "source": [
    "fig, ax = plt.subplots(figsize=(12,12))\n",
    "im = ax.imshow(harvest,cmap='viridis')\n",
    "\n",
    "ax.set_xticks(np.arange(len(target_class)))\n",
    "ax.set_yticks(np.arange(len(target_class)))\n",
    "ax.set_xticklabels(target_class,fontsize=14);\n",
    "ax.set_yticklabels(target_class,fontsize=14);\n",
    "\n",
    "plt.setp(ax.get_xticklabels(), rotation=45, ha=\"right\",\n",
    "         rotation_mode=\"anchor\")\n",
    "\n",
    "# Loop over data dimensions and create text annotations.\n",
    "for i in range(len(target_class)):\n",
    "    for j in range(len(target_class)):\n",
    "        text = ax.text(j, i, harvest[i, j],\n",
    "                       ha=\"center\", va=\"center\", color=\"w\", fontsize=14, fontweight='normal')\n",
    "# fontweigth - [ 'normal' | 'bold' | 'heavy' | 'light' | 'ultrabold' | 'ultralight']\n",
    "        \n",
    "plt.title('Confusion matrix with multi label', fontsize=16);\n",
    "plt.ylabel('PREDICTION',fontsize=16)\n",
    "plt.xlabel('ACTUAL',fontsize=16);"
   ]
  },
  {
   "cell_type": "markdown",
   "metadata": {},
   "source": [
    "# Conclusion"
   ]
  },
  {
   "cell_type": "markdown",
   "metadata": {},
   "source": [
    "- the prediction in test set is not 100% correct, so that it's easier for model to predict\n",
    "    - the label corrected is needed > is 5K enough for the IS na krub AJ.Cheque\n",
    "    - I will manually review it krub.\n",
    "- any metrics that Aj.Cheque to measure krub ?\n",
    "- The model and cutoff can be tuning krub."
   ]
  },
  {
   "cell_type": "code",
   "execution_count": 193,
   "metadata": {},
   "outputs": [],
   "source": [
    "sample_result = pd.concat([target.iloc[y_test.index,:].reset_index(drop=True),\n",
    "                           pd.DataFrame(pred_label,columns=['predict_' + c for c in target_class])],axis=1)"
   ]
  },
  {
   "cell_type": "markdown",
   "metadata": {},
   "source": [
    "# human test"
   ]
  },
  {
   "cell_type": "markdown",
   "metadata": {},
   "source": [
    "#### 'price' ✅, 'food_variety' ✅, 'service' ❌, 'taste' ✅"
   ]
  },
  {
   "cell_type": "code",
   "execution_count": 207,
   "metadata": {
    "scrolled": true
   },
   "outputs": [
    {
     "name": "stdout",
     "output_type": "stream",
     "text": [
      "[['ร้านอาหาร ครัวจ่ายัณ ร้านนี้ตั้งอยู่ริมน้ำ แม่น้ำเจ้าพระยา เลยทำให้ที่ร้านมีบรรยากาศที่ออกจะร่มรื่น มีลมพัดโชยอยู่เรื่อย ร้านก็กว้างขวางดี และยังสะอารดอีกด้วย เรื่องอาหารก็มีให้เลือทานกันทั้งอาหารไทยและอาหารทะเล มีอยู่หลากหลายรายการเลย อาทิเช่น กุ้งแม่น้ำคั่วเกลือ กุ้งผัดฉ่าหน่อกะลา กุ้งสด ผัดฉ่าออกมารสจัดจ้านดี ต้มยำกุ้งน้ำข้น น้ำเข้มข้น จานนี้ก็รสจัดไม่แพ้กันเลย ยำดอกขจร ปลาสามรส กุ้งสะเด็ด และอีกหลาย เมนูเลยที่ยังไม่ได้แนะนำ อาหารป่าก็มีน่ะ แต่เราไม่ได้สั่งเท่านั้นเอง  มาทานแล้วไม่มีผิดหวังเพราะร้านนี้เขาอร่อยจริง ขนาดครัวลุงต๋อยแนะนำเชียว แล้วก็มีของหวานและเครื่องดื่มอีกด้วย  รสชาติของอาหาร    เต็ม     ความหลากหลายของเมนู    เต็ม     การบริการ    เต็ม     ความคุ้มค่าของราคา    เต็ม     บรรยากาศของร้าน    เต็ม       ']]\n",
      "\n",
      "\n",
      "[[\"{'other', 'price', 'food_variety', 'service', 'taste'}\"]]\n",
      "\n",
      "\n"
     ]
    },
    {
     "data": {
      "text/html": [
       "<div>\n",
       "<style scoped>\n",
       "    .dataframe tbody tr th:only-of-type {\n",
       "        vertical-align: middle;\n",
       "    }\n",
       "\n",
       "    .dataframe tbody tr th {\n",
       "        vertical-align: top;\n",
       "    }\n",
       "\n",
       "    .dataframe thead th {\n",
       "        text-align: right;\n",
       "    }\n",
       "</style>\n",
       "<table border=\"1\" class=\"dataframe\">\n",
       "  <thead>\n",
       "    <tr style=\"text-align: right;\">\n",
       "      <th></th>\n",
       "      <th>review</th>\n",
       "      <th>topics</th>\n",
       "      <th>predict_taste</th>\n",
       "      <th>predict_recommendation</th>\n",
       "      <th>predict_restaurant_env</th>\n",
       "      <th>predict_price</th>\n",
       "      <th>predict_service</th>\n",
       "      <th>predict_food_variety</th>\n",
       "    </tr>\n",
       "  </thead>\n",
       "  <tbody>\n",
       "    <tr>\n",
       "      <th>5074</th>\n",
       "      <td>ร้านอาหาร ครัวจ่ายัณ ร้านนี้ตั้งอยู่ริมน้ำ แม่...</td>\n",
       "      <td>{'other', 'price', 'food_variety', 'service', ...</td>\n",
       "      <td>1</td>\n",
       "      <td>0</td>\n",
       "      <td>0</td>\n",
       "      <td>1</td>\n",
       "      <td>1</td>\n",
       "      <td>1</td>\n",
       "    </tr>\n",
       "  </tbody>\n",
       "</table>\n",
       "</div>"
      ],
      "text/plain": [
       "                                                 review  \\\n",
       "5074  ร้านอาหาร ครัวจ่ายัณ ร้านนี้ตั้งอยู่ริมน้ำ แม่...   \n",
       "\n",
       "                                                 topics  predict_taste  \\\n",
       "5074  {'other', 'price', 'food_variety', 'service', ...              1   \n",
       "\n",
       "      predict_recommendation  predict_restaurant_env  predict_price  \\\n",
       "5074                       0                       0              1   \n",
       "\n",
       "      predict_service  predict_food_variety  \n",
       "5074                1                     1  "
      ]
     },
     "execution_count": 207,
     "metadata": {},
     "output_type": "execute_result"
    }
   ],
   "source": [
    "seed = 115\n",
    "print(sample_result[['review']].sample(1, random_state=seed).values)\n",
    "print('\\n')\n",
    "print(sample_result[['topics']].sample(1, random_state=seed).values)\n",
    "print('\\n')\n",
    "sample_result[['review','topics',*['predict_' + c for c in target_class]]].sample(1, random_state=seed)"
   ]
  },
  {
   "cell_type": "markdown",
   "metadata": {},
   "source": [
    "\n",
    "\n",
    "#### 'price' ✅, 'food_variety' ❌, 'service' ✅, 'recommendation' ✅, 'taste' ✅, 'restaurant_env' ✅, ✅ ❌"
   ]
  },
  {
   "cell_type": "code",
   "execution_count": 208,
   "metadata": {
    "scrolled": true
   },
   "outputs": [
    {
     "name": "stdout",
     "output_type": "stream",
     "text": [
      "[['ร้านเล็ก แต่ที่จอดรถสะดวกสบาย  ร้านนี้เป็นอีกร้านที่แนะนำเลยครับสำหรับคอเยนตาโฟ รสชาดกลมกล่อมอร่อยได้ไม่ต้องปรุงเพิ่มเลย ลูกชิ้นและเกี้ยวปลาอร่อยครับ ที่สำคัญลูกชิ้นปิ้งก้อเลิศน้ำจิ้มเผ็ดหวานกำลังดี ที่สำคัญราคาไม่แพง พนักงานบริการดีเป็นกันเองจร้า  ']]\n",
      "\n",
      "\n",
      "[[\"{'price', 'other', 'food_variety', 'service', 'recommendation', 'taste', 'restaurant_env'}\"]]\n",
      "\n",
      "\n"
     ]
    },
    {
     "data": {
      "text/html": [
       "<div>\n",
       "<style scoped>\n",
       "    .dataframe tbody tr th:only-of-type {\n",
       "        vertical-align: middle;\n",
       "    }\n",
       "\n",
       "    .dataframe tbody tr th {\n",
       "        vertical-align: top;\n",
       "    }\n",
       "\n",
       "    .dataframe thead th {\n",
       "        text-align: right;\n",
       "    }\n",
       "</style>\n",
       "<table border=\"1\" class=\"dataframe\">\n",
       "  <thead>\n",
       "    <tr style=\"text-align: right;\">\n",
       "      <th></th>\n",
       "      <th>review</th>\n",
       "      <th>topics</th>\n",
       "      <th>predict_taste</th>\n",
       "      <th>predict_recommendation</th>\n",
       "      <th>predict_restaurant_env</th>\n",
       "      <th>predict_price</th>\n",
       "      <th>predict_service</th>\n",
       "      <th>predict_food_variety</th>\n",
       "    </tr>\n",
       "  </thead>\n",
       "  <tbody>\n",
       "    <tr>\n",
       "      <th>1705</th>\n",
       "      <td>ร้านเล็ก แต่ที่จอดรถสะดวกสบาย  ร้านนี้เป็นอีกร...</td>\n",
       "      <td>{'price', 'other', 'food_variety', 'service', ...</td>\n",
       "      <td>1</td>\n",
       "      <td>1</td>\n",
       "      <td>0</td>\n",
       "      <td>1</td>\n",
       "      <td>1</td>\n",
       "      <td>1</td>\n",
       "    </tr>\n",
       "  </tbody>\n",
       "</table>\n",
       "</div>"
      ],
      "text/plain": [
       "                                                 review  \\\n",
       "1705  ร้านเล็ก แต่ที่จอดรถสะดวกสบาย  ร้านนี้เป็นอีกร...   \n",
       "\n",
       "                                                 topics  predict_taste  \\\n",
       "1705  {'price', 'other', 'food_variety', 'service', ...              1   \n",
       "\n",
       "      predict_recommendation  predict_restaurant_env  predict_price  \\\n",
       "1705                       1                       0              1   \n",
       "\n",
       "      predict_service  predict_food_variety  \n",
       "1705                1                     1  "
      ]
     },
     "execution_count": 208,
     "metadata": {},
     "output_type": "execute_result"
    }
   ],
   "source": [
    "seed = 112\n",
    "print(sample_result[['review']].sample(1, random_state=seed).values)\n",
    "print('\\n')\n",
    "print(sample_result[['topics']].sample(1, random_state=seed).values)\n",
    "print('\\n')\n",
    "sample_result[['review','topics',*['predict_' + c for c in target_class]]].sample(1, random_state=seed)"
   ]
  },
  {
   "cell_type": "markdown",
   "metadata": {},
   "source": [
    "\n",
    "\n",
    "#### 'price' ❌, 'food_variety' ❌, 'service' ✅, 'recommendation'❌"
   ]
  },
  {
   "cell_type": "code",
   "execution_count": 209,
   "metadata": {},
   "outputs": [
    {
     "name": "stdout",
     "output_type": "stream",
     "text": [
      "[['ร้านสาขา อีกแห่งหนึ่ง ที่เปิดขายทั้งแบบตามสั่ง และ        จุดเด่นของร้านนี้น่าจะเป็นพิซซ่า และพาสต้าที่รสดี ใช้ได้ วันนั้น ได้สั่งเมนูตามสั่งมาชิม ก็มี          สั่งหน้าฮาวายเอีียน กับซีฟูดมา ก็อร่อย ใช้ได้เลยนะ                 มีรสเผ็ดนิด  อร่อยดี                                               จานนี้ ก็ใช้ได้ครับ รสกลมกล่อมดี แต่แอบใส่หอยมาเยอะไปนิดนะ                คือดีงามครับ มาแบบแท่งใหญ่  กรอบนอก นุ่มใน รวม แล้วน่าทานครับ ร้านนี้ บริการก็ดี บุฟเฟ่ก็น่าสนใจ  ']]\n",
      "\n",
      "\n",
      "[[\"{'other', 'price', 'food_variety', 'service', 'recommendation'}\"]]\n",
      "\n",
      "\n"
     ]
    },
    {
     "data": {
      "text/html": [
       "<div>\n",
       "<style scoped>\n",
       "    .dataframe tbody tr th:only-of-type {\n",
       "        vertical-align: middle;\n",
       "    }\n",
       "\n",
       "    .dataframe tbody tr th {\n",
       "        vertical-align: top;\n",
       "    }\n",
       "\n",
       "    .dataframe thead th {\n",
       "        text-align: right;\n",
       "    }\n",
       "</style>\n",
       "<table border=\"1\" class=\"dataframe\">\n",
       "  <thead>\n",
       "    <tr style=\"text-align: right;\">\n",
       "      <th></th>\n",
       "      <th>review</th>\n",
       "      <th>topics</th>\n",
       "      <th>predict_taste</th>\n",
       "      <th>predict_recommendation</th>\n",
       "      <th>predict_restaurant_env</th>\n",
       "      <th>predict_price</th>\n",
       "      <th>predict_service</th>\n",
       "      <th>predict_food_variety</th>\n",
       "    </tr>\n",
       "  </thead>\n",
       "  <tbody>\n",
       "    <tr>\n",
       "      <th>4436</th>\n",
       "      <td>ร้านสาขา อีกแห่งหนึ่ง ที่เปิดขายทั้งแบบตามสั่ง...</td>\n",
       "      <td>{'other', 'price', 'food_variety', 'service', ...</td>\n",
       "      <td>1</td>\n",
       "      <td>0</td>\n",
       "      <td>0</td>\n",
       "      <td>1</td>\n",
       "      <td>1</td>\n",
       "      <td>1</td>\n",
       "    </tr>\n",
       "  </tbody>\n",
       "</table>\n",
       "</div>"
      ],
      "text/plain": [
       "                                                 review  \\\n",
       "4436  ร้านสาขา อีกแห่งหนึ่ง ที่เปิดขายทั้งแบบตามสั่ง...   \n",
       "\n",
       "                                                 topics  predict_taste  \\\n",
       "4436  {'other', 'price', 'food_variety', 'service', ...              1   \n",
       "\n",
       "      predict_recommendation  predict_restaurant_env  predict_price  \\\n",
       "4436                       0                       0              1   \n",
       "\n",
       "      predict_service  predict_food_variety  \n",
       "4436                1                     1  "
      ]
     },
     "execution_count": 209,
     "metadata": {},
     "output_type": "execute_result"
    }
   ],
   "source": [
    "seed = 2020\n",
    "print(sample_result[['review']].sample(1, random_state=seed).values)\n",
    "print('\\n')\n",
    "print(sample_result[['topics']].sample(1, random_state=seed).values)\n",
    "print('\\n')\n",
    "sample_result[['review','topics',*['predict_' + c for c in target_class]]].sample(1, random_state=seed)"
   ]
  },
  {
   "cell_type": "code",
   "execution_count": null,
   "metadata": {},
   "outputs": [],
   "source": []
  }
 ],
 "metadata": {
  "kernelspec": {
   "display_name": "Python 3",
   "language": "python",
   "name": "python3"
  },
  "language_info": {
   "codemirror_mode": {
    "name": "ipython",
    "version": 3
   },
   "file_extension": ".py",
   "mimetype": "text/x-python",
   "name": "python",
   "nbconvert_exporter": "python",
   "pygments_lexer": "ipython3",
   "version": "3.7.6"
  }
 },
 "nbformat": 4,
 "nbformat_minor": 4
}
