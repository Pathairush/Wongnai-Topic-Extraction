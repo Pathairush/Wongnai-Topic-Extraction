{
 "cells": [
  {
   "cell_type": "code",
   "execution_count": 1,
   "metadata": {},
   "outputs": [
    {
     "data": {
      "text/plain": [
       "0"
      ]
     },
     "execution_count": 1,
     "metadata": {},
     "output_type": "execute_result"
    }
   ],
   "source": [
    "import os\n",
    "os.environ[\"OPENBLAS_MAIN_FREE\"] = \"1\"\n",
    "os.system(f\"taskset -p 0xff {os.getpid()}\")"
   ]
  },
  {
   "cell_type": "code",
   "execution_count": 2,
   "metadata": {},
   "outputs": [],
   "source": [
    "import sys\n",
    "sys.version\n",
    "\n",
    "import pandas as pd"
   ]
  },
  {
   "cell_type": "code",
   "execution_count": 3,
   "metadata": {},
   "outputs": [],
   "source": [
    "import gensim\n",
    "from nltk.util import ngrams\n",
    "import nltk\n",
    "import pythainlp\n",
    "\n",
    "def make_bigrams(texts):\n",
    "    return [bigram_mod[doc] for doc in texts]\n",
    "\n",
    "def make_trigrams(texts):\n",
    "    return [trigram_mod[bigram_mod[doc]] for doc in texts]\n",
    "\n",
    "from collections import Counter\n",
    "def get_top_freq_word(series, n):\n",
    "    all_word = [a for b in series.tolist() for a in b]\n",
    "    Counter_ = Counter(all_word)\n",
    "    most_occur = Counter_.most_common(n) \n",
    "    return most_occur\n",
    "\n",
    "def load_dict(file_nm):\n",
    "    bigram_custom = pd.read_csv(file_nm,header=None,usecols=[0])\n",
    "    bigram_custom = bigram_custom[0].tolist()\n",
    "    return bigram_custom"
   ]
  },
  {
   "cell_type": "markdown",
   "metadata": {},
   "source": [
    "# import"
   ]
  },
  {
   "cell_type": "code",
   "execution_count": 4,
   "metadata": {},
   "outputs": [],
   "source": [
    "# tok with custom dict [priority topwords, foodwords]\n",
    "not_remove_stopwords = pd.read_parquet('../../../data/train_chunk/result/dc_topword_food_dict/')"
   ]
  },
  {
   "cell_type": "code",
   "execution_count": 5,
   "metadata": {},
   "outputs": [],
   "source": [
    "remove_stopwords = pd.read_parquet('../../../data/train_chunk/result/dc_topword_food_dict_remove_single_words_1K')"
   ]
  },
  {
   "cell_type": "code",
   "execution_count": 6,
   "metadata": {
    "ExecuteTime": {
     "end_time": "2020-03-22T06:02:59.571898Z",
     "start_time": "2020-03-22T06:02:59.567908Z"
    }
   },
   "outputs": [],
   "source": [
    "# output\n",
    "not_remove_stopwords_dtm = not_remove_stopwords['tokenized'].tolist()\n",
    "remove_stopwords_dtm = remove_stopwords['tok_remove_topwords'].tolist()"
   ]
  },
  {
   "cell_type": "code",
   "execution_count": 9,
   "metadata": {},
   "outputs": [],
   "source": [
    "to_remove = ['', '\\t', '\\x0b', '{', '}', '£', '¤', '¥', '¦', '«', '°', '´', '·',\n",
    "'º', '»', '¼', '¿', '×', 'à', 'á', 'â', 'ä', 'ç', 'è', 'é', 'ê',\n",
    "'í', 'î', 'ñ', 'ó', 'ô', 'ö', 'û', 'č', 'ť', 'ơ', 'ʔ', 'ʕ', 'ˇ',\n",
    "'ˍ', '̀', '́', '̫', 'ε', 'ο', 'σ', 'ω', 'д', '構', '樓', '歡', '段', '気', '水', '沢', '泰', '海', '添', '港', '湯', '準',\n",
    "'滷', '然', '焼', '特', '用', '番', '異', '的', '県', '私', '穩', '第', '終',\n",
    "'経', '結', '美', '老', '而', '肉', '苗', '菜', '華', '蕘', '薁', '街', '貢',\n",
    "'身', '运', '近', '道', '鄉', '酒', '野', '開', '阪', '附', '雖', '雰', '題',\n",
    "'顧', '食', '飯', '香', '鮪', '낙', '볶', '음', '지', '\\ue404', '\\uf020',\n",
    "'\\uf04a', '\\uf04c', '\\uf701', '\\uf701วชั่น', '\\uf705ากวางเมนู',\n",
    "'\\uf705ุนต', '\\uf70a', '\\uf70aง', '\\uf70aงจาน', '\\uf70aงหรรษา',\n",
    "'\\uf70aงได\\uf70b', '\\uf70aนขาหมู', '\\uf70aนชิลท่ีทาง',\n",
    "'\\uf70aนเฟรนฟราย', '\\uf70aบเนื้อโค', '\\uf70aบและ', '\\uf70aว',\n",
    "'\\uf70aา', '\\uf70aาง', '\\uf70aางเน้ือโคขุนเมนูเป',\n",
    "'\\uf70aางเฟรนฟราย', '\\uf70aาน', '\\uf70aานได', '\\uf70aาย',\n",
    "'\\uf70aายเนื้อโค', '\\uf70aาเป\\uf712นร', '\\uf70aาเมนูปลา',\n",
    "'\\uf70aูอบชสีก', '\\uf70b', '\\uf70bง', '\\uf70bงแท', '\\uf70bมแซ',\n",
    "'\\uf70bวกลับ', '\\uf70bวก็', '\\uf70bวยหอมเมนู', '\\uf70bวไม',\n",
    "'\\uf70bา', '\\uf70bาน', '\\uf70bานเมนูตํา', '\\uf70bานแต',\n",
    "'\\uf70bารับรอง', '\\uf70bาว', '\\uf70bาฯลฯ', '\\uf70bาได',\n",
    "'\\uf70bุงเริง', '\\uf70bูสึก', '\\uf70cกคอหมู', '\\uf70cกไม',\n",
    "'\\uf70d', '\\uf70e', '\\uf70eมแอนด\\uf70eเรสเตอร', '\\uf712',\n",
    "'\\uf712ด', '\\uf712ดร', '\\uf712ดไก', '\\uf712น', '\\uf712นตัว',\n",
    "'\\uf712นอีก', '\\uf712นเน้ือโคขุนกวางอกเป', '\\uf714', '︽', '﹋', '﹌',\n",
    "'﹏', '！', '％', '（', '）', '，', '／', '５', '：', '；', '＜', '＞', '？',\n",
    "'＠', '＾', '＿', '｀', '｡', '･', 'ｰ', 'ﾟ', 'ﾠ', '￣', '￼','ら', 'り', 'る', 'れ', 'を', 'ん', '゜', 'ゝ', 'ゞ', 'ア', 'イ', 'ク', 'サ',\n",
    "'ス', 'タ', 'チ', 'ッ', 'ツ', 'ニ', 'ノ', 'バ', 'ビ', 'フ', 'ブ', 'ベ', 'メ',\n",
    "'ュ', 'ョ', 'ラ', 'リ', 'ル', 'ヮ', 'ン', 'ー', 'ヽ', 'ヾ', 'ㅠ', '一', '不',\n",
    "'且', '中', '丸', '丼', '也', '人', '但', '住', '供', '們', '値', '偏', '元',\n",
    "'光', '共', '内', '刺', '南', '去', '友', '台', '号', '司', '味', '和', '咸',\n",
    "'品', '唯', '商', '喜', '囲', '國', '在', '壱', '多', '大', '天', '太', '好',\n",
    "'定', '寿', '屋', '山', '常', '年', '庄', '店', '廣', '很', '得', '意', '房',\n",
    "'提', '放', '方', '日', '有', '朋', '本', '東', '栗',  '…', '\\u2028', '\\u202a', '\\u202c', '′', '″', '‼',\n",
    "'₩', '€', '⃣', '℅', '←', '→', '↓', '↖', '∀', '∂', '∇', '√', '∩',\n",
    "'≦', '≧', '⊙', '⌂', '⌒', '⌓', '⌛', '⏭', '⏰น', '⏳', '␥', '①', '②',\n",
    "'╯', '╰', '╹', '■', '■ใช้มะนาวสด', '□', '▪', '▫', '▲', '▶', '▼',\n",
    "'▽', '◀', '◆', '◇', '◉', '○', '◎', '●', '●ไลน์ขนมหวาน',\n",
    "'●ไลน์ซูชิ', '◕ฺ', '◡', '☀', '☄', '★', '☎', '☕', '☘', '☝', '☺',\n",
    "'♂', '♉', '♟', '♢', '♣', '♤', '♥', '♧', '♨', '♫', '⚓', '⚠', '⚡',\n",
    "'⛄', '⛅', '⛤', '⛧', '⛱', '⛳', '⛵', '⛺', '✅', '✈', '✋', '✌', '✍',\n",
    "'✏', '✔', '✖', '✨', '✩', '✮', '✳', '❀', '❂', '❄', '❌', '❎', '❓',\n",
    "'❔', '❕', '❗', '❣', '❤', '➡', '➰', '⭐', '⭕', '\\u3000', '、', '。',\n",
    "'《', '》', '「', '」', '〜', '〰', 'あ', 'い', 'う', 'お', 'か', 'が', 'き',\n",
    "'く', 'こ', 'さ', 'し', 'す', 'そ', 'た', 'だ', 'ち', 'っ', 'つ', 'て', 'で',\n",
    "'と', 'ど', 'な', 'に', 'の', 'は', 'ぶ', 'べ', 'ほ', 'ま', 'み', 'も', 'ゃ']"
   ]
  },
  {
   "cell_type": "code",
   "execution_count": 12,
   "metadata": {
    "scrolled": true
   },
   "outputs": [],
   "source": [
    "# remove_stopwords['tok_remove_topwords_misc_foodwords'] = remove_stopwords['tok_remove_topwords'].apply(lambda x: [w for w in x if w not in to_remove])\n",
    "\n",
    "# custom_dict_wongnai = pd.read_csv('../../../data/food_dictionary.txt',header=None,names=['word'])\n",
    "# food_list = custom_dict_wongnai['word'].tolist()\n",
    "\n",
    "# remove_stopwords['tok_remove_topwords_misc_foodwords'] = remove_stopwords['tok_remove_topwords_misc_foodwords'].apply(lambda x: [w for w in x if w not in food_list])\n",
    "# remove_stopwords.to_parquet('../../../data/train_chunk/result/dc_topword_food_dict_remove_single_words_1K_misc_foodwords')"
   ]
  },
  {
   "cell_type": "code",
   "execution_count": 4,
   "metadata": {},
   "outputs": [],
   "source": [
    "remove_stopwords = pd.read_parquet('../../../data/train_chunk/result/dc_topword_food_dict_remove_single_words_1K_misc_foodwords')\n",
    "remove_stopwords_misc_food_dtm = remove_stopwords['tok_remove_topwords_misc_foodwords'].tolist()"
   ]
  },
  {
   "cell_type": "code",
   "execution_count": 7,
   "metadata": {
    "ExecuteTime": {
     "end_time": "2020-03-22T06:03:14.879636Z",
     "start_time": "2020-03-22T06:03:14.541992Z"
    }
   },
   "outputs": [],
   "source": [
    "import gensim.corpora as corpora\n",
    "from gensim import models\n",
    "\n",
    "def get_lda_input(data_words, mode=None):\n",
    "    \n",
    "    id2word = corpora.Dictionary(data_words)\n",
    "    corpus = [id2word.doc2bow(text) for text in data_words]\n",
    "\n",
    "    if mode == 'tfidf':\n",
    "        tfidf = models.TfidfModel(corpus)\n",
    "        corpus = tfidf[corpus]\n",
    "    \n",
    "    return id2word, corpus"
   ]
  },
  {
   "cell_type": "markdown",
   "metadata": {},
   "source": [
    "# Gensim"
   ]
  },
  {
   "cell_type": "code",
   "execution_count": 8,
   "metadata": {
    "ExecuteTime": {
     "end_time": "2020-03-22T06:03:14.907562Z",
     "start_time": "2020-03-22T06:03:14.881630Z"
    }
   },
   "outputs": [],
   "source": [
    "from gensim.models import CoherenceModel\n",
    "\n",
    "def run_simple_model(list_of_data_words):\n",
    "    \n",
    "    for data_words in list_of_data_words:\n",
    "\n",
    "        id2word, corpus = get_lda_input(data_words)\n",
    "\n",
    "        # Build LDA model\n",
    "        lda_model = gensim.models.LdaMulticore(corpus=corpus,\n",
    "                                               id2word=id2word,\n",
    "                                               num_topics=10, \n",
    "                                               random_state=100,\n",
    "                                               chunksize=100,\n",
    "                                               passes=10,\n",
    "                                               per_word_topics=True,\n",
    "                                               workers = 15)\n",
    "\n",
    "        # Compute Coherence Score\n",
    "        coherence_model_lda = CoherenceModel(model=lda_model, texts=data_words, dictionary=id2word, coherence='c_v')\n",
    "        coherence_lda = coherence_model_lda.get_coherence()\n",
    "\n",
    "        print('\\nCoherence Score: ', coherence_lda)"
   ]
  },
  {
   "cell_type": "code",
   "execution_count": 9,
   "metadata": {
    "ExecuteTime": {
     "end_time": "2020-03-22T06:04:19.413379Z",
     "start_time": "2020-03-22T06:03:16.216472Z"
    },
    "scrolled": true
   },
   "outputs": [],
   "source": [
    "# run_simple_model([data_words])"
   ]
  },
  {
   "cell_type": "markdown",
   "metadata": {},
   "source": [
    "# optimised number of topics"
   ]
  },
  {
   "cell_type": "code",
   "execution_count": 10,
   "metadata": {},
   "outputs": [],
   "source": [
    "from sklearn.model_selection import KFold\n",
    "import numpy as np\n",
    "\n",
    "def kfold_lda_model(dtm, num_top, num_folds):\n",
    "    \n",
    "    folds = KFold(n_splits = num_folds, shuffle=True, random_state=543)\n",
    "    ll_ls = list()\n",
    "    preplex_ls = list()\n",
    "    \n",
    "    for n_fold, (trn_idx, val_idx) in enumerate(folds.split(dtm)):\n",
    "        \n",
    "        # extracting train/valid set\n",
    "        X_train, X_val = dtm[trn_idx], dtm[val_idx]\n",
    "        \n",
    "        # fit\n",
    "        model = LatentDirichletAllocation(n_components=num_top, random_state=0, n_jobs=15)\n",
    "        model.fit(X_train)\n",
    "        \n",
    "        ll_ls.append(model.score(X_val))\n",
    "        preplex_ls.append(model.perplexity(X_val))\n",
    "        \n",
    "        # clear\n",
    "        del model\n",
    "        gc.collect()\n",
    "    \n",
    "    ll_scr = np.mean(ll_ls)\n",
    "    preplex_scr = np.mean(preplex_ls)\n",
    "                \n",
    "    return ll_scr, preplex_scr"
   ]
  },
  {
   "cell_type": "code",
   "execution_count": 11,
   "metadata": {},
   "outputs": [],
   "source": [
    "from sklearn.model_selection import KFold\n",
    "from gensim.models import CoherenceModel\n",
    "import numpy as np\n",
    "\n",
    "def train_gensim(data_words, num_top, bow_mode=None):\n",
    "    \n",
    "    # init\n",
    "    coherence_ls = list()\n",
    "    id2word, corpus = get_lda_input(data_words, bow_mode)\n",
    "\n",
    "    # Build LDA model\n",
    "    lda_model = gensim.models.LdaMulticore(corpus=corpus,\n",
    "                                           id2word=id2word,\n",
    "                                           num_topics=num_top, \n",
    "                                           random_state=100,\n",
    "                                           chunksize=100,\n",
    "                                           passes=10,\n",
    "                                           per_word_topics=True,\n",
    "                                           workers = 15)\n",
    "\n",
    "    # score\n",
    "    coherence_model_lda = CoherenceModel(model=lda_model, texts=data_words, dictionary=id2word, coherence='c_v')\n",
    "    \n",
    "    # log\n",
    "    coherence_score = coherence_model_lda.get_coherence()\n",
    "                    \n",
    "    return coherence_score"
   ]
  },
  {
   "cell_type": "code",
   "execution_count": 12,
   "metadata": {},
   "outputs": [],
   "source": [
    "import gc\n",
    "import time\n",
    "def optimise_num_toipics(dtm, mode, bow_mode=None):\n",
    "    \n",
    "    # init \n",
    "    num_topics = range(2,21)\n",
    "    res = dict()\n",
    "    num_top_ls = list()\n",
    "    \n",
    "    if mode == 'sklearn':\n",
    "        ll_ls = list()\n",
    "        preplex_ls = list()\n",
    "    if mode == 'gensim':\n",
    "        coherence_ls = list()\n",
    "    \n",
    "    # process\n",
    "    for num_top in num_topics:\n",
    "        \n",
    "        tik = time.time()\n",
    "        \n",
    "        # fit\n",
    "        if mode == 'sklearn':\n",
    "            ll_scr, preplex_scr = kfold_lda_model(dtm, num_top, num_folds = 5)\n",
    "        if mode == 'gensim':\n",
    "            coherence_scr = train_gensim(dtm, num_top, bow_mode)\n",
    "        \n",
    "        # log\n",
    "        num_top_ls.append(num_top)\n",
    "        if mode == 'sklearn':\n",
    "            ll_ls.append(ll_scr)\n",
    "            preplex_ls.append(preplex_scr)\n",
    "        if mode == 'gensim':\n",
    "            coherence_ls.append(coherence_scr)\n",
    "        \n",
    "        toc = time.time()\n",
    "        \n",
    "        # info\n",
    "        if mode == 'sklearn':\n",
    "            print(f'num_topics {num_top} | process_time {toc - tik:.2f} s | ll_score {ll_scr:,.2f} | preplex_score : {preplex_scr:,.2f}') \n",
    "        if mode == 'gensim':\n",
    "            print(f'num_topics {num_top} | process_time {toc - tik:.2f} s | coherence_score {coherence_scr:,.4f}') \n",
    "\n",
    "    res['num_topics'] = num_top_ls\n",
    "    \n",
    "    if mode == 'sklearn':\n",
    "        res['log_likelihood_score'] = ll_ls\n",
    "        res['preplexity_score'] = preplex_ls\n",
    "    if mode == 'gensim':\n",
    "        res['coherence_score'] = coherence_ls\n",
    "    \n",
    "    return res"
   ]
  },
  {
   "cell_type": "markdown",
   "metadata": {},
   "source": [
    "# TF"
   ]
  },
  {
   "cell_type": "code",
   "execution_count": 32,
   "metadata": {},
   "outputs": [
    {
     "name": "stdout",
     "output_type": "stream",
     "text": [
      "num_topics 2 | process_time 296.43 s | coherence_score 0.4809\n",
      "num_topics 3 | process_time 286.32 s | coherence_score 0.4599\n",
      "num_topics 4 | process_time 310.59 s | coherence_score 0.4550\n",
      "num_topics 5 | process_time 350.59 s | coherence_score 0.4318\n",
      "num_topics 6 | process_time 329.25 s | coherence_score 0.4192\n",
      "num_topics 7 | process_time 335.21 s | coherence_score 0.4471\n",
      "num_topics 8 | process_time 361.51 s | coherence_score 0.4488\n",
      "num_topics 9 | process_time 362.04 s | coherence_score 0.5270\n",
      "num_topics 10 | process_time 421.46 s | coherence_score 0.5161\n",
      "num_topics 11 | process_time 391.73 s | coherence_score 0.4862\n",
      "num_topics 12 | process_time 378.61 s | coherence_score 0.4765\n",
      "num_topics 13 | process_time 422.68 s | coherence_score 0.4140\n",
      "num_topics 14 | process_time 395.31 s | coherence_score 0.4573\n",
      "num_topics 15 | process_time 406.48 s | coherence_score 0.4333\n",
      "num_topics 16 | process_time 419.98 s | coherence_score 0.4499\n",
      "num_topics 17 | process_time 425.00 s | coherence_score 0.4387\n",
      "num_topics 18 | process_time 478.65 s | coherence_score 0.4220\n",
      "num_topics 19 | process_time 541.41 s | coherence_score 0.4339\n",
      "num_topics 20 | process_time 453.42 s | coherence_score 0.3863\n"
     ]
    }
   ],
   "source": [
    "score_tf_gensim = optimise_num_toipics(remove_stopwords_misc_food_dtm, mode='gensim')"
   ]
  },
  {
   "cell_type": "markdown",
   "metadata": {},
   "source": [
    "# TFIDF"
   ]
  },
  {
   "cell_type": "code",
   "execution_count": 33,
   "metadata": {},
   "outputs": [
    {
     "name": "stdout",
     "output_type": "stream",
     "text": [
      "num_topics 2 | process_time 332.48 s | coherence_score 0.4349\n",
      "num_topics 3 | process_time 339.37 s | coherence_score 0.5279\n",
      "num_topics 4 | process_time 340.96 s | coherence_score 0.5536\n",
      "num_topics 5 | process_time 356.12 s | coherence_score 0.5011\n",
      "num_topics 6 | process_time 365.57 s | coherence_score 0.5437\n",
      "num_topics 7 | process_time 365.84 s | coherence_score 0.5321\n",
      "num_topics 8 | process_time 371.65 s | coherence_score 0.4938\n",
      "num_topics 9 | process_time 383.40 s | coherence_score 0.5160\n",
      "num_topics 10 | process_time 400.82 s | coherence_score 0.5334\n",
      "num_topics 11 | process_time 398.29 s | coherence_score 0.5634\n",
      "num_topics 12 | process_time 410.55 s | coherence_score 0.5199\n",
      "num_topics 13 | process_time 429.49 s | coherence_score 0.5139\n",
      "num_topics 14 | process_time 465.72 s | coherence_score 0.4936\n",
      "num_topics 15 | process_time 437.54 s | coherence_score 0.5491\n",
      "num_topics 16 | process_time 466.90 s | coherence_score 0.5519\n",
      "num_topics 17 | process_time 504.42 s | coherence_score 0.5506\n",
      "num_topics 18 | process_time 494.37 s | coherence_score 0.5632\n",
      "num_topics 19 | process_time 478.63 s | coherence_score 0.5616\n",
      "num_topics 20 | process_time 539.89 s | coherence_score 0.5324\n"
     ]
    }
   ],
   "source": [
    "score_tfidf_gensim = optimise_num_toipics(remove_stopwords_misc_food_dtm, mode='gensim', bow_mode='tfidf')"
   ]
  },
  {
   "cell_type": "code",
   "execution_count": 34,
   "metadata": {
    "scrolled": true
   },
   "outputs": [],
   "source": [
    "import matplotlib.pyplot as plt\n",
    "import math\n",
    "\n",
    "def show_optimise_topic_number(res):\n",
    "    \n",
    "    y = [int(c) for c in res['num_topics']]\n",
    "    res = pd.DataFrame(res).set_index('num_topics')['coherence_score'].plot();\n",
    "    yint = range(min(y), math.ceil(max(y))+1);\n",
    "    plt.xticks(yint);\n",
    "    \n",
    "    return res"
   ]
  },
  {
   "cell_type": "code",
   "execution_count": 35,
   "metadata": {},
   "outputs": [
    {
     "data": {
      "image/png": "[encoded data removed]",
      "text/plain": [
       "<Figure size 432x288 with 1 Axes>"
      ]
     },
     "metadata": {
      "needs_background": "light"
     },
     "output_type": "display_data"
    }
   ],
   "source": [
    "show_optimise_topic_number(score_tf_gensim);"
   ]
  },
  {
   "cell_type": "code",
   "execution_count": 36,
   "metadata": {},
   "outputs": [
    {
     "data": {
      "image/png": "[encoded data removed]",
      "text/plain": [
       "<Figure size 432x288 with 1 Axes>"
      ]
     },
     "metadata": {
      "needs_background": "light"
     },
     "output_type": "display_data"
    }
   ],
   "source": [
    "show_optimise_topic_number(score_tfidf_gensim);"
   ]
  },
  {
   "cell_type": "markdown",
   "metadata": {},
   "source": [
    "# model"
   ]
  },
  {
   "cell_type": "code",
   "execution_count": 13,
   "metadata": {},
   "outputs": [],
   "source": [
    "import joblib\n",
    "def fit_lda_model(data_words, bow_mode, num_topics, file_nm=None):\n",
    "    \n",
    "    id2word, corpus = get_lda_input(data_words, bow_mode)\n",
    "\n",
    "    # Build LDA model\n",
    "    lda_model = gensim.models.LdaMulticore(corpus=corpus,\n",
    "                                           id2word=id2word,\n",
    "                                           num_topics=num_topics,\n",
    "                                           random_state=100,\n",
    "                                           chunksize=100,\n",
    "                                           passes=10,\n",
    "                                           per_word_topics=True,\n",
    "                                           workers = 15)\n",
    "    \n",
    "    # saving\n",
    "    if file_nm is not None:\n",
    "        joblib.dump(lda_model, file_nm)\n",
    "    \n",
    "    return lda_model"
   ]
  },
  {
   "cell_type": "code",
   "execution_count": 14,
   "metadata": {},
   "outputs": [],
   "source": [
    "# %%time \n",
    "# model = fit_lda_model(remove_stopwords_misc_food_dtm, bow_mode='tfidf', num_topics=18,\n",
    "#                                             file_nm='model/20200414_best_not_remove_stopw_misc_food_18topics.pkl')"
   ]
  },
  {
   "cell_type": "code",
   "execution_count": 15,
   "metadata": {},
   "outputs": [],
   "source": [
    "# best_not_remove_stopw_model = joblib.load('model/20200402_best_not_remove_stopw.pkl')\n",
    "best_remove_stopw_model = joblib.load('model/20200402_best_remove_stopw.pkl')\n",
    "# model = joblib.load('model/20200414_best_not_remove_stopw_misc_food.pkl')"
   ]
  },
  {
   "cell_type": "markdown",
   "metadata": {},
   "source": [
    "# viz"
   ]
  },
  {
   "cell_type": "code",
   "execution_count": 16,
   "metadata": {},
   "outputs": [],
   "source": [
    "import pyLDAvis\n",
    "import pyLDAvis.sklearn\n",
    "import pyLDAvis.gensim\n",
    "pyLDAvis.enable_notebook()"
   ]
  },
  {
   "cell_type": "code",
   "execution_count": 17,
   "metadata": {},
   "outputs": [],
   "source": [
    "model = best_remove_stopw_model\n",
    "dtm = remove_stopwords_dtm\n",
    "\n",
    "id2word, corpus = get_lda_input(dtm, mode='tfidf')"
   ]
  },
  {
   "cell_type": "code",
   "execution_count": 18,
   "metadata": {
    "scrolled": false
   },
   "outputs": [
    {
     "name": "stdout",
     "output_type": "stream",
     "text": [
      "CPU times: user 1min 20s, sys: 766 ms, total: 1min 21s\n",
      "Wall time: 1min 26s\n"
     ]
    },
    {
     "data": {
      "text/html": [
       "\n",
       "<link rel=\"stylesheet\" type=\"text/css\" href=\"https://cdn.rawgit.com/bmabey/pyLDAvis/files/ldavis.v1.0.0.css\">\n",
       "\n",
       "\n",
       "<div id=\"ldavis_el28811403196434996006223020923\"></div>\n",
       "<script type=\"text/javascript\">\n",
       "\n",
       "var ldavis_el28811403196434996006223020923_data = {\"mdsDat\": {\"x\": [-0.2651604190144489, -0.13572296201118628, 0.004914505951386208, 0.08331526733239986, 0.07978877175006013, 0.07963359534972309, 0.0769524792784083, 0.0762787613636574], \"y\": [-0.10420453404594583, 0.1356181023148699, 0.09054525709144774, -0.02592343008979893, -0.024545873460121655, -0.024463749369448385, -0.023609246248437927, -0.02341652619256505], \"topics\": [1, 2, 3, 4, 5, 6, 7, 8], \"cluster\": [1, 1, 1, 1, 1, 1, 1, 1], \"Freq\": [39.634700775146484, 21.675506591796875, 13.888465881347656, 5.40336799621582, 5.031347751617432, 5.019700050354004, 4.755289554595947, 4.591615200042725]}, \"tinfo\": {\"Term\": [\"\", \"\\u0e01\\u0e32\\u0e41\\u0e1f\", \"\\u0e23\\u0e32\\u0e04\\u0e32\", \"\\u0e23\\u0e2a\\u0e0a\\u0e32\\u0e15\\u0e34\", \"\\u0e19\\u0e49\\u0e33\\u0e08\\u0e34\\u0e49\\u0e21\", \"\\u0e0a\\u0e2d\\u0e1a\", \"\\u2b50\", \"\\u0e40\\u0e04\\u0e23\\u0e37\\u0e48\\u0e2d\\u0e07\\u0e14\\u0e37\\u0e48\\u0e21\", \"\\u0e2d\\u0e23\\u0e48\\u0e2d\\u0e22\", \"\\u0e1a\\u0e23\\u0e34\\u0e01\\u0e32\\u0e23\", \"\\u0e2b\\u0e27\\u0e32\\u0e19\", \"\\u0e0a\\u0e32\\u0e40\\u0e02\\u0e35\\u0e22\\u0e27\", \"\\u0e19\\u0e49\\u0e33\\u0e0b\\u0e38\\u0e1b\", \"\\u0e1e\\u0e19\\u0e31\\u0e01\\u0e07\\u0e32\\u0e19\", \"\\u0e1a\\u0e23\\u0e23\\u0e22\\u0e32\\u0e01\\u0e32\\u0e28\", \"\\u0e41\\u0e19\\u0e30\\u0e19\\u0e33\", \"\\u0e40\\u0e19\\u0e37\\u0e49\\u0e2d\", \"\\u0e43\\u0e2b\\u0e0d\\u0e48\", \"\\u0e02\\u0e19\\u0e21\\u0e1b\\u0e31\\u0e07\", \"\\u0e2d\\u0e23\\u0e48\\u0e2d\\u0e22\\u0e21\\u0e32\\u0e01\", \"\\u0e01\\u0e4b\\u0e27\\u0e22\\u0e40\\u0e15\\u0e35\\u0e4b\\u0e22\\u0e27\", \"\\u0e40\\u0e02\\u0e49\\u0e21\\u0e02\\u0e49\\u0e19\", \"\\u0e18\\u0e23\\u0e23\\u0e21\\u0e14\\u0e32\", \"\\u0e19\\u0e32\\u0e19\", \"\\u0e21\\u0e32\\u0e25\\u0e2d\\u0e07\", \"\\u0e41\\u0e21\\u0e27\", \"\\u0e42\\u0e22\\u0e40\\u0e01\\u0e34\\u0e23\\u0e4c\\u0e15\", \"\\u0e2d\\u0e23\\u0e48\\u0e2d\\u0e22\\u0e14\\u0e35\", \"\\u0e02\\u0e49\\u0e32\\u0e27\\u0e02\\u0e32\\u0e2b\\u0e21\\u0e39\", \"\\u0e1b\\u0e32\\u0e17\\u0e48\\u0e2d\\u0e07\\u0e42\\u0e01\\u0e4b\", \"\\u0e01\\u0e23\\u0e38\\u0e07\\u0e40\\u0e17\\u0e1e\", \"\\u0e02\\u0e49\\u0e32\\u0e27\\u0e1c\\u0e31\\u0e14\\u0e1b\\u0e39\", \"\\u0e1a\\u0e23\\u0e34\\u0e01\\u0e32\\u0e23\\u0e14\\u0e35\\u0e21\\u0e32\\u0e01\", \"\\u0e1c\\u0e31\\u0e14\\u0e44\\u0e17\\u0e22\", \"\\u0e04\\u0e49\\u0e32\", \"\\u0e19\\u0e49\\u0e33\\u0e41\\u0e02\\u0e47\\u0e07\\u0e44\\u0e2a\", \"\\u0e25\\u0e48\\u0e27\\u0e07\\u0e2b\\u0e19\\u0e49\\u0e32\", \"\\u0e01\\u0e38\\u0e49\\u0e07\\u0e41\\u0e21\\u0e48\\u0e19\\u0e49\\u0e33\", \"\\u0e2b\\u0e21\\u0e49\\u0e2d\\u0e44\\u0e1f\", \"\\u0e19\\u0e49\\u0e2d\\u0e22\\u0e44\\u0e1b\", \"\\u0e01\\u0e38\\u0e49\\u0e07\\u0e40\\u0e1c\\u0e32\", \"\\u0e15\\u0e49\\u0e21\\u0e22\\u0e33\\u0e01\\u0e38\\u0e49\\u0e07\", \"\\u0e1b\\u0e25\\u0e32\\u0e01\\u0e23\\u0e30\\u0e1e\\u0e07\\u0e17\\u0e2d\\u0e14\\u0e19\\u0e49\\u0e33\\u0e1b\\u0e25\\u0e32\", \"\\u0e40\\u0e1f\\u0e23\\u0e19\\u0e1f\\u0e23\\u0e32\\u0e22\", \"\\u0e19\\u0e49\\u0e33\\u0e1e\\u0e23\\u0e34\\u0e01\", \"\\u0e15\\u0e49\\u0e21\\u0e41\\u0e0b\\u0e48\\u0e1a\", \"\\u0e2b\\u0e2d\\u0e22\\u0e17\\u0e2d\\u0e14\", \"\\u0e2e\\u0e30\", \"\\u0e1b\\u0e23\\u0e30\\u0e01\\u0e32\\u0e23\", \"\\u0e41\\u0e1e\\u0e07\\u0e44\\u0e1b\\u0e19\\u0e34\\u0e14\", \"\\u0e19\\u0e37\\u0e49\\u0e2d\", \"\\u0e23\\u0e48\\u0e21\", \"\\u0e40\\u0e19\\u0e37\\u0e49\\u0e2d\\u0e2d\", \"\\u0e01\\u0e31\\u0e49\\u0e07\", \"\\u0e2a\\u0e30\\u0e2d\\u0e32\\u0e14\\u0e2a\\u0e30\\u0e2d\\u0e49\\u0e32\\u0e19\", \"\\u0e01\\u0e4b\\u0e27\\u0e22\\u0e40\\u0e15\\u0e35\\u0e4b\\u0e22\\u0e27\\u0e2b\\u0e21\\u0e39\", \"\\u0e41\\u0e01\\u0e07\\u0e2a\\u0e49\\u0e21\", \"\\u0e40\\u0e19\\u0e37\\u0e49\\u0e2d\\u0e15\\u0e38\\u0e4b\\u0e19\", \"\\u0e44\\u0e14\\u0e49\\u0e40\\u0e22\\u0e2d\\u0e30\\u0e21\\u0e32\\u0e01\", \"\\u0e43\\u0e2a\\u0e48\\u0e16\\u0e38\\u0e07\", \"\\u0e1a\\u0e38\\u0e1f\\u0e40\\u0e1f\\u0e48\", \"\\u0e2b\\u0e2d\\u0e22\", \"\\u0e40\\u0e19\\u0e37\\u0e49\\u0e2d\\u0e27\\u0e31\\u0e27\", \"\\u0e40\\u0e1c\\u0e32\", \"\\u0e19\\u0e49\\u0e33\\u0e02\\u0e49\\u0e19\", \"\\u0e19\\u0e49\\u0e33\\u0e08\\u0e34\\u0e49\\u0e21\", \"\\u0e01\\u0e23\\u0e30\\u0e40\\u0e1e\\u0e23\\u0e32\", \"\\u0e40\\u0e1c\\u0e47\\u0e14\\u0e21\\u0e32\\u0e01\", \"\\u0e0b\\u0e35\\u0e1f\\u0e39\\u0e49\\u0e14\", \"\\u0e19\\u0e49\\u0e33\\u0e08\\u0e34\\u0e49\\u0e21\\u0e2d\\u0e23\\u0e48\\u0e2d\\u0e22\", \"\\u0e19\\u0e49\\u0e33\\u0e0b\\u0e38\\u0e1b\", \"\\u0e19\\u0e49\\u0e33\\u0e08\\u0e34\\u0e49\\u0e21\\u0e0b\\u0e35\\u0e1f\\u0e39\\u0e49\\u0e14\", \"\\u0e01\\u0e4b\\u0e27\\u0e22\\u0e40\\u0e15\\u0e35\\u0e4b\\u0e22\\u0e27\", \"\\u0e28\\u0e39\\u0e19\\u0e22\\u0e4c\", \"\\u0e2b\\u0e2d\\u0e22\\u0e19\\u0e32\\u0e07\\u0e23\\u0e21\", \"\\u0e01\\u0e23\\u0e30\\u0e40\\u0e1e\\u0e32\\u0e30\", \"\\u0e40\\u0e19\\u0e37\\u0e49\\u0e2d\", \"\\u0e1b\\u0e25\\u0e32\\u0e23\\u0e49\\u0e32\", \"\\u0e1e\\u0e19\\u0e31\\u0e01\\u0e07\\u0e32\\u0e19\", \"\\u0e1a\\u0e23\\u0e34\\u0e01\\u0e32\\u0e23\", \"\\u0e23\\u0e32\\u0e04\\u0e32\", \"\\u0e2d\\u0e23\\u0e48\\u0e2d\\u0e22\", \"\\u0e43\\u0e2b\\u0e0d\\u0e48\", \"\\u0e23\\u0e2a\\u0e0a\\u0e32\\u0e15\\u0e34\", \"\\u0e41\\u0e19\\u0e30\\u0e19\\u0e33\", \"\\u0e18\\u0e23\\u0e23\\u0e21\\u0e14\\u0e32\", \"\\u0e2d\\u0e23\\u0e48\\u0e2d\\u0e22\\u0e21\\u0e32\\u0e01\", \"\\u0e19\\u0e32\\u0e19\", \"\\u0e0a\\u0e2d\\u0e1a\", \"\\u0e43\\u0e0a\\u0e49\\u0e44\\u0e14\\u0e49\", \"\\u0e04\\u0e23\\u0e2d\\u0e1a\\u0e04\\u0e23\\u0e31\\u0e27\", \"\\u0e41\\u0e1e\\u0e07\", \"\\u0e1a\\u0e23\\u0e23\\u0e22\\u0e32\\u0e01\\u0e32\\u0e28\", \"\\u0e41\\u0e1b\\u0e25\\u0e01\", \"\\u0e0d\\u0e35\\u0e48\\u0e1b\\u0e38\\u0e48\\u0e19\", \"\\u0e1b\\u0e01\\u0e15\\u0e34\", \"\\u0e2d\\u0e23\\u0e48\\u0e2d\\u0e22\\u0e14\\u0e35\", \"\\u0e2b\\u0e27\\u0e32\\u0e19\", \"\\u0e21\\u0e32\\u0e25\\u0e2d\\u0e07\", \"\\u0e40\\u0e02\\u0e49\\u0e21\\u0e02\\u0e49\\u0e19\", \"\\u0e1a\\u0e23\\u0e23\\u0e22\\u0e32\\u0e01\\u0e32\\u0e28\\u0e23\\u0e49\\u0e32\\u0e19\", \"\\u0e1b\\u0e23\\u0e31\\u0e1a\\u0e1b\\u0e23\\u0e38\\u0e07\", \"\\u0e40\\u0e04\\u0e23\\u0e37\\u0e48\\u0e2d\\u0e07\\u0e14\\u0e37\\u0e48\\u0e21\", \"\\u0e23\\u0e32\\u0e04\\u0e32\\u0e16\\u0e39\\u0e01\", \"\\u0e02\\u0e19\\u0e21\\u0e1b\\u0e31\\u0e07\", \"\\u2b50\", \"\\u0e41\\u0e21\\u0e27\", \"\\u0e02\\u0e49\\u0e32\\u0e27\\u0e02\\u0e32\\u0e2b\\u0e21\\u0e39\", \"\\u0e42\\u0e14\\u0e19\\u0e31\\u0e17\", \"\\u0e01\\u0e01\\u0e01\\u0e01\", \"\\u0e41\\u0e01\\u0e07\\u0e01\\u0e30\\u0e2b\\u0e23\\u0e35\", \"\\u0e2d\\u0e31\\u0e07\\u0e01\\u0e24\\u0e29\", \"\\u0e2a\\u0e31\\u0e48\\u0e07\\u0e01\\u0e25\\u0e31\\u0e1a\\u0e1a\\u0e49\\u0e32\\u0e19\", \"\\u0e23\\u0e32\\u0e04\\u0e32\\u0e1b\\u0e23\\u0e30\\u0e2b\\u0e22\\u0e31\\u0e14\", \"\\u0e44\\u0e21\\u0e48\\u0e41\\u0e1e\\u0e07\\u0e21\\u0e32\\u0e01\", \"\\u0e0a\\u0e32\\u0e21\\u0e30\\u0e19\\u0e32\\u0e27\", \"\\u0e44\\u0e21\\u0e48\\u0e42\\u0e14\\u0e14\\u0e40\\u0e14\\u0e48\\u0e19\", \"\\u0e2d\\u0e23\\u0e48\\u0e2d\\u0e22\\u0e2d\\u0e22\\u0e39\\u0e48\", \"\\u0e25\\u0e32\\u0e14\\u0e1e\\u0e23\\u0e49\\u0e32\\u0e27\", \"\\u0e1b\\u0e31\\u0e07\\u0e40\\u0e22\\u0e47\\u0e19\", \"\\u0e41\\u0e1f\", \"\\u0e40\\u0e2d\\u0e2d\", \"\\u0e2d\\u0e40\\u0e21\\u0e23\\u0e34\\u0e01\\u0e32\", \"\\u0e40\\u0e25\\u0e35\\u0e22\\u0e1a\", \"\\u0e40\\u0e22\\u0e37\\u0e2d\\u0e19\", \"\\u0e21\\u0e32\\u0e01\\u0e32\\u0e23\\u0e2d\\u0e07\", \"\\u0e2d\\u0e23\\u0e48\\u0e2d\\u0e22\\u0e21\\u0e32\\u0e01\\u0e40\\u0e25\\u0e22\", \"\\u0e02\\u0e2d\\u0e1a\", \"\\u0e1a\\u0e23\\u0e23\\u0e22\\u0e32\\u0e01\\u0e32\\u0e28\\u0e02\\u0e2d\\u0e07\\u0e23\\u0e49\\u0e32\\u0e19\", \"\\u0e1e\\u0e32\\u0e23\\u0e32\\u0e01\\u0e2d\\u0e19\", \"\\u0e2a\\u0e30\\u0e2a\\u0e21\", \"\\u0e2a\\u0e15\\u0e23\\u0e2d\\u0e40\\u0e1a\\u0e2d\\u0e23\\u0e4c\\u0e23\\u0e35\\u0e48\", \"\\u0e0a\\u0e21\\u0e1e\\u0e39\", \"\\u0e01\\u0e23\\u0e2d\\u0e1a\\u0e21\\u0e32\\u0e01\", \"\\u0e2d\\u0e32\\u0e2b\\u0e32\\u0e23\\u0e2d\\u0e23\\u0e48\\u0e2d\\u0e22\\u0e17\\u0e38\\u0e01\\u0e2d\\u0e22\\u0e48\\u0e32\\u0e07\", \"\\u0e21\\u0e35\\u0e2b\\u0e25\\u0e32\\u0e22\\u0e2a\\u0e32\\u0e02\\u0e32\", \"\\u0e27\\u0e32\\u0e1f\\u0e40\\u0e1f\\u0e34\\u0e25\", \"\\u0e2b\\u0e21\\u0e39\\u0e19\\u0e38\\u0e48\\u0e21\", \"\\u0e08\\u0e32\\u0e19\\u0e40\\u0e25\\u0e47\\u0e01\", \"\\u0e01\\u0e32\\u0e41\\u0e1f\", \"\\u0e40\\u0e04\\u0e23\\u0e1b\", \"\\u0e1e\\u0e19\\u0e31\\u0e01\\u0e07\\u0e32\\u0e19\\u0e1a\\u0e23\\u0e34\\u0e01\\u0e32\\u0e23\\u0e14\\u0e35\\u0e21\\u0e32\\u0e01\", \"\\u0e44\\u0e21\\u0e48\\u0e44\\u0e14\\u0e49\\u0e2d\\u0e23\\u0e48\\u0e2d\\u0e22\", \"\\u0e04\\u0e32\\u0e23\\u0e32\\u0e40\\u0e21\\u0e25\", \"\\u0e02\\u0e2d\\u0e07\\u0e04\\u0e32\\u0e27\", \"\\u0e1a\\u0e23\\u0e23\\u0e22\\u0e32\\u0e22\", \"\\u0e0a\\u0e32\\u0e40\\u0e02\\u0e35\\u0e22\\u0e27\", \"\\u0e40\\u0e04\\u0e23\\u0e37\\u0e48\\u0e2d\\u0e07\\u0e14\\u0e37\\u0e48\\u0e21\", \"\\u0e02\\u0e19\\u0e21\\u0e1b\\u0e31\\u0e07\", \"\\u0e2b\\u0e27\\u0e32\\u0e19\\u0e19\\u0e49\\u0e2d\\u0e22\", \"\\u0e02\\u0e19\\u0e21\\u0e1b\\u0e31\\u0e07\\u0e1b\\u0e34\\u0e49\\u0e07\", \"\\u0e40\\u0e1e\\u0e37\\u0e48\\u0e2d\\u0e19\\u0e1d\\u0e39\\u0e07\", \"\\u0e2b\\u0e27\\u0e32\\u0e19\", \"\\u0e0a\\u0e2d\\u0e1a\", \"\\u0e1a\\u0e23\\u0e23\\u0e22\\u0e32\\u0e01\\u0e32\\u0e28\\u0e43\\u0e19\\u0e23\\u0e49\\u0e32\\u0e19\", \"\\u0e23\\u0e2a\\u0e0a\\u0e32\\u0e15\\u0e34\", \"\\u0e1a\\u0e23\\u0e23\\u0e22\\u0e32\\u0e01\\u0e32\\u0e28\", \"\\u0e23\\u0e32\\u0e04\\u0e32\", \"\\u0e2d\\u0e23\\u0e48\\u0e2d\\u0e22\", \"\\u0e40\\u0e02\\u0e49\\u0e21\\u0e02\\u0e49\\u0e19\", \"\\u0e41\\u0e19\\u0e30\\u0e19\\u0e33\", \"\\u0e1a\\u0e23\\u0e34\\u0e01\\u0e32\\u0e23\", \"\\u0e21\\u0e32\\u0e25\\u0e2d\\u0e07\", \"\\u0e1e\\u0e19\\u0e31\\u0e01\\u0e07\\u0e32\\u0e19\", \"\\u0e43\\u0e2b\\u0e0d\\u0e48\", \"\\u0e2d\\u0e23\\u0e48\\u0e2d\\u0e22\\u0e21\\u0e32\\u0e01\", \"\\u0e2d\\u0e23\\u0e48\\u0e2d\\u0e22\\u0e14\\u0e35\", \"\\u0e40\\u0e19\\u0e37\\u0e49\\u0e2d\", \"\\u0e1b\\u0e01\\u0e15\\u0e34\", \"\\u0e1a\\u0e23\\u0e23\\u0e22\\u0e32\\u0e01\\u0e32\\u0e28\\u0e23\\u0e49\\u0e32\\u0e19\", \"\\u0e19\\u0e32\\u0e19\", \"\\u0e18\\u0e23\\u0e23\\u0e21\\u0e14\\u0e32\", \"\\u0e40\\u0e1b\\u0e47\\u0e19\\u0e23\\u0e49\\u0e32\\u0e19\\u0e40\\u0e25\\u0e47\\u0e01\", \"\\u0e41\\u0e1e\\u0e07\", \"\\u0e42\\u0e22\\u0e40\\u0e01\\u0e34\\u0e23\\u0e4c\\u0e15\", \"\\u0e1b\\u0e32\\u0e17\\u0e48\\u0e2d\\u0e07\\u0e42\\u0e01\\u0e4b\", \"\\u0e23\\u0e32\\u0e22\", \"\\u0e23\\u0e49\\u0e32\\u0e19\\u0e2a\\u0e40\\u0e15\\u0e47\\u0e01\", \"\\u0e40\\u0e04\\u0e32\\u0e19\\u0e4c\\u0e40\\u0e15\\u0e2d\\u0e23\\u0e4c\", \"\\u0e1e\\u0e23\\u0e30\", \"\\u0e2e\\u0e31\\u0e19\\u0e19\\u0e35\\u0e48\\u0e42\\u0e17\\u0e2a\", \"\\u0e44\\u0e02\\u0e48\\u0e21\\u0e38\\u0e01\", \"\\u0e1a\\u0e34\\u0e07\", \"\\u0e25\\u0e32\\u0e40\\u0e15\\u0e49\", \"\\u0e15\\u0e30\\u0e44\\u0e04\\u0e23\\u0e49\", \"\\u0e2b\\u0e21\\u0e39\\u0e01\\u0e23\\u0e30\\u0e17\\u0e30\", \"\\u0e25\\u0e39\\u0e01\\u0e0a\\u0e34\\u0e49\\u0e19\\u0e2b\\u0e21\\u0e39\", \"\\u0e40\\u0e21\\u0e19\\u0e39\\u0e1b\\u0e23\\u0e30\\u0e08\\u0e33\", \"\\u0e2a\\u0e40\\u0e15\\u0e4a\\u0e01\", \"\\u0e01\\u0e23\\u0e38\\u0e07\\u0e40\\u0e17\\u0e1e\\u0e2f\", \"\\u0e2a\\u0e31\\u0e15\\u0e27\\u0e4c\", \"\\u0e2d\\u0e32\\u0e2b\\u0e32\\u0e23\\u0e40\\u0e2b\\u0e19\\u0e37\\u0e2d\", \"\\u0e15\\u0e33\\u0e16\\u0e32\\u0e14\", \"\\u0e40\\u0e2b\\u0e25\\u0e27\", \"\\u0e2b\\u0e25\\u0e1a\", \"\\u0e1a\\u0e34\\u0e07\\u0e0b\\u0e39\", \"\\u0e02\\u0e48\\u0e32\\u0e27\", \"\\u0e2b\\u0e21\\u0e39\\u0e41\\u0e14\\u0e14\\u0e40\\u0e14\\u0e35\\u0e22\\u0e27\", \"\\u0e14\\u0e36\\u0e07\\u0e14\\u0e39\\u0e14\", \"\\u0e40\\u0e04\\u0e25\\u0e37\\u0e2d\\u0e1a\", \"\\u0e0b\\u0e39\", \"\\u0e08\\u0e21\\u0e39\\u0e01\", \"\\u0e2d\\u0e38\\u0e1b\\u0e01\\u0e23\\u0e13\\u0e4c\", \"\\u0e1f\\u0e31\\u0e01\\u0e17\\u0e2d\\u0e07\", \"\\u0e1e\\u0e31\\u0e12\\u0e19\\u0e32\", \"\\u0e1c\\u0e31\\u0e14\\u0e44\\u0e17\", \"\\u0e2b\\u0e32\\u0e14\\u0e43\\u0e2b\\u0e0d\\u0e48\", \"\\u0e02\\u0e19\\u0e21\\u0e08\\u0e35\\u0e1a\", \"\\u0e02\\u0e49\\u0e32\\u0e27\\u0e2b\\u0e21\\u0e39\\u0e01\\u0e23\\u0e2d\\u0e1a\", \"\\u0e1c\\u0e25\", \"\\u0e01\\u0e23\\u0e38\\u0e1a\\u0e01\\u0e23\\u0e2d\\u0e1a\", \"\\u0e21\\u0e37\\u0e49\\u0e2d\\u0e01\\u0e25\\u0e32\\u0e07\\u0e27\\u0e31\\u0e19\", \"\\u0e1e\\u0e32\\u0e22\", \"\\u0e2d\\u0e32\\u0e2b\\u0e32\\u0e23\\u0e17\\u0e30\\u0e40\\u0e25\\u0e2a\\u0e14\", \"\\u0e40\\u0e0b\\u0e47\\u0e17\", \"\\u0e0a\\u0e32\\u0e27\\u0e15\\u0e48\\u0e32\\u0e07\\u0e0a\\u0e32\\u0e15\\u0e34\", \"\\u0e1c\\u0e39\\u0e49\\u0e0a\\u0e32\\u0e22\", \"\\u0e2b\\u0e21\\u0e39\\u0e15\\u0e38\\u0e4b\\u0e19\", \"\\u0e23\\u0e2a\\u0e0a\\u0e32\\u0e15\\u0e34\", \"\\u0e2d\\u0e23\\u0e48\\u0e2d\\u0e22\", \"\\u0e0a\\u0e2d\\u0e1a\", \"\\u0e23\\u0e32\\u0e04\\u0e32\", \"\\u0e02\\u0e49\\u0e32\\u0e27\\u0e2b\\u0e21\\u0e39\\u0e41\\u0e14\\u0e07\", \"\\u0e19\\u0e49\\u0e33\\u0e0b\\u0e38\\u0e1b\", \"\\u0e0a\\u0e35\\u0e2a\\u0e40\\u0e04\\u0e49\\u0e01\", \"\\u0e25\\u0e2d\\u0e14\\u0e0a\\u0e48\\u0e2d\\u0e07\", \"\\u0e02\\u0e49\\u0e32\\u0e27\\u0e2b\\u0e21\\u0e01\\u0e44\\u0e01\\u0e48\", \"\\u0e02\\u0e19\\u0e21\\u0e16\\u0e49\\u0e27\\u0e22\", \"\\u0e25\\u0e2d\\u0e14\\u0e0a\\u0e48\\u0e2d\\u0e07\\u0e2a\\u0e34\\u0e07\\u0e04\\u0e42\\u0e1b\\u0e23\", \"\\u0e44\\u0e01\\u0e48\\u0e1c\\u0e31\\u0e14\\u0e40\\u0e21\\u0e47\\u0e14\\u0e21\\u0e30\\u0e21\\u0e48\\u0e27\\u0e07\", \"\\u0e15\\u0e48\\u0e32\\u0e07\\u0e1b\\u0e23\\u0e30\\u0e40\\u0e17\\u0e28\", \"\\u0e2b\\u0e21\\u0e39\\u0e1b\\u0e34\\u0e49\\u0e07\", \"\\u0e2b\\u0e21\\u0e39\\u0e08\\u0e38\\u0e48\\u0e21\", \"\\u0e1b\\u0e25\\u0e32\\u0e01\\u0e30\\u0e1e\\u0e07\", \"\\u0e40\\u0e40\\u0e27\\u0e30\", \"\\u0e44\\u0e01\\u0e48\\u0e04\\u0e32\\u0e23\\u0e32\\u0e40\\u0e01\\u0e30\", \"\\u0e42\\u0e23\\u0e1a\\u0e34\\u0e19\", \"\\u0e01\\u0e30\\u0e17\\u0e30\\u0e23\\u0e49\\u0e2d\\u0e19\", \"\\u0e2a\\u0e2d\\u0e07\\u0e2a\\u0e32\\u0e21\", \"\\u0e21\\u0e31\\u0e48\\u0e27\", \"\\u0e04\\u0e31\\u0e1e\\u0e40\\u0e04\\u0e49\\u0e01\", \"\\u0e19\\u0e38\\u0e48\\u0e21\\u0e2d\\u0e23\\u0e48\\u0e2d\\u0e22\\u0e21\\u0e32\\u0e01\", \"\\u0e02\\u0e49\\u0e32\\u0e27\\u0e2b\\u0e21\\u0e01\", \"\\u0e22\\u0e33\\u0e41\\u0e0b\\u0e25\\u0e21\\u0e2d\\u0e19\", \"\\u0e01\\u0e49\\u0e2d\\u0e2d\\u0e23\\u0e48\\u0e2d\\u0e22\", \"\\u0e01\\u0e23\\u0e30\\u0e1a\\u0e35\\u0e48\", \"\\u0e41\\u0e1a\\u0e1a\\u0e40\\u0e22\\u0e47\\u0e19\", \"\\u0e2a\\u0e21\\u0e31\\u0e04\\u0e23\", \"\\u0e27\\u0e34\\u0e19\", \"\\u0e1b\\u0e25\\u0e32\\u0e01\\u0e23\\u0e2d\\u0e1a\", \"\\u2019\", \"\\u0e02\\u0e19\\u0e38\\u0e19\", \"\\u0e01\\u0e49\\u0e2d\\u0e42\\u0e2d\\u0e40\\u0e04\", \"\\u0e01\\u0e32\\u0e23\\u0e23\\u0e2d\\u0e04\\u0e2d\\u0e22\", \"\\u0e1a\\u0e39\\u0e14\", \"\\u0e1f\\u0e32\\u0e23\\u0e4c\\u0e21\", \"\\u0e27\\u0e34\\u0e27\\u0e14\\u0e35\", \"\\u0e1b\\u0e39\\u0e1c\\u0e31\\u0e14\\u0e1c\\u0e07\\u0e01\\u0e23\\u0e30\\u0e2b\\u0e23\\u0e35\\u0e48\", \"\\u0e2d\\u0e32\\u0e2b\\u0e32\\u0e23\\u0e2d\\u0e2d\\u0e01\\u0e40\\u0e23\\u0e47\\u0e27\", \"\\u0e21\\u0e32\\u0e23\\u0e22\\u0e32\\u0e17\", \"\\u0e40\\u0e2b\\u0e21\\u0e32\", \"\\u0e04\\u0e19\\u0e40\\u0e22\\u0e2d\\u0e30\\u0e15\\u0e25\\u0e2d\\u0e14\", \"\\u0e17\\u0e4a\\u0e2d\\u0e1b\\u0e1b\\u0e34\\u0e49\\u0e07\", \"\\u0e43\\u0e2b\\u0e49\\u0e40\\u0e25\\u0e37\\u0e2d\\u0e01\\u0e40\\u0e22\\u0e2d\\u0e30\\u0e21\\u0e32\\u0e01\", \"\\u0e1a\\u0e34\\u0e19\", \"\\u0e40\\u0e40\\u0e1e\\u0e07\", \"\\u0e2b\\u0e48\\u0e2d\\u0e01\\u0e25\\u0e31\\u0e1a\", \"\\u0e2a\\u0e19\\u0e32\\u0e21\\u0e1a\\u0e34\\u0e19\", \"\\u0e40\\u0e14\\u0e47\\u0e01\\u0e40\\u0e2a\\u0e23\\u0e34\\u0e1f\", \"\\u0e40\\u0e21\\u0e25\\u0e48\\u0e2d\\u0e19\", \"\\u0e2b\\u0e21\\u0e2d\", \"\\u0e2b\\u0e31\\u0e27\\u0e1b\\u0e25\\u0e32\", \"\\u0e0a\\u0e39\\u0e04\\u0e23\\u0e35\\u0e21\", \"\\u0e40\\u0e2d\\u0e40\\u0e0a\\u0e35\\u0e22\", \"\\u0e40\\u0e25\\u0e37\\u0e2d\\u0e01\\u0e44\\u0e21\\u0e48\\u0e16\\u0e39\\u0e01\", \"\\u0e0b\\u0e38\\u0e1b\\u0e01\\u0e23\\u0e30\\u0e14\\u0e39\\u0e01\", \"\\u0e40\\u0e2a\\u0e37\\u0e49\\u0e2d\\u0e1c\\u0e49\\u0e32\", \"\\u0e19\\u0e48\\u0e32\\u0e19\", \"\\u0e25\\u0e32\\u0e01\", \"\\u0e49\\u0e04\\u0e32\\u0e42\\u0e1a\\u0e19\\u0e32\\u0e23\\u0e48\\u0e32\", \"\\u0e40\\u0e01\\u0e35\\u0e4a\\u0e22\\u0e27\\u0e19\\u0e49\\u0e33\", \"\\u0e1a\\u0e23\\u0e34\\u0e01\\u0e23\", \"\\u0e1b\\u0e25\\u0e32\\u0e40\\u0e19\\u0e37\\u0e49\\u0e2d\\u0e2d\", \"\\u0e2d\\u0e34\\u0e19\\u0e40\\u0e14\\u0e35\\u0e22\", \"\\u0e02\\u0e2d\\u0e19\\u0e41\\u0e01\\u0e48\\u0e19\", \"\\u0e01\\u0e23\\u0e2d\\u0e1a\\u0e2d\\u0e23\\u0e48\\u0e2d\\u0e22\\u0e21\\u0e32\\u0e01\", \"\\u0e02\\u0e21\\u0e34\\u0e49\\u0e19\", \"\\u0e0a\\u0e4a\\u0e2d\\u0e04\\u0e42\\u0e01\\u0e41\\u0e25\\u0e15\", \"\\u0e40\\u0e1a\\u0e19\\u0e42\\u0e15\\u0e30\", \"\\u0e01\\u0e22\\u0e48\\u0e32\\u0e07\", \"\\u0e2a\\u0e21\\u0e23\\u0e32\\u0e04\\u0e32\\u0e04\\u0e48\\u0e30\", \"\\u0e1a\\u0e31\\u0e07\", \"\\u0e43\\u0e19\\u0e23\\u0e49\\u0e32\\u0e19\\u0e15\\u0e01\\u0e41\\u0e15\\u0e48\\u0e07\", \"\\u0e40\\u0e04\\u0e23\\u0e37\\u0e48\\u0e2d\\u0e07\\u0e40\\u0e22\\u0e2d\\u0e30\\u0e14\\u0e35\", \"\\u0e44\\u0e14\\u0e48\", \"\\u0e1a\\u0e30\\u0e2b\\u0e21\\u0e35\\u0e48\\u0e2b\\u0e22\\u0e01\", \"\\u0e2d\\u0e35\\u0e2a\\u0e32\", \"\\u0e1c\\u0e25\\u0e34\\u0e15\", \"\\u0e0a\\u0e32\\u0e44\\u0e02\\u0e48\\u0e21\\u0e38\\u0e01\", \"\\u0e02\\u0e19\\u0e21\\u0e1c\\u0e31\\u0e01\\u0e01\\u0e32\\u0e14\", \"\\u0e01\\u0e47\\u0e2d\\u0e23\\u0e48\\u0e2d\\u0e22\\u0e21\\u0e32\\u0e01\", \"\\u0e42\\u0e17\\u0e2a\", \"\\u0e42\\u0e1a\\u0e01\", \"\\u0e44\\u0e2a\\u0e49\\u0e2d\\u0e31\\u0e48\\u0e27\", \"\\u0e2b\\u0e19\\u0e49\\u0e32\\u0e15\\u0e32\\u0e2d\\u0e32\\u0e2b\\u0e32\\u0e23\", \"\\u0e44\\u0e2a\\u0e49\\u0e16\\u0e31\\u0e48\\u0e27\", \"\\u0e0a\\u0e37\\u0e14\", \"\\u0e27\\u0e34\\u0e27\\u0e17\\u0e30\\u0e40\\u0e25\", \"\\u0e04\\u0e2d\\u0e19\\u0e42\\u0e14\", \"\\u0e22\\u0e38\\u0e42\\u0e23\\u0e1b\", \"\\u0e2e\\u0e48\\u0e2d\\u0e07\\u0e01\\u0e07\", \"\\u0e2d\\u0e31\\u0e19\\u0e19\\u0e35\\u0e49\\u0e2d\\u0e23\\u0e48\\u0e2d\\u0e22\", \"\\u0e0b\\u0e2d\\u0e2a\\u0e23\\u0e32\\u0e14\", \"\\u0e2a\\u0e42\\u0e04\\u0e19\", \"\\u0e23\\u0e2a\\u0e0a\\u0e32\\u0e15\\u0e14\\u0e35\", \"\\u263a\", \"\\u0e41\\u0e01\\u0e07\\u0e01\\u0e23\\u0e30\\u0e2b\\u0e23\\u0e35\\u0e48\", \"\\u0e2d\\u0e35\\u0e01\\u0e40\\u0e22\\u0e2d\\u0e30\", \"\\u0e1b\\u0e23\\u0e30\\u0e0a\\u0e38\\u0e21\", \"\\u0e1c\\u0e34\\u0e14\\u0e1e\\u0e25\\u0e32\\u0e14\", \"\\u0e40\\u0e1b\\u0e47\\u0e14\\u0e1b\\u0e31\\u0e01\\u0e01\\u0e34\\u0e48\\u0e07\", \"\\u0e1b\\u0e25\\u0e32\\u0e01\\u0e30\\u0e1e\\u0e07\\u0e17\\u0e2d\\u0e14\\u0e19\\u0e49\\u0e33\\u0e1b\\u0e25\\u0e32\", \"\\u0e21\\u0e2d\\u0e22\", \"\\u0e22\\u0e31\\u0e14\\u0e44\\u0e2a\\u0e49\", \"\\u0e42\\u0e25\", \"\\u0e41\\u0e2d\\u0e1a\\u0e41\\u0e1e\\u0e07\", \"\\u0e1a\\u0e30\\u0e2b\\u0e21\\u0e35\\u0e48\\u0e40\\u0e22\", \"\\u0e01\\u0e25\\u0e49\\u0e27\\u0e22\\u0e1b\\u0e34\\u0e49\\u0e07\", \"\\u0e2d\\u0e32\\u0e2b\\u0e32\\u0e23\\u0e21\\u0e35\\u0e43\\u0e2b\\u0e49\\u0e40\\u0e25\\u0e37\\u0e2d\\u0e01\\u0e2b\\u0e25\\u0e32\\u0e01\\u0e2b\\u0e25\\u0e32\\u0e22\", \"\\u0e1a\\u0e23\\u0e23\\u0e22\\u0e32\\u0e22\\u0e01\\u0e32\\u0e28\", \"\\u0e2b\\u0e27\\u0e37\\u0e2d\\u0e2b\\u0e27\\u0e32\", \"\\u0e40\\u0e23\\u0e48\\u0e07\\u0e23\\u0e35\\u0e1a\", \"\\u0e21\\u0e32\\u0e01\\u0e34\\u0e19\", \"\\u0e42\\u0e25\\u0e25\\u0e30\", \"\\u0e1b\\u0e27\\u0e14\", \"\\u0e17\\u0e48\\u0e35\", \"\\u0e04\", \"\\u0e14\\u0e32\\u0e14\\u0e1f\\u0e49\\u0e32\", \"\\u0e16\\u0e48\\u0e32\\u0e22\\u0e40\\u0e17\", \"\\u0e40\\u0e1b\\u0e34\\u0e14\\u0e41\\u0e25\\u0e49\\u0e27\", \"\\u0e0b\\u0e35\\u0e0b\\u0e48\\u0e32\\u0e2a\\u0e25\\u0e31\\u0e14\", \"\\u0e04\\u0e23\\u0e48\\u0e30\", \"\\u0e2b\\u0e21\\u0e39\\u0e21\\u0e30\\u0e19\\u0e32\\u0e27\", \"\\u0e2d\\u0e32\\u0e2b\\u0e32\\u0e23\\u0e40\\u0e01\\u0e32\\u0e2b\\u0e25\\u0e35\", \"\\u0e40\\u0e21\\u0e49\\u0e32\\u0e17\\u0e4c\", \"\\u0e19\\u0e49\\u0e33\\u0e0b\\u0e38\\u0e1b\\u0e01\\u0e25\\u0e21\\u0e01\\u0e25\\u0e48\\u0e2d\\u0e21\", \"\\u0e08\\u0e31\\u0e01\\u0e23\\u0e22\\u0e32\\u0e19\", \"\\u0e02\\u0e19\\u0e32\\u0e14\\u0e01\\u0e25\\u0e32\\u0e07\", \"\\u0e23\\u0e32\\u0e04\\u0e32\\u0e04\\u0e48\\u0e2d\\u0e19\\u0e02\\u0e49\\u0e32\\u0e07\\u0e2a\\u0e39\\u0e07\", \"\\u0e25\\u0e37\\u0e48\\u0e19\", \"\\u0e40\\u0e04\\u0e32\\u0e40\\u0e15\\u0e2d\\u0e23\\u0e4c\", \"\\u0e2d\\u0e2d\\u0e1f\\u0e1f\\u0e34\\u0e28\", \"\\u0e1b\\u0e39\\u0e19\\u0e36\\u0e48\\u0e07\", \"\\u0e17\\u0e32\\u0e19\\u0e04\\u0e39\\u0e48\\u0e01\\u0e31\\u0e19\", \"\\u0e10\\u0e32\\u0e19\", \"\\u0e08\\u0e23\\u0e49\\u0e32\", \"\\u0e21\\u0e32\\u0e15\\u0e23\\u0e32\", \"\\u0e1b\\u0e25\\u0e32\\u0e2b\\u0e21\\u0e36\\u0e01\\u0e1c\\u0e31\\u0e14\\u0e44\\u0e02\\u0e48\\u0e40\\u0e04\\u0e47\\u0e21\", \"\\u0e01\\u0e32\\u0e01\\u0e2b\\u0e21\\u0e39\", \"\\u0e31\\u0e07\", \"\\u0e17\\u0e23\\u0e39\", \"\\u0e19\\u0e27\\u0e14\", \"\\u0e27\\u0e48\\u0e32\\u0e2d\\u0e23\\u0e48\\u0e2d\\u0e22\\u0e01\\u0e27\\u0e48\\u0e32\", \"\\u0e44\\u0e2a\\u0e49\\u0e04\\u0e23\\u0e35\\u0e21\", \"\\u0e25\\u0e2d\\u0e07\\u0e40\\u0e21\\u0e19\\u0e39\", \"\\u0e23\\u0e32\\u0e40\\u0e21\\u0e47\\u0e07\", \"\\u0e2b\\u0e2d\\u0e21\\u0e14\\u0e35\", \"\\u0e01\\u0e34\\u0e19\\u0e40\\u0e02\\u0e49\\u0e32\\u0e44\\u0e1b\", \"\\u0e2b\\u0e34\\u0e21\\u0e30\", \"\\u0e2b\\u0e21\\u0e14\\u0e40\\u0e01\\u0e25\\u0e35\\u0e49\\u0e22\\u0e07\", \"\\u0e01\\u0e38\\u0e49\\u0e07\\u0e1e\\u0e31\\u0e19\\u0e2d\\u0e49\\u0e2d\\u0e22\", \"\\u0e14\\u0e34\\u0e48\\u0e07\", \"\\u0e40\\u0e25\\u0e35\\u0e22\\u0e19\", \"\\u0e04\\u0e49\\u0e19\\u0e2b\\u0e32\", \"\\u0e40\\u0e0a\\u0e48\\u0e32\", \"\\u0e44\\u0e2a\\u0e49\\u0e2b\\u0e21\\u0e39\\u0e2a\\u0e31\\u0e1a\", \"\\u0e1b\\u0e25\\u0e32\\u0e40\\u0e04\\u0e47\\u0e21\", \"\\u0e41\\u0e08\\u0e4b\\u0e27\", \"\\u0e2a\\u0e15\\u0e32\\u0e23\\u0e4c\", \"\\u0e2d\\u0e32\\u0e21\\u0e48\\u0e32\", \"\\u0e40\\u0e1b\\u0e48\\u0e32\", \"\\u0e2d\\u0e34\\u0e19\\u0e40\\u0e15\\u0e2d\\u0e23\\u0e4c\", \"\\u0e2a\\u0e30\\u0e14\\u0e38\\u0e14\\u0e15\\u0e32\", \"\\u0e40\\u0e04\\u0e49\\u0e32\\u0e02\\u0e32\\u0e22\", \"\\u0e1e\\u0e35\\u0e48\\u0e2a\\u0e32\\u0e27\", \"\\u0e1e\\u0e22\\u0e32\\u0e1a\\u0e32\\u0e25\", \"\\u0e2d\\u0e34\\u0e2a\\u0e25\\u0e32\\u0e21\", \"\\u0e0a\\u0e32\\u0e15\", \"\\u0e1f\\u0e39\\u0e08\\u0e34\", \"\\u0e2d\\u0e23\\u0e48\\u0e2d\\u0e22\\u0e04\\u0e30\", \"\\u0e40\\u0e27\\u0e49\\u0e19\", \"\\u0e2d\\u0e23\\u0e48\\u0e2d\\u0e22\\u0e22\", \"\\u0e14\\u0e35\\u0e40\\u0e25\\u0e22\\u0e17\\u0e35\\u0e40\\u0e14\\u0e35\\u0e22\\u0e27\", \"\", \"\\u0e41\\u0e21\\u0e25\\u0e07\\u0e27\\u0e31\\u0e19\", \"\\u0e42\\u0e04\\u0e23\\u0e32\\u0e0a\", \"\\u0e40\\u0e01\\u0e25\\u0e47\\u0e14\\u0e19\\u0e49\\u0e33\\u0e41\\u0e02\\u0e47\\u0e07\", \"\\u0e19\\u0e49\\u0e33\\u0e0b\\u0e38\\u0e1a\", \"\\u0e40\\u0e25\\u0e19\", \"\\u0e2a\\u0e07\\u0e01\\u0e23\\u0e32\\u0e19\\u0e15\\u0e4c\", \"\\u0e14\\u0e49\\u0e2d\\u0e22\", \"\\u0e1c\\u0e31\\u0e01\\u0e2b\\u0e27\\u0e32\\u0e19\", \"\\u0e40\\u0e1a\\u0e2d\\u0e40\\u0e01\\u0e2d\\u0e23\\u0e4c\", \"\\u0e15\\u0e49\\u0e21\\u0e41\\u0e0b\\u0e48\\u0e1a\\u0e01\\u0e23\\u0e30\\u0e14\\u0e39\\u0e01\\u0e2d\\u0e48\\u0e2d\\u0e19\", \"\\u0e1c\\u0e31\\u0e14\\u0e2b\\u0e21\\u0e35\\u0e48\", \"\\u0e22\\u0e33\\u0e16\\u0e31\\u0e48\\u0e27\\u0e1e\\u0e25\\u0e39\", \"\\u0e2d\\u0e2d\\u0e40\\u0e14\\u0e34\\u0e23\\u0e4c\\u0e1f\", \"\\u0e04\\u0e1a\", \"\\u0e21\\u0e30\\u0e15\\u0e39\\u0e21\", \"\\u0e1b\\u0e23\\u0e34\\u0e21\\u0e32\\u0e13\\u0e40\\u0e22\\u0e2d\\u0e30\\u0e21\\u0e32\\u0e01\", \"\\u25a0\", \"\\u0e40\\u0e15\\u0e34\\u0e21\\u0e44\\u0e14\\u0e49\\u0e44\\u0e21\\u0e48\\u0e2d\\u0e31\\u0e49\\u0e19\", \"\\u0e40\\u0e21\\u0e19\\u0e39\\u0e02\\u0e19\\u0e21\", \"\\u0e1e\\u0e31\\u0e12\\u0e19\\u0e32\\u0e01\\u0e32\\u0e23\", \"\\u0e40\\u0e02\\u0e35\\u0e22\\u0e27\\u0e2b\\u0e27\\u0e32\\u0e19\", \"\\u0e22\\u0e47\\u0e19\\u0e15\\u0e32\\u0e42\\u0e1f\", \"\\u0e44\\u0e02\\u0e48\\u0e40\\u0e08\\u0e35\\u0e22\\u0e27\\u0e2b\\u0e21\\u0e39\\u0e2a\\u0e31\\u0e1a\", \"\\u0e1a\\u0e32\\u0e19\", \"\\u0e40\\u0e0b\\u0e47\\u0e19\\u0e17\\u0e23\\u0e31\\u0e25\\u0e25\\u0e32\\u0e14\\u0e1e\\u0e23\\u0e49\\u0e32\\u0e27\", \"\\u0e17\\u0e49\\u0e32\", \"\\u0e24\\u0e14\\u0e39\\u0e01\\u0e32\\u0e25\", \"\\u0e1b\\u0e23\\u0e34\\u0e48\\u0e21\", \"\\u0e2a\\u0e31\\u0e48\\u0e07\\u0e44\\u0e14\\u0e49\\u0e44\\u0e21\\u0e48\\u0e2d\\u0e31\\u0e49\\u0e19\", \"\\u0e2b\\u0e21\\u0e31\\u0e48\\u0e19\\u0e42\\u0e16\", \"\\u0e40\\u0e1e\\u0e08\", \"\\u0e15\\u0e33\\u0e21\\u0e31\\u0e48\\u0e27\", \"\\u0e17\\u0e49\\u0e2d\\u0e07\\u0e16\\u0e34\\u0e48\\u0e19\", \"\\u0e40\\u0e1e\\u0e0a\\u0e23\\u0e1a\\u0e38\\u0e23\\u0e35\", \"\\u0e15\\u0e30\\u0e42\\u0e01\\u0e19\", \"\\u0e23\\u0e32\\u0e0a\\u0e1e\\u0e24\\u0e01\\u0e29\\u0e4c\", \"\\u0e21\\u0e31\\u0e27\"], \"Freq\": [96.0, 256.0, 526.0, 511.0, 265.0, 473.0, 91.0, 246.0, 448.0, 364.0, 340.0, 155.0, 255.0, 346.0, 311.0, 334.0, 319.0, 320.0, 156.0, 265.0, 170.0, 222.0, 224.0, 225.0, 214.0, 41.0, 30.0, 205.0, 39.0, 29.0, 46.66621017456055, 53.20426940917969, 43.16604232788086, 42.681800842285156, 39.987918853759766, 37.237483978271484, 36.78083038330078, 35.4423828125, 44.24514389038086, 34.65439987182617, 32.84858703613281, 45.97916030883789, 32.21577835083008, 32.014461517333984, 37.84104537963867, 31.00925636291504, 31.277320861816406, 30.41830062866211, 29.945165634155273, 29.105289459228516, 29.474830627441406, 28.74789810180664, 28.38335609436035, 28.315101623535156, 28.096769332885742, 28.113922119140625, 43.55732727050781, 27.064678192138672, 27.010494232177734, 26.983118057250977, 52.20005798339844, 41.43862533569336, 41.34326934814453, 46.716739654541016, 31.15453338623047, 250.7509307861328, 43.111854553222656, 37.18864440917969, 44.350406646728516, 38.82060623168945, 225.46798706054688, 39.239280700683594, 149.8060302734375, 41.222713470458984, 36.811500549316406, 43.233558654785156, 251.56912231445312, 37.23354721069336, 266.6725158691406, 276.8951416015625, 383.4456787109375, 329.67138671875, 243.3119659423828, 363.9817810058594, 248.46815490722656, 170.2314910888672, 195.82574462890625, 169.05516052246094, 314.4142761230469, 124.2928466796875, 95.9006576538086, 137.97293090820312, 209.9485321044922, 112.34881591796875, 115.74088287353516, 137.99954223632812, 143.72879028320312, 209.2859344482422, 143.173095703125, 141.58712768554688, 108.29547882080078, 63.168460845947266, 106.47708892822266, 62.877342224121094, 64.25476837158203, 90.81237030029297, 40.654510498046875, 38.84349822998047, 31.596288681030273, 28.79330825805664, 26.90858268737793, 25.98092269897461, 26.365095138549805, 25.288236618041992, 25.15498924255371, 24.280574798583984, 24.090166091918945, 23.973783493041992, 23.684663772583008, 23.179637908935547, 22.89948272705078, 22.791034698486328, 22.623796463012695, 22.62209129333496, 22.110475540161133, 21.716073989868164, 21.731231689453125, 21.648130416870117, 21.57608985900879, 21.522220611572266, 21.33104133605957, 20.73564338684082, 20.657691955566406, 25.417999267578125, 20.52579116821289, 38.55192184448242, 34.422367095947266, 34.867584228515625, 26.807552337646484, 184.4213104248047, 27.36594009399414, 25.742481231689453, 30.307186126708984, 28.164634704589844, 37.87860870361328, 28.1701717376709, 101.57206726074219, 128.76560974121094, 88.8515853881836, 39.66200637817383, 35.13468933105469, 30.814725875854492, 114.56397247314453, 134.07473754882812, 35.01853942871094, 121.53622436523438, 92.7340087890625, 118.54681396484375, 93.4074478149414, 67.47148132324219, 74.46697235107422, 75.3286361694336, 57.42815399169922, 68.08341979980469, 65.43900299072266, 54.60667419433594, 50.14042282104492, 54.660133361816406, 45.52253723144531, 42.89455795288086, 44.642215728759766, 44.50684356689453, 38.04485321044922, 38.92340087890625, 29.726930618286133, 28.85694694519043, 22.653596878051758, 21.520177841186523, 20.923908233642578, 21.380817413330078, 22.10601043701172, 20.771512985229492, 18.9631290435791, 18.935562133789062, 18.165796279907227, 17.784347534179688, 17.79397201538086, 17.593994140625, 17.81905174255371, 16.88890266418457, 16.449508666992188, 16.42026138305664, 16.18572425842285, 15.969728469848633, 19.578266143798828, 15.758098602294922, 15.709754943847656, 15.489721298217773, 15.358280181884766, 15.33250617980957, 15.196737289428711, 15.22907829284668, 15.346244812011719, 15.29724407196045, 18.085186004638672, 25.674396514892578, 19.715391159057617, 27.71539878845215, 23.908771514892578, 20.218687057495117, 20.48806381225586, 20.305938720703125, 22.087358474731445, 23.811542510986328, 19.909292221069336, 21.462617874145508, 17.818693161010742, 23.59568214416504, 25.871353149414062, 25.354984283447266, 24.56770896911621, 24.409229278564453, 18.57663917541504, 19.713788986206055, 18.325544357299805, 16.775554656982422, 12.230155944824219, 12.431195259094238, 9.265803337097168, 8.13809585571289, 8.097223281860352, 7.5738935470581055, 7.50341796875, 6.943896770477295, 6.465826511383057, 6.366359710693359, 6.258117198944092, 6.242811679840088, 6.111118316650391, 6.0433454513549805, 5.961543560028076, 5.98569393157959, 5.791794300079346, 5.812553405761719, 5.777864933013916, 5.730657577514648, 5.67891788482666, 5.612757205963135, 5.528482437133789, 5.453161716461182, 5.411042213439941, 5.355645656585693, 5.24332857131958, 5.2168869972229, 5.199690818786621, 8.802517890930176, 8.357341766357422, 6.292238235473633, 7.460152626037598, 8.789238929748535, 5.935305595397949, 10.395484924316406, 8.531326293945312, 7.31386661529541, 10.096086502075195, 7.427772521972656, 7.938503265380859, 7.654191970825195, 6.485223293304443, 7.987962245941162, 7.805947303771973, 7.527371406555176, 7.444346904754639, 6.340697765350342, 6.004314422607422, 5.875433921813965, 5.748373985290527, 5.700798511505127, 5.675007343292236, 5.523513317108154, 5.46929931640625, 5.445102691650391, 5.395237922668457, 5.388424396514893, 5.375390529632568, 5.367633819580078, 5.250073432922363, 5.219635963439941, 5.123663425445557, 5.129244804382324, 5.102090835571289, 5.084057331085205, 5.0348429679870605, 5.045383930206299, 4.954586029052734, 4.913687229156494, 4.851208209991455, 4.902036190032959, 4.738274097442627, 4.745172023773193, 10.514547348022461, 7.981119155883789, 6.568850040435791, 7.526113986968994, 6.688191890716553, 6.216418743133545, 6.487955093383789, 5.79138708114624, 5.866250514984131, 6.25643253326416, 6.564409255981445, 5.662288665771484, 5.374223709106445, 8.43407917022705, 7.94094705581665, 7.559381484985352, 7.521739959716797, 7.091791152954102, 6.717258930206299, 6.649040222167969, 6.60085391998291, 6.523306846618652, 6.112718105316162, 6.064034938812256, 6.071231365203857, 5.9256815910339355, 5.915494441986084, 5.818403720855713, 5.7162556648254395, 5.70660400390625, 5.47211217880249, 5.4050750732421875, 5.327784061431885, 5.322541236877441, 5.328646183013916, 5.269503116607666, 5.260737895965576, 5.193236827850342, 5.2030253410339355, 5.107016086578369, 5.050170421600342, 4.868073463439941, 4.684986114501953, 11.43550968170166, 6.979782581329346, 8.82421875, 8.571181297302246, 10.545787811279297, 10.836071968078613, 6.833831310272217, 6.696145534515381, 6.0317511558532715, 5.460812568664551, 5.416764736175537, 10.94409465789795, 8.078503608703613, 7.735011100769043, 7.5273871421813965, 9.068206787109375, 6.989459037780762, 6.878026008605957, 6.2525434494018555, 6.159482479095459, 6.169521808624268, 6.011144638061523, 5.846024513244629, 5.848971843719482, 5.35148811340332, 5.307146072387695, 5.340981960296631, 5.212765693664551, 5.250448226928711, 5.18265438079834, 5.029445648193359, 4.944543838500977, 4.601891994476318, 4.5218071937561035, 4.602837085723877, 4.405289173126221, 4.382434844970703, 4.4006805419921875, 4.356611251831055, 4.4047136306762695, 4.236083030700684, 8.195235252380371, 7.021226406097412, 4.548425197601318, 5.077603340148926, 10.281168937683105, 7.35224723815918, 5.161014080047607, 6.953458786010742, 4.781007289886475, 95.7271499633789, 11.771355628967285, 9.865201950073242, 9.32446002960205, 7.717121124267578, 7.1092939376831055, 6.893399238586426, 6.9583659172058105, 6.662206172943115, 6.272408485412598, 5.83336877822876, 8.50780963897705, 4.690343379974365, 4.712841510772705, 4.738980770111084, 4.579209327697754, 4.670555591583252, 4.3391032218933105, 4.314415454864502, 4.559652328491211, 4.099679946899414, 4.07696008682251, 4.016917705535889, 3.9464919567108154, 3.949284553527832, 3.8761956691741943, 3.7690563201904297, 3.710019826889038, 3.6807522773742676, 3.6629343032836914, 6.6588454246521, 5.299493789672852, 5.859076499938965, 5.6373419761657715, 4.645779132843018, 4.663144111633301, 4.258545398712158, 4.400431156158447], \"Total\": [96.0, 256.0, 526.0, 511.0, 265.0, 473.0, 91.0, 246.0, 448.0, 364.0, 340.0, 155.0, 255.0, 346.0, 311.0, 334.0, 319.0, 320.0, 156.0, 265.0, 170.0, 222.0, 224.0, 225.0, 214.0, 41.0, 30.0, 205.0, 39.0, 29.0, 47.10873794555664, 53.71354293823242, 43.609230041503906, 43.14419174194336, 40.43070602416992, 37.68423080444336, 37.226348876953125, 35.88610076904297, 44.811222076416016, 35.09913635253906, 33.29092788696289, 46.608333587646484, 32.660308837890625, 32.45683288574219, 38.37366485595703, 31.451398849487305, 31.7276554107666, 30.861974716186523, 30.38792610168457, 29.549516677856445, 29.92508888244629, 29.189964294433594, 28.825382232666016, 28.757097244262695, 28.53904914855957, 28.559814453125, 44.25825119018555, 27.5069637298584, 27.45271110534668, 27.425188064575195, 53.12799835205078, 42.14524459838867, 42.06871795654297, 47.67585754394531, 31.670778274536133, 265.400146484375, 44.0441780090332, 37.886043548583984, 45.384925842285156, 39.717220306396484, 255.9986572265625, 40.399658203125, 170.3097381591797, 42.6511116027832, 37.86021041870117, 45.11222839355469, 319.1981201171875, 38.33488464355469, 346.7202453613281, 364.052978515625, 526.669677734375, 448.7011413574219, 320.970458984375, 511.6567687988281, 334.9833984375, 224.63473510742188, 265.8292541503906, 225.41708374023438, 473.3243713378906, 157.1568145751953, 117.19156646728516, 183.810302734375, 311.9277648925781, 147.89346313476562, 154.59039306640625, 194.3140106201172, 205.3090057373047, 340.39630126953125, 214.18148803710938, 222.45753479003906, 157.58729553222656, 77.55188751220703, 246.0741729736328, 85.14181518554688, 156.44244384765625, 91.26649475097656, 41.10883712768555, 39.298831939697266, 32.051177978515625, 29.250062942504883, 27.36502456665039, 26.435985565185547, 26.831573486328125, 25.74533462524414, 25.609891891479492, 24.73683738708496, 24.54589080810547, 24.429790496826172, 24.14027976989746, 23.635400772094727, 23.353776931762695, 23.246564865112305, 23.07851219177246, 23.081235885620117, 22.567049026489258, 22.17032241821289, 22.18700408935547, 22.10321044921875, 22.031333923339844, 21.976747512817383, 21.786766052246094, 21.1904239654541, 21.1126766204834, 25.97872543334961, 20.980886459350586, 39.64836502075195, 36.06578063964844, 36.67140579223633, 27.96671485900879, 256.2149658203125, 28.946687698364258, 27.131011962890625, 33.01131057739258, 30.3192195892334, 43.44959259033203, 30.409717559814453, 155.0874786376953, 246.0741729736328, 156.44244384765625, 50.56673812866211, 43.96720504760742, 36.00189208984375, 340.39630126953125, 473.3243713378906, 47.211734771728516, 511.6567687988281, 311.9277648925781, 526.669677734375, 448.7011413574219, 222.45753479003906, 334.9833984375, 364.052978515625, 214.18148803710938, 346.7202453613281, 320.970458984375, 265.8292541503906, 205.3090057373047, 319.1981201171875, 194.3140106201172, 157.58729553222656, 225.41708374023438, 224.63473510742188, 82.4561538696289, 183.810302734375, 30.193763732910156, 29.325069427490234, 23.119869232177734, 21.990293502807617, 21.391502380371094, 21.874847412109375, 22.638168334960938, 21.276124954223633, 19.428611755371094, 19.4042911529541, 18.63447380065918, 18.250629425048828, 18.26057243347168, 18.06084442138672, 18.291919708251953, 17.35670280456543, 16.91592788696289, 16.88597869873047, 16.652347564697266, 16.43648338317871, 20.152877807617188, 16.22386360168457, 16.176572799682617, 15.955523490905762, 15.82515811920166, 15.799932479858398, 15.662027359008789, 15.696389198303223, 15.817268371582031, 15.767035484313965, 18.6538028717041, 26.592426300048828, 20.420318603515625, 29.89487075805664, 25.53208351135254, 21.597652435302734, 22.109363555908203, 22.10531997680664, 26.430150985717773, 29.60467529296875, 22.9422664642334, 26.00942611694336, 19.831735610961914, 34.97224807739258, 511.6567687988281, 448.7011413574219, 473.3243713378906, 526.669677734375, 49.70362854003906, 255.9986572265625, 41.40045928955078, 17.268333435058594, 12.722982406616211, 12.942093849182129, 9.757464408874512, 8.633578300476074, 8.593558311462402, 8.067296981811523, 7.9962544441223145, 7.439647197723389, 6.959096431732178, 6.862119674682617, 6.753305912017822, 6.737812519073486, 6.607138156890869, 6.5393290519714355, 6.4539899826049805, 6.485959529876709, 6.283886432647705, 6.307338714599609, 6.2715229988098145, 6.223042964935303, 6.176649570465088, 6.1073832511901855, 6.0234198570251465, 5.949033737182617, 5.906214714050293, 5.848569869995117, 5.738215446472168, 5.71087646484375, 5.693935871124268, 9.803248405456543, 9.315073013305664, 6.941537380218506, 8.4979887008667, 10.425429344177246, 6.584042549133301, 14.076446533203125, 11.136743545532227, 9.04223346710205, 15.309915542602539, 9.522659301757812, 11.139409065246582, 10.781631469726562, 9.642329216003418, 8.485101699829102, 8.303438186645508, 8.024651527404785, 7.939762592315674, 6.8376078605651855, 6.500776767730713, 6.370517730712891, 6.246162414550781, 6.195866584777832, 6.172762393951416, 6.021202087402344, 5.96527099609375, 5.943249225616455, 5.890481472015381, 5.883518218994141, 5.870759963989258, 5.8664679527282715, 5.746960163116455, 5.716714859008789, 5.619937419891357, 5.6278300285339355, 5.598041534423828, 5.581374168395996, 5.529723644256592, 5.543722629547119, 5.452380180358887, 5.409337043762207, 5.349308490753174, 5.406121730804443, 5.2334794998168945, 5.24151611328125, 12.436650276184082, 9.904253959655762, 8.0945463180542, 9.822880744934082, 8.490779876708984, 8.203320503234863, 9.58297061920166, 7.793496608734131, 8.072660446166992, 9.82311725616455, 11.895526885986328, 7.694458484649658, 7.2174201011657715, 8.929924011230469, 8.437690734863281, 8.055116653442383, 8.018527030944824, 7.590630054473877, 7.21358060836792, 7.150148868560791, 7.103209495544434, 7.021602153778076, 6.609755039215088, 6.560400009155273, 6.568926811218262, 6.422137260437012, 6.41145133972168, 6.313150405883789, 6.211863040924072, 6.202043056488037, 5.9732818603515625, 5.900795936584473, 5.823624610900879, 5.81880521774292, 5.828201770782471, 5.764021396636963, 5.761186599731445, 5.688005447387695, 5.703649044036865, 5.604080677032471, 5.548710346221924, 5.3617777824401855, 5.180612564086914, 12.77808952331543, 7.861037254333496, 10.555561065673828, 10.217437744140625, 13.513752937316895, 21.80790138244629, 9.422831535339355, 10.277398109436035, 9.483113288879395, 7.167533874511719, 8.053086280822754, 11.500571250915527, 8.576250076293945, 8.231715202331543, 8.02660846710205, 9.693465232849121, 7.487207412719727, 7.374727249145508, 6.751372337341309, 6.657519340515137, 6.670813083648682, 6.511351585388184, 6.342478275299072, 6.351120471954346, 5.852169990539551, 5.807206630706787, 5.844477653503418, 5.710533142089844, 5.752291202545166, 5.681360244750977, 5.5316877365112305, 5.446231842041016, 5.101190567016602, 5.0206146240234375, 5.116929531097412, 4.903207778930664, 4.880208969116211, 4.901050567626953, 4.853784561157227, 4.924148082733154, 4.7368316650390625, 9.673831939697266, 8.308215141296387, 5.119157314300537, 5.880609512329102, 15.549762725830078, 10.647802352905273, 6.5865092277526855, 12.130794525146484, 5.659801006317139, 96.22380828857422, 12.27142333984375, 10.363579750061035, 9.826595306396484, 8.215693473815918, 7.610252857208252, 7.393063068389893, 7.463677406311035, 7.160309314727783, 6.771548271179199, 6.335021018981934, 9.313936233520508, 5.190138816833496, 5.215804576873779, 5.249419212341309, 5.081020832061768, 5.195090293884277, 4.836459159851074, 4.815131664276123, 5.098331928253174, 4.598149299621582, 4.576450824737549, 4.516554355621338, 4.448741912841797, 4.452174186706543, 4.381880283355713, 4.269410610198975, 4.215620994567871, 4.184440612792969, 4.164326190948486, 8.299163818359375, 6.5568647384643555, 8.441802978515625, 9.250316619873047, 7.050148010253906, 9.196171760559082, 6.757521629333496, 8.149740219116211], \"Category\": [\"Default\", \"Default\", \"Default\", \"Default\", \"Default\", \"Default\", \"Default\", \"Default\", \"Default\", \"Default\", \"Default\", \"Default\", \"Default\", \"Default\", \"Default\", \"Default\", \"Default\", \"Default\", \"Default\", \"Default\", \"Default\", \"Default\", \"Default\", \"Default\", \"Default\", \"Default\", \"Default\", \"Default\", \"Default\", \"Default\", \"Topic1\", \"Topic1\", \"Topic1\", \"Topic1\", \"Topic1\", \"Topic1\", \"Topic1\", \"Topic1\", \"Topic1\", \"Topic1\", \"Topic1\", \"Topic1\", \"Topic1\", \"Topic1\", \"Topic1\", \"Topic1\", \"Topic1\", \"Topic1\", \"Topic1\", \"Topic1\", \"Topic1\", \"Topic1\", \"Topic1\", \"Topic1\", \"Topic1\", \"Topic1\", \"Topic1\", \"Topic1\", \"Topic1\", \"Topic1\", \"Topic1\", \"Topic1\", \"Topic1\", \"Topic1\", \"Topic1\", \"Topic1\", \"Topic1\", \"Topic1\", \"Topic1\", \"Topic1\", \"Topic1\", \"Topic1\", \"Topic1\", \"Topic1\", \"Topic1\", \"Topic1\", \"Topic1\", \"Topic1\", \"Topic1\", \"Topic1\", \"Topic1\", \"Topic1\", \"Topic1\", \"Topic1\", \"Topic1\", \"Topic1\", \"Topic1\", \"Topic1\", \"Topic1\", \"Topic1\", \"Topic1\", \"Topic1\", \"Topic1\", \"Topic1\", \"Topic1\", \"Topic1\", \"Topic1\", \"Topic1\", \"Topic1\", \"Topic1\", \"Topic1\", \"Topic1\", \"Topic1\", \"Topic1\", \"Topic1\", \"Topic2\", \"Topic2\", \"Topic2\", \"Topic2\", \"Topic2\", \"Topic2\", \"Topic2\", \"Topic2\", \"Topic2\", \"Topic2\", \"Topic2\", \"Topic2\", \"Topic2\", \"Topic2\", \"Topic2\", \"Topic2\", \"Topic2\", \"Topic2\", \"Topic2\", \"Topic2\", \"Topic2\", \"Topic2\", \"Topic2\", \"Topic2\", \"Topic2\", \"Topic2\", \"Topic2\", \"Topic2\", \"Topic2\", \"Topic2\", \"Topic2\", \"Topic2\", \"Topic2\", \"Topic2\", \"Topic2\", \"Topic2\", \"Topic2\", \"Topic2\", \"Topic2\", \"Topic2\", \"Topic2\", \"Topic2\", \"Topic2\", \"Topic2\", \"Topic2\", \"Topic2\", \"Topic2\", \"Topic2\", \"Topic2\", \"Topic2\", \"Topic2\", \"Topic2\", \"Topic2\", \"Topic2\", \"Topic2\", \"Topic2\", \"Topic2\", \"Topic2\", \"Topic2\", \"Topic2\", \"Topic2\", \"Topic2\", \"Topic2\", \"Topic2\", \"Topic2\", \"Topic2\", \"Topic2\", \"Topic2\", \"Topic2\", \"Topic3\", \"Topic3\", \"Topic3\", \"Topic3\", \"Topic3\", \"Topic3\", \"Topic3\", \"Topic3\", \"Topic3\", \"Topic3\", \"Topic3\", \"Topic3\", \"Topic3\", \"Topic3\", \"Topic3\", \"Topic3\", \"Topic3\", \"Topic3\", \"Topic3\", \"Topic3\", \"Topic3\", \"Topic3\", \"Topic3\", \"Topic3\", \"Topic3\", \"Topic3\", \"Topic3\", \"Topic3\", \"Topic3\", \"Topic3\", \"Topic3\", \"Topic3\", \"Topic3\", \"Topic3\", \"Topic3\", \"Topic3\", \"Topic3\", \"Topic3\", \"Topic3\", \"Topic3\", \"Topic3\", \"Topic3\", \"Topic3\", \"Topic3\", \"Topic3\", \"Topic3\", \"Topic3\", \"Topic3\", \"Topic3\", \"Topic3\", \"Topic3\", \"Topic4\", \"Topic4\", \"Topic4\", \"Topic4\", \"Topic4\", \"Topic4\", \"Topic4\", \"Topic4\", \"Topic4\", \"Topic4\", \"Topic4\", \"Topic4\", \"Topic4\", \"Topic4\", \"Topic4\", \"Topic4\", \"Topic4\", \"Topic4\", \"Topic4\", \"Topic4\", \"Topic4\", \"Topic4\", \"Topic4\", \"Topic4\", \"Topic4\", \"Topic4\", \"Topic4\", \"Topic4\", \"Topic4\", \"Topic4\", \"Topic4\", \"Topic4\", \"Topic4\", \"Topic4\", \"Topic4\", \"Topic4\", \"Topic4\", \"Topic4\", \"Topic4\", \"Topic4\", \"Topic4\", \"Topic4\", \"Topic4\", \"Topic4\", \"Topic5\", \"Topic5\", \"Topic5\", \"Topic5\", \"Topic5\", \"Topic5\", \"Topic5\", \"Topic5\", \"Topic5\", \"Topic5\", \"Topic5\", \"Topic5\", \"Topic5\", \"Topic5\", \"Topic5\", \"Topic5\", \"Topic5\", \"Topic5\", \"Topic5\", \"Topic5\", \"Topic5\", \"Topic5\", \"Topic5\", \"Topic5\", \"Topic5\", \"Topic5\", \"Topic5\", \"Topic5\", \"Topic5\", \"Topic5\", \"Topic5\", \"Topic5\", \"Topic5\", \"Topic5\", \"Topic5\", \"Topic5\", \"Topic5\", \"Topic5\", \"Topic5\", \"Topic5\", \"Topic5\", \"Topic5\", \"Topic5\", \"Topic5\", \"Topic6\", \"Topic6\", \"Topic6\", \"Topic6\", \"Topic6\", \"Topic6\", \"Topic6\", \"Topic6\", \"Topic6\", \"Topic6\", \"Topic6\", \"Topic6\", \"Topic6\", \"Topic6\", \"Topic6\", \"Topic6\", \"Topic6\", \"Topic6\", \"Topic6\", \"Topic6\", \"Topic6\", \"Topic6\", \"Topic6\", \"Topic6\", \"Topic6\", \"Topic6\", \"Topic6\", \"Topic6\", \"Topic6\", \"Topic6\", \"Topic6\", \"Topic6\", \"Topic6\", \"Topic6\", \"Topic6\", \"Topic6\", \"Topic6\", \"Topic6\", \"Topic6\", \"Topic6\", \"Topic6\", \"Topic7\", \"Topic7\", \"Topic7\", \"Topic7\", \"Topic7\", \"Topic7\", \"Topic7\", \"Topic7\", \"Topic7\", \"Topic7\", \"Topic7\", \"Topic7\", \"Topic7\", \"Topic7\", \"Topic7\", \"Topic7\", \"Topic7\", \"Topic7\", \"Topic7\", \"Topic7\", \"Topic7\", \"Topic7\", \"Topic7\", \"Topic7\", \"Topic7\", \"Topic7\", \"Topic7\", \"Topic7\", \"Topic7\", \"Topic7\", \"Topic7\", \"Topic7\", \"Topic7\", \"Topic7\", \"Topic7\", \"Topic7\", \"Topic7\", \"Topic7\", \"Topic7\", \"Topic8\", \"Topic8\", \"Topic8\", \"Topic8\", \"Topic8\", \"Topic8\", \"Topic8\", \"Topic8\", \"Topic8\", \"Topic8\", \"Topic8\", \"Topic8\", \"Topic8\", \"Topic8\", \"Topic8\", \"Topic8\", \"Topic8\", \"Topic8\", \"Topic8\", \"Topic8\", \"Topic8\", \"Topic8\", \"Topic8\", \"Topic8\", \"Topic8\", \"Topic8\", \"Topic8\", \"Topic8\", \"Topic8\", \"Topic8\", \"Topic8\", \"Topic8\", \"Topic8\", \"Topic8\", \"Topic8\", \"Topic8\", \"Topic8\", \"Topic8\"], \"logprob\": [30.0, 29.0, 28.0, 27.0, 26.0, 25.0, 24.0, 23.0, 22.0, 21.0, 20.0, 19.0, 18.0, 17.0, 16.0, 15.0, 14.0, 13.0, 12.0, 11.0, 10.0, 9.0, 8.0, 7.0, 6.0, 5.0, 4.0, 3.0, 2.0, 1.0, -7.2067999839782715, -7.0756001472473145, -7.2846999168396, -7.296000003814697, -7.361199855804443, -7.432499885559082, -7.444799900054932, -7.481900215148926, -7.260000228881836, -7.504300117492676, -7.5578999519348145, -7.22160005569458, -7.577300071716309, -7.583600044250488, -7.416399955749512, -7.615499973297119, -7.606900215148926, -7.634699821472168, -7.650400161743164, -7.678899765014648, -7.666200160980225, -7.691199779510498, -7.703999996185303, -7.706399917602539, -7.714099884033203, -7.713500022888184, -7.275700092315674, -7.751500129699707, -7.753499984741211, -7.7546000480651855, -7.094699859619141, -7.3256001472473145, -7.327899932861328, -7.205699920654297, -7.610799789428711, -5.525300025939941, -7.285999774932861, -7.433800220489502, -7.257599830627441, -7.3907999992370605, -5.6315999031066895, -7.380099773406982, -6.04040002822876, -7.3308000564575195, -7.443999767303467, -7.283199787139893, -5.52209997177124, -7.432600021362305, -5.463799953460693, -5.42609977722168, -5.100599765777588, -5.251699924468994, -5.5553998947143555, -5.152699947357178, -5.5345001220703125, -5.912600040435791, -5.772500038146973, -5.91949987411499, -5.299099922180176, -6.227099895477295, -6.486499786376953, -6.122700214385986, -5.702899932861328, -6.328199863433838, -6.298399925231934, -6.122499942779541, -6.0817999839782715, -5.706099987030029, -6.085700035095215, -6.09689998626709, -6.3649001121521, -6.9039998054504395, -6.381800174713135, -6.908599853515625, -6.886899948120117, -5.9375, -6.741099834442139, -6.7866997718811035, -6.993199825286865, -7.086100101470947, -7.153800010681152, -7.188899993896484, -7.174200057983398, -7.21589994430542, -7.221199989318848, -7.2565999031066895, -7.264400005340576, -7.2692999839782715, -7.281400203704834, -7.302999973297119, -7.315100193023682, -7.319900035858154, -7.327199935913086, -7.327300071716309, -7.350200176239014, -7.368199825286865, -7.367499828338623, -7.371300220489502, -7.37470006942749, -7.377200126647949, -7.386099815368652, -7.414400100708008, -7.4182000160217285, -7.2108001708984375, -7.424600124359131, -6.7941999435424805, -6.90749979019165, -6.894700050354004, -7.157599925994873, -5.229000091552734, -7.13700008392334, -7.1981000900268555, -7.034900188446045, -7.1082000732421875, -6.8119001388549805, -7.107999801635742, -5.825500011444092, -5.5883002281188965, -5.9593000411987305, -6.765900135040283, -6.8871002197265625, -7.0183000564575195, -5.705100059509277, -5.547900199890137, -6.890399932861328, -5.645999908447266, -5.916500091552734, -5.670899868011475, -5.909299850463867, -6.234499931335449, -6.135900020599365, -6.1244001388549805, -6.395699977874756, -6.225500106811523, -6.265100002288818, -6.446100234985352, -6.531400203704834, -6.445099830627441, -6.627999782562256, -6.6875, -6.647600173950195, -6.650599956512451, -6.807499885559082, -6.7846999168396, -6.609099864959717, -6.638800144195557, -6.880799770355225, -6.93209981918335, -6.96019983291626, -6.938600063323975, -6.905300140380859, -6.96750020980835, -7.058599948883057, -7.060100078582764, -7.101600170135498, -7.122799873352051, -7.122300148010254, -7.133600234985352, -7.1209001541137695, -7.174499988555908, -7.200799942016602, -7.202600002288818, -7.2170000076293945, -7.230400085449219, -7.026700019836426, -7.243800163269043, -7.246799945831299, -7.260900020599365, -7.269499778747559, -7.271200180053711, -7.28000020980835, -7.277900218963623, -7.270299911499023, -7.273499965667725, -7.105999946594238, -6.7555999755859375, -7.019700050354004, -6.679100036621094, -6.826900005340576, -6.994500160217285, -6.981299877166748, -6.990200042724609, -6.906099796295166, -6.830999851226807, -7.009900093078613, -6.934800148010254, -7.1209001541137695, -6.840099811553955, -6.748000144958496, -6.768199920654297, -6.799699783325195, -6.80620002746582, -7.07919979095459, -7.019800186157227, -7.092800140380859, -6.237199783325195, -6.553199768066406, -6.536900043487549, -6.8308000564575195, -6.9604997634887695, -6.96560001373291, -7.032400131225586, -7.0416998863220215, -7.119200229644775, -7.1905999183654785, -7.206099987030029, -7.223199844360352, -7.2256999015808105, -7.247000217437744, -7.2581000328063965, -7.2718000411987305, -7.2677001953125, -7.300600051879883, -7.297100067138672, -7.303100109100342, -7.311299800872803, -7.320300102233887, -7.331999778747559, -7.3471999168396, -7.360899925231934, -7.368599891662598, -7.378900051116943, -7.400100231170654, -7.405200004577637, -7.4085001945495605, -6.8821001052856445, -6.933899879455566, -7.217800140380859, -7.047500133514404, -6.883600234985352, -7.276199817657471, -6.715700149536133, -6.913300037384033, -7.067299842834473, -6.744900226593018, -7.0518999099731445, -6.985400199890137, -7.0218000411987305, -7.187600135803223, -6.907800197601318, -6.9309000968933105, -6.967199802398682, -6.978300094604492, -7.138800144195557, -7.193299770355225, -7.215000152587891, -7.236800193786621, -7.245100021362305, -7.24970006942749, -7.276700019836426, -7.286600112915039, -7.290999889373779, -7.30019998550415, -7.301499843597412, -7.303899765014648, -7.3053998947143555, -7.327499866485596, -7.3333001136779785, -7.351900100708008, -7.350800037384033, -7.356100082397461, -7.359600067138672, -7.3694000244140625, -7.367300033569336, -7.38539981842041, -7.393700122833252, -7.406499862670898, -7.396100044250488, -7.430099964141846, -7.428599834442139, -6.632999897003174, -6.908699989318848, -7.103400230407715, -6.967400074005127, -7.085400104522705, -7.158599853515625, -7.115799903869629, -7.229400157928467, -7.2164998054504395, -7.152100086212158, -7.104100227355957, -7.2519001960754395, -7.304100036621094, -6.851200103759766, -6.911399841308594, -6.960599899291992, -6.96560001373291, -7.024499893188477, -7.078800201416016, -7.089000225067139, -7.096199989318848, -7.108099937438965, -7.173099994659424, -7.181099891662598, -7.179900169372559, -7.204100131988525, -7.205900192260742, -7.222400188446045, -7.240099906921387, -7.241799831390381, -7.28380012512207, -7.29610013961792, -7.310500144958496, -7.311500072479248, -7.310299873352051, -7.321499824523926, -7.323200225830078, -7.336100101470947, -7.334199905395508, -7.352799892425537, -7.363999843597412, -7.400700092315674, -7.4390997886657715, -6.5467000007629395, -7.04040002822876, -6.8059000968933105, -6.835000038146973, -6.627699851989746, -6.600599765777588, -7.061600208282471, -7.081900119781494, -7.186399936676025, -7.285799980163574, -7.293900012969971, -6.536499977111816, -6.840099811553955, -6.883600234985352, -6.910799980163574, -6.724599838256836, -6.984899997711182, -7.000999927520752, -7.09630012512207, -7.111299991607666, -7.1097002029418945, -7.135700225830078, -7.163599967956543, -7.163099765777588, -7.251999855041504, -7.260300159454346, -7.253900051116943, -7.278200149536133, -7.270999908447266, -7.283999919891357, -7.314000129699707, -7.330999851226807, -7.402900218963623, -7.420400142669678, -7.402699947357178, -7.446499824523926, -7.451700210571289, -7.4475998878479, -7.457600116729736, -7.446599960327148, -7.4857001304626465, -6.825799942016602, -6.980400085449219, -7.4145002365112305, -7.304500102996826, -6.598999977111816, -6.934299945831299, -7.2881999015808105, -6.990099906921387, -7.364699840545654, -4.332799911499023, -6.428599834442139, -6.605299949645996, -6.6616997718811035, -6.850900173187256, -6.9328999519348145, -6.963699817657471, -6.954400062561035, -6.997799873352051, -7.05810022354126, -7.13070011138916, -6.753300189971924, -7.348800182342529, -7.343999862670898, -7.338500022888184, -7.372799873352051, -7.353000164031982, -7.426599979400635, -7.432300090789795, -7.377099990844727, -7.483399868011475, -7.488900184631348, -7.503799915313721, -7.521500110626221, -7.5208001136779785, -7.539400100708008, -7.567500114440918, -7.5833001136779785, -7.59119987487793, -7.5960001945495605, -6.9984002113342285, -7.2266998291015625, -7.126299858093262, -7.164899826049805, -7.35830020904541, -7.354599952697754, -7.445400238037109, -7.412600040435791], \"loglift\": [30.0, 29.0, 28.0, 27.0, 26.0, 25.0, 24.0, 23.0, 22.0, 21.0, 20.0, 19.0, 18.0, 17.0, 16.0, 15.0, 14.0, 13.0, 12.0, 11.0, 10.0, 9.0, 8.0, 7.0, 6.0, 5.0, 4.0, 3.0, 2.0, 1.0, 0.9160000085830688, 0.9158999919891357, 0.9153000116348267, 0.9146999716758728, 0.9144999980926514, 0.9135000109672546, 0.9133999943733215, 0.9129999876022339, 0.9128000140190125, 0.9126999974250793, 0.9121000170707703, 0.911899983882904, 0.9118000268936157, 0.9117000102996826, 0.9114999771118164, 0.911300003528595, 0.9111999869346619, 0.9110000133514404, 0.9107999801635742, 0.9103000164031982, 0.9103000164031982, 0.9101999998092651, 0.9100000262260437, 0.9100000262260437, 0.9097999930381775, 0.9096999764442444, 0.909500002861023, 0.9093000292778015, 0.9092000126838684, 0.9092000126838684, 0.907800018787384, 0.9085999727249146, 0.9081000089645386, 0.9050999879837036, 0.9089999794960022, 0.8687000274658203, 0.9041000008583069, 0.9068999886512756, 0.902400016784668, 0.9025999903678894, 0.7985000014305115, 0.8963000178337097, 0.7972000241279602, 0.8913999795913696, 0.8974000215530396, 0.8828999996185303, 0.6873999834060669, 0.8963000178337097, 0.6629999876022339, 0.6517999768257141, 0.6080999970436096, 0.6172000169754028, 0.6485000252723694, 0.5849000215530396, 0.6266999840736389, 0.6481000185012817, 0.6197999715805054, 0.6377000212669373, 0.5163999795913696, 0.6909000277519226, 0.7250000238418579, 0.6385999917984009, 0.5296000242233276, 0.650600016117096, 0.6359999775886536, 0.5831999778747559, 0.5688999891281128, 0.4390999972820282, 0.5227000117301941, 0.47360000014305115, 0.5503000020980835, 0.720300018787384, 0.08780000358819962, 0.6223000288009644, 0.035599999129772186, 1.5240000486373901, 1.517899990081787, 1.517300009727478, 1.5147000551223755, 1.513200044631958, 1.5121999979019165, 1.5116000175476074, 1.5113999843597412, 1.5111000537872314, 1.5111000537872314, 1.5104000568389893, 1.510200023651123, 1.51010000705719, 1.5098999738693237, 1.5095000267028809, 1.5092999935150146, 1.5091999769210815, 1.5090999603271484, 1.5089000463485718, 1.5084999799728394, 1.5082999467849731, 1.5082000494003296, 1.5082000494003296, 1.5081000328063965, 1.5081000328063965, 1.5077999830245972, 1.5073000192642212, 1.507200002670288, 1.507200002670288, 1.507099986076355, 1.5009000301361084, 1.482300043106079, 1.4785000085830688, 1.4867000579833984, 1.2001999616622925, 1.4728000164031982, 1.4765000343322754, 1.44350004196167, 1.455299973487854, 1.391800045967102, 1.4524999856948853, 1.1058000326156616, 0.8812999725341797, 0.9632999897003174, 1.2861000299453735, 1.3047000169754028, 1.3733999729156494, 0.4399999976158142, 0.26759999990463257, 1.2302000522613525, 0.09149999916553497, 0.3160000145435333, 0.037700001150369644, -0.04039999842643738, 0.335999995470047, 0.025299999862909317, -0.04650000110268593, 0.2126999944448471, -0.09880000352859497, -0.06120000034570694, -0.053700000047683716, 0.1193000003695488, -0.23569999635219574, 0.07769999653100967, 0.22779999673366547, -0.09030000120401382, -0.08980000019073486, 0.7555000185966492, -0.02329999953508377, 1.9585000276565552, 1.9579999446868896, 1.9536999464035034, 1.9524999856948853, 1.9520000219345093, 1.951300024986267, 1.9502999782562256, 1.9500999450683594, 1.9499000310897827, 1.9496999979019165, 1.9486000537872314, 1.948199987411499, 1.948199987411499, 1.9479000568389893, 1.9479000568389893, 1.9467999935150146, 1.9462000131607056, 1.9460999965667725, 1.9457000494003296, 1.9452999830245972, 1.945199966430664, 1.9450000524520874, 1.9448000192642212, 1.9444999694824219, 1.944200038909912, 1.944100022315979, 1.944000005722046, 1.9438999891281128, 1.9438999891281128, 1.9438999891281128, 1.9431999921798706, 1.9390000104904175, 1.9390000104904175, 1.8983999490737915, 1.908400058746338, 1.9081000089645386, 1.8980000019073486, 1.88919997215271, 1.794600009918213, 1.7562999725341797, 1.8322999477386475, 1.781999945640564, 1.8671000003814697, 1.5806000232696533, -1.0104000568389893, -0.8992999792098999, -0.9842000007629395, -1.097499966621399, 0.9898999929428101, -0.5896999835968018, 1.15910005569458, 2.88919997215271, 2.8785998821258545, 2.8778998851776123, 2.8664000034332275, 2.8589999675750732, 2.8587000370025635, 2.8550000190734863, 2.8545000553131104, 2.8492000102996826, 2.844599962234497, 2.8431999683380127, 2.8420000076293945, 2.8417999744415283, 2.840100049972534, 2.8392999172210693, 2.8387999534606934, 2.837899923324585, 2.8366000652313232, 2.8364999294281006, 2.836199998855591, 2.835700035095215, 2.8341000080108643, 2.833699941635132, 2.83240008354187, 2.8310999870300293, 2.8306000232696533, 2.8301000595092773, 2.828000068664551, 2.827699899673462, 2.8273000717163086, 2.810499906539917, 2.8097000122070312, 2.8199000358581543, 2.787899971008301, 2.7474000453948975, 2.8143999576568604, 2.615000009536743, 2.651599884033203, 2.7060000896453857, 2.501800060272217, 2.6696999073028564, 2.579400062561035, 2.5755999088287354, 2.5215001106262207, 2.9291000366210938, 2.9277000427246094, 2.92549991607666, 2.925100088119507, 2.9140000343322754, 2.9100000858306885, 2.908600091934204, 2.906399965286255, 2.9061999320983887, 2.905400037765503, 2.9031999111175537, 2.9026999473571777, 2.901900053024292, 2.901700019836426, 2.901599884033203, 2.9012999534606934, 2.900599956512451, 2.8991000652313232, 2.8984999656677246, 2.8970000743865967, 2.896699905395508, 2.896699905395508, 2.896199941635132, 2.895699977874756, 2.8952999114990234, 2.893699884414673, 2.893399953842163, 2.891700029373169, 2.8915998935699463, 2.8901000022888184, 2.890000104904175, 2.8215999603271484, 2.7736001014709473, 2.780600070953369, 2.723099946975708, 2.7507998943328857, 2.712100028991699, 2.599400043487549, 2.6926000118255615, 2.6702001094818115, 2.5383999347686768, 2.3949999809265137, 2.682800054550171, 2.6946001052856445, 2.9347000122070312, 2.9310998916625977, 2.928299903869629, 2.927799940109253, 2.923799991607666, 2.9205000400543213, 2.919100046157837, 2.9184999465942383, 2.9182000160217285, 2.913599967956543, 2.913100004196167, 2.9130001068115234, 2.91129994392395, 2.91129994392395, 2.9102001190185547, 2.9086999893188477, 2.9084999561309814, 2.9042000770568848, 2.904099941253662, 2.9028000831604004, 2.9026999473571777, 2.9021999835968018, 2.902100086212158, 2.900899887084961, 2.9007999897003174, 2.899899959564209, 2.898900032043457, 2.897700071334839, 2.89520001411438, 2.891200065612793, 2.8808000087738037, 2.8729000091552734, 2.8125998973846436, 2.8160998821258545, 2.743799924850464, 2.2923998832702637, 2.6705000400543213, 2.5634000301361084, 2.539299964904785, 2.7197999954223633, 2.5952000617980957, 2.996299982070923, 2.9860999584198, 2.9837000370025635, 2.9816999435424805, 2.9791998863220215, 2.977099895477295, 2.9762001037597656, 2.9691998958587646, 2.9681999683380127, 2.9677999019622803, 2.9660000801086426, 2.964400053024292, 2.9635000228881836, 2.9565000534057617, 2.955899953842163, 2.9558000564575195, 2.954699993133545, 2.9546000957489014, 2.9539999961853027, 2.950700044631958, 2.9493000507354736, 2.9428999423980713, 2.9412999153137207, 2.940000057220459, 2.938800096511841, 2.9382998943328857, 2.938199996948242, 2.9377999305725098, 2.9344000816345215, 2.9342000484466553, 2.880000114440918, 2.8775999546051025, 2.9277000427246094, 2.8991000652313232, 2.632200002670288, 2.675600051879883, 2.802000045776367, 2.4893999099731445, 2.87719988822937, 3.0757999420166016, 3.039299964904785, 3.0316998958587646, 3.0285000801086426, 3.0183000564575195, 3.0127999782562256, 3.010999917984009, 3.0107998847961426, 3.0088000297546387, 3.0044000148773193, 2.9983999729156494, 2.9904000759124756, 2.9797000885009766, 2.9795000553131104, 2.978600025177002, 2.9769999980926514, 2.9744999408721924, 2.972399950027466, 2.971100091934204, 2.9693000316619873, 2.966200113296509, 2.965399980545044, 2.96370005607605, 2.9611001014709473, 2.9611001014709473, 2.9583001136779785, 2.9563000202178955, 2.953200101852417, 2.952699899673462, 2.9526000022888184, 2.8606998920440674, 2.868000030517578, 2.7156999111175537, 2.585700035095215, 2.663800001144409, 2.4017999172210693, 2.6191999912261963, 2.4646999835968018]}, \"token.table\": {\"Topic\": [8, 2, 5, 2, 5, 4, 1, 1, 3, 1, 3, 3, 5, 8, 6, 4, 1, 7, 4, 1, 2, 3, 7, 7, 1, 1, 5, 7, 4, 4, 1, 2, 3, 1, 3, 4, 7, 4, 1, 2, 3, 1, 2, 3, 5, 5, 6, 4, 5, 2, 3, 5, 2, 3, 2, 1, 4, 4, 3, 6, 1, 2, 3, 6, 4, 5, 7, 8, 1, 2, 3, 6, 5, 8, 4, 2, 3, 7, 1, 3, 7, 6, 8, 2, 4, 2, 1, 2, 3, 7, 2, 3, 4, 5, 8, 1, 2, 3, 5, 1, 3, 4, 5, 5, 5, 5, 8, 6, 1, 3, 5, 3, 1, 2, 3, 7, 6, 7, 7, 3, 8, 4, 6, 7, 8, 3, 3, 4, 6, 8, 4, 1, 1, 8, 6, 7, 5, 6, 6, 4, 7, 8, 8, 4, 6, 1, 2, 3, 7, 1, 2, 3, 1, 4, 5, 1, 1, 1, 2, 3, 1, 3, 1, 8, 1, 2, 3, 6, 8, 1, 1, 1, 2, 3, 2, 1, 2, 3, 2, 3, 2, 4, 6, 6, 5, 1, 2, 3, 1, 5, 6, 5, 8, 3, 3, 4, 5, 6, 8, 1, 4, 1, 2, 3, 1, 6, 1, 2, 3, 8, 8, 4, 1, 4, 6, 1, 3, 7, 7, 5, 6, 2, 3, 4, 6, 4, 3, 5, 5, 8, 8, 3, 6, 1, 6, 3, 4, 1, 2, 3, 2, 6, 4, 7, 3, 3, 8, 3, 6, 8, 2, 7, 8, 3, 4, 5, 4, 5, 7, 8, 6, 8, 4, 5, 8, 4, 2, 6, 7, 4, 7, 1, 2, 3, 2, 4, 3, 4, 6, 8, 4, 4, 5, 6, 8, 6, 1, 2, 3, 1, 2, 3, 4, 5, 6, 7, 8, 1, 2, 3, 2, 4, 8, 3, 7, 1, 3, 8, 7, 4, 4, 5, 2, 3, 6, 7, 3, 1, 1, 2, 4, 4, 4, 5, 7, 1, 3, 8, 2, 7, 4, 5, 7, 5, 4, 4, 7, 2, 1, 3, 2, 8, 3, 6, 4, 5, 7, 5, 4, 8, 3, 4, 2, 3, 2, 6, 7, 4, 6, 3, 1, 3, 1, 2, 3, 1, 2, 6, 7, 1, 1, 1, 2, 5, 3, 7, 4, 5, 7, 1, 2, 3, 6, 7, 8, 1, 2, 3, 1, 2, 3, 2, 4, 7, 8, 2, 4, 5, 6, 8, 2, 4, 5, 7, 3, 4, 5, 6, 7, 6, 2, 4, 6, 5, 6, 3, 5, 7, 7, 6, 5, 3, 2, 1, 3, 4, 5, 6, 8, 7, 8, 5, 8, 1, 2, 3, 2, 3, 1, 2, 3, 5, 3, 3, 5, 6, 7, 7, 7, 3, 5, 6, 8, 4, 6, 7, 8, 1, 2, 3, 1, 1, 1, 5, 8, 6, 6, 1, 2, 3, 7, 1, 2, 1, 4, 8, 5, 8, 2, 3, 1, 8, 3, 5, 6, 2, 6, 8, 7, 2, 5, 4, 7, 5, 4, 3, 2, 5, 4, 6, 7, 4, 6, 2, 1, 7, 1, 2, 3, 4, 1, 2, 3, 1, 2, 3, 1, 2, 8, 2, 6, 8, 2, 4, 5, 5, 7, 3, 4, 6, 6, 1, 2, 3, 5, 1, 1, 2, 3, 4, 5, 4, 4, 3, 8, 5, 1, 2, 2, 2, 4, 5, 7, 5, 6, 7, 4, 5, 5, 4, 8, 6, 2], \"Freq\": [0.9976741075515747, 0.991450846195221, 0.8884419202804565, 0.9623258709907532, 0.8523015975952148, 0.9641585350036621, 0.9762924909591675, 0.953178346157074, 0.04433387890458107, 0.9976917505264282, 0.979448676109314, 0.9045941233634949, 0.0452297069132328, 0.0452297069132328, 0.9503971338272095, 0.8904967308044434, 0.9736726880073547, 0.9284605383872986, 0.8755223751068115, 0.24588727951049805, 0.7181469798088074, 0.03512675315141678, 0.8543839454650879, 0.8755750060081482, 0.9912610650062561, 0.9753079414367676, 0.8844825625419617, 0.08040750026702881, 0.9567053914070129, 0.8713510632514954, 0.8807482123374939, 0.03522992879152298, 0.08220316469669342, 0.9803985357284546, 0.936615526676178, 0.03345055505633354, 0.03345055505633354, 0.9272069931030273, 0.4090961515903473, 0.5688993334770203, 0.019176380708813667, 0.1819538027048111, 0.7960478663444519, 0.022744225338101387, 0.95392245054245, 0.22199606895446777, 0.8139855861663818, 0.8549098372459412, 0.8700251579284668, 0.8745766878128052, 0.11507587879896164, 0.8516784906387329, 0.9953305125236511, 0.9890846610069275, 0.9923959374427795, 0.9867157936096191, 0.9548231363296509, 0.9431750774383545, 0.9399937987327576, 0.039166409522295, 0.583458423614502, 0.04023851081728935, 0.3822658658027649, 0.8678767681121826, 0.7104065418243408, 0.14208130538463593, 0.07104065269231796, 0.9524863362312317, 0.8191715478897095, 0.17066074907779694, 0.008533037267625332, 0.9325265288352966, 0.7432494163513184, 0.24774980545043945, 0.9296574592590332, 0.9235066175460815, 0.06596475839614868, 0.9038832783699036, 0.9893470406532288, 0.955633819103241, 0.9328086376190186, 0.8808470368385315, 0.09787189215421677, 0.9654333591461182, 0.03575679287314415, 0.9946630597114563, 0.6633928418159485, 0.28310394287109375, 0.052817899733781815, 0.8502519726753235, 0.9702129364013672, 0.807399570941925, 0.07689519971609116, 0.03844759985804558, 0.03844759985804558, 0.3159507215023041, 0.6576933264732361, 0.025791894644498825, 0.9553873538970947, 0.5555493831634521, 0.43477779626846313, 0.3130553364753723, 0.6261106729507446, 0.8816384673118591, 0.8746281862258911, 0.6927683353424072, 0.1385536640882492, 0.9011102914810181, 0.9694848656654358, 0.022033747285604477, 0.9418386816978455, 0.9577304124832153, 0.7503700256347656, 0.22640475630760193, 0.019406121224164963, 0.956474244594574, 0.8790427446365356, 0.8692188858985901, 0.8834232687950134, 0.9478578567504883, 0.9378754496574402, 0.2174818068742752, 0.1087409034371376, 0.2174818068742752, 0.5437045097351074, 0.9659516215324402, 0.960825502872467, 0.1184581071138382, 0.1184581071138382, 0.7107486128807068, 0.9309298396110535, 0.9869479537010193, 0.9856477379798889, 0.9471160173416138, 0.8766317963600159, 0.9491876363754272, 0.24835199117660522, 0.6208799481391907, 0.867449939250946, 0.216208815574646, 0.216208815574646, 0.648626446723938, 0.9368974566459656, 0.8081356883049011, 0.17958571016788483, 0.7567841410636902, 0.20032520592212677, 0.04451671242713928, 0.888708233833313, 0.749721348285675, 0.19962994754314423, 0.04879843071103096, 0.9690865278244019, 0.9250751733779907, 0.9683875441551208, 0.9971755146980286, 0.978820264339447, 0.9457417726516724, 0.037678953260183334, 0.018839476630091667, 0.9653546810150146, 0.02475268393754959, 0.981941819190979, 0.9737461805343628, 0.8789108395576477, 0.042968977242708206, 0.07812540978193283, 0.852631151676178, 0.09473679214715958, 0.9902624487876892, 0.9818430542945862, 0.6732327938079834, 0.29814594984054565, 0.028852833434939384, 0.9985777735710144, 0.6853344440460205, 0.2728646397590637, 0.03807413578033447, 0.7413411140441895, 0.2541740834712982, 0.9207583069801331, 0.032884225249290466, 0.032884225249290466, 0.967423141002655, 0.8412906527519226, 0.7608782649040222, 0.2060139775276184, 0.03296223655343056, 0.9860298037528992, 0.9243276715278625, 0.935825526714325, 0.8958367109298706, 0.8984374403953552, 0.9779391288757324, 0.9862015843391418, 0.6531714797019958, 0.06531714648008347, 0.13063429296016693, 0.13063429296016693, 0.9787682890892029, 0.8781272172927856, 0.7101906538009644, 0.23673023283481598, 0.05660940334200859, 0.9872341752052307, 0.9703918695449829, 0.8123593330383301, 0.15473511815071106, 0.025789184495806694, 0.9624471664428711, 0.9559223055839539, 0.8404726386070251, 0.9797825217247009, 0.9409048557281494, 0.9969234466552734, 0.9651783108711243, 0.026085900142788887, 0.9966849684715271, 0.9958940148353577, 0.848827064037323, 0.8578975200653076, 0.9731165766716003, 0.988914966583252, 0.13951800763607025, 0.6975899934768677, 0.8643618226051331, 0.9260265827178955, 0.046301327645778656, 0.9248774647712708, 0.9776114225387573, 0.9662939310073853, 0.9777219891548157, 0.037604693323373795, 0.9966579079627991, 0.9790005683898926, 0.9076361656188965, 0.10084845870733261, 0.7700732946395874, 0.19612354040145874, 0.03461003676056862, 0.9583129286766052, 0.03685818985104561, 0.1203627958893776, 0.8425395488739014, 0.9600067138671875, 0.964950680732727, 0.8699151873588562, 0.8323826789855957, 0.1135067269206047, 0.03783557564020157, 1.0010581016540527, 0.8269731998443604, 0.10337164998054504, 0.9513519406318665, 0.9180630445480347, 0.10200700163841248, 0.06430966407060623, 0.1929289847612381, 0.6430966258049011, 0.06430966407060623, 0.9077492356300354, 0.9840542078018188, 0.2454065978527069, 0.12270329892635345, 0.4908131957054138, 0.9175253510475159, 0.9923175573348999, 0.8585718274116516, 0.9718509316444397, 0.8632737994194031, 0.09591931104660034, 0.6676580905914307, 0.26612943410873413, 0.06069618836045265, 0.9836471080780029, 0.025221720337867737, 0.9047595858573914, 0.04523798078298569, 0.914578378200531, 0.963365375995636, 0.9512728452682495, 0.10180068016052246, 0.6108040809631348, 0.3054020404815674, 0.8856309056282043, 0.9481267333030701, 0.7114143967628479, 0.2384410947561264, 0.050815314054489136, 0.727211058139801, 0.22594808042049408, 0.04556936025619507, 0.18341976404190063, 0.13756482303142548, 0.5044043064117432, 0.09170988202095032, 0.09170988202095032, 0.7399419546127319, 0.19966687262058258, 0.05872555077075958, 0.9710497260093689, 0.2959665060043335, 0.591933012008667, 0.9948152899742126, 0.9460024237632751, 0.9934921264648438, 1.0004414319992065, 0.9488518834114075, 0.921467661857605, 0.9844609498977661, 0.9223707914352417, 0.9720121622085571, 0.9941889643669128, 0.9791648387908936, 0.7428764700889587, 0.21225042641162872, 0.9857303500175476, 0.9939196705818176, 0.027727114036679268, 0.9427218437194824, 0.9961118698120117, 0.8588231205940247, 0.2566242218017578, 0.7698726654052734, 0.9012365937232971, 0.9612879753112793, 0.02344604767858982, 0.9468335509300232, 0.9910137057304382, 0.8157925009727478, 0.7420027256011963, 0.18550068140029907, 0.09275034070014954, 0.8931695222854614, 0.9824174642562866, 0.9081087708473206, 0.812323272228241, 0.9638878703117371, 0.9811118841171265, 0.945854127407074, 0.969007670879364, 0.9605395197868347, 0.9840410351753235, 0.8958643078804016, 0.11777481436729431, 0.8244236707687378, 0.8555084466934204, 0.9634563326835632, 0.1204940676689148, 0.8434584736824036, 0.9862673282623291, 1.000468373298645, 0.31453511118888855, 0.6862584352493286, 0.954422116279602, 0.02726920321583748, 0.02726920321583748, 0.9916580319404602, 0.9651368260383606, 0.9401133060455322, 0.9818968772888184, 0.992414116859436, 0.6139902472496033, 0.3378415107727051, 0.047004036605358124, 0.21753430366516113, 0.7910338044166565, 0.837060809135437, 0.9447152018547058, 0.9728262424468994, 0.9770655632019043, 0.9772793054580688, 0.026412954553961754, 0.9969280362129211, 0.9794166684150696, 0.8609991669654846, 0.7181709408760071, 0.17954273521900177, 0.08977136760950089, 0.735456109046936, 0.20726490020751953, 0.055716373026371, 0.09391609579324722, 0.6574126482009888, 0.09391609579324722, 0.7013818025588989, 0.2435353398323059, 0.05357777699828148, 0.7373154163360596, 0.2068997323513031, 0.05642719939351082, 0.9915714859962463, 0.3297393321990967, 0.5770438313484192, 0.08243483304977417, 0.9824070930480957, 0.2109012007713318, 0.1054506003856659, 0.6327036023139954, 0.9586248993873596, 0.9835078716278076, 0.25992733240127563, 0.7797819972038269, 0.8196370601654053, 0.8106827735900879, 0.10133534669876099, 0.03377844765782356, 0.03377844765782356, 0.03377844765782356, 0.9658938050270081, 1.000910997390747, 0.8237243294715881, 0.11767490208148956, 0.07825896143913269, 0.8608485460281372, 0.9475317001342773, 0.8498316407203674, 0.8240991830825806, 0.9767232537269592, 0.9221895933151245, 0.9347002506256104, 0.9483306407928467, 0.9965980648994446, 0.9720699787139893, 0.9718100428581238, 0.08406521379947662, 0.5884565114974976, 0.16813042759895325, 0.2521956264972687, 0.9349279999732971, 0.9158818125724792, 0.8381848931312561, 0.8740397691726685, 0.6383240818977356, 0.3011810779571533, 0.05843811854720116, 0.9327492117881775, 0.03454626724123955, 0.43076443672180176, 0.5242322087287903, 0.044701967388391495, 0.9019210338592529, 0.9493711590766907, 0.981698215007782, 0.19460178911685944, 0.6811062693595886, 0.09730089455842972, 0.8444463014602661, 0.9180659651756287, 0.871753454208374, 0.04358767345547676, 0.04358767345547676, 0.9128501415252686, 0.6222562789916992, 0.2074187695980072, 0.1037093847990036, 0.8307145833969116, 0.7894783616065979, 0.17230677604675293, 0.04072705656290054, 0.9815696477890015, 0.9745959043502808, 0.9713661074638367, 0.8896896243095398, 0.8860602974891663, 0.8922070264816284, 0.9854699969291687, 0.5336169600486755, 0.4608509838581085, 0.012127657420933247, 0.8161515593528748, 0.985823929309845, 0.02097497694194317, 0.97661292552948, 0.15251190960407257, 0.7625595927238464, 0.2836819887161255, 0.7092049717903137, 0.8610658645629883, 0.1388815939426422, 0.9859248995780945, 0.9807129502296448, 0.9966311454772949, 0.9428290128707886, 0.8904677033424377, 0.9748727083206177, 0.8473433256149292, 0.9198117256164551, 0.8800709247589111, 0.9964804649353027, 0.9229665994644165, 0.15182548761367798, 0.7591274380683899, 0.9605898261070251, 0.9112942218780518, 0.9734442234039307, 0.9893934726715088, 0.8774998784065247, 0.7350887656211853, 0.1050126850605011, 0.1050126850605011, 0.8621808886528015, 0.9976894855499268, 0.986660897731781, 0.9941648840904236, 0.9771484732627869, 0.7403351664543152, 0.22090646624565125, 0.03582267090678215, 0.9714004397392273, 0.7573018670082092, 0.20284871757030487, 0.040569745004177094, 0.7507740259170532, 0.21217526495456696, 0.03808274120092392, 0.9814035296440125, 0.9848514199256897, 0.977881669998169, 0.9973524808883667, 0.9342684149742126, 0.9649175405502319, 0.9984032511711121, 0.10096671432256699, 0.8077337145805359, 0.8647797703742981, 0.12353996932506561, 0.9935826659202576, 0.8884537816047668, 0.9133912324905396, 0.859282910823822, 0.789020836353302, 0.17180292308330536, 0.03181535750627518, 0.9042043089866638, 0.9844964146614075, 0.757079005241394, 0.20251084864139557, 0.03738661855459213, 0.7741450071334839, 0.11059214919805527, 0.8743653893470764, 0.9266146421432495, 0.9870218634605408, 0.8991305828094482, 0.9170306921005249, 0.9835094213485718, 0.9761853218078613, 0.977760374546051, 0.9087794423103333, 0.03029264695942402, 0.03029264695942402, 0.899440586566925, 0.7314111590385437, 0.2438037097454071, 0.9801633358001709, 0.2036062628030777, 0.8144250512123108, 0.9964787364006042, 0.8465659022331238, 0.8270513415336609, 0.9931575655937195, 0.9970800280570984], \"Term\": [\"\", \"\\u0e01\\u0e01\\u0e01\\u0e01\", \"\\u0e01\\u0e22\\u0e48\\u0e32\\u0e07\", \"\\u0e01\\u0e23\\u0e2d\\u0e1a\\u0e21\\u0e32\\u0e01\", \"\\u0e01\\u0e23\\u0e2d\\u0e1a\\u0e2d\\u0e23\\u0e48\\u0e2d\\u0e22\\u0e21\\u0e32\\u0e01\", \"\\u0e01\\u0e23\\u0e30\\u0e1a\\u0e35\\u0e48\", \"\\u0e01\\u0e23\\u0e30\\u0e40\\u0e1e\\u0e23\\u0e32\", \"\\u0e01\\u0e23\\u0e30\\u0e40\\u0e1e\\u0e32\\u0e30\", \"\\u0e01\\u0e23\\u0e30\\u0e40\\u0e1e\\u0e32\\u0e30\", \"\\u0e01\\u0e23\\u0e38\\u0e07\\u0e40\\u0e17\\u0e1e\", \"\\u0e01\\u0e23\\u0e38\\u0e07\\u0e40\\u0e17\\u0e1e\\u0e2f\", \"\\u0e01\\u0e23\\u0e38\\u0e1a\\u0e01\\u0e23\\u0e2d\\u0e1a\", \"\\u0e01\\u0e23\\u0e38\\u0e1a\\u0e01\\u0e23\\u0e2d\\u0e1a\", \"\\u0e01\\u0e23\\u0e38\\u0e1a\\u0e01\\u0e23\\u0e2d\\u0e1a\", \"\\u0e01\\u0e25\\u0e49\\u0e27\\u0e22\\u0e1b\\u0e34\\u0e49\\u0e07\", \"\\u0e01\\u0e30\\u0e17\\u0e30\\u0e23\\u0e49\\u0e2d\\u0e19\", \"\\u0e01\\u0e31\\u0e49\\u0e07\", \"\\u0e01\\u0e32\\u0e01\\u0e2b\\u0e21\\u0e39\", \"\\u0e01\\u0e32\\u0e23\\u0e23\\u0e2d\\u0e04\\u0e2d\\u0e22\", \"\\u0e01\\u0e32\\u0e41\\u0e1f\", \"\\u0e01\\u0e32\\u0e41\\u0e1f\", \"\\u0e01\\u0e32\\u0e41\\u0e1f\", \"\\u0e01\\u0e34\\u0e19\\u0e40\\u0e02\\u0e49\\u0e32\\u0e44\\u0e1b\", \"\\u0e01\\u0e38\\u0e49\\u0e07\\u0e1e\\u0e31\\u0e19\\u0e2d\\u0e49\\u0e2d\\u0e22\", \"\\u0e01\\u0e38\\u0e49\\u0e07\\u0e40\\u0e1c\\u0e32\", \"\\u0e01\\u0e38\\u0e49\\u0e07\\u0e41\\u0e21\\u0e48\\u0e19\\u0e49\\u0e33\", \"\\u0e01\\u0e47\\u0e2d\\u0e23\\u0e48\\u0e2d\\u0e22\\u0e21\\u0e32\\u0e01\", \"\\u0e01\\u0e47\\u0e2d\\u0e23\\u0e48\\u0e2d\\u0e22\\u0e21\\u0e32\\u0e01\", \"\\u0e01\\u0e49\\u0e2d\\u0e2d\\u0e23\\u0e48\\u0e2d\\u0e22\", \"\\u0e01\\u0e49\\u0e2d\\u0e42\\u0e2d\\u0e40\\u0e04\", \"\\u0e01\\u0e4b\\u0e27\\u0e22\\u0e40\\u0e15\\u0e35\\u0e4b\\u0e22\\u0e27\", \"\\u0e01\\u0e4b\\u0e27\\u0e22\\u0e40\\u0e15\\u0e35\\u0e4b\\u0e22\\u0e27\", \"\\u0e01\\u0e4b\\u0e27\\u0e22\\u0e40\\u0e15\\u0e35\\u0e4b\\u0e22\\u0e27\", \"\\u0e01\\u0e4b\\u0e27\\u0e22\\u0e40\\u0e15\\u0e35\\u0e4b\\u0e22\\u0e27\\u0e2b\\u0e21\\u0e39\", \"\\u0e02\\u0e19\\u0e21\\u0e08\\u0e35\\u0e1a\", \"\\u0e02\\u0e19\\u0e21\\u0e08\\u0e35\\u0e1a\", \"\\u0e02\\u0e19\\u0e21\\u0e08\\u0e35\\u0e1a\", \"\\u0e02\\u0e19\\u0e21\\u0e16\\u0e49\\u0e27\\u0e22\", \"\\u0e02\\u0e19\\u0e21\\u0e1b\\u0e31\\u0e07\", \"\\u0e02\\u0e19\\u0e21\\u0e1b\\u0e31\\u0e07\", \"\\u0e02\\u0e19\\u0e21\\u0e1b\\u0e31\\u0e07\", \"\\u0e02\\u0e19\\u0e21\\u0e1b\\u0e31\\u0e07\\u0e1b\\u0e34\\u0e49\\u0e07\", \"\\u0e02\\u0e19\\u0e21\\u0e1b\\u0e31\\u0e07\\u0e1b\\u0e34\\u0e49\\u0e07\", \"\\u0e02\\u0e19\\u0e21\\u0e1b\\u0e31\\u0e07\\u0e1b\\u0e34\\u0e49\\u0e07\", \"\\u0e02\\u0e19\\u0e21\\u0e1c\\u0e31\\u0e01\\u0e01\\u0e32\\u0e14\", \"\\u0e02\\u0e19\\u0e32\\u0e14\\u0e01\\u0e25\\u0e32\\u0e07\", \"\\u0e02\\u0e19\\u0e32\\u0e14\\u0e01\\u0e25\\u0e32\\u0e07\", \"\\u0e02\\u0e19\\u0e38\\u0e19\", \"\\u0e02\\u0e21\\u0e34\\u0e49\\u0e19\", \"\\u0e02\\u0e2d\\u0e07\\u0e04\\u0e32\\u0e27\", \"\\u0e02\\u0e2d\\u0e07\\u0e04\\u0e32\\u0e27\", \"\\u0e02\\u0e2d\\u0e19\\u0e41\\u0e01\\u0e48\\u0e19\", \"\\u0e02\\u0e2d\\u0e1a\", \"\\u0e02\\u0e48\\u0e32\\u0e27\", \"\\u0e02\\u0e49\\u0e32\\u0e27\\u0e02\\u0e32\\u0e2b\\u0e21\\u0e39\", \"\\u0e02\\u0e49\\u0e32\\u0e27\\u0e1c\\u0e31\\u0e14\\u0e1b\\u0e39\", \"\\u0e02\\u0e49\\u0e32\\u0e27\\u0e2b\\u0e21\\u0e01\", \"\\u0e02\\u0e49\\u0e32\\u0e27\\u0e2b\\u0e21\\u0e01\\u0e44\\u0e01\\u0e48\", \"\\u0e02\\u0e49\\u0e32\\u0e27\\u0e2b\\u0e21\\u0e39\\u0e01\\u0e23\\u0e2d\\u0e1a\", \"\\u0e02\\u0e49\\u0e32\\u0e27\\u0e2b\\u0e21\\u0e39\\u0e01\\u0e23\\u0e2d\\u0e1a\", \"\\u0e02\\u0e49\\u0e32\\u0e27\\u0e2b\\u0e21\\u0e39\\u0e41\\u0e14\\u0e07\", \"\\u0e02\\u0e49\\u0e32\\u0e27\\u0e2b\\u0e21\\u0e39\\u0e41\\u0e14\\u0e07\", \"\\u0e02\\u0e49\\u0e32\\u0e27\\u0e2b\\u0e21\\u0e39\\u0e41\\u0e14\\u0e07\", \"\\u0e04\", \"\\u0e04\\u0e19\\u0e40\\u0e22\\u0e2d\\u0e30\\u0e15\\u0e25\\u0e2d\\u0e14\", \"\\u0e04\\u0e19\\u0e40\\u0e22\\u0e2d\\u0e30\\u0e15\\u0e25\\u0e2d\\u0e14\", \"\\u0e04\\u0e19\\u0e40\\u0e22\\u0e2d\\u0e30\\u0e15\\u0e25\\u0e2d\\u0e14\", \"\\u0e04\\u0e1a\", \"\\u0e04\\u0e23\\u0e2d\\u0e1a\\u0e04\\u0e23\\u0e31\\u0e27\", \"\\u0e04\\u0e23\\u0e2d\\u0e1a\\u0e04\\u0e23\\u0e31\\u0e27\", \"\\u0e04\\u0e23\\u0e2d\\u0e1a\\u0e04\\u0e23\\u0e31\\u0e27\", \"\\u0e04\\u0e23\\u0e48\\u0e30\", \"\\u0e04\\u0e2d\\u0e19\\u0e42\\u0e14\", \"\\u0e04\\u0e2d\\u0e19\\u0e42\\u0e14\", \"\\u0e04\\u0e31\\u0e1e\\u0e40\\u0e04\\u0e49\\u0e01\", \"\\u0e04\\u0e32\\u0e23\\u0e32\\u0e40\\u0e21\\u0e25\", \"\\u0e04\\u0e32\\u0e23\\u0e32\\u0e40\\u0e21\\u0e25\", \"\\u0e04\\u0e49\\u0e19\\u0e2b\\u0e32\", \"\\u0e04\\u0e49\\u0e32\", \"\\u0e08\\u0e21\\u0e39\\u0e01\", \"\\u0e08\\u0e23\\u0e49\\u0e32\", \"\\u0e08\\u0e31\\u0e01\\u0e23\\u0e22\\u0e32\\u0e19\", \"\\u0e08\\u0e31\\u0e01\\u0e23\\u0e22\\u0e32\\u0e19\", \"\\u0e08\\u0e32\\u0e19\\u0e40\\u0e25\\u0e47\\u0e01\", \"\\u0e08\\u0e32\\u0e19\\u0e40\\u0e25\\u0e47\\u0e01\", \"\\u0e0a\\u0e21\\u0e1e\\u0e39\", \"\\u0e0a\\u0e2d\\u0e1a\", \"\\u0e0a\\u0e2d\\u0e1a\", \"\\u0e0a\\u0e2d\\u0e1a\", \"\\u0e0a\\u0e32\\u0e15\", \"\\u0e0a\\u0e32\\u0e21\\u0e30\\u0e19\\u0e32\\u0e27\", \"\\u0e0a\\u0e32\\u0e27\\u0e15\\u0e48\\u0e32\\u0e07\\u0e0a\\u0e32\\u0e15\\u0e34\", \"\\u0e0a\\u0e32\\u0e27\\u0e15\\u0e48\\u0e32\\u0e07\\u0e0a\\u0e32\\u0e15\\u0e34\", \"\\u0e0a\\u0e32\\u0e27\\u0e15\\u0e48\\u0e32\\u0e07\\u0e0a\\u0e32\\u0e15\\u0e34\", \"\\u0e0a\\u0e32\\u0e27\\u0e15\\u0e48\\u0e32\\u0e07\\u0e0a\\u0e32\\u0e15\\u0e34\", \"\\u0e0a\\u0e32\\u0e40\\u0e02\\u0e35\\u0e22\\u0e27\", \"\\u0e0a\\u0e32\\u0e40\\u0e02\\u0e35\\u0e22\\u0e27\", \"\\u0e0a\\u0e32\\u0e40\\u0e02\\u0e35\\u0e22\\u0e27\", \"\\u0e0a\\u0e32\\u0e44\\u0e02\\u0e48\\u0e21\\u0e38\\u0e01\", \"\\u0e0a\\u0e35\\u0e2a\\u0e40\\u0e04\\u0e49\\u0e01\", \"\\u0e0a\\u0e35\\u0e2a\\u0e40\\u0e04\\u0e49\\u0e01\", \"\\u0e0a\\u0e37\\u0e14\", \"\\u0e0a\\u0e37\\u0e14\", \"\\u0e0a\\u0e39\\u0e04\\u0e23\\u0e35\\u0e21\", \"\\u0e0a\\u0e4a\\u0e2d\\u0e04\\u0e42\\u0e01\\u0e41\\u0e25\\u0e15\", \"\\u0e0b\\u0e2d\\u0e2a\\u0e23\\u0e32\\u0e14\", \"\\u0e0b\\u0e2d\\u0e2a\\u0e23\\u0e32\\u0e14\", \"\\u0e0b\\u0e35\\u0e0b\\u0e48\\u0e32\\u0e2a\\u0e25\\u0e31\\u0e14\", \"\\u0e0b\\u0e35\\u0e1f\\u0e39\\u0e49\\u0e14\", \"\\u0e0b\\u0e35\\u0e1f\\u0e39\\u0e49\\u0e14\", \"\\u0e0b\\u0e38\\u0e1b\\u0e01\\u0e23\\u0e30\\u0e14\\u0e39\\u0e01\", \"\\u0e0b\\u0e39\", \"\\u0e0d\\u0e35\\u0e48\\u0e1b\\u0e38\\u0e48\\u0e19\", \"\\u0e0d\\u0e35\\u0e48\\u0e1b\\u0e38\\u0e48\\u0e19\", \"\\u0e0d\\u0e35\\u0e48\\u0e1b\\u0e38\\u0e48\\u0e19\", \"\\u0e10\\u0e32\\u0e19\", \"\\u0e14\\u0e32\\u0e14\\u0e1f\\u0e49\\u0e32\", \"\\u0e14\\u0e34\\u0e48\\u0e07\", \"\\u0e14\\u0e35\\u0e40\\u0e25\\u0e22\\u0e17\\u0e35\\u0e40\\u0e14\\u0e35\\u0e22\\u0e27\", \"\\u0e14\\u0e36\\u0e07\\u0e14\\u0e39\\u0e14\", \"\\u0e14\\u0e49\\u0e2d\\u0e22\", \"\\u0e15\\u0e30\\u0e42\\u0e01\\u0e19\", \"\\u0e15\\u0e30\\u0e42\\u0e01\\u0e19\", \"\\u0e15\\u0e30\\u0e42\\u0e01\\u0e19\", \"\\u0e15\\u0e30\\u0e42\\u0e01\\u0e19\", \"\\u0e15\\u0e30\\u0e44\\u0e04\\u0e23\\u0e49\", \"\\u0e15\\u0e33\\u0e16\\u0e32\\u0e14\", \"\\u0e15\\u0e33\\u0e21\\u0e31\\u0e48\\u0e27\", \"\\u0e15\\u0e33\\u0e21\\u0e31\\u0e48\\u0e27\", \"\\u0e15\\u0e33\\u0e21\\u0e31\\u0e48\\u0e27\", \"\\u0e15\\u0e48\\u0e32\\u0e07\\u0e1b\\u0e23\\u0e30\\u0e40\\u0e17\\u0e28\", \"\\u0e15\\u0e49\\u0e21\\u0e22\\u0e33\\u0e01\\u0e38\\u0e49\\u0e07\", \"\\u0e15\\u0e49\\u0e21\\u0e41\\u0e0b\\u0e48\\u0e1a\", \"\\u0e15\\u0e49\\u0e21\\u0e41\\u0e0b\\u0e48\\u0e1a\\u0e01\\u0e23\\u0e30\\u0e14\\u0e39\\u0e01\\u0e2d\\u0e48\\u0e2d\\u0e19\", \"\\u0e16\\u0e48\\u0e32\\u0e22\\u0e40\\u0e17\", \"\\u0e17\\u0e23\\u0e39\", \"\\u0e17\\u0e32\\u0e19\\u0e04\\u0e39\\u0e48\\u0e01\\u0e31\\u0e19\", \"\\u0e17\\u0e32\\u0e19\\u0e04\\u0e39\\u0e48\\u0e01\\u0e31\\u0e19\", \"\\u0e17\\u0e48\\u0e35\", \"\\u0e17\\u0e49\\u0e2d\\u0e07\\u0e16\\u0e34\\u0e48\\u0e19\", \"\\u0e17\\u0e49\\u0e2d\\u0e07\\u0e16\\u0e34\\u0e48\\u0e19\", \"\\u0e17\\u0e49\\u0e2d\\u0e07\\u0e16\\u0e34\\u0e48\\u0e19\", \"\\u0e17\\u0e49\\u0e32\", \"\\u0e17\\u0e4a\\u0e2d\\u0e1b\\u0e1b\\u0e34\\u0e49\\u0e07\", \"\\u0e17\\u0e4a\\u0e2d\\u0e1b\\u0e1b\\u0e34\\u0e49\\u0e07\", \"\\u0e18\\u0e23\\u0e23\\u0e21\\u0e14\\u0e32\", \"\\u0e18\\u0e23\\u0e23\\u0e21\\u0e14\\u0e32\", \"\\u0e18\\u0e23\\u0e23\\u0e21\\u0e14\\u0e32\", \"\\u0e19\\u0e27\\u0e14\", \"\\u0e19\\u0e32\\u0e19\", \"\\u0e19\\u0e32\\u0e19\", \"\\u0e19\\u0e32\\u0e19\", \"\\u0e19\\u0e37\\u0e49\\u0e2d\", \"\\u0e19\\u0e38\\u0e48\\u0e21\\u0e2d\\u0e23\\u0e48\\u0e2d\\u0e22\\u0e21\\u0e32\\u0e01\", \"\\u0e19\\u0e48\\u0e32\\u0e19\", \"\\u0e19\\u0e49\\u0e2d\\u0e22\\u0e44\\u0e1b\", \"\\u0e19\\u0e49\\u0e33\\u0e02\\u0e49\\u0e19\", \"\\u0e19\\u0e49\\u0e33\\u0e08\\u0e34\\u0e49\\u0e21\", \"\\u0e19\\u0e49\\u0e33\\u0e08\\u0e34\\u0e49\\u0e21\", \"\\u0e19\\u0e49\\u0e33\\u0e08\\u0e34\\u0e49\\u0e21\", \"\\u0e19\\u0e49\\u0e33\\u0e08\\u0e34\\u0e49\\u0e21\\u0e0b\\u0e35\\u0e1f\\u0e39\\u0e49\\u0e14\", \"\\u0e19\\u0e49\\u0e33\\u0e08\\u0e34\\u0e49\\u0e21\\u0e0b\\u0e35\\u0e1f\\u0e39\\u0e49\\u0e14\", \"\\u0e19\\u0e49\\u0e33\\u0e08\\u0e34\\u0e49\\u0e21\\u0e2d\\u0e23\\u0e48\\u0e2d\\u0e22\", \"\\u0e19\\u0e49\\u0e33\\u0e0b\\u0e38\\u0e1a\", \"\\u0e19\\u0e49\\u0e33\\u0e0b\\u0e38\\u0e1b\", \"\\u0e19\\u0e49\\u0e33\\u0e0b\\u0e38\\u0e1b\", \"\\u0e19\\u0e49\\u0e33\\u0e0b\\u0e38\\u0e1b\", \"\\u0e19\\u0e49\\u0e33\\u0e0b\\u0e38\\u0e1b\\u0e01\\u0e25\\u0e21\\u0e01\\u0e25\\u0e48\\u0e2d\\u0e21\", \"\\u0e19\\u0e49\\u0e33\\u0e0b\\u0e38\\u0e1b\\u0e01\\u0e25\\u0e21\\u0e01\\u0e25\\u0e48\\u0e2d\\u0e21\", \"\\u0e19\\u0e49\\u0e33\\u0e1e\\u0e23\\u0e34\\u0e01\", \"\\u0e19\\u0e49\\u0e33\\u0e41\\u0e02\\u0e47\\u0e07\\u0e44\\u0e2a\", \"\\u0e1a\\u0e23\\u0e23\\u0e22\\u0e32\\u0e01\\u0e32\\u0e28\", \"\\u0e1a\\u0e23\\u0e23\\u0e22\\u0e32\\u0e01\\u0e32\\u0e28\", \"\\u0e1a\\u0e23\\u0e23\\u0e22\\u0e32\\u0e01\\u0e32\\u0e28\", \"\\u0e1a\\u0e23\\u0e23\\u0e22\\u0e32\\u0e01\\u0e32\\u0e28\\u0e02\\u0e2d\\u0e07\\u0e23\\u0e49\\u0e32\\u0e19\", \"\\u0e1a\\u0e23\\u0e23\\u0e22\\u0e32\\u0e01\\u0e32\\u0e28\\u0e23\\u0e49\\u0e32\\u0e19\", \"\\u0e1a\\u0e23\\u0e23\\u0e22\\u0e32\\u0e01\\u0e32\\u0e28\\u0e23\\u0e49\\u0e32\\u0e19\", \"\\u0e1a\\u0e23\\u0e23\\u0e22\\u0e32\\u0e01\\u0e32\\u0e28\\u0e23\\u0e49\\u0e32\\u0e19\", \"\\u0e1a\\u0e23\\u0e23\\u0e22\\u0e32\\u0e01\\u0e32\\u0e28\\u0e43\\u0e19\\u0e23\\u0e49\\u0e32\\u0e19\", \"\\u0e1a\\u0e23\\u0e23\\u0e22\\u0e32\\u0e01\\u0e32\\u0e28\\u0e43\\u0e19\\u0e23\\u0e49\\u0e32\\u0e19\", \"\\u0e1a\\u0e23\\u0e23\\u0e22\\u0e32\\u0e22\", \"\\u0e1a\\u0e23\\u0e23\\u0e22\\u0e32\\u0e22\", \"\\u0e1a\\u0e23\\u0e23\\u0e22\\u0e32\\u0e22\", \"\\u0e1a\\u0e23\\u0e23\\u0e22\\u0e32\\u0e22\\u0e01\\u0e32\\u0e28\", \"\\u0e1a\\u0e23\\u0e34\\u0e01\\u0e23\", \"\\u0e1a\\u0e23\\u0e34\\u0e01\\u0e32\\u0e23\", \"\\u0e1a\\u0e23\\u0e34\\u0e01\\u0e32\\u0e23\", \"\\u0e1a\\u0e23\\u0e34\\u0e01\\u0e32\\u0e23\", \"\\u0e1a\\u0e23\\u0e34\\u0e01\\u0e32\\u0e23\\u0e14\\u0e35\\u0e21\\u0e32\\u0e01\", \"\\u0e1a\\u0e30\\u0e2b\\u0e21\\u0e35\\u0e48\\u0e2b\\u0e22\\u0e01\", \"\\u0e1a\\u0e30\\u0e2b\\u0e21\\u0e35\\u0e48\\u0e40\\u0e22\", \"\\u0e1a\\u0e31\\u0e07\", \"\\u0e1a\\u0e32\\u0e19\", \"\\u0e1a\\u0e34\\u0e07\", \"\\u0e1a\\u0e34\\u0e07\\u0e0b\\u0e39\", \"\\u0e1a\\u0e34\\u0e19\", \"\\u0e1a\\u0e34\\u0e19\", \"\\u0e1a\\u0e34\\u0e19\", \"\\u0e1a\\u0e34\\u0e19\", \"\\u0e1a\\u0e38\\u0e1f\\u0e40\\u0e1f\\u0e48\", \"\\u0e1a\\u0e39\\u0e14\", \"\\u0e1b\\u0e01\\u0e15\\u0e34\", \"\\u0e1b\\u0e01\\u0e15\\u0e34\", \"\\u0e1b\\u0e01\\u0e15\\u0e34\", \"\\u0e1b\\u0e23\\u0e30\\u0e01\\u0e32\\u0e23\", \"\\u0e1b\\u0e23\\u0e30\\u0e0a\\u0e38\\u0e21\", \"\\u0e1b\\u0e23\\u0e31\\u0e1a\\u0e1b\\u0e23\\u0e38\\u0e07\", \"\\u0e1b\\u0e23\\u0e31\\u0e1a\\u0e1b\\u0e23\\u0e38\\u0e07\", \"\\u0e1b\\u0e23\\u0e31\\u0e1a\\u0e1b\\u0e23\\u0e38\\u0e07\", \"\\u0e1b\\u0e23\\u0e34\\u0e21\\u0e32\\u0e13\\u0e40\\u0e22\\u0e2d\\u0e30\\u0e21\\u0e32\\u0e01\", \"\\u0e1b\\u0e23\\u0e34\\u0e48\\u0e21\", \"\\u0e1b\\u0e25\\u0e32\\u0e01\\u0e23\\u0e2d\\u0e1a\", \"\\u0e1b\\u0e25\\u0e32\\u0e01\\u0e23\\u0e30\\u0e1e\\u0e07\\u0e17\\u0e2d\\u0e14\\u0e19\\u0e49\\u0e33\\u0e1b\\u0e25\\u0e32\", \"\\u0e1b\\u0e25\\u0e32\\u0e01\\u0e30\\u0e1e\\u0e07\", \"\\u0e1b\\u0e25\\u0e32\\u0e01\\u0e30\\u0e1e\\u0e07\\u0e17\\u0e2d\\u0e14\\u0e19\\u0e49\\u0e33\\u0e1b\\u0e25\\u0e32\", \"\\u0e1b\\u0e25\\u0e32\\u0e23\\u0e49\\u0e32\", \"\\u0e1b\\u0e25\\u0e32\\u0e23\\u0e49\\u0e32\", \"\\u0e1b\\u0e25\\u0e32\\u0e2b\\u0e21\\u0e36\\u0e01\\u0e1c\\u0e31\\u0e14\\u0e44\\u0e02\\u0e48\\u0e40\\u0e04\\u0e47\\u0e21\", \"\\u0e1b\\u0e25\\u0e32\\u0e40\\u0e04\\u0e47\\u0e21\", \"\\u0e1b\\u0e25\\u0e32\\u0e40\\u0e19\\u0e37\\u0e49\\u0e2d\\u0e2d\", \"\\u0e1b\\u0e27\\u0e14\", \"\\u0e1b\\u0e31\\u0e07\\u0e40\\u0e22\\u0e47\\u0e19\", \"\\u0e1b\\u0e32\\u0e17\\u0e48\\u0e2d\\u0e07\\u0e42\\u0e01\\u0e4b\", \"\\u0e1b\\u0e39\\u0e19\\u0e36\\u0e48\\u0e07\", \"\\u0e1b\\u0e39\\u0e19\\u0e36\\u0e48\\u0e07\", \"\\u0e1b\\u0e39\\u0e1c\\u0e31\\u0e14\\u0e1c\\u0e07\\u0e01\\u0e23\\u0e30\\u0e2b\\u0e23\\u0e35\\u0e48\", \"\\u0e1c\\u0e25\", \"\\u0e1c\\u0e25\", \"\\u0e1c\\u0e25\\u0e34\\u0e15\", \"\\u0e1c\\u0e31\\u0e01\\u0e2b\\u0e27\\u0e32\\u0e19\", \"\\u0e1c\\u0e31\\u0e14\\u0e2b\\u0e21\\u0e35\\u0e48\", \"\\u0e1c\\u0e31\\u0e14\\u0e44\\u0e17\", \"\\u0e1c\\u0e31\\u0e14\\u0e44\\u0e17\", \"\\u0e1c\\u0e31\\u0e14\\u0e44\\u0e17\\u0e22\", \"\\u0e1c\\u0e34\\u0e14\\u0e1e\\u0e25\\u0e32\\u0e14\", \"\\u0e1c\\u0e39\\u0e49\\u0e0a\\u0e32\\u0e22\", \"\\u0e1c\\u0e39\\u0e49\\u0e0a\\u0e32\\u0e22\", \"\\u0e1e\\u0e19\\u0e31\\u0e01\\u0e07\\u0e32\\u0e19\", \"\\u0e1e\\u0e19\\u0e31\\u0e01\\u0e07\\u0e32\\u0e19\", \"\\u0e1e\\u0e19\\u0e31\\u0e01\\u0e07\\u0e32\\u0e19\", \"\\u0e1e\\u0e19\\u0e31\\u0e01\\u0e07\\u0e32\\u0e19\\u0e1a\\u0e23\\u0e34\\u0e01\\u0e32\\u0e23\\u0e14\\u0e35\\u0e21\\u0e32\\u0e01\", \"\\u0e1e\\u0e19\\u0e31\\u0e01\\u0e07\\u0e32\\u0e19\\u0e1a\\u0e23\\u0e34\\u0e01\\u0e32\\u0e23\\u0e14\\u0e35\\u0e21\\u0e32\\u0e01\", \"\\u0e1e\\u0e22\\u0e32\\u0e1a\\u0e32\\u0e25\", \"\\u0e1e\\u0e22\\u0e32\\u0e1a\\u0e32\\u0e25\", \"\\u0e1e\\u0e23\\u0e30\", \"\\u0e1e\\u0e31\\u0e12\\u0e19\\u0e32\", \"\\u0e1e\\u0e31\\u0e12\\u0e19\\u0e32\\u0e01\\u0e32\\u0e23\", \"\\u0e1e\\u0e32\\u0e22\", \"\\u0e1e\\u0e32\\u0e22\", \"\\u0e1e\\u0e32\\u0e22\", \"\\u0e1e\\u0e32\\u0e23\\u0e32\\u0e01\\u0e2d\\u0e19\", \"\\u0e1e\\u0e35\\u0e48\\u0e2a\\u0e32\\u0e27\", \"\\u0e1e\\u0e35\\u0e48\\u0e2a\\u0e32\\u0e27\", \"\\u0e1f\\u0e31\\u0e01\\u0e17\\u0e2d\\u0e07\", \"\\u0e1f\\u0e32\\u0e23\\u0e4c\\u0e21\", \"\\u0e1f\\u0e32\\u0e23\\u0e4c\\u0e21\", \"\\u0e1f\\u0e39\\u0e08\\u0e34\", \"\\u0e1f\\u0e39\\u0e08\\u0e34\", \"\\u0e1f\\u0e39\\u0e08\\u0e34\", \"\\u0e1f\\u0e39\\u0e08\\u0e34\", \"\\u0e21\\u0e2d\\u0e22\", \"\\u0e21\\u0e30\\u0e15\\u0e39\\u0e21\", \"\\u0e21\\u0e31\\u0e27\", \"\\u0e21\\u0e31\\u0e27\", \"\\u0e21\\u0e31\\u0e27\", \"\\u0e21\\u0e31\\u0e48\\u0e27\", \"\\u0e21\\u0e32\\u0e01\\u0e32\\u0e23\\u0e2d\\u0e07\", \"\\u0e21\\u0e32\\u0e01\\u0e34\\u0e19\", \"\\u0e21\\u0e32\\u0e15\\u0e23\\u0e32\", \"\\u0e21\\u0e32\\u0e23\\u0e22\\u0e32\\u0e17\", \"\\u0e21\\u0e32\\u0e23\\u0e22\\u0e32\\u0e17\", \"\\u0e21\\u0e32\\u0e25\\u0e2d\\u0e07\", \"\\u0e21\\u0e32\\u0e25\\u0e2d\\u0e07\", \"\\u0e21\\u0e32\\u0e25\\u0e2d\\u0e07\", \"\\u0e21\\u0e35\\u0e2b\\u0e25\\u0e32\\u0e22\\u0e2a\\u0e32\\u0e02\\u0e32\", \"\\u0e21\\u0e35\\u0e2b\\u0e25\\u0e32\\u0e22\\u0e2a\\u0e32\\u0e02\\u0e32\", \"\\u0e21\\u0e37\\u0e49\\u0e2d\\u0e01\\u0e25\\u0e32\\u0e07\\u0e27\\u0e31\\u0e19\", \"\\u0e21\\u0e37\\u0e49\\u0e2d\\u0e01\\u0e25\\u0e32\\u0e07\\u0e27\\u0e31\\u0e19\", \"\\u0e22\\u0e31\\u0e14\\u0e44\\u0e2a\\u0e49\", \"\\u0e22\\u0e33\\u0e16\\u0e31\\u0e48\\u0e27\\u0e1e\\u0e25\\u0e39\", \"\\u0e22\\u0e33\\u0e41\\u0e0b\\u0e25\\u0e21\\u0e2d\\u0e19\", \"\\u0e22\\u0e38\\u0e42\\u0e23\\u0e1b\", \"\\u0e22\\u0e38\\u0e42\\u0e23\\u0e1b\", \"\\u0e22\\u0e38\\u0e42\\u0e23\\u0e1b\", \"\\u0e22\\u0e47\\u0e19\\u0e15\\u0e32\\u0e42\\u0e1f\", \"\\u0e23\\u0e2a\\u0e0a\\u0e32\\u0e15\\u0e14\\u0e35\", \"\\u0e23\\u0e2a\\u0e0a\\u0e32\\u0e15\\u0e34\", \"\\u0e23\\u0e2a\\u0e0a\\u0e32\\u0e15\\u0e34\", \"\\u0e23\\u0e2a\\u0e0a\\u0e32\\u0e15\\u0e34\", \"\\u0e23\\u0e32\\u0e04\\u0e32\", \"\\u0e23\\u0e32\\u0e04\\u0e32\", \"\\u0e23\\u0e32\\u0e04\\u0e32\", \"\\u0e23\\u0e32\\u0e04\\u0e32\\u0e04\\u0e48\\u0e2d\\u0e19\\u0e02\\u0e49\\u0e32\\u0e07\\u0e2a\\u0e39\\u0e07\", \"\\u0e23\\u0e32\\u0e04\\u0e32\\u0e04\\u0e48\\u0e2d\\u0e19\\u0e02\\u0e49\\u0e32\\u0e07\\u0e2a\\u0e39\\u0e07\", \"\\u0e23\\u0e32\\u0e04\\u0e32\\u0e04\\u0e48\\u0e2d\\u0e19\\u0e02\\u0e49\\u0e32\\u0e07\\u0e2a\\u0e39\\u0e07\", \"\\u0e23\\u0e32\\u0e04\\u0e32\\u0e04\\u0e48\\u0e2d\\u0e19\\u0e02\\u0e49\\u0e32\\u0e07\\u0e2a\\u0e39\\u0e07\", \"\\u0e23\\u0e32\\u0e04\\u0e32\\u0e04\\u0e48\\u0e2d\\u0e19\\u0e02\\u0e49\\u0e32\\u0e07\\u0e2a\\u0e39\\u0e07\", \"\\u0e23\\u0e32\\u0e04\\u0e32\\u0e16\\u0e39\\u0e01\", \"\\u0e23\\u0e32\\u0e04\\u0e32\\u0e16\\u0e39\\u0e01\", \"\\u0e23\\u0e32\\u0e04\\u0e32\\u0e16\\u0e39\\u0e01\", \"\\u0e23\\u0e32\\u0e04\\u0e32\\u0e1b\\u0e23\\u0e30\\u0e2b\\u0e22\\u0e31\\u0e14\", \"\\u0e23\\u0e32\\u0e0a\\u0e1e\\u0e24\\u0e01\\u0e29\\u0e4c\", \"\\u0e23\\u0e32\\u0e0a\\u0e1e\\u0e24\\u0e01\\u0e29\\u0e4c\", \"\\u0e23\\u0e32\\u0e22\", \"\\u0e23\\u0e32\\u0e40\\u0e21\\u0e47\\u0e07\", \"\\u0e23\\u0e48\\u0e21\", \"\\u0e23\\u0e49\\u0e32\\u0e19\\u0e2a\\u0e40\\u0e15\\u0e47\\u0e01\", \"\\u0e24\\u0e14\\u0e39\\u0e01\\u0e32\\u0e25\", \"\\u0e25\\u0e2d\\u0e07\\u0e40\\u0e21\\u0e19\\u0e39\", \"\\u0e25\\u0e2d\\u0e14\\u0e0a\\u0e48\\u0e2d\\u0e07\", \"\\u0e25\\u0e2d\\u0e14\\u0e0a\\u0e48\\u0e2d\\u0e07\\u0e2a\\u0e34\\u0e07\\u0e04\\u0e42\\u0e1b\\u0e23\", \"\\u0e25\\u0e32\\u0e01\", \"\\u0e25\\u0e32\\u0e14\\u0e1e\\u0e23\\u0e49\\u0e32\\u0e27\", \"\\u0e25\\u0e32\\u0e40\\u0e15\\u0e49\", \"\\u0e25\\u0e37\\u0e48\\u0e19\", \"\\u0e25\\u0e37\\u0e48\\u0e19\", \"\\u0e25\\u0e39\\u0e01\\u0e0a\\u0e34\\u0e49\\u0e19\\u0e2b\\u0e21\\u0e39\", \"\\u0e25\\u0e48\\u0e27\\u0e07\\u0e2b\\u0e19\\u0e49\\u0e32\", \"\\u0e27\\u0e32\\u0e1f\\u0e40\\u0e1f\\u0e34\\u0e25\", \"\\u0e27\\u0e32\\u0e1f\\u0e40\\u0e1f\\u0e34\\u0e25\", \"\\u0e27\\u0e34\\u0e19\", \"\\u0e27\\u0e34\\u0e27\\u0e14\\u0e35\", \"\\u0e27\\u0e34\\u0e27\\u0e17\\u0e30\\u0e40\\u0e25\", \"\\u0e27\\u0e34\\u0e27\\u0e17\\u0e30\\u0e40\\u0e25\", \"\\u0e27\\u0e48\\u0e32\\u0e2d\\u0e23\\u0e48\\u0e2d\\u0e22\\u0e01\\u0e27\\u0e48\\u0e32\", \"\\u0e28\\u0e39\\u0e19\\u0e22\\u0e4c\", \"\\u0e28\\u0e39\\u0e19\\u0e22\\u0e4c\", \"\\u0e2a\\u0e07\\u0e01\\u0e23\\u0e32\\u0e19\\u0e15\\u0e4c\", \"\\u0e2a\\u0e15\\u0e23\\u0e2d\\u0e40\\u0e1a\\u0e2d\\u0e23\\u0e4c\\u0e23\\u0e35\\u0e48\", \"\\u0e2a\\u0e15\\u0e32\\u0e23\\u0e4c\", \"\\u0e2a\\u0e19\\u0e32\\u0e21\\u0e1a\\u0e34\\u0e19\", \"\\u0e2a\\u0e19\\u0e32\\u0e21\\u0e1a\\u0e34\\u0e19\", \"\\u0e2a\\u0e19\\u0e32\\u0e21\\u0e1a\\u0e34\\u0e19\", \"\\u0e2a\\u0e21\\u0e23\\u0e32\\u0e04\\u0e32\\u0e04\\u0e48\\u0e30\", \"\\u0e2a\\u0e21\\u0e31\\u0e04\\u0e23\", \"\\u0e2a\\u0e2d\\u0e07\\u0e2a\\u0e32\\u0e21\", \"\\u0e2a\\u0e30\\u0e14\\u0e38\\u0e14\\u0e15\\u0e32\", \"\\u0e2a\\u0e30\\u0e2a\\u0e21\", \"\\u0e2a\\u0e30\\u0e2d\\u0e32\\u0e14\\u0e2a\\u0e30\\u0e2d\\u0e49\\u0e32\\u0e19\", \"\\u0e2a\\u0e31\\u0e15\\u0e27\\u0e4c\", \"\\u0e2a\\u0e31\\u0e48\\u0e07\\u0e01\\u0e25\\u0e31\\u0e1a\\u0e1a\\u0e49\\u0e32\\u0e19\", \"\\u0e2a\\u0e31\\u0e48\\u0e07\\u0e44\\u0e14\\u0e49\\u0e44\\u0e21\\u0e48\\u0e2d\\u0e31\\u0e49\\u0e19\", \"\\u0e2a\\u0e40\\u0e15\\u0e4a\\u0e01\", \"\\u0e2a\\u0e42\\u0e04\\u0e19\", \"\\u0e2b\\u0e19\\u0e49\\u0e32\\u0e15\\u0e32\\u0e2d\\u0e32\\u0e2b\\u0e32\\u0e23\", \"\\u0e2b\\u0e19\\u0e49\\u0e32\\u0e15\\u0e32\\u0e2d\\u0e32\\u0e2b\\u0e32\\u0e23\", \"\\u0e2b\\u0e21\\u0e14\\u0e40\\u0e01\\u0e25\\u0e35\\u0e49\\u0e22\\u0e07\", \"\\u0e2b\\u0e21\\u0e2d\", \"\\u0e2b\\u0e21\\u0e31\\u0e48\\u0e19\\u0e42\\u0e16\", \"\\u0e2b\\u0e21\\u0e31\\u0e48\\u0e19\\u0e42\\u0e16\", \"\\u0e2b\\u0e21\\u0e39\\u0e01\\u0e23\\u0e30\\u0e17\\u0e30\", \"\\u0e2b\\u0e21\\u0e39\\u0e08\\u0e38\\u0e48\\u0e21\", \"\\u0e2b\\u0e21\\u0e39\\u0e15\\u0e38\\u0e4b\\u0e19\", \"\\u0e2b\\u0e21\\u0e39\\u0e15\\u0e38\\u0e4b\\u0e19\", \"\\u0e2b\\u0e21\\u0e39\\u0e19\\u0e38\\u0e48\\u0e21\", \"\\u0e2b\\u0e21\\u0e39\\u0e19\\u0e38\\u0e48\\u0e21\", \"\\u0e2b\\u0e21\\u0e39\\u0e19\\u0e38\\u0e48\\u0e21\", \"\\u0e2b\\u0e21\\u0e39\\u0e1b\\u0e34\\u0e49\\u0e07\", \"\\u0e2b\\u0e21\\u0e39\\u0e21\\u0e30\\u0e19\\u0e32\\u0e27\", \"\\u0e2b\\u0e21\\u0e39\\u0e41\\u0e14\\u0e14\\u0e40\\u0e14\\u0e35\\u0e22\\u0e27\", \"\\u0e2b\\u0e21\\u0e49\\u0e2d\\u0e44\\u0e1f\", \"\\u0e2b\\u0e25\\u0e1a\", \"\\u0e2b\\u0e27\\u0e32\\u0e19\", \"\\u0e2b\\u0e27\\u0e32\\u0e19\", \"\\u0e2b\\u0e27\\u0e32\\u0e19\", \"\\u0e2b\\u0e27\\u0e32\\u0e19\\u0e19\\u0e49\\u0e2d\\u0e22\", \"\\u0e2b\\u0e27\\u0e32\\u0e19\\u0e19\\u0e49\\u0e2d\\u0e22\", \"\\u0e2b\\u0e27\\u0e37\\u0e2d\\u0e2b\\u0e27\\u0e32\", \"\\u0e2b\\u0e2d\\u0e21\\u0e14\\u0e35\", \"\\u0e2b\\u0e2d\\u0e22\", \"\\u0e2b\\u0e2d\\u0e22\\u0e17\\u0e2d\\u0e14\", \"\\u0e2b\\u0e2d\\u0e22\\u0e19\\u0e32\\u0e07\\u0e23\\u0e21\", \"\\u0e2b\\u0e2d\\u0e22\\u0e19\\u0e32\\u0e07\\u0e23\\u0e21\", \"\\u0e2b\\u0e31\\u0e27\\u0e1b\\u0e25\\u0e32\", \"\\u0e2b\\u0e32\\u0e14\\u0e43\\u0e2b\\u0e0d\\u0e48\", \"\\u0e2b\\u0e34\\u0e21\\u0e30\", \"\\u0e2b\\u0e48\\u0e2d\\u0e01\\u0e25\\u0e31\\u0e1a\", \"\\u0e2b\\u0e48\\u0e2d\\u0e01\\u0e25\\u0e31\\u0e1a\", \"\\u0e2b\\u0e48\\u0e2d\\u0e01\\u0e25\\u0e31\\u0e1a\", \"\\u0e2d\\u0e23\\u0e48\\u0e2d\\u0e22\", \"\\u0e2d\\u0e23\\u0e48\\u0e2d\\u0e22\", \"\\u0e2d\\u0e23\\u0e48\\u0e2d\\u0e22\", \"\\u0e2d\\u0e23\\u0e48\\u0e2d\\u0e22\\u0e04\\u0e30\", \"\\u0e2d\\u0e23\\u0e48\\u0e2d\\u0e22\\u0e04\\u0e30\", \"\\u0e2d\\u0e23\\u0e48\\u0e2d\\u0e22\\u0e04\\u0e30\", \"\\u0e2d\\u0e23\\u0e48\\u0e2d\\u0e22\\u0e14\\u0e35\", \"\\u0e2d\\u0e23\\u0e48\\u0e2d\\u0e22\\u0e14\\u0e35\", \"\\u0e2d\\u0e23\\u0e48\\u0e2d\\u0e22\\u0e14\\u0e35\", \"\\u0e2d\\u0e23\\u0e48\\u0e2d\\u0e22\\u0e21\\u0e32\\u0e01\", \"\\u0e2d\\u0e23\\u0e48\\u0e2d\\u0e22\\u0e21\\u0e32\\u0e01\", \"\\u0e2d\\u0e23\\u0e48\\u0e2d\\u0e22\\u0e21\\u0e32\\u0e01\", \"\\u0e2d\\u0e23\\u0e48\\u0e2d\\u0e22\\u0e21\\u0e32\\u0e01\\u0e40\\u0e25\\u0e22\", \"\\u0e2d\\u0e23\\u0e48\\u0e2d\\u0e22\\u0e22\", \"\\u0e2d\\u0e23\\u0e48\\u0e2d\\u0e22\\u0e22\", \"\\u0e2d\\u0e23\\u0e48\\u0e2d\\u0e22\\u0e22\", \"\\u0e2d\\u0e23\\u0e48\\u0e2d\\u0e22\\u0e2d\\u0e22\\u0e39\\u0e48\", \"\\u0e2d\\u0e2d\\u0e1f\\u0e1f\\u0e34\\u0e28\", \"\\u0e2d\\u0e2d\\u0e1f\\u0e1f\\u0e34\\u0e28\", \"\\u0e2d\\u0e2d\\u0e1f\\u0e1f\\u0e34\\u0e28\", \"\\u0e2d\\u0e2d\\u0e40\\u0e14\\u0e34\\u0e23\\u0e4c\\u0e1f\", \"\\u0e2d\\u0e31\\u0e07\\u0e01\\u0e24\\u0e29\", \"\\u0e2d\\u0e31\\u0e19\\u0e19\\u0e35\\u0e49\\u0e2d\\u0e23\\u0e48\\u0e2d\\u0e22\", \"\\u0e2d\\u0e31\\u0e19\\u0e19\\u0e35\\u0e49\\u0e2d\\u0e23\\u0e48\\u0e2d\\u0e22\", \"\\u0e2d\\u0e32\\u0e21\\u0e48\\u0e32\", \"\\u0e2d\\u0e32\\u0e2b\\u0e32\\u0e23\\u0e17\\u0e30\\u0e40\\u0e25\\u0e2a\\u0e14\", \"\\u0e2d\\u0e32\\u0e2b\\u0e32\\u0e23\\u0e17\\u0e30\\u0e40\\u0e25\\u0e2a\\u0e14\", \"\\u0e2d\\u0e32\\u0e2b\\u0e32\\u0e23\\u0e17\\u0e30\\u0e40\\u0e25\\u0e2a\\u0e14\", \"\\u0e2d\\u0e32\\u0e2b\\u0e32\\u0e23\\u0e17\\u0e30\\u0e40\\u0e25\\u0e2a\\u0e14\", \"\\u0e2d\\u0e32\\u0e2b\\u0e32\\u0e23\\u0e17\\u0e30\\u0e40\\u0e25\\u0e2a\\u0e14\", \"\\u0e2d\\u0e32\\u0e2b\\u0e32\\u0e23\\u0e21\\u0e35\\u0e43\\u0e2b\\u0e49\\u0e40\\u0e25\\u0e37\\u0e2d\\u0e01\\u0e2b\\u0e25\\u0e32\\u0e01\\u0e2b\\u0e25\\u0e32\\u0e22\", \"\\u0e2d\\u0e32\\u0e2b\\u0e32\\u0e23\\u0e2d\\u0e23\\u0e48\\u0e2d\\u0e22\\u0e17\\u0e38\\u0e01\\u0e2d\\u0e22\\u0e48\\u0e32\\u0e07\", \"\\u0e2d\\u0e32\\u0e2b\\u0e32\\u0e23\\u0e2d\\u0e2d\\u0e01\\u0e40\\u0e23\\u0e47\\u0e27\", \"\\u0e2d\\u0e32\\u0e2b\\u0e32\\u0e23\\u0e2d\\u0e2d\\u0e01\\u0e40\\u0e23\\u0e47\\u0e27\", \"\\u0e2d\\u0e32\\u0e2b\\u0e32\\u0e23\\u0e40\\u0e01\\u0e32\\u0e2b\\u0e25\\u0e35\", \"\\u0e2d\\u0e32\\u0e2b\\u0e32\\u0e23\\u0e40\\u0e01\\u0e32\\u0e2b\\u0e25\\u0e35\", \"\\u0e2d\\u0e32\\u0e2b\\u0e32\\u0e23\\u0e40\\u0e2b\\u0e19\\u0e37\\u0e2d\", \"\\u0e2d\\u0e34\\u0e19\\u0e40\\u0e14\\u0e35\\u0e22\", \"\\u0e2d\\u0e34\\u0e19\\u0e40\\u0e15\\u0e2d\\u0e23\\u0e4c\", \"\\u0e2d\\u0e34\\u0e2a\\u0e25\\u0e32\\u0e21\", \"\\u0e2d\\u0e35\\u0e01\\u0e40\\u0e22\\u0e2d\\u0e30\", \"\\u0e2d\\u0e35\\u0e2a\\u0e32\", \"\\u0e2d\\u0e38\\u0e1b\\u0e01\\u0e23\\u0e13\\u0e4c\", \"\\u0e2d\\u0e40\\u0e21\\u0e23\\u0e34\\u0e01\\u0e32\", \"\\u0e2e\\u0e30\", \"\\u0e2e\\u0e31\\u0e19\\u0e19\\u0e35\\u0e48\\u0e42\\u0e17\\u0e2a\", \"\\u0e2e\\u0e48\\u0e2d\\u0e07\\u0e01\\u0e07\", \"\\u0e2e\\u0e48\\u0e2d\\u0e07\\u0e01\\u0e07\", \"\\u0e2e\\u0e48\\u0e2d\\u0e07\\u0e01\\u0e07\", \"\\u0e2e\\u0e48\\u0e2d\\u0e07\\u0e01\\u0e07\", \"\\u0e31\\u0e07\", \"\\u0e40\\u0e01\\u0e25\\u0e47\\u0e14\\u0e19\\u0e49\\u0e33\\u0e41\\u0e02\\u0e47\\u0e07\", \"\\u0e40\\u0e01\\u0e35\\u0e4a\\u0e22\\u0e27\\u0e19\\u0e49\\u0e33\", \"\\u0e40\\u0e02\\u0e35\\u0e22\\u0e27\\u0e2b\\u0e27\\u0e32\\u0e19\", \"\\u0e40\\u0e02\\u0e49\\u0e21\\u0e02\\u0e49\\u0e19\", \"\\u0e40\\u0e02\\u0e49\\u0e21\\u0e02\\u0e49\\u0e19\", \"\\u0e40\\u0e02\\u0e49\\u0e21\\u0e02\\u0e49\\u0e19\", \"\\u0e40\\u0e04\\u0e23\\u0e1b\", \"\\u0e40\\u0e04\\u0e23\\u0e1b\", \"\\u0e40\\u0e04\\u0e23\\u0e37\\u0e48\\u0e2d\\u0e07\\u0e14\\u0e37\\u0e48\\u0e21\", \"\\u0e40\\u0e04\\u0e23\\u0e37\\u0e48\\u0e2d\\u0e07\\u0e14\\u0e37\\u0e48\\u0e21\", \"\\u0e40\\u0e04\\u0e23\\u0e37\\u0e48\\u0e2d\\u0e07\\u0e14\\u0e37\\u0e48\\u0e21\", \"\\u0e40\\u0e04\\u0e23\\u0e37\\u0e48\\u0e2d\\u0e07\\u0e40\\u0e22\\u0e2d\\u0e30\\u0e14\\u0e35\", \"\\u0e40\\u0e04\\u0e25\\u0e37\\u0e2d\\u0e1a\", \"\\u0e40\\u0e04\\u0e32\\u0e19\\u0e4c\\u0e40\\u0e15\\u0e2d\\u0e23\\u0e4c\", \"\\u0e40\\u0e04\\u0e32\\u0e40\\u0e15\\u0e2d\\u0e23\\u0e4c\", \"\\u0e40\\u0e04\\u0e32\\u0e40\\u0e15\\u0e2d\\u0e23\\u0e4c\", \"\\u0e40\\u0e04\\u0e32\\u0e40\\u0e15\\u0e2d\\u0e23\\u0e4c\", \"\\u0e40\\u0e04\\u0e49\\u0e32\\u0e02\\u0e32\\u0e22\", \"\\u0e40\\u0e0a\\u0e48\\u0e32\", \"\\u0e40\\u0e0b\\u0e47\\u0e17\", \"\\u0e40\\u0e0b\\u0e47\\u0e17\", \"\\u0e40\\u0e0b\\u0e47\\u0e17\", \"\\u0e40\\u0e0b\\u0e47\\u0e19\\u0e17\\u0e23\\u0e31\\u0e25\\u0e25\\u0e32\\u0e14\\u0e1e\\u0e23\\u0e49\\u0e32\\u0e27\", \"\\u0e40\\u0e14\\u0e47\\u0e01\\u0e40\\u0e2a\\u0e23\\u0e34\\u0e1f\", \"\\u0e40\\u0e14\\u0e47\\u0e01\\u0e40\\u0e2a\\u0e23\\u0e34\\u0e1f\", \"\\u0e40\\u0e14\\u0e47\\u0e01\\u0e40\\u0e2a\\u0e23\\u0e34\\u0e1f\", \"\\u0e40\\u0e15\\u0e34\\u0e21\\u0e44\\u0e14\\u0e49\\u0e44\\u0e21\\u0e48\\u0e2d\\u0e31\\u0e49\\u0e19\", \"\\u0e40\\u0e19\\u0e37\\u0e49\\u0e2d\", \"\\u0e40\\u0e19\\u0e37\\u0e49\\u0e2d\", \"\\u0e40\\u0e19\\u0e37\\u0e49\\u0e2d\", \"\\u0e40\\u0e19\\u0e37\\u0e49\\u0e2d\\u0e15\\u0e38\\u0e4b\\u0e19\", \"\\u0e40\\u0e19\\u0e37\\u0e49\\u0e2d\\u0e27\\u0e31\\u0e27\", \"\\u0e40\\u0e19\\u0e37\\u0e49\\u0e2d\\u0e2d\", \"\\u0e40\\u0e1a\\u0e19\\u0e42\\u0e15\\u0e30\", \"\\u0e40\\u0e1a\\u0e2d\\u0e40\\u0e01\\u0e2d\\u0e23\\u0e4c\", \"\\u0e40\\u0e1b\\u0e34\\u0e14\\u0e41\\u0e25\\u0e49\\u0e27\", \"\\u0e40\\u0e1b\\u0e47\\u0e14\\u0e1b\\u0e31\\u0e01\\u0e01\\u0e34\\u0e48\\u0e07\", \"\\u0e40\\u0e1b\\u0e47\\u0e19\\u0e23\\u0e49\\u0e32\\u0e19\\u0e40\\u0e25\\u0e47\\u0e01\", \"\\u0e40\\u0e1b\\u0e47\\u0e19\\u0e23\\u0e49\\u0e32\\u0e19\\u0e40\\u0e25\\u0e47\\u0e01\", \"\\u0e40\\u0e1b\\u0e47\\u0e19\\u0e23\\u0e49\\u0e32\\u0e19\\u0e40\\u0e25\\u0e47\\u0e01\", \"\\u0e40\\u0e1b\\u0e48\\u0e32\", \"\\u0e40\\u0e1c\\u0e32\", \"\\u0e40\\u0e1c\\u0e32\", \"\\u0e40\\u0e1c\\u0e47\\u0e14\\u0e21\\u0e32\\u0e01\", \"\\u0e40\\u0e1e\\u0e08\", \"\\u0e40\\u0e1e\\u0e08\", \"\\u0e40\\u0e1e\\u0e0a\\u0e23\\u0e1a\\u0e38\\u0e23\\u0e35\", \"\\u0e40\\u0e1e\\u0e0a\\u0e23\\u0e1a\\u0e38\\u0e23\\u0e35\", \"\\u0e40\\u0e1e\\u0e37\\u0e48\\u0e2d\\u0e19\\u0e1d\\u0e39\\u0e07\", \"\\u0e40\\u0e1e\\u0e37\\u0e48\\u0e2d\\u0e19\\u0e1d\\u0e39\\u0e07\", \"\\u0e40\\u0e1f\\u0e23\\u0e19\\u0e1f\\u0e23\\u0e32\\u0e22\", \"\\u0e40\\u0e21\\u0e19\\u0e39\\u0e02\\u0e19\\u0e21\", \"\\u0e40\\u0e21\\u0e19\\u0e39\\u0e1b\\u0e23\\u0e30\\u0e08\\u0e33\", \"\\u0e40\\u0e21\\u0e25\\u0e48\\u0e2d\\u0e19\", \"\\u0e40\\u0e21\\u0e49\\u0e32\\u0e17\\u0e4c\", \"\\u0e40\\u0e22\\u0e37\\u0e2d\\u0e19\", \"\\u0e40\\u0e23\\u0e48\\u0e07\\u0e23\\u0e35\\u0e1a\", \"\\u0e40\\u0e25\\u0e19\", \"\\u0e40\\u0e25\\u0e35\\u0e22\\u0e19\", \"\\u0e40\\u0e25\\u0e35\\u0e22\\u0e1a\", \"\\u0e40\\u0e25\\u0e37\\u0e2d\\u0e01\\u0e44\\u0e21\\u0e48\\u0e16\\u0e39\\u0e01\", \"\\u0e40\\u0e27\\u0e49\\u0e19\", \"\\u0e40\\u0e27\\u0e49\\u0e19\", \"\\u0e40\\u0e2a\\u0e37\\u0e49\\u0e2d\\u0e1c\\u0e49\\u0e32\", \"\\u0e40\\u0e2b\\u0e21\\u0e32\", \"\\u0e40\\u0e2b\\u0e25\\u0e27\", \"\\u0e40\\u0e2d\\u0e2d\", \"\\u0e40\\u0e2d\\u0e40\\u0e0a\\u0e35\\u0e22\", \"\\u0e40\\u0e40\\u0e1e\\u0e07\", \"\\u0e40\\u0e40\\u0e1e\\u0e07\", \"\\u0e40\\u0e40\\u0e1e\\u0e07\", \"\\u0e40\\u0e40\\u0e27\\u0e30\", \"\\u0e41\\u0e01\\u0e07\\u0e01\\u0e23\\u0e30\\u0e2b\\u0e23\\u0e35\\u0e48\", \"\\u0e41\\u0e01\\u0e07\\u0e01\\u0e30\\u0e2b\\u0e23\\u0e35\", \"\\u0e41\\u0e01\\u0e07\\u0e2a\\u0e49\\u0e21\", \"\\u0e41\\u0e08\\u0e4b\\u0e27\", \"\\u0e41\\u0e19\\u0e30\\u0e19\\u0e33\", \"\\u0e41\\u0e19\\u0e30\\u0e19\\u0e33\", \"\\u0e41\\u0e19\\u0e30\\u0e19\\u0e33\", \"\\u0e41\\u0e1a\\u0e1a\\u0e40\\u0e22\\u0e47\\u0e19\", \"\\u0e41\\u0e1b\\u0e25\\u0e01\", \"\\u0e41\\u0e1b\\u0e25\\u0e01\", \"\\u0e41\\u0e1b\\u0e25\\u0e01\", \"\\u0e41\\u0e1e\\u0e07\", \"\\u0e41\\u0e1e\\u0e07\", \"\\u0e41\\u0e1e\\u0e07\", \"\\u0e41\\u0e1e\\u0e07\\u0e44\\u0e1b\\u0e19\\u0e34\\u0e14\", \"\\u0e41\\u0e1f\", \"\\u0e41\\u0e21\\u0e25\\u0e07\\u0e27\\u0e31\\u0e19\", \"\\u0e41\\u0e21\\u0e27\", \"\\u0e41\\u0e2d\\u0e1a\\u0e41\\u0e1e\\u0e07\", \"\\u0e42\\u0e04\\u0e23\\u0e32\\u0e0a\", \"\\u0e42\\u0e14\\u0e19\\u0e31\\u0e17\", \"\\u0e42\\u0e17\\u0e2a\", \"\\u0e42\\u0e17\\u0e2a\", \"\\u0e42\\u0e1a\\u0e01\", \"\\u0e42\\u0e1a\\u0e01\", \"\\u0e42\\u0e22\\u0e40\\u0e01\\u0e34\\u0e23\\u0e4c\\u0e15\", \"\\u0e42\\u0e23\\u0e1a\\u0e34\\u0e19\", \"\\u0e42\\u0e25\", \"\\u0e42\\u0e25\\u0e25\\u0e30\", \"\\u0e43\\u0e0a\\u0e49\\u0e44\\u0e14\\u0e49\", \"\\u0e43\\u0e0a\\u0e49\\u0e44\\u0e14\\u0e49\", \"\\u0e43\\u0e0a\\u0e49\\u0e44\\u0e14\\u0e49\", \"\\u0e43\\u0e19\\u0e23\\u0e49\\u0e32\\u0e19\\u0e15\\u0e01\\u0e41\\u0e15\\u0e48\\u0e07\", \"\\u0e43\\u0e2a\\u0e48\\u0e16\\u0e38\\u0e07\", \"\\u0e43\\u0e2b\\u0e0d\\u0e48\", \"\\u0e43\\u0e2b\\u0e0d\\u0e48\", \"\\u0e43\\u0e2b\\u0e0d\\u0e48\", \"\\u0e43\\u0e2b\\u0e49\\u0e40\\u0e25\\u0e37\\u0e2d\\u0e01\\u0e40\\u0e22\\u0e2d\\u0e30\\u0e21\\u0e32\\u0e01\", \"\\u0e43\\u0e2b\\u0e49\\u0e40\\u0e25\\u0e37\\u0e2d\\u0e01\\u0e40\\u0e22\\u0e2d\\u0e30\\u0e21\\u0e32\\u0e01\", \"\\u0e44\\u0e01\\u0e48\\u0e04\\u0e32\\u0e23\\u0e32\\u0e40\\u0e01\\u0e30\", \"\\u0e44\\u0e01\\u0e48\\u0e1c\\u0e31\\u0e14\\u0e40\\u0e21\\u0e47\\u0e14\\u0e21\\u0e30\\u0e21\\u0e48\\u0e27\\u0e07\", \"\\u0e44\\u0e02\\u0e48\\u0e21\\u0e38\\u0e01\", \"\\u0e44\\u0e02\\u0e48\\u0e40\\u0e08\\u0e35\\u0e22\\u0e27\\u0e2b\\u0e21\\u0e39\\u0e2a\\u0e31\\u0e1a\", \"\\u0e44\\u0e14\\u0e48\", \"\\u0e44\\u0e14\\u0e49\\u0e40\\u0e22\\u0e2d\\u0e30\\u0e21\\u0e32\\u0e01\", \"\\u0e44\\u0e21\\u0e48\\u0e41\\u0e1e\\u0e07\\u0e21\\u0e32\\u0e01\", \"\\u0e44\\u0e21\\u0e48\\u0e42\\u0e14\\u0e14\\u0e40\\u0e14\\u0e48\\u0e19\", \"\\u0e44\\u0e21\\u0e48\\u0e44\\u0e14\\u0e49\\u0e2d\\u0e23\\u0e48\\u0e2d\\u0e22\", \"\\u0e44\\u0e21\\u0e48\\u0e44\\u0e14\\u0e49\\u0e2d\\u0e23\\u0e48\\u0e2d\\u0e22\", \"\\u0e44\\u0e21\\u0e48\\u0e44\\u0e14\\u0e49\\u0e2d\\u0e23\\u0e48\\u0e2d\\u0e22\", \"\\u0e44\\u0e2a\\u0e49\\u0e04\\u0e23\\u0e35\\u0e21\", \"\\u0e44\\u0e2a\\u0e49\\u0e16\\u0e31\\u0e48\\u0e27\", \"\\u0e44\\u0e2a\\u0e49\\u0e16\\u0e31\\u0e48\\u0e27\", \"\\u0e44\\u0e2a\\u0e49\\u0e2b\\u0e21\\u0e39\\u0e2a\\u0e31\\u0e1a\", \"\\u0e44\\u0e2a\\u0e49\\u0e2d\\u0e31\\u0e48\\u0e27\", \"\\u0e44\\u0e2a\\u0e49\\u0e2d\\u0e31\\u0e48\\u0e27\", \"\\u0e49\\u0e04\\u0e32\\u0e42\\u0e1a\\u0e19\\u0e32\\u0e23\\u0e48\\u0e32\", \"\\u2019\", \"\\u25a0\", \"\\u263a\", \"\\u2b50\"]}, \"R\": 30, \"lambda.step\": 0.01, \"plot.opts\": {\"xlab\": \"PC1\", \"ylab\": \"PC2\"}, \"topic.order\": [4, 7, 6, 3, 5, 8, 2, 1]};\n",
       "\n",
       "function LDAvis_load_lib(url, callback){\n",
       "  var s = document.createElement('script');\n",
       "  s.src = url;\n",
       "  s.async = true;\n",
       "  s.onreadystatechange = s.onload = callback;\n",
       "  s.onerror = function(){console.warn(\"failed to load library \" + url);};\n",
       "  document.getElementsByTagName(\"head\")[0].appendChild(s);\n",
       "}\n",
       "\n",
       "if(typeof(LDAvis) !== \"undefined\"){\n",
       "   // already loaded: just create the visualization\n",
       "   !function(LDAvis){\n",
       "       new LDAvis(\"#\" + \"ldavis_el28811403196434996006223020923\", ldavis_el28811403196434996006223020923_data);\n",
       "   }(LDAvis);\n",
       "}else if(typeof define === \"function\" && define.amd){\n",
       "   // require.js is available: use it to load d3/LDAvis\n",
       "   require.config({paths: {d3: \"https://cdnjs.cloudflare.com/ajax/libs/d3/3.5.5/d3.min\"}});\n",
       "   require([\"d3\"], function(d3){\n",
       "      window.d3 = d3;\n",
       "      LDAvis_load_lib(\"https://cdn.rawgit.com/bmabey/pyLDAvis/files/ldavis.v1.0.0.js\", function(){\n",
       "        new LDAvis(\"#\" + \"ldavis_el28811403196434996006223020923\", ldavis_el28811403196434996006223020923_data);\n",
       "      });\n",
       "    });\n",
       "}else{\n",
       "    // require.js not available: dynamically load d3 & LDAvis\n",
       "    LDAvis_load_lib(\"https://cdnjs.cloudflare.com/ajax/libs/d3/3.5.5/d3.min.js\", function(){\n",
       "         LDAvis_load_lib(\"https://cdn.rawgit.com/bmabey/pyLDAvis/files/ldavis.v1.0.0.js\", function(){\n",
       "                 new LDAvis(\"#\" + \"ldavis_el28811403196434996006223020923\", ldavis_el28811403196434996006223020923_data);\n",
       "            })\n",
       "         });\n",
       "}\n",
       "</script>"
      ],
      "text/plain": [
       "PreparedData(topic_coordinates=              x         y  topics  cluster       Freq\n",
       "topic                                                \n",
       "3     -0.265160 -0.104205       1        1  39.634701\n",
       "6     -0.135723  0.135618       2        1  21.675507\n",
       "5      0.004915  0.090545       3        1  13.888466\n",
       "2      0.083315 -0.025923       4        1   5.403368\n",
       "4      0.079789 -0.024546       5        1   5.031348\n",
       "7      0.079634 -0.024464       6        1   5.019700\n",
       "1      0.076952 -0.023609       7        1   4.755290\n",
       "0      0.076279 -0.023417       8        1   4.591615, topic_info=          Term        Freq       Total Category  logprob  loglift\n",
       "5727             96.000000   96.000000  Default  30.0000  30.0000\n",
       "131       กาแฟ  256.000000  256.000000  Default  29.0000  29.0000\n",
       "28        ราคา  526.000000  526.000000  Default  28.0000  28.0000\n",
       "125     รสชาติ  511.000000  511.000000  Default  27.0000  27.0000\n",
       "51     น้ำจิ้ม  265.000000  265.000000  Default  26.0000  26.0000\n",
       "...        ...         ...         ...      ...      ...      ...\n",
       "4718  ท้องถิ่น    5.637342    9.250317   Topic8  -7.1649   2.5857\n",
       "2585  เพชรบุรี    4.645779    7.050148   Topic8  -7.3583   2.6638\n",
       "2762     ตะโกน    4.663144    9.196172   Topic8  -7.3546   2.4018\n",
       "3517  ราชพฤกษ์    4.258545    6.757522   Topic8  -7.4454   2.6192\n",
       "2873       มัว    4.400431    8.149740   Topic8  -7.4126   2.4647\n",
       "\n",
       "[431 rows x 6 columns], token_table=       Topic      Freq          Term\n",
       "term                                \n",
       "5727       8  0.997674              \n",
       "4387       2  0.991451          กกกก\n",
       "720        5  0.888442         กย่าง\n",
       "3089       2  0.962326       กรอบมาก\n",
       "13834      5  0.852302  กรอบอร่อยมาก\n",
       "...      ...       ...           ...\n",
       "8948       5  0.996479    ้คาโบนาร่า\n",
       "8276       4  0.846566             ’\n",
       "10348      8  0.827051             ■\n",
       "15953      6  0.993158             ☺\n",
       "3556       2  0.997080             ⭐\n",
       "\n",
       "[563 rows x 3 columns], R=30, lambda_step=0.01, plot_opts={'xlab': 'PC1', 'ylab': 'PC2'}, topic_order=[4, 7, 6, 3, 5, 8, 2, 1])"
      ]
     },
     "execution_count": 18,
     "metadata": {},
     "output_type": "execute_result"
    }
   ],
   "source": [
    "%%time\n",
    "pyLDAvis.gensim.prepare(model, corpus, id2word, n_jobs = 15)"
   ]
  },
  {
   "cell_type": "code",
   "execution_count": 19,
   "metadata": {
    "scrolled": false
   },
   "outputs": [
    {
     "name": "stdout",
     "output_type": "stream",
     "text": [
      "CPU times: user 1min 20s, sys: 547 ms, total: 1min 21s\n",
      "Wall time: 1min 25s\n"
     ]
    },
    {
     "data": {
      "text/html": [
       "\n",
       "<link rel=\"stylesheet\" type=\"text/css\" href=\"https://cdn.rawgit.com/bmabey/pyLDAvis/files/ldavis.v1.0.0.css\">\n",
       "\n",
       "\n",
       "<div id=\"ldavis_el288114031920723528072345621\"></div>\n",
       "<script type=\"text/javascript\">\n",
       "\n",
       "var ldavis_el288114031920723528072345621_data = {\"mdsDat\": {\"x\": [-0.16929086800509094, -0.208951268540139, 0.08459928664176586, 0.11727208908755817, 0.021859465482113836, 0.06978161413978796, 0.06903198184203185, 0.0156976993519723], \"y\": [0.23297376267361547, -0.007152197429359821, 0.13489646668443436, -0.05655319636816218, -0.062061146773314375, -0.10408867025653352, -0.031762071195528825, -0.10625294733515112], \"topics\": [1, 2, 3, 4, 5, 6, 7, 8], \"cluster\": [1, 1, 1, 1, 1, 1, 1, 1], \"Freq\": [39.63139724731445, 21.678466796875, 13.889204025268555, 5.402656078338623, 5.031559467315674, 5.019268989562988, 4.755577564239502, 4.591869831085205]}, \"tinfo\": {\"Term\": [\"\", \"\\u0e01\\u0e32\\u0e41\\u0e1f\", \"\\u0e23\\u0e32\\u0e04\\u0e32\", \"\\u0e23\\u0e2a\\u0e0a\\u0e32\\u0e15\\u0e34\", \"\\u0e19\\u0e49\\u0e33\\u0e08\\u0e34\\u0e49\\u0e21\", \"\\u0e0a\\u0e2d\\u0e1a\", \"\\u2b50\", \"\\u0e40\\u0e04\\u0e23\\u0e37\\u0e48\\u0e2d\\u0e07\\u0e14\\u0e37\\u0e48\\u0e21\", \"\\u0e2d\\u0e23\\u0e48\\u0e2d\\u0e22\", \"\\u0e1a\\u0e23\\u0e34\\u0e01\\u0e32\\u0e23\", \"\\u0e2b\\u0e27\\u0e32\\u0e19\", \"\\u0e0a\\u0e32\\u0e40\\u0e02\\u0e35\\u0e22\\u0e27\", \"\\u0e19\\u0e49\\u0e33\\u0e0b\\u0e38\\u0e1b\", \"\\u0e1e\\u0e19\\u0e31\\u0e01\\u0e07\\u0e32\\u0e19\", \"\\u0e1a\\u0e23\\u0e23\\u0e22\\u0e32\\u0e01\\u0e32\\u0e28\", \"\\u0e41\\u0e19\\u0e30\\u0e19\\u0e33\", \"\\u0e40\\u0e19\\u0e37\\u0e49\\u0e2d\", \"\\u0e43\\u0e2b\\u0e0d\\u0e48\", \"\\u0e02\\u0e19\\u0e21\\u0e1b\\u0e31\\u0e07\", \"\\u0e2d\\u0e23\\u0e48\\u0e2d\\u0e22\\u0e21\\u0e32\\u0e01\", \"\\u0e01\\u0e4b\\u0e27\\u0e22\\u0e40\\u0e15\\u0e35\\u0e4b\\u0e22\\u0e27\", \"\\u0e40\\u0e02\\u0e49\\u0e21\\u0e02\\u0e49\\u0e19\", \"\\u0e18\\u0e23\\u0e23\\u0e21\\u0e14\\u0e32\", \"\\u0e19\\u0e32\\u0e19\", \"\\u0e21\\u0e32\\u0e25\\u0e2d\\u0e07\", \"\\u0e41\\u0e21\\u0e27\", \"\\u0e42\\u0e22\\u0e40\\u0e01\\u0e34\\u0e23\\u0e4c\\u0e15\", \"\\u0e2d\\u0e23\\u0e48\\u0e2d\\u0e22\\u0e14\\u0e35\", \"\\u0e02\\u0e49\\u0e32\\u0e27\\u0e02\\u0e32\\u0e2b\\u0e21\\u0e39\", \"\\u0e1b\\u0e32\\u0e17\\u0e48\\u0e2d\\u0e07\\u0e42\\u0e01\\u0e4b\", \"\\u0e01\\u0e23\\u0e38\\u0e07\\u0e40\\u0e17\\u0e1e\", \"\\u0e02\\u0e49\\u0e32\\u0e27\\u0e1c\\u0e31\\u0e14\\u0e1b\\u0e39\", \"\\u0e1a\\u0e23\\u0e34\\u0e01\\u0e32\\u0e23\\u0e14\\u0e35\\u0e21\\u0e32\\u0e01\", \"\\u0e1c\\u0e31\\u0e14\\u0e44\\u0e17\\u0e22\", \"\\u0e04\\u0e49\\u0e32\", \"\\u0e19\\u0e49\\u0e33\\u0e41\\u0e02\\u0e47\\u0e07\\u0e44\\u0e2a\", \"\\u0e25\\u0e48\\u0e27\\u0e07\\u0e2b\\u0e19\\u0e49\\u0e32\", \"\\u0e01\\u0e38\\u0e49\\u0e07\\u0e41\\u0e21\\u0e48\\u0e19\\u0e49\\u0e33\", \"\\u0e2b\\u0e21\\u0e49\\u0e2d\\u0e44\\u0e1f\", \"\\u0e19\\u0e49\\u0e2d\\u0e22\\u0e44\\u0e1b\", \"\\u0e01\\u0e38\\u0e49\\u0e07\\u0e40\\u0e1c\\u0e32\", \"\\u0e15\\u0e49\\u0e21\\u0e22\\u0e33\\u0e01\\u0e38\\u0e49\\u0e07\", \"\\u0e1b\\u0e25\\u0e32\\u0e01\\u0e23\\u0e30\\u0e1e\\u0e07\\u0e17\\u0e2d\\u0e14\\u0e19\\u0e49\\u0e33\\u0e1b\\u0e25\\u0e32\", \"\\u0e40\\u0e1f\\u0e23\\u0e19\\u0e1f\\u0e23\\u0e32\\u0e22\", \"\\u0e19\\u0e49\\u0e33\\u0e1e\\u0e23\\u0e34\\u0e01\", \"\\u0e15\\u0e49\\u0e21\\u0e41\\u0e0b\\u0e48\\u0e1a\", \"\\u0e2b\\u0e2d\\u0e22\\u0e17\\u0e2d\\u0e14\", \"\\u0e2e\\u0e30\", \"\\u0e1b\\u0e23\\u0e30\\u0e01\\u0e32\\u0e23\", \"\\u0e41\\u0e1e\\u0e07\\u0e44\\u0e1b\\u0e19\\u0e34\\u0e14\", \"\\u0e19\\u0e37\\u0e49\\u0e2d\", \"\\u0e23\\u0e48\\u0e21\", \"\\u0e40\\u0e19\\u0e37\\u0e49\\u0e2d\\u0e2d\", \"\\u0e01\\u0e31\\u0e49\\u0e07\", \"\\u0e2a\\u0e30\\u0e2d\\u0e32\\u0e14\\u0e2a\\u0e30\\u0e2d\\u0e49\\u0e32\\u0e19\", \"\\u0e01\\u0e4b\\u0e27\\u0e22\\u0e40\\u0e15\\u0e35\\u0e4b\\u0e22\\u0e27\\u0e2b\\u0e21\\u0e39\", \"\\u0e41\\u0e01\\u0e07\\u0e2a\\u0e49\\u0e21\", \"\\u0e40\\u0e19\\u0e37\\u0e49\\u0e2d\\u0e15\\u0e38\\u0e4b\\u0e19\", \"\\u0e44\\u0e14\\u0e49\\u0e40\\u0e22\\u0e2d\\u0e30\\u0e21\\u0e32\\u0e01\", \"\\u0e43\\u0e2a\\u0e48\\u0e16\\u0e38\\u0e07\", \"\\u0e1a\\u0e38\\u0e1f\\u0e40\\u0e1f\\u0e48\", \"\\u0e2b\\u0e2d\\u0e22\", \"\\u0e40\\u0e19\\u0e37\\u0e49\\u0e2d\\u0e27\\u0e31\\u0e27\", \"\\u0e40\\u0e1c\\u0e32\", \"\\u0e19\\u0e49\\u0e33\\u0e02\\u0e49\\u0e19\", \"\\u0e19\\u0e49\\u0e33\\u0e08\\u0e34\\u0e49\\u0e21\", \"\\u0e01\\u0e23\\u0e30\\u0e40\\u0e1e\\u0e23\\u0e32\", \"\\u0e40\\u0e1c\\u0e47\\u0e14\\u0e21\\u0e32\\u0e01\", \"\\u0e0b\\u0e35\\u0e1f\\u0e39\\u0e49\\u0e14\", \"\\u0e19\\u0e49\\u0e33\\u0e08\\u0e34\\u0e49\\u0e21\\u0e2d\\u0e23\\u0e48\\u0e2d\\u0e22\", \"\\u0e19\\u0e49\\u0e33\\u0e0b\\u0e38\\u0e1b\", \"\\u0e19\\u0e49\\u0e33\\u0e08\\u0e34\\u0e49\\u0e21\\u0e0b\\u0e35\\u0e1f\\u0e39\\u0e49\\u0e14\", \"\\u0e01\\u0e4b\\u0e27\\u0e22\\u0e40\\u0e15\\u0e35\\u0e4b\\u0e22\\u0e27\", \"\\u0e28\\u0e39\\u0e19\\u0e22\\u0e4c\", \"\\u0e2b\\u0e2d\\u0e22\\u0e19\\u0e32\\u0e07\\u0e23\\u0e21\", \"\\u0e01\\u0e23\\u0e30\\u0e40\\u0e1e\\u0e32\\u0e30\", \"\\u0e40\\u0e19\\u0e37\\u0e49\\u0e2d\", \"\\u0e1b\\u0e25\\u0e32\\u0e23\\u0e49\\u0e32\", \"\\u0e1e\\u0e19\\u0e31\\u0e01\\u0e07\\u0e32\\u0e19\", \"\\u0e1a\\u0e23\\u0e34\\u0e01\\u0e32\\u0e23\", \"\\u0e23\\u0e32\\u0e04\\u0e32\", \"\\u0e2d\\u0e23\\u0e48\\u0e2d\\u0e22\", \"\\u0e43\\u0e2b\\u0e0d\\u0e48\", \"\\u0e23\\u0e2a\\u0e0a\\u0e32\\u0e15\\u0e34\", \"\\u0e41\\u0e19\\u0e30\\u0e19\\u0e33\", \"\\u0e18\\u0e23\\u0e23\\u0e21\\u0e14\\u0e32\", \"\\u0e2d\\u0e23\\u0e48\\u0e2d\\u0e22\\u0e21\\u0e32\\u0e01\", \"\\u0e19\\u0e32\\u0e19\", \"\\u0e0a\\u0e2d\\u0e1a\", \"\\u0e43\\u0e0a\\u0e49\\u0e44\\u0e14\\u0e49\", \"\\u0e04\\u0e23\\u0e2d\\u0e1a\\u0e04\\u0e23\\u0e31\\u0e27\", \"\\u0e41\\u0e1e\\u0e07\", \"\\u0e1a\\u0e23\\u0e23\\u0e22\\u0e32\\u0e01\\u0e32\\u0e28\", \"\\u0e41\\u0e1b\\u0e25\\u0e01\", \"\\u0e0d\\u0e35\\u0e48\\u0e1b\\u0e38\\u0e48\\u0e19\", \"\\u0e1b\\u0e01\\u0e15\\u0e34\", \"\\u0e2d\\u0e23\\u0e48\\u0e2d\\u0e22\\u0e14\\u0e35\", \"\\u0e2b\\u0e27\\u0e32\\u0e19\", \"\\u0e21\\u0e32\\u0e25\\u0e2d\\u0e07\", \"\\u0e40\\u0e02\\u0e49\\u0e21\\u0e02\\u0e49\\u0e19\", \"\\u0e1a\\u0e23\\u0e23\\u0e22\\u0e32\\u0e01\\u0e32\\u0e28\\u0e23\\u0e49\\u0e32\\u0e19\", \"\\u0e1b\\u0e23\\u0e31\\u0e1a\\u0e1b\\u0e23\\u0e38\\u0e07\", \"\\u0e40\\u0e04\\u0e23\\u0e37\\u0e48\\u0e2d\\u0e07\\u0e14\\u0e37\\u0e48\\u0e21\", \"\\u0e23\\u0e32\\u0e04\\u0e32\\u0e16\\u0e39\\u0e01\", \"\\u0e02\\u0e19\\u0e21\\u0e1b\\u0e31\\u0e07\", \"\\u2b50\", \"\\u0e41\\u0e21\\u0e27\", \"\\u0e02\\u0e49\\u0e32\\u0e27\\u0e02\\u0e32\\u0e2b\\u0e21\\u0e39\", \"\\u0e42\\u0e14\\u0e19\\u0e31\\u0e17\", \"\\u0e01\\u0e01\\u0e01\\u0e01\", \"\\u0e41\\u0e01\\u0e07\\u0e01\\u0e30\\u0e2b\\u0e23\\u0e35\", \"\\u0e2d\\u0e31\\u0e07\\u0e01\\u0e24\\u0e29\", \"\\u0e2a\\u0e31\\u0e48\\u0e07\\u0e01\\u0e25\\u0e31\\u0e1a\\u0e1a\\u0e49\\u0e32\\u0e19\", \"\\u0e23\\u0e32\\u0e04\\u0e32\\u0e1b\\u0e23\\u0e30\\u0e2b\\u0e22\\u0e31\\u0e14\", \"\\u0e44\\u0e21\\u0e48\\u0e41\\u0e1e\\u0e07\\u0e21\\u0e32\\u0e01\", \"\\u0e0a\\u0e32\\u0e21\\u0e30\\u0e19\\u0e32\\u0e27\", \"\\u0e44\\u0e21\\u0e48\\u0e42\\u0e14\\u0e14\\u0e40\\u0e14\\u0e48\\u0e19\", \"\\u0e2d\\u0e23\\u0e48\\u0e2d\\u0e22\\u0e2d\\u0e22\\u0e39\\u0e48\", \"\\u0e25\\u0e32\\u0e14\\u0e1e\\u0e23\\u0e49\\u0e32\\u0e27\", \"\\u0e1b\\u0e31\\u0e07\\u0e40\\u0e22\\u0e47\\u0e19\", \"\\u0e41\\u0e1f\", \"\\u0e40\\u0e2d\\u0e2d\", \"\\u0e2d\\u0e40\\u0e21\\u0e23\\u0e34\\u0e01\\u0e32\", \"\\u0e40\\u0e25\\u0e35\\u0e22\\u0e1a\", \"\\u0e40\\u0e22\\u0e37\\u0e2d\\u0e19\", \"\\u0e21\\u0e32\\u0e01\\u0e32\\u0e23\\u0e2d\\u0e07\", \"\\u0e2d\\u0e23\\u0e48\\u0e2d\\u0e22\\u0e21\\u0e32\\u0e01\\u0e40\\u0e25\\u0e22\", \"\\u0e02\\u0e2d\\u0e1a\", \"\\u0e1a\\u0e23\\u0e23\\u0e22\\u0e32\\u0e01\\u0e32\\u0e28\\u0e02\\u0e2d\\u0e07\\u0e23\\u0e49\\u0e32\\u0e19\", \"\\u0e1e\\u0e32\\u0e23\\u0e32\\u0e01\\u0e2d\\u0e19\", \"\\u0e2a\\u0e30\\u0e2a\\u0e21\", \"\\u0e2a\\u0e15\\u0e23\\u0e2d\\u0e40\\u0e1a\\u0e2d\\u0e23\\u0e4c\\u0e23\\u0e35\\u0e48\", \"\\u0e0a\\u0e21\\u0e1e\\u0e39\", \"\\u0e01\\u0e23\\u0e2d\\u0e1a\\u0e21\\u0e32\\u0e01\", \"\\u0e2d\\u0e32\\u0e2b\\u0e32\\u0e23\\u0e2d\\u0e23\\u0e48\\u0e2d\\u0e22\\u0e17\\u0e38\\u0e01\\u0e2d\\u0e22\\u0e48\\u0e32\\u0e07\", \"\\u0e21\\u0e35\\u0e2b\\u0e25\\u0e32\\u0e22\\u0e2a\\u0e32\\u0e02\\u0e32\", \"\\u0e27\\u0e32\\u0e1f\\u0e40\\u0e1f\\u0e34\\u0e25\", \"\\u0e2b\\u0e21\\u0e39\\u0e19\\u0e38\\u0e48\\u0e21\", \"\\u0e08\\u0e32\\u0e19\\u0e40\\u0e25\\u0e47\\u0e01\", \"\\u0e01\\u0e32\\u0e41\\u0e1f\", \"\\u0e40\\u0e04\\u0e23\\u0e1b\", \"\\u0e1e\\u0e19\\u0e31\\u0e01\\u0e07\\u0e32\\u0e19\\u0e1a\\u0e23\\u0e34\\u0e01\\u0e32\\u0e23\\u0e14\\u0e35\\u0e21\\u0e32\\u0e01\", \"\\u0e44\\u0e21\\u0e48\\u0e44\\u0e14\\u0e49\\u0e2d\\u0e23\\u0e48\\u0e2d\\u0e22\", \"\\u0e04\\u0e32\\u0e23\\u0e32\\u0e40\\u0e21\\u0e25\", \"\\u0e02\\u0e2d\\u0e07\\u0e04\\u0e32\\u0e27\", \"\\u0e1a\\u0e23\\u0e23\\u0e22\\u0e32\\u0e22\", \"\\u0e0a\\u0e32\\u0e40\\u0e02\\u0e35\\u0e22\\u0e27\", \"\\u0e40\\u0e04\\u0e23\\u0e37\\u0e48\\u0e2d\\u0e07\\u0e14\\u0e37\\u0e48\\u0e21\", \"\\u0e02\\u0e19\\u0e21\\u0e1b\\u0e31\\u0e07\", \"\\u0e2b\\u0e27\\u0e32\\u0e19\\u0e19\\u0e49\\u0e2d\\u0e22\", \"\\u0e02\\u0e19\\u0e21\\u0e1b\\u0e31\\u0e07\\u0e1b\\u0e34\\u0e49\\u0e07\", \"\\u0e40\\u0e1e\\u0e37\\u0e48\\u0e2d\\u0e19\\u0e1d\\u0e39\\u0e07\", \"\\u0e2b\\u0e27\\u0e32\\u0e19\", \"\\u0e0a\\u0e2d\\u0e1a\", \"\\u0e1a\\u0e23\\u0e23\\u0e22\\u0e32\\u0e01\\u0e32\\u0e28\\u0e43\\u0e19\\u0e23\\u0e49\\u0e32\\u0e19\", \"\\u0e23\\u0e2a\\u0e0a\\u0e32\\u0e15\\u0e34\", \"\\u0e1a\\u0e23\\u0e23\\u0e22\\u0e32\\u0e01\\u0e32\\u0e28\", \"\\u0e23\\u0e32\\u0e04\\u0e32\", \"\\u0e2d\\u0e23\\u0e48\\u0e2d\\u0e22\", \"\\u0e40\\u0e02\\u0e49\\u0e21\\u0e02\\u0e49\\u0e19\", \"\\u0e41\\u0e19\\u0e30\\u0e19\\u0e33\", \"\\u0e1a\\u0e23\\u0e34\\u0e01\\u0e32\\u0e23\", \"\\u0e21\\u0e32\\u0e25\\u0e2d\\u0e07\", \"\\u0e1e\\u0e19\\u0e31\\u0e01\\u0e07\\u0e32\\u0e19\", \"\\u0e43\\u0e2b\\u0e0d\\u0e48\", \"\\u0e2d\\u0e23\\u0e48\\u0e2d\\u0e22\\u0e21\\u0e32\\u0e01\", \"\\u0e2d\\u0e23\\u0e48\\u0e2d\\u0e22\\u0e14\\u0e35\", \"\\u0e40\\u0e19\\u0e37\\u0e49\\u0e2d\", \"\\u0e1b\\u0e01\\u0e15\\u0e34\", \"\\u0e1a\\u0e23\\u0e23\\u0e22\\u0e32\\u0e01\\u0e32\\u0e28\\u0e23\\u0e49\\u0e32\\u0e19\", \"\\u0e19\\u0e32\\u0e19\", \"\\u0e18\\u0e23\\u0e23\\u0e21\\u0e14\\u0e32\", \"\\u0e40\\u0e1b\\u0e47\\u0e19\\u0e23\\u0e49\\u0e32\\u0e19\\u0e40\\u0e25\\u0e47\\u0e01\", \"\\u0e41\\u0e1e\\u0e07\", \"\\u0e42\\u0e22\\u0e40\\u0e01\\u0e34\\u0e23\\u0e4c\\u0e15\", \"\\u0e1b\\u0e32\\u0e17\\u0e48\\u0e2d\\u0e07\\u0e42\\u0e01\\u0e4b\", \"\\u0e23\\u0e32\\u0e22\", \"\\u0e23\\u0e49\\u0e32\\u0e19\\u0e2a\\u0e40\\u0e15\\u0e47\\u0e01\", \"\\u0e40\\u0e04\\u0e32\\u0e19\\u0e4c\\u0e40\\u0e15\\u0e2d\\u0e23\\u0e4c\", \"\\u0e1e\\u0e23\\u0e30\", \"\\u0e2e\\u0e31\\u0e19\\u0e19\\u0e35\\u0e48\\u0e42\\u0e17\\u0e2a\", \"\\u0e44\\u0e02\\u0e48\\u0e21\\u0e38\\u0e01\", \"\\u0e1a\\u0e34\\u0e07\", \"\\u0e25\\u0e32\\u0e40\\u0e15\\u0e49\", \"\\u0e15\\u0e30\\u0e44\\u0e04\\u0e23\\u0e49\", \"\\u0e2b\\u0e21\\u0e39\\u0e01\\u0e23\\u0e30\\u0e17\\u0e30\", \"\\u0e25\\u0e39\\u0e01\\u0e0a\\u0e34\\u0e49\\u0e19\\u0e2b\\u0e21\\u0e39\", \"\\u0e40\\u0e21\\u0e19\\u0e39\\u0e1b\\u0e23\\u0e30\\u0e08\\u0e33\", \"\\u0e2a\\u0e40\\u0e15\\u0e4a\\u0e01\", \"\\u0e01\\u0e23\\u0e38\\u0e07\\u0e40\\u0e17\\u0e1e\\u0e2f\", \"\\u0e2a\\u0e31\\u0e15\\u0e27\\u0e4c\", \"\\u0e2d\\u0e32\\u0e2b\\u0e32\\u0e23\\u0e40\\u0e2b\\u0e19\\u0e37\\u0e2d\", \"\\u0e15\\u0e33\\u0e16\\u0e32\\u0e14\", \"\\u0e40\\u0e2b\\u0e25\\u0e27\", \"\\u0e2b\\u0e25\\u0e1a\", \"\\u0e1a\\u0e34\\u0e07\\u0e0b\\u0e39\", \"\\u0e02\\u0e48\\u0e32\\u0e27\", \"\\u0e2b\\u0e21\\u0e39\\u0e41\\u0e14\\u0e14\\u0e40\\u0e14\\u0e35\\u0e22\\u0e27\", \"\\u0e14\\u0e36\\u0e07\\u0e14\\u0e39\\u0e14\", \"\\u0e40\\u0e04\\u0e25\\u0e37\\u0e2d\\u0e1a\", \"\\u0e0b\\u0e39\", \"\\u0e08\\u0e21\\u0e39\\u0e01\", \"\\u0e2d\\u0e38\\u0e1b\\u0e01\\u0e23\\u0e13\\u0e4c\", \"\\u0e1f\\u0e31\\u0e01\\u0e17\\u0e2d\\u0e07\", \"\\u0e1e\\u0e31\\u0e12\\u0e19\\u0e32\", \"\\u0e1c\\u0e31\\u0e14\\u0e44\\u0e17\", \"\\u0e2b\\u0e32\\u0e14\\u0e43\\u0e2b\\u0e0d\\u0e48\", \"\\u0e02\\u0e19\\u0e21\\u0e08\\u0e35\\u0e1a\", \"\\u0e02\\u0e49\\u0e32\\u0e27\\u0e2b\\u0e21\\u0e39\\u0e01\\u0e23\\u0e2d\\u0e1a\", \"\\u0e1c\\u0e25\", \"\\u0e01\\u0e23\\u0e38\\u0e1a\\u0e01\\u0e23\\u0e2d\\u0e1a\", \"\\u0e21\\u0e37\\u0e49\\u0e2d\\u0e01\\u0e25\\u0e32\\u0e07\\u0e27\\u0e31\\u0e19\", \"\\u0e1e\\u0e32\\u0e22\", \"\\u0e2d\\u0e32\\u0e2b\\u0e32\\u0e23\\u0e17\\u0e30\\u0e40\\u0e25\\u0e2a\\u0e14\", \"\\u0e40\\u0e0b\\u0e47\\u0e17\", \"\\u0e0a\\u0e32\\u0e27\\u0e15\\u0e48\\u0e32\\u0e07\\u0e0a\\u0e32\\u0e15\\u0e34\", \"\\u0e1c\\u0e39\\u0e49\\u0e0a\\u0e32\\u0e22\", \"\\u0e2b\\u0e21\\u0e39\\u0e15\\u0e38\\u0e4b\\u0e19\", \"\\u0e23\\u0e2a\\u0e0a\\u0e32\\u0e15\\u0e34\", \"\\u0e2d\\u0e23\\u0e48\\u0e2d\\u0e22\", \"\\u0e0a\\u0e2d\\u0e1a\", \"\\u0e23\\u0e32\\u0e04\\u0e32\", \"\\u0e02\\u0e49\\u0e32\\u0e27\\u0e2b\\u0e21\\u0e39\\u0e41\\u0e14\\u0e07\", \"\\u0e19\\u0e49\\u0e33\\u0e0b\\u0e38\\u0e1b\", \"\\u0e0a\\u0e35\\u0e2a\\u0e40\\u0e04\\u0e49\\u0e01\", \"\\u0e25\\u0e2d\\u0e14\\u0e0a\\u0e48\\u0e2d\\u0e07\", \"\\u0e02\\u0e49\\u0e32\\u0e27\\u0e2b\\u0e21\\u0e01\\u0e44\\u0e01\\u0e48\", \"\\u0e02\\u0e19\\u0e21\\u0e16\\u0e49\\u0e27\\u0e22\", \"\\u0e25\\u0e2d\\u0e14\\u0e0a\\u0e48\\u0e2d\\u0e07\\u0e2a\\u0e34\\u0e07\\u0e04\\u0e42\\u0e1b\\u0e23\", \"\\u0e44\\u0e01\\u0e48\\u0e1c\\u0e31\\u0e14\\u0e40\\u0e21\\u0e47\\u0e14\\u0e21\\u0e30\\u0e21\\u0e48\\u0e27\\u0e07\", \"\\u0e15\\u0e48\\u0e32\\u0e07\\u0e1b\\u0e23\\u0e30\\u0e40\\u0e17\\u0e28\", \"\\u0e2b\\u0e21\\u0e39\\u0e1b\\u0e34\\u0e49\\u0e07\", \"\\u0e2b\\u0e21\\u0e39\\u0e08\\u0e38\\u0e48\\u0e21\", \"\\u0e1b\\u0e25\\u0e32\\u0e01\\u0e30\\u0e1e\\u0e07\", \"\\u0e40\\u0e40\\u0e27\\u0e30\", \"\\u0e44\\u0e01\\u0e48\\u0e04\\u0e32\\u0e23\\u0e32\\u0e40\\u0e01\\u0e30\", \"\\u0e42\\u0e23\\u0e1a\\u0e34\\u0e19\", \"\\u0e01\\u0e30\\u0e17\\u0e30\\u0e23\\u0e49\\u0e2d\\u0e19\", \"\\u0e2a\\u0e2d\\u0e07\\u0e2a\\u0e32\\u0e21\", \"\\u0e21\\u0e31\\u0e48\\u0e27\", \"\\u0e04\\u0e31\\u0e1e\\u0e40\\u0e04\\u0e49\\u0e01\", \"\\u0e19\\u0e38\\u0e48\\u0e21\\u0e2d\\u0e23\\u0e48\\u0e2d\\u0e22\\u0e21\\u0e32\\u0e01\", \"\\u0e02\\u0e49\\u0e32\\u0e27\\u0e2b\\u0e21\\u0e01\", \"\\u0e22\\u0e33\\u0e41\\u0e0b\\u0e25\\u0e21\\u0e2d\\u0e19\", \"\\u0e01\\u0e49\\u0e2d\\u0e2d\\u0e23\\u0e48\\u0e2d\\u0e22\", \"\\u0e01\\u0e23\\u0e30\\u0e1a\\u0e35\\u0e48\", \"\\u0e41\\u0e1a\\u0e1a\\u0e40\\u0e22\\u0e47\\u0e19\", \"\\u0e2a\\u0e21\\u0e31\\u0e04\\u0e23\", \"\\u0e27\\u0e34\\u0e19\", \"\\u0e1b\\u0e25\\u0e32\\u0e01\\u0e23\\u0e2d\\u0e1a\", \"\\u2019\", \"\\u0e02\\u0e19\\u0e38\\u0e19\", \"\\u0e01\\u0e49\\u0e2d\\u0e42\\u0e2d\\u0e40\\u0e04\", \"\\u0e01\\u0e32\\u0e23\\u0e23\\u0e2d\\u0e04\\u0e2d\\u0e22\", \"\\u0e1a\\u0e39\\u0e14\", \"\\u0e1f\\u0e32\\u0e23\\u0e4c\\u0e21\", \"\\u0e27\\u0e34\\u0e27\\u0e14\\u0e35\", \"\\u0e1b\\u0e39\\u0e1c\\u0e31\\u0e14\\u0e1c\\u0e07\\u0e01\\u0e23\\u0e30\\u0e2b\\u0e23\\u0e35\\u0e48\", \"\\u0e2d\\u0e32\\u0e2b\\u0e32\\u0e23\\u0e2d\\u0e2d\\u0e01\\u0e40\\u0e23\\u0e47\\u0e27\", \"\\u0e21\\u0e32\\u0e23\\u0e22\\u0e32\\u0e17\", \"\\u0e40\\u0e2b\\u0e21\\u0e32\", \"\\u0e04\\u0e19\\u0e40\\u0e22\\u0e2d\\u0e30\\u0e15\\u0e25\\u0e2d\\u0e14\", \"\\u0e17\\u0e4a\\u0e2d\\u0e1b\\u0e1b\\u0e34\\u0e49\\u0e07\", \"\\u0e43\\u0e2b\\u0e49\\u0e40\\u0e25\\u0e37\\u0e2d\\u0e01\\u0e40\\u0e22\\u0e2d\\u0e30\\u0e21\\u0e32\\u0e01\", \"\\u0e1a\\u0e34\\u0e19\", \"\\u0e40\\u0e40\\u0e1e\\u0e07\", \"\\u0e2b\\u0e48\\u0e2d\\u0e01\\u0e25\\u0e31\\u0e1a\", \"\\u0e2a\\u0e19\\u0e32\\u0e21\\u0e1a\\u0e34\\u0e19\", \"\\u0e40\\u0e14\\u0e47\\u0e01\\u0e40\\u0e2a\\u0e23\\u0e34\\u0e1f\", \"\\u0e40\\u0e21\\u0e25\\u0e48\\u0e2d\\u0e19\", \"\\u0e2b\\u0e21\\u0e2d\", \"\\u0e2b\\u0e31\\u0e27\\u0e1b\\u0e25\\u0e32\", \"\\u0e0a\\u0e39\\u0e04\\u0e23\\u0e35\\u0e21\", \"\\u0e40\\u0e2d\\u0e40\\u0e0a\\u0e35\\u0e22\", \"\\u0e40\\u0e25\\u0e37\\u0e2d\\u0e01\\u0e44\\u0e21\\u0e48\\u0e16\\u0e39\\u0e01\", \"\\u0e0b\\u0e38\\u0e1b\\u0e01\\u0e23\\u0e30\\u0e14\\u0e39\\u0e01\", \"\\u0e40\\u0e2a\\u0e37\\u0e49\\u0e2d\\u0e1c\\u0e49\\u0e32\", \"\\u0e19\\u0e48\\u0e32\\u0e19\", \"\\u0e25\\u0e32\\u0e01\", \"\\u0e49\\u0e04\\u0e32\\u0e42\\u0e1a\\u0e19\\u0e32\\u0e23\\u0e48\\u0e32\", \"\\u0e40\\u0e01\\u0e35\\u0e4a\\u0e22\\u0e27\\u0e19\\u0e49\\u0e33\", \"\\u0e1a\\u0e23\\u0e34\\u0e01\\u0e23\", \"\\u0e1b\\u0e25\\u0e32\\u0e40\\u0e19\\u0e37\\u0e49\\u0e2d\\u0e2d\", \"\\u0e2d\\u0e34\\u0e19\\u0e40\\u0e14\\u0e35\\u0e22\", \"\\u0e02\\u0e2d\\u0e19\\u0e41\\u0e01\\u0e48\\u0e19\", \"\\u0e01\\u0e23\\u0e2d\\u0e1a\\u0e2d\\u0e23\\u0e48\\u0e2d\\u0e22\\u0e21\\u0e32\\u0e01\", \"\\u0e02\\u0e21\\u0e34\\u0e49\\u0e19\", \"\\u0e0a\\u0e4a\\u0e2d\\u0e04\\u0e42\\u0e01\\u0e41\\u0e25\\u0e15\", \"\\u0e40\\u0e1a\\u0e19\\u0e42\\u0e15\\u0e30\", \"\\u0e01\\u0e22\\u0e48\\u0e32\\u0e07\", \"\\u0e2a\\u0e21\\u0e23\\u0e32\\u0e04\\u0e32\\u0e04\\u0e48\\u0e30\", \"\\u0e1a\\u0e31\\u0e07\", \"\\u0e43\\u0e19\\u0e23\\u0e49\\u0e32\\u0e19\\u0e15\\u0e01\\u0e41\\u0e15\\u0e48\\u0e07\", \"\\u0e40\\u0e04\\u0e23\\u0e37\\u0e48\\u0e2d\\u0e07\\u0e40\\u0e22\\u0e2d\\u0e30\\u0e14\\u0e35\", \"\\u0e44\\u0e14\\u0e48\", \"\\u0e1a\\u0e30\\u0e2b\\u0e21\\u0e35\\u0e48\\u0e2b\\u0e22\\u0e01\", \"\\u0e2d\\u0e35\\u0e2a\\u0e32\", \"\\u0e1c\\u0e25\\u0e34\\u0e15\", \"\\u0e0a\\u0e32\\u0e44\\u0e02\\u0e48\\u0e21\\u0e38\\u0e01\", \"\\u0e02\\u0e19\\u0e21\\u0e1c\\u0e31\\u0e01\\u0e01\\u0e32\\u0e14\", \"\\u0e01\\u0e47\\u0e2d\\u0e23\\u0e48\\u0e2d\\u0e22\\u0e21\\u0e32\\u0e01\", \"\\u0e42\\u0e17\\u0e2a\", \"\\u0e42\\u0e1a\\u0e01\", \"\\u0e44\\u0e2a\\u0e49\\u0e2d\\u0e31\\u0e48\\u0e27\", \"\\u0e2b\\u0e19\\u0e49\\u0e32\\u0e15\\u0e32\\u0e2d\\u0e32\\u0e2b\\u0e32\\u0e23\", \"\\u0e44\\u0e2a\\u0e49\\u0e16\\u0e31\\u0e48\\u0e27\", \"\\u0e0a\\u0e37\\u0e14\", \"\\u0e27\\u0e34\\u0e27\\u0e17\\u0e30\\u0e40\\u0e25\", \"\\u0e04\\u0e2d\\u0e19\\u0e42\\u0e14\", \"\\u0e22\\u0e38\\u0e42\\u0e23\\u0e1b\", \"\\u0e2e\\u0e48\\u0e2d\\u0e07\\u0e01\\u0e07\", \"\\u0e2d\\u0e31\\u0e19\\u0e19\\u0e35\\u0e49\\u0e2d\\u0e23\\u0e48\\u0e2d\\u0e22\", \"\\u0e0b\\u0e2d\\u0e2a\\u0e23\\u0e32\\u0e14\", \"\\u0e2a\\u0e42\\u0e04\\u0e19\", \"\\u0e23\\u0e2a\\u0e0a\\u0e32\\u0e15\\u0e14\\u0e35\", \"\\u263a\", \"\\u0e41\\u0e01\\u0e07\\u0e01\\u0e23\\u0e30\\u0e2b\\u0e23\\u0e35\\u0e48\", \"\\u0e2d\\u0e35\\u0e01\\u0e40\\u0e22\\u0e2d\\u0e30\", \"\\u0e1b\\u0e23\\u0e30\\u0e0a\\u0e38\\u0e21\", \"\\u0e1c\\u0e34\\u0e14\\u0e1e\\u0e25\\u0e32\\u0e14\", \"\\u0e40\\u0e1b\\u0e47\\u0e14\\u0e1b\\u0e31\\u0e01\\u0e01\\u0e34\\u0e48\\u0e07\", \"\\u0e1b\\u0e25\\u0e32\\u0e01\\u0e30\\u0e1e\\u0e07\\u0e17\\u0e2d\\u0e14\\u0e19\\u0e49\\u0e33\\u0e1b\\u0e25\\u0e32\", \"\\u0e21\\u0e2d\\u0e22\", \"\\u0e22\\u0e31\\u0e14\\u0e44\\u0e2a\\u0e49\", \"\\u0e42\\u0e25\", \"\\u0e41\\u0e2d\\u0e1a\\u0e41\\u0e1e\\u0e07\", \"\\u0e1a\\u0e30\\u0e2b\\u0e21\\u0e35\\u0e48\\u0e40\\u0e22\", \"\\u0e01\\u0e25\\u0e49\\u0e27\\u0e22\\u0e1b\\u0e34\\u0e49\\u0e07\", \"\\u0e2d\\u0e32\\u0e2b\\u0e32\\u0e23\\u0e21\\u0e35\\u0e43\\u0e2b\\u0e49\\u0e40\\u0e25\\u0e37\\u0e2d\\u0e01\\u0e2b\\u0e25\\u0e32\\u0e01\\u0e2b\\u0e25\\u0e32\\u0e22\", \"\\u0e1a\\u0e23\\u0e23\\u0e22\\u0e32\\u0e22\\u0e01\\u0e32\\u0e28\", \"\\u0e2b\\u0e27\\u0e37\\u0e2d\\u0e2b\\u0e27\\u0e32\", \"\\u0e40\\u0e23\\u0e48\\u0e07\\u0e23\\u0e35\\u0e1a\", \"\\u0e21\\u0e32\\u0e01\\u0e34\\u0e19\", \"\\u0e42\\u0e25\\u0e25\\u0e30\", \"\\u0e1b\\u0e27\\u0e14\", \"\\u0e17\\u0e48\\u0e35\", \"\\u0e04\", \"\\u0e14\\u0e32\\u0e14\\u0e1f\\u0e49\\u0e32\", \"\\u0e16\\u0e48\\u0e32\\u0e22\\u0e40\\u0e17\", \"\\u0e40\\u0e1b\\u0e34\\u0e14\\u0e41\\u0e25\\u0e49\\u0e27\", \"\\u0e0b\\u0e35\\u0e0b\\u0e48\\u0e32\\u0e2a\\u0e25\\u0e31\\u0e14\", \"\\u0e04\\u0e23\\u0e48\\u0e30\", \"\\u0e2b\\u0e21\\u0e39\\u0e21\\u0e30\\u0e19\\u0e32\\u0e27\", \"\\u0e2d\\u0e32\\u0e2b\\u0e32\\u0e23\\u0e40\\u0e01\\u0e32\\u0e2b\\u0e25\\u0e35\", \"\\u0e40\\u0e21\\u0e49\\u0e32\\u0e17\\u0e4c\", \"\\u0e19\\u0e49\\u0e33\\u0e0b\\u0e38\\u0e1b\\u0e01\\u0e25\\u0e21\\u0e01\\u0e25\\u0e48\\u0e2d\\u0e21\", \"\\u0e08\\u0e31\\u0e01\\u0e23\\u0e22\\u0e32\\u0e19\", \"\\u0e02\\u0e19\\u0e32\\u0e14\\u0e01\\u0e25\\u0e32\\u0e07\", \"\\u0e23\\u0e32\\u0e04\\u0e32\\u0e04\\u0e48\\u0e2d\\u0e19\\u0e02\\u0e49\\u0e32\\u0e07\\u0e2a\\u0e39\\u0e07\", \"\\u0e25\\u0e37\\u0e48\\u0e19\", \"\\u0e40\\u0e04\\u0e32\\u0e40\\u0e15\\u0e2d\\u0e23\\u0e4c\", \"\\u0e2d\\u0e2d\\u0e1f\\u0e1f\\u0e34\\u0e28\", \"\\u0e1b\\u0e39\\u0e19\\u0e36\\u0e48\\u0e07\", \"\\u0e17\\u0e32\\u0e19\\u0e04\\u0e39\\u0e48\\u0e01\\u0e31\\u0e19\", \"\\u0e10\\u0e32\\u0e19\", \"\\u0e08\\u0e23\\u0e49\\u0e32\", \"\\u0e21\\u0e32\\u0e15\\u0e23\\u0e32\", \"\\u0e1b\\u0e25\\u0e32\\u0e2b\\u0e21\\u0e36\\u0e01\\u0e1c\\u0e31\\u0e14\\u0e44\\u0e02\\u0e48\\u0e40\\u0e04\\u0e47\\u0e21\", \"\\u0e01\\u0e32\\u0e01\\u0e2b\\u0e21\\u0e39\", \"\\u0e31\\u0e07\", \"\\u0e17\\u0e23\\u0e39\", \"\\u0e19\\u0e27\\u0e14\", \"\\u0e27\\u0e48\\u0e32\\u0e2d\\u0e23\\u0e48\\u0e2d\\u0e22\\u0e01\\u0e27\\u0e48\\u0e32\", \"\\u0e44\\u0e2a\\u0e49\\u0e04\\u0e23\\u0e35\\u0e21\", \"\\u0e25\\u0e2d\\u0e07\\u0e40\\u0e21\\u0e19\\u0e39\", \"\\u0e23\\u0e32\\u0e40\\u0e21\\u0e47\\u0e07\", \"\\u0e2b\\u0e2d\\u0e21\\u0e14\\u0e35\", \"\\u0e01\\u0e34\\u0e19\\u0e40\\u0e02\\u0e49\\u0e32\\u0e44\\u0e1b\", \"\\u0e2b\\u0e34\\u0e21\\u0e30\", \"\\u0e2b\\u0e21\\u0e14\\u0e40\\u0e01\\u0e25\\u0e35\\u0e49\\u0e22\\u0e07\", \"\\u0e01\\u0e38\\u0e49\\u0e07\\u0e1e\\u0e31\\u0e19\\u0e2d\\u0e49\\u0e2d\\u0e22\", \"\\u0e14\\u0e34\\u0e48\\u0e07\", \"\\u0e40\\u0e25\\u0e35\\u0e22\\u0e19\", \"\\u0e04\\u0e49\\u0e19\\u0e2b\\u0e32\", \"\\u0e40\\u0e0a\\u0e48\\u0e32\", \"\\u0e44\\u0e2a\\u0e49\\u0e2b\\u0e21\\u0e39\\u0e2a\\u0e31\\u0e1a\", \"\\u0e1b\\u0e25\\u0e32\\u0e40\\u0e04\\u0e47\\u0e21\", \"\\u0e41\\u0e08\\u0e4b\\u0e27\", \"\\u0e2a\\u0e15\\u0e32\\u0e23\\u0e4c\", \"\\u0e2d\\u0e32\\u0e21\\u0e48\\u0e32\", \"\\u0e40\\u0e1b\\u0e48\\u0e32\", \"\\u0e2d\\u0e34\\u0e19\\u0e40\\u0e15\\u0e2d\\u0e23\\u0e4c\", \"\\u0e2a\\u0e30\\u0e14\\u0e38\\u0e14\\u0e15\\u0e32\", \"\\u0e40\\u0e04\\u0e49\\u0e32\\u0e02\\u0e32\\u0e22\", \"\\u0e1e\\u0e35\\u0e48\\u0e2a\\u0e32\\u0e27\", \"\\u0e1e\\u0e22\\u0e32\\u0e1a\\u0e32\\u0e25\", \"\\u0e2d\\u0e34\\u0e2a\\u0e25\\u0e32\\u0e21\", \"\\u0e0a\\u0e32\\u0e15\", \"\\u0e1f\\u0e39\\u0e08\\u0e34\", \"\\u0e2d\\u0e23\\u0e48\\u0e2d\\u0e22\\u0e04\\u0e30\", \"\\u0e40\\u0e27\\u0e49\\u0e19\", \"\\u0e2d\\u0e23\\u0e48\\u0e2d\\u0e22\\u0e22\", \"\\u0e14\\u0e35\\u0e40\\u0e25\\u0e22\\u0e17\\u0e35\\u0e40\\u0e14\\u0e35\\u0e22\\u0e27\", \"\", \"\\u0e41\\u0e21\\u0e25\\u0e07\\u0e27\\u0e31\\u0e19\", \"\\u0e42\\u0e04\\u0e23\\u0e32\\u0e0a\", \"\\u0e40\\u0e01\\u0e25\\u0e47\\u0e14\\u0e19\\u0e49\\u0e33\\u0e41\\u0e02\\u0e47\\u0e07\", \"\\u0e19\\u0e49\\u0e33\\u0e0b\\u0e38\\u0e1a\", \"\\u0e40\\u0e25\\u0e19\", \"\\u0e2a\\u0e07\\u0e01\\u0e23\\u0e32\\u0e19\\u0e15\\u0e4c\", \"\\u0e14\\u0e49\\u0e2d\\u0e22\", \"\\u0e1c\\u0e31\\u0e01\\u0e2b\\u0e27\\u0e32\\u0e19\", \"\\u0e40\\u0e1a\\u0e2d\\u0e40\\u0e01\\u0e2d\\u0e23\\u0e4c\", \"\\u0e15\\u0e49\\u0e21\\u0e41\\u0e0b\\u0e48\\u0e1a\\u0e01\\u0e23\\u0e30\\u0e14\\u0e39\\u0e01\\u0e2d\\u0e48\\u0e2d\\u0e19\", \"\\u0e1c\\u0e31\\u0e14\\u0e2b\\u0e21\\u0e35\\u0e48\", \"\\u0e22\\u0e33\\u0e16\\u0e31\\u0e48\\u0e27\\u0e1e\\u0e25\\u0e39\", \"\\u0e2d\\u0e2d\\u0e40\\u0e14\\u0e34\\u0e23\\u0e4c\\u0e1f\", \"\\u0e04\\u0e1a\", \"\\u0e21\\u0e30\\u0e15\\u0e39\\u0e21\", \"\\u0e1b\\u0e23\\u0e34\\u0e21\\u0e32\\u0e13\\u0e40\\u0e22\\u0e2d\\u0e30\\u0e21\\u0e32\\u0e01\", \"\\u25a0\", \"\\u0e40\\u0e15\\u0e34\\u0e21\\u0e44\\u0e14\\u0e49\\u0e44\\u0e21\\u0e48\\u0e2d\\u0e31\\u0e49\\u0e19\", \"\\u0e40\\u0e21\\u0e19\\u0e39\\u0e02\\u0e19\\u0e21\", \"\\u0e1e\\u0e31\\u0e12\\u0e19\\u0e32\\u0e01\\u0e32\\u0e23\", \"\\u0e40\\u0e02\\u0e35\\u0e22\\u0e27\\u0e2b\\u0e27\\u0e32\\u0e19\", \"\\u0e22\\u0e47\\u0e19\\u0e15\\u0e32\\u0e42\\u0e1f\", \"\\u0e44\\u0e02\\u0e48\\u0e40\\u0e08\\u0e35\\u0e22\\u0e27\\u0e2b\\u0e21\\u0e39\\u0e2a\\u0e31\\u0e1a\", \"\\u0e1a\\u0e32\\u0e19\", \"\\u0e40\\u0e0b\\u0e47\\u0e19\\u0e17\\u0e23\\u0e31\\u0e25\\u0e25\\u0e32\\u0e14\\u0e1e\\u0e23\\u0e49\\u0e32\\u0e27\", \"\\u0e17\\u0e49\\u0e32\", \"\\u0e24\\u0e14\\u0e39\\u0e01\\u0e32\\u0e25\", \"\\u0e1b\\u0e23\\u0e34\\u0e48\\u0e21\", \"\\u0e2a\\u0e31\\u0e48\\u0e07\\u0e44\\u0e14\\u0e49\\u0e44\\u0e21\\u0e48\\u0e2d\\u0e31\\u0e49\\u0e19\", \"\\u0e2b\\u0e21\\u0e31\\u0e48\\u0e19\\u0e42\\u0e16\", \"\\u0e40\\u0e1e\\u0e08\", \"\\u0e15\\u0e33\\u0e21\\u0e31\\u0e48\\u0e27\", \"\\u0e17\\u0e49\\u0e2d\\u0e07\\u0e16\\u0e34\\u0e48\\u0e19\", \"\\u0e40\\u0e1e\\u0e0a\\u0e23\\u0e1a\\u0e38\\u0e23\\u0e35\", \"\\u0e15\\u0e30\\u0e42\\u0e01\\u0e19\", \"\\u0e23\\u0e32\\u0e0a\\u0e1e\\u0e24\\u0e01\\u0e29\\u0e4c\", \"\\u0e21\\u0e31\\u0e27\"], \"Freq\": [96.0, 256.0, 526.0, 511.0, 265.0, 473.0, 91.0, 246.0, 448.0, 364.0, 340.0, 155.0, 255.0, 346.0, 311.0, 334.0, 319.0, 320.0, 156.0, 265.0, 170.0, 222.0, 224.0, 225.0, 214.0, 41.0, 30.0, 205.0, 39.0, 29.0, 46.66233825683594, 53.19985580444336, 43.16245651245117, 42.67825698852539, 39.98460006713867, 37.23439025878906, 36.777774810791016, 35.43943786621094, 44.24147415161133, 34.65152359008789, 32.845863342285156, 45.975341796875, 32.213104248046875, 32.01180648803711, 37.8379020690918, 31.006681442260742, 31.27472496032715, 30.415775299072266, 29.94268035888672, 29.102872848510742, 29.47238540649414, 28.745512008666992, 28.381000518798828, 28.31275177001953, 28.094438552856445, 28.111587524414062, 43.553714752197266, 27.06243133544922, 27.00825309753418, 26.980878829956055, 52.19572830200195, 41.435184478759766, 41.33983612060547, 46.712860107421875, 31.151947021484375, 250.73011779785156, 43.1082763671875, 37.1855583190918, 44.34672927856445, 38.817386627197266, 225.44927978515625, 39.236026763916016, 149.79359436035156, 41.21929168701172, 36.80844497680664, 43.22997283935547, 251.54824829101562, 37.2304573059082, 266.650390625, 276.8721618652344, 383.4138488769531, 329.64404296875, 243.29177856445312, 363.9515686035156, 248.44754028320312, 170.2173614501953, 195.80947875976562, 169.04112243652344, 314.38818359375, 124.28253173828125, 95.8927001953125, 137.9614715576172, 209.9311065673828, 112.33949279785156, 115.73127746582031, 137.9880828857422, 143.7168731689453, 209.26856994628906, 143.1612091064453, 141.57537841796875, 108.28649139404297, 63.1632194519043, 106.46825408935547, 62.87212371826172, 64.24944305419922, 90.82481384277344, 40.66007995605469, 38.848819732666016, 31.600616455078125, 28.79725456237793, 26.912269592285156, 25.984481811523438, 26.36870574951172, 25.29170036315918, 25.15843391418457, 24.28390121459961, 24.09346580505371, 23.977067947387695, 23.687908172607422, 23.18281364440918, 22.902620315551758, 22.794157028198242, 22.626895904541016, 22.62519073486328, 22.113506317138672, 21.71904945373535, 21.734209060668945, 21.65109634399414, 21.579044342041016, 21.525169372558594, 21.33396339416504, 20.738483428955078, 20.6605224609375, 25.42148208618164, 20.52860450744629, 38.55720138549805, 34.42708206176758, 34.87236022949219, 26.81122398376465, 184.4465789794922, 27.369688034057617, 25.746007919311523, 30.311338424682617, 28.168493270874023, 37.8838005065918, 28.174030303955078, 101.58598327636719, 128.7832489013672, 88.86376190185547, 39.66743850708008, 35.139503479003906, 30.818946838378906, 114.57966613769531, 134.09310913085938, 35.02333450317383, 121.55287170410156, 92.74671173095703, 118.56305694580078, 93.42024993896484, 67.48072052001953, 74.47718048095703, 75.33895111083984, 57.4360237121582, 68.0927505493164, 65.44796752929688, 54.61415481567383, 50.14729309082031, 54.66762161254883, 45.52877426147461, 42.90043640136719, 44.64833068847656, 44.512943267822266, 38.05006408691406, 38.928733825683594, 29.728519439697266, 28.858491897583008, 22.654809951782227, 21.52132797241211, 20.92502784729004, 21.381961822509766, 22.107192993164062, 20.77262306213379, 18.964143753051758, 18.936574935913086, 18.16676902770996, 17.78529930114746, 17.794923782348633, 17.594934463500977, 17.820003509521484, 16.889806747436523, 16.450387954711914, 16.421138763427734, 16.18659019470215, 15.970582962036133, 19.579313278198242, 15.758941650390625, 15.710596084594727, 15.490549087524414, 15.359101295471191, 15.33332633972168, 15.197549819946289, 15.229893684387207, 15.347065925598145, 15.298062324523926, 18.086153030395508, 25.675769805908203, 19.716445922851562, 27.716880798339844, 23.910051345825195, 20.219768524169922, 20.489160537719727, 20.307025909423828, 22.088539123535156, 23.812816619873047, 19.910356521606445, 21.46376609802246, 17.81964683532715, 23.59694480895996, 25.872737884521484, 25.356340408325195, 24.56902313232422, 24.41053581237793, 18.577632904052734, 19.71484375, 18.32652473449707, 16.773353576660156, 12.228550910949707, 12.429563522338867, 9.26458740234375, 8.137027740478516, 8.096159934997559, 7.572899341583252, 7.5024333000183105, 6.942985534667969, 6.464977741241455, 6.3655242919921875, 6.257295608520508, 6.241992473602295, 6.110316276550293, 6.042552471160889, 5.960761070251465, 5.984908580780029, 5.79103422164917, 5.811790466308594, 5.777106761932373, 5.729905605316162, 5.678172588348389, 5.612020492553711, 5.527757167816162, 5.452445983886719, 5.410332202911377, 5.354942798614502, 5.242640495300293, 5.216202259063721, 5.199008464813232, 8.801362991333008, 8.356245040893555, 6.291412353515625, 7.459173202514648, 8.788084983825684, 5.934526443481445, 10.394120216369629, 8.530206680297852, 7.312906742095947, 10.09476089477539, 7.426797866821289, 7.9374613761901855, 7.653187274932861, 6.484372138977051, 7.988301753997803, 7.806279182434082, 7.527691841125488, 7.4446635246276855, 6.340967178344727, 6.0045695304870605, 5.875683784484863, 5.7486186027526855, 5.701041221618652, 5.675249099731445, 5.523748397827148, 5.469532012939453, 5.445334434509277, 5.395467281341553, 5.38865327835083, 5.375619411468506, 5.367862224578857, 5.250296592712402, 5.219858169555664, 5.1238813400268555, 5.129463195800781, 5.1023077964782715, 5.084273338317871, 5.035057544708252, 5.04559850692749, 4.95479679107666, 4.913896083831787, 4.851414680480957, 4.902245044708252, 4.738475799560547, 4.7453742027282715, 10.514994621276855, 7.98145866394043, 6.569129467010498, 7.526434421539307, 6.6884765625, 6.216683387756348, 6.488231182098389, 5.791633605957031, 5.866500377655029, 6.2566986083984375, 6.564688682556152, 5.662529468536377, 5.374452590942383, 8.433357238769531, 7.940267086029053, 7.55873441696167, 7.521096229553223, 7.091184139251709, 6.716684341430664, 6.648470878601074, 6.6002888679504395, 6.5227484703063965, 6.112194538116455, 6.063515663146973, 6.070711612701416, 5.925174713134766, 5.9149885177612305, 5.817905902862549, 5.715766429901123, 5.706115245819092, 5.471643924713135, 5.4046125411987305, 5.327328205108643, 5.322085380554199, 5.328190326690674, 5.269052028656006, 5.260287761688232, 5.192791938781738, 5.202579975128174, 5.106578826904297, 5.04973840713501, 4.867656707763672, 4.684585094451904, 11.434531211853027, 6.979185104370117, 8.823463439941406, 8.57044792175293, 10.544885635375977, 10.83514404296875, 6.83324670791626, 6.695572376251221, 6.0312347412109375, 5.460345268249512, 5.416301250457764, 10.944761276245117, 8.078995704650879, 7.735482215881348, 7.52784538269043, 9.068758964538574, 6.989884853363037, 6.878445148468018, 6.25292444229126, 6.159857749938965, 6.169897556304932, 6.011510848999023, 5.846380710601807, 5.84932804107666, 5.351814270019531, 5.307469367980957, 5.341307163238525, 5.213083267211914, 5.250768184661865, 5.18297004699707, 5.029751777648926, 4.944844722747803, 4.602172374725342, 4.522082805633545, 4.6031174659729, 4.405557632446289, 4.382701873779297, 4.400948524475098, 4.356876373291016, 4.404982089996338, 4.2363409996032715, 8.195734977722168, 7.02165412902832, 4.548702239990234, 5.0779128074646, 10.281795501708984, 7.352694988250732, 5.161328315734863, 6.953882217407227, 4.781298637390137, 95.73249816894531, 11.772012710571289, 9.865752220153809, 9.324980735778809, 7.717552185058594, 7.1096906661987305, 6.893784523010254, 6.958754539489746, 6.662578105926514, 6.272758483886719, 5.833694934844971, 8.508284568786621, 4.690605640411377, 4.713104724884033, 4.739245414733887, 4.579465389251709, 4.670816421508789, 4.339345455169678, 4.314656734466553, 4.559906959533691, 4.09990930557251, 4.077187538146973, 4.017141819000244, 3.9467122554779053, 3.949505090713501, 3.8764121532440186, 3.7692668437957764, 3.7102270126342773, 3.6809580326080322, 3.6631388664245605, 6.659217357635498, 5.299789905548096, 5.859403610229492, 5.637657165527344, 4.64603853225708, 4.66340446472168, 4.258783340454102, 4.40067720413208], \"Total\": [96.0, 256.0, 526.0, 511.0, 265.0, 473.0, 91.0, 246.0, 448.0, 364.0, 340.0, 155.0, 255.0, 346.0, 311.0, 334.0, 319.0, 320.0, 156.0, 265.0, 170.0, 222.0, 224.0, 225.0, 214.0, 41.0, 30.0, 205.0, 39.0, 29.0, 47.104881286621094, 53.709144592285156, 43.605648040771484, 43.140663146972656, 40.42740249633789, 37.68115234375, 37.22330856323242, 35.88315963745117, 44.80758285522461, 35.09627151489258, 33.2882194519043, 46.60454177856445, 32.65764617919922, 32.45418930053711, 38.370548248291016, 31.44883918762207, 31.725074768066406, 30.859464645385742, 30.385454177856445, 29.5471134185791, 29.92265510559082, 29.18758773803711, 28.823041915893555, 28.754764556884766, 28.536733627319336, 28.557493209838867, 44.25468444824219, 27.50472640991211, 27.450485229492188, 27.422962188720703, 53.12371063232422, 42.14186096191406, 42.065311431884766, 47.672054290771484, 31.668216705322266, 265.3808288574219, 44.04066467285156, 37.88298797607422, 45.38129425048828, 39.714046478271484, 255.98243713378906, 40.396453857421875, 170.29893493652344, 42.64775848388672, 37.85725021362305, 45.108734130859375, 319.1854553222656, 38.33185958862305, 346.7080993652344, 364.04095458984375, 526.6553955078125, 448.68798828125, 320.9598083496094, 511.6446533203125, 334.9736328125, 224.62722778320312, 265.8212585449219, 225.4097442626953, 473.3179626464844, 157.1505584716797, 117.18637084960938, 183.8045196533203, 311.9234924316406, 147.8885040283203, 154.58578491210938, 194.30934143066406, 205.30455017089844, 340.3955078125, 214.1781768798828, 222.4557342529297, 157.58453369140625, 77.54837799072266, 246.08351135253906, 85.13920593261719, 156.44943237304688, 91.27893829345703, 41.1143913269043, 39.30413818359375, 32.05550003051758, 29.253997802734375, 27.36870574951172, 26.439538955688477, 26.835180282592773, 25.748790740966797, 25.613330841064453, 24.740154266357422, 24.549182891845703, 24.433069229125977, 24.14352035522461, 23.638568878173828, 23.356910705566406, 23.249677658081055, 23.081607818603516, 23.084325790405273, 22.570070266723633, 22.173290252685547, 22.189971923828125, 22.10616683959961, 22.03428077697754, 21.979692459106445, 21.78968048095703, 21.193260192871094, 21.115497589111328, 25.982200622558594, 20.983692169189453, 39.653564453125, 36.07039260864258, 36.676185607910156, 27.97028923034668, 256.2355041503906, 28.95048713684082, 27.134458541870117, 33.01533126831055, 30.323158264160156, 43.455047607421875, 30.413372039794922, 155.09751892089844, 246.08351135253906, 156.44943237304688, 50.57129669189453, 43.971431732177734, 36.0063591003418, 340.3955078125, 473.3179626464844, 47.21714401245117, 511.6446533203125, 311.9234924316406, 526.6553955078125, 448.68798828125, 222.4557342529297, 334.9736328125, 364.04095458984375, 214.1781768798828, 346.7080993652344, 320.9598083496094, 265.8212585449219, 205.30455017089844, 319.1854553222656, 194.30934143066406, 157.58453369140625, 225.4097442626953, 224.62722778320312, 82.45777130126953, 183.8045196533203, 30.195354461669922, 29.326618194580078, 23.121082305908203, 21.991443634033203, 21.392621994018555, 21.87598991394043, 22.639347076416016, 21.27723503112793, 19.42962646484375, 19.405303955078125, 18.63544464111328, 18.251583099365234, 18.261526107788086, 18.061784744262695, 18.292869567871094, 17.357606887817383, 16.91680335998535, 16.88685417175293, 16.65321159362793, 16.437339782714844, 20.153921127319336, 16.224708557128906, 16.177413940429688, 15.956352233886719, 15.825979232788086, 15.800751686096191, 15.662841796875, 15.69720458984375, 15.818089485168457, 15.767854690551758, 18.654760360717773, 26.593759536743164, 20.421388626098633, 29.896331787109375, 25.533267974853516, 21.598772048950195, 22.110515594482422, 22.106233596801758, 26.431156158447266, 29.60552978515625, 22.943283081054688, 26.010398864746094, 19.832489013671875, 34.974998474121094, 511.6446533203125, 448.68798828125, 473.3179626464844, 526.6553955078125, 49.702423095703125, 255.98243713378906, 41.399559020996094, 17.266145706176758, 12.721389770507812, 12.940473556518555, 9.756261825561523, 8.632521629333496, 8.592507362365723, 8.066314697265625, 7.99528169631958, 7.438747882843018, 6.958260536193848, 6.861297130584717, 6.752496242523193, 6.737005233764648, 6.606348991394043, 6.538548469543457, 6.453219890594482, 6.4851861000061035, 6.283138751983643, 6.306588172912598, 6.270777702331543, 6.222302436828613, 6.17591667175293, 6.106658458709717, 6.022706985473633, 5.948329925537109, 5.905517578125, 5.847879409790039, 5.737539291381836, 5.710203647613525, 5.693265914916992, 9.80212688446045, 9.313998222351074, 6.940731525421143, 8.496975898742676, 10.424358367919922, 6.583262920379639, 14.07524585723877, 11.135455131530762, 9.041339874267578, 15.308588027954102, 9.521692276000977, 11.138516426086426, 10.780765533447266, 9.64141845703125, 8.485444068908691, 8.30377197265625, 8.024974822998047, 7.940081596374512, 6.837879657745361, 6.501034259796143, 6.370769500732422, 6.2464094161987305, 6.196112155914307, 6.173006534576416, 6.021440029144287, 5.965506553649902, 5.943482398986816, 5.890713214874268, 5.883749008178711, 5.870991230010986, 5.866698265075684, 5.747186660766602, 5.716939926147461, 5.620157241821289, 5.628050804138184, 5.598260879516602, 5.581593036651611, 5.529940605163574, 5.54394006729126, 5.452593803405762, 5.409549236297607, 5.349517345428467, 5.4063334465026855, 5.233684539794922, 5.241721153259277, 12.437187194824219, 9.90440845489502, 8.094890594482422, 9.822967529296875, 8.49089527130127, 8.203459739685059, 9.58290958404541, 7.793548583984375, 8.07300853729248, 9.823101043701172, 11.895729064941406, 7.694500923156738, 7.217726707458496, 8.929211616516113, 8.437019348144531, 8.054478645324707, 8.017892837524414, 7.59003210067749, 7.213016033172607, 7.149588584899902, 7.102653980255127, 7.021053314208984, 6.609241485595703, 6.559890270233154, 6.568416118621826, 6.421639919281006, 6.41095495223999, 6.312662124633789, 6.21138334274292, 6.201563835144043, 5.972823619842529, 5.90034294128418, 5.823178291320801, 5.818358898162842, 5.827754974365234, 5.763579845428467, 5.760745525360107, 5.687570095062256, 5.703213214874268, 5.603652477264404, 5.548287391662598, 5.36137056350708, 5.180221080780029, 12.777161598205566, 7.86039924621582, 10.55488395690918, 10.216777801513672, 13.512965202331543, 21.80687141418457, 9.422383308410645, 10.276982307434082, 9.482464790344238, 7.167000770568848, 8.052722930908203, 11.501241683959961, 8.576743125915527, 8.232187271118164, 8.027068138122559, 9.694025039672852, 7.487635135650635, 7.375148296356201, 6.7517547607421875, 6.657896041870117, 6.6711907386779785, 6.511719226837158, 6.342835903167725, 6.351478099822998, 5.852497577667236, 5.807531833648682, 5.844804286956787, 5.71085262298584, 5.752612590789795, 5.68167781829834, 5.5319952964782715, 5.446534156799316, 5.1014723777771, 5.0208916664123535, 5.117212295532227, 4.903477668762207, 4.8804779052734375, 4.901319980621338, 4.854051113128662, 4.924419403076172, 4.737091541290283, 9.674388885498047, 8.308541297912598, 5.119439125061035, 5.8809380531311035, 15.550450325012207, 10.648211479187012, 6.586703777313232, 12.130742073059082, 5.660109996795654, 96.22915649414062, 12.272082328796387, 10.364131927490234, 9.827117919921875, 8.216126441955566, 7.61065149307251, 7.3934502601623535, 7.464068412780762, 7.1606831550598145, 6.771900653839111, 6.335349082946777, 9.314382553100586, 5.190402984619141, 5.21606969833374, 5.249686241149902, 5.0812788009643555, 5.195354461669922, 4.836703300476074, 4.815374851226807, 5.098584175109863, 4.5983805656433105, 4.5766801834106445, 4.516780376434326, 4.448964595794678, 4.452396392822266, 4.382098197937012, 4.269622802734375, 4.215829849243164, 4.184648513793945, 4.164532661437988, 8.29938793182373, 6.557064056396484, 8.441898345947266, 9.250537872314453, 7.050490379333496, 9.196258544921875, 6.757499694824219, 8.149709701538086], \"Category\": [\"Default\", \"Default\", \"Default\", \"Default\", \"Default\", \"Default\", \"Default\", \"Default\", \"Default\", \"Default\", \"Default\", \"Default\", \"Default\", \"Default\", \"Default\", \"Default\", \"Default\", \"Default\", \"Default\", \"Default\", \"Default\", \"Default\", \"Default\", \"Default\", \"Default\", \"Default\", \"Default\", \"Default\", \"Default\", \"Default\", \"Topic1\", \"Topic1\", \"Topic1\", \"Topic1\", \"Topic1\", \"Topic1\", \"Topic1\", \"Topic1\", \"Topic1\", \"Topic1\", \"Topic1\", \"Topic1\", \"Topic1\", \"Topic1\", \"Topic1\", \"Topic1\", \"Topic1\", \"Topic1\", \"Topic1\", \"Topic1\", \"Topic1\", \"Topic1\", \"Topic1\", \"Topic1\", \"Topic1\", \"Topic1\", \"Topic1\", \"Topic1\", \"Topic1\", \"Topic1\", \"Topic1\", \"Topic1\", \"Topic1\", \"Topic1\", \"Topic1\", \"Topic1\", \"Topic1\", \"Topic1\", \"Topic1\", \"Topic1\", \"Topic1\", \"Topic1\", \"Topic1\", \"Topic1\", \"Topic1\", \"Topic1\", \"Topic1\", \"Topic1\", \"Topic1\", \"Topic1\", \"Topic1\", \"Topic1\", \"Topic1\", \"Topic1\", \"Topic1\", \"Topic1\", \"Topic1\", \"Topic1\", \"Topic1\", \"Topic1\", \"Topic1\", \"Topic1\", \"Topic1\", \"Topic1\", \"Topic1\", \"Topic1\", \"Topic1\", \"Topic1\", \"Topic1\", \"Topic1\", \"Topic1\", \"Topic1\", \"Topic1\", \"Topic1\", \"Topic1\", \"Topic2\", \"Topic2\", \"Topic2\", \"Topic2\", \"Topic2\", \"Topic2\", \"Topic2\", \"Topic2\", \"Topic2\", \"Topic2\", \"Topic2\", \"Topic2\", \"Topic2\", \"Topic2\", \"Topic2\", \"Topic2\", \"Topic2\", \"Topic2\", \"Topic2\", \"Topic2\", \"Topic2\", \"Topic2\", \"Topic2\", \"Topic2\", \"Topic2\", \"Topic2\", \"Topic2\", \"Topic2\", \"Topic2\", \"Topic2\", \"Topic2\", \"Topic2\", \"Topic2\", \"Topic2\", \"Topic2\", \"Topic2\", \"Topic2\", \"Topic2\", \"Topic2\", \"Topic2\", \"Topic2\", \"Topic2\", \"Topic2\", \"Topic2\", \"Topic2\", \"Topic2\", \"Topic2\", \"Topic2\", \"Topic2\", \"Topic2\", \"Topic2\", \"Topic2\", \"Topic2\", \"Topic2\", \"Topic2\", \"Topic2\", \"Topic2\", \"Topic2\", \"Topic2\", \"Topic2\", \"Topic2\", \"Topic2\", \"Topic2\", \"Topic2\", \"Topic2\", \"Topic2\", \"Topic2\", \"Topic2\", \"Topic2\", \"Topic3\", \"Topic3\", \"Topic3\", \"Topic3\", \"Topic3\", \"Topic3\", \"Topic3\", \"Topic3\", \"Topic3\", \"Topic3\", \"Topic3\", \"Topic3\", \"Topic3\", \"Topic3\", \"Topic3\", \"Topic3\", \"Topic3\", \"Topic3\", \"Topic3\", \"Topic3\", \"Topic3\", \"Topic3\", \"Topic3\", \"Topic3\", \"Topic3\", \"Topic3\", \"Topic3\", \"Topic3\", \"Topic3\", \"Topic3\", \"Topic3\", \"Topic3\", \"Topic3\", \"Topic3\", \"Topic3\", \"Topic3\", \"Topic3\", \"Topic3\", \"Topic3\", \"Topic3\", \"Topic3\", \"Topic3\", \"Topic3\", \"Topic3\", \"Topic3\", \"Topic3\", \"Topic3\", \"Topic3\", \"Topic3\", \"Topic3\", \"Topic3\", \"Topic4\", \"Topic4\", \"Topic4\", \"Topic4\", \"Topic4\", \"Topic4\", \"Topic4\", \"Topic4\", \"Topic4\", \"Topic4\", \"Topic4\", \"Topic4\", \"Topic4\", \"Topic4\", \"Topic4\", \"Topic4\", \"Topic4\", \"Topic4\", \"Topic4\", \"Topic4\", \"Topic4\", \"Topic4\", \"Topic4\", \"Topic4\", \"Topic4\", \"Topic4\", \"Topic4\", \"Topic4\", \"Topic4\", \"Topic4\", \"Topic4\", \"Topic4\", \"Topic4\", \"Topic4\", \"Topic4\", \"Topic4\", \"Topic4\", \"Topic4\", \"Topic4\", \"Topic4\", \"Topic4\", \"Topic4\", \"Topic4\", \"Topic4\", \"Topic5\", \"Topic5\", \"Topic5\", \"Topic5\", \"Topic5\", \"Topic5\", \"Topic5\", \"Topic5\", \"Topic5\", \"Topic5\", \"Topic5\", \"Topic5\", \"Topic5\", \"Topic5\", \"Topic5\", \"Topic5\", \"Topic5\", \"Topic5\", \"Topic5\", \"Topic5\", \"Topic5\", \"Topic5\", \"Topic5\", \"Topic5\", \"Topic5\", \"Topic5\", \"Topic5\", \"Topic5\", \"Topic5\", \"Topic5\", \"Topic5\", \"Topic5\", \"Topic5\", \"Topic5\", \"Topic5\", \"Topic5\", \"Topic5\", \"Topic5\", \"Topic5\", \"Topic5\", \"Topic5\", \"Topic5\", \"Topic5\", \"Topic5\", \"Topic6\", \"Topic6\", \"Topic6\", \"Topic6\", \"Topic6\", \"Topic6\", \"Topic6\", \"Topic6\", \"Topic6\", \"Topic6\", \"Topic6\", \"Topic6\", \"Topic6\", \"Topic6\", \"Topic6\", \"Topic6\", \"Topic6\", \"Topic6\", \"Topic6\", \"Topic6\", \"Topic6\", \"Topic6\", \"Topic6\", \"Topic6\", \"Topic6\", \"Topic6\", \"Topic6\", \"Topic6\", \"Topic6\", \"Topic6\", \"Topic6\", \"Topic6\", \"Topic6\", \"Topic6\", \"Topic6\", \"Topic6\", \"Topic6\", \"Topic6\", \"Topic6\", \"Topic6\", \"Topic6\", \"Topic7\", \"Topic7\", \"Topic7\", \"Topic7\", \"Topic7\", \"Topic7\", \"Topic7\", \"Topic7\", \"Topic7\", \"Topic7\", \"Topic7\", \"Topic7\", \"Topic7\", \"Topic7\", \"Topic7\", \"Topic7\", \"Topic7\", \"Topic7\", \"Topic7\", \"Topic7\", \"Topic7\", \"Topic7\", \"Topic7\", \"Topic7\", \"Topic7\", \"Topic7\", \"Topic7\", \"Topic7\", \"Topic7\", \"Topic7\", \"Topic7\", \"Topic7\", \"Topic7\", \"Topic7\", \"Topic7\", \"Topic7\", \"Topic7\", \"Topic7\", \"Topic7\", \"Topic8\", \"Topic8\", \"Topic8\", \"Topic8\", \"Topic8\", \"Topic8\", \"Topic8\", \"Topic8\", \"Topic8\", \"Topic8\", \"Topic8\", \"Topic8\", \"Topic8\", \"Topic8\", \"Topic8\", \"Topic8\", \"Topic8\", \"Topic8\", \"Topic8\", \"Topic8\", \"Topic8\", \"Topic8\", \"Topic8\", \"Topic8\", \"Topic8\", \"Topic8\", \"Topic8\", \"Topic8\", \"Topic8\", \"Topic8\", \"Topic8\", \"Topic8\", \"Topic8\", \"Topic8\", \"Topic8\", \"Topic8\", \"Topic8\", \"Topic8\"], \"logprob\": [30.0, 29.0, 28.0, 27.0, 26.0, 25.0, 24.0, 23.0, 22.0, 21.0, 20.0, 19.0, 18.0, 17.0, 16.0, 15.0, 14.0, 13.0, 12.0, 11.0, 10.0, 9.0, 8.0, 7.0, 6.0, 5.0, 4.0, 3.0, 2.0, 1.0, -7.2067999839782715, -7.0756001472473145, -7.2846999168396, -7.296000003814697, -7.361199855804443, -7.432499885559082, -7.444799900054932, -7.481900215148926, -7.260000228881836, -7.504300117492676, -7.5578999519348145, -7.22160005569458, -7.577300071716309, -7.583600044250488, -7.416399955749512, -7.615499973297119, -7.606900215148926, -7.634699821472168, -7.650400161743164, -7.678899765014648, -7.666200160980225, -7.691199779510498, -7.703999996185303, -7.706399917602539, -7.714099884033203, -7.713500022888184, -7.275700092315674, -7.751500129699707, -7.753499984741211, -7.7546000480651855, -7.094699859619141, -7.3256001472473145, -7.327899932861328, -7.205699920654297, -7.610799789428711, -5.525300025939941, -7.285999774932861, -7.433800220489502, -7.257599830627441, -7.3907999992370605, -5.6315999031066895, -7.380099773406982, -6.04040002822876, -7.3308000564575195, -7.443999767303467, -7.283199787139893, -5.52209997177124, -7.432600021362305, -5.463799953460693, -5.42609977722168, -5.100599765777588, -5.251699924468994, -5.5553998947143555, -5.152699947357178, -5.5345001220703125, -5.912600040435791, -5.772500038146973, -5.91949987411499, -5.299099922180176, -6.227099895477295, -6.486499786376953, -6.122700214385986, -5.702899932861328, -6.328199863433838, -6.298399925231934, -6.122499942779541, -6.0817999839782715, -5.706099987030029, -6.085700035095215, -6.09689998626709, -6.3649001121521, -6.9039998054504395, -6.381800174713135, -6.908599853515625, -6.886899948120117, -5.9375, -6.741099834442139, -6.7866997718811035, -6.993199825286865, -7.086100101470947, -7.153800010681152, -7.188899993896484, -7.174200057983398, -7.21589994430542, -7.221199989318848, -7.2565999031066895, -7.264400005340576, -7.2692999839782715, -7.281400203704834, -7.302999973297119, -7.315100193023682, -7.319900035858154, -7.327199935913086, -7.327300071716309, -7.350200176239014, -7.368199825286865, -7.367499828338623, -7.371300220489502, -7.37470006942749, -7.377200126647949, -7.386099815368652, -7.414400100708008, -7.4182000160217285, -7.2108001708984375, -7.424600124359131, -6.7941999435424805, -6.90749979019165, -6.894700050354004, -7.157599925994873, -5.229000091552734, -7.13700008392334, -7.1981000900268555, -7.034900188446045, -7.1082000732421875, -6.8119001388549805, -7.107999801635742, -5.825500011444092, -5.5883002281188965, -5.9593000411987305, -6.765900135040283, -6.8871002197265625, -7.0183000564575195, -5.705100059509277, -5.547900199890137, -6.890399932861328, -5.645999908447266, -5.916500091552734, -5.670899868011475, -5.909299850463867, -6.234499931335449, -6.135900020599365, -6.1244001388549805, -6.395699977874756, -6.225500106811523, -6.265100002288818, -6.446100234985352, -6.531400203704834, -6.445099830627441, -6.627999782562256, -6.6875, -6.647600173950195, -6.650599956512451, -6.807499885559082, -6.7846999168396, -6.609099864959717, -6.638800144195557, -6.880799770355225, -6.93209981918335, -6.96019983291626, -6.938600063323975, -6.905300140380859, -6.96750020980835, -7.058599948883057, -7.060100078582764, -7.101600170135498, -7.122799873352051, -7.122300148010254, -7.133600234985352, -7.1209001541137695, -7.174499988555908, -7.200799942016602, -7.202600002288818, -7.2170000076293945, -7.230400085449219, -7.026700019836426, -7.243800163269043, -7.246799945831299, -7.260900020599365, -7.269499778747559, -7.271200180053711, -7.28000020980835, -7.277900218963623, -7.270299911499023, -7.273499965667725, -7.105999946594238, -6.7555999755859375, -7.019700050354004, -6.679100036621094, -6.826900005340576, -6.994500160217285, -6.981299877166748, -6.990200042724609, -6.906099796295166, -6.830999851226807, -7.009900093078613, -6.934800148010254, -7.1209001541137695, -6.840099811553955, -6.748000144958496, -6.768199920654297, -6.799699783325195, -6.80620002746582, -7.07919979095459, -7.019800186157227, -7.092800140380859, -6.237199783325195, -6.553199768066406, -6.536900043487549, -6.8308000564575195, -6.9604997634887695, -6.96560001373291, -7.032400131225586, -7.0416998863220215, -7.119200229644775, -7.1905999183654785, -7.206099987030029, -7.223199844360352, -7.2256999015808105, -7.247000217437744, -7.2581000328063965, -7.2718000411987305, -7.2677001953125, -7.300600051879883, -7.297100067138672, -7.303100109100342, -7.311299800872803, -7.320300102233887, -7.331999778747559, -7.3471999168396, -7.360899925231934, -7.368599891662598, -7.378900051116943, -7.400100231170654, -7.405200004577637, -7.4085001945495605, -6.8821001052856445, -6.933899879455566, -7.217800140380859, -7.047500133514404, -6.883600234985352, -7.276199817657471, -6.715700149536133, -6.913300037384033, -7.067299842834473, -6.744900226593018, -7.0518999099731445, -6.985400199890137, -7.0218000411987305, -7.187600135803223, -6.907800197601318, -6.9309000968933105, -6.967199802398682, -6.978300094604492, -7.138800144195557, -7.193299770355225, -7.215000152587891, -7.236800193786621, -7.245100021362305, -7.24970006942749, -7.276700019836426, -7.286600112915039, -7.290999889373779, -7.30019998550415, -7.301499843597412, -7.303899765014648, -7.3053998947143555, -7.327499866485596, -7.3333001136779785, -7.351900100708008, -7.350800037384033, -7.356100082397461, -7.359600067138672, -7.3694000244140625, -7.367300033569336, -7.38539981842041, -7.393700122833252, -7.406499862670898, -7.396100044250488, -7.430099964141846, -7.428599834442139, -6.632999897003174, -6.908699989318848, -7.103400230407715, -6.967400074005127, -7.085400104522705, -7.158599853515625, -7.115799903869629, -7.229400157928467, -7.2164998054504395, -7.152100086212158, -7.104100227355957, -7.2519001960754395, -7.304100036621094, -6.851200103759766, -6.911399841308594, -6.960599899291992, -6.96560001373291, -7.024499893188477, -7.078800201416016, -7.089000225067139, -7.096199989318848, -7.108099937438965, -7.173099994659424, -7.181099891662598, -7.179900169372559, -7.204100131988525, -7.205900192260742, -7.222400188446045, -7.240099906921387, -7.241799831390381, -7.28380012512207, -7.29610013961792, -7.310500144958496, -7.311500072479248, -7.310299873352051, -7.321499824523926, -7.323200225830078, -7.336100101470947, -7.334199905395508, -7.352799892425537, -7.363999843597412, -7.400700092315674, -7.4390997886657715, -6.5467000007629395, -7.04040002822876, -6.8059000968933105, -6.835000038146973, -6.627699851989746, -6.600599765777588, -7.061600208282471, -7.081900119781494, -7.186399936676025, -7.285799980163574, -7.293900012969971, -6.536499977111816, -6.840099811553955, -6.883600234985352, -6.910799980163574, -6.724599838256836, -6.984899997711182, -7.000999927520752, -7.09630012512207, -7.111299991607666, -7.1097002029418945, -7.135700225830078, -7.163599967956543, -7.163099765777588, -7.251999855041504, -7.260300159454346, -7.253900051116943, -7.278200149536133, -7.270999908447266, -7.283999919891357, -7.314000129699707, -7.330999851226807, -7.402900218963623, -7.420400142669678, -7.402699947357178, -7.446499824523926, -7.451700210571289, -7.4475998878479, -7.457600116729736, -7.446599960327148, -7.4857001304626465, -6.825799942016602, -6.980400085449219, -7.4145002365112305, -7.304500102996826, -6.598999977111816, -6.934299945831299, -7.2881999015808105, -6.990099906921387, -7.364699840545654, -4.332799911499023, -6.428599834442139, -6.605299949645996, -6.6616997718811035, -6.850900173187256, -6.9328999519348145, -6.963699817657471, -6.954400062561035, -6.997799873352051, -7.05810022354126, -7.13070011138916, -6.753300189971924, -7.348800182342529, -7.343999862670898, -7.338500022888184, -7.372799873352051, -7.353000164031982, -7.426599979400635, -7.432300090789795, -7.377099990844727, -7.483399868011475, -7.488900184631348, -7.503799915313721, -7.521500110626221, -7.5208001136779785, -7.539400100708008, -7.567500114440918, -7.5833001136779785, -7.59119987487793, -7.5960001945495605, -6.9984002113342285, -7.2266998291015625, -7.126299858093262, -7.164899826049805, -7.35830020904541, -7.354599952697754, -7.445400238037109, -7.412600040435791], \"loglift\": [30.0, 29.0, 28.0, 27.0, 26.0, 25.0, 24.0, 23.0, 22.0, 21.0, 20.0, 19.0, 18.0, 17.0, 16.0, 15.0, 14.0, 13.0, 12.0, 11.0, 10.0, 9.0, 8.0, 7.0, 6.0, 5.0, 4.0, 3.0, 2.0, 1.0, 0.916100025177002, 0.9160000085830688, 0.9153000116348267, 0.9147999882698059, 0.9144999980926514, 0.9136000275611877, 0.9135000109672546, 0.913100004196167, 0.9128000140190125, 0.9128000140190125, 0.9121999740600586, 0.9120000004768372, 0.9118000268936157, 0.9118000268936157, 0.9115999937057495, 0.9114000201225281, 0.911300003528595, 0.9110999703407288, 0.9108999967575073, 0.9103999733924866, 0.9103999733924866, 0.9103000164031982, 0.910099983215332, 0.910099983215332, 0.9099000096321106, 0.9097999930381775, 0.909600019454956, 0.9093000292778015, 0.9093000292778015, 0.9093000292778015, 0.9078999757766724, 0.9085999727249146, 0.9082000255584717, 0.9052000045776367, 0.9090999960899353, 0.8687999844551086, 0.90420001745224, 0.9070000052452087, 0.9024999737739563, 0.9027000069618225, 0.7985000014305115, 0.896399974822998, 0.7972999811172485, 0.8914999961853027, 0.8974999785423279, 0.8830000162124634, 0.6873999834060669, 0.896399974822998, 0.6629999876022339, 0.6517999768257141, 0.6080999970436096, 0.6172000169754028, 0.6485000252723694, 0.5849000215530396, 0.6266999840736389, 0.6481999754905701, 0.6198999881744385, 0.6377999782562256, 0.5163999795913696, 0.6909000277519226, 0.7250000238418579, 0.638700008392334, 0.5296000242233276, 0.650600016117096, 0.6360999941825867, 0.583299994468689, 0.5688999891281128, 0.4390999972820282, 0.5227000117301941, 0.47369998693466187, 0.5504000186920166, 0.7203999757766724, 0.0877000018954277, 0.6223999857902527, 0.035599999129772186, 1.523900032043457, 1.517699956893921, 1.517199993133545, 1.5146000385284424, 1.513100028038025, 1.5119999647140503, 1.5115000009536743, 1.511299967765808, 1.5109000205993652, 1.5109000205993652, 1.510200023651123, 1.51010000705719, 1.5099999904632568, 1.5097999572753906, 1.5094000101089478, 1.5091999769210815, 1.5090999603271484, 1.5089999437332153, 1.5088000297546387, 1.5083999633789062, 1.5082000494003296, 1.5081000328063965, 1.5081000328063965, 1.5080000162124634, 1.5080000162124634, 1.507699966430664, 1.507200002670288, 1.507099986076355, 1.5069999694824219, 1.5068999528884888, 1.5008000135421753, 1.482200026512146, 1.4783999919891357, 1.4865000247955322, 1.2000999450683594, 1.4726999998092651, 1.4763000011444092, 1.4434000253677368, 1.4551000595092773, 1.3916000127792358, 1.4523999691009521, 1.1057000160217285, 0.8812999725341797, 0.9631999731063843, 1.2860000133514404, 1.3046000003814697, 1.3732999563217163, 0.4399999976158142, 0.26759999990463257, 1.2301000356674194, 0.09160000085830688, 0.3160000145435333, 0.037700001150369644, -0.04039999842643738, 0.335999995470047, 0.025299999862909317, -0.04639999940991402, 0.2126999944448471, -0.09880000352859497, -0.06120000034570694, -0.053700000047683716, 0.1193000003695488, -0.23559999465942383, 0.07769999653100967, 0.22779999673366547, -0.09030000120401382, -0.08980000019073486, 0.7555000185966492, -0.02329999953508377, 1.9585000276565552, 1.9579999446868896, 1.9536999464035034, 1.9523999691009521, 1.9520000219345093, 1.951200008392334, 1.9502999782562256, 1.9500999450683594, 1.9498000144958496, 1.9495999813079834, 1.9486000537872314, 1.948199987411499, 1.948199987411499, 1.9479000568389893, 1.9479000568389893, 1.9466999769210815, 1.9460999965667725, 1.9460999965667725, 1.9456000328063965, 1.9452999830245972, 1.945099949836731, 1.9449000358581543, 1.9448000192642212, 1.9443999528884888, 1.944100022315979, 1.944000005722046, 1.9438999891281128, 1.9437999725341797, 1.9437999725341797, 1.9437999725341797, 1.9430999755859375, 1.9388999938964844, 1.9388999938964844, 1.8983999490737915, 1.908400058746338, 1.9081000089645386, 1.8978999853134155, 1.88919997215271, 1.794600009918213, 1.7562999725341797, 1.8322999477386475, 1.7819000482559204, 1.8669999837875366, 1.5805000066757202, -1.0104000568389893, -0.8992000222206116, -0.9842000007629395, -1.097499966621399, 0.9900000095367432, -0.5896999835968018, 1.15910005569458, 2.8893001079559326, 2.8787999153137207, 2.878000020980835, 2.8666000366210938, 2.8592000007629395, 2.858799934387207, 2.8552000522613525, 2.8547000885009766, 2.849299907684326, 2.8447000980377197, 2.8433001041412354, 2.842099905014038, 2.8420000076293945, 2.8401999473571777, 2.839400053024292, 2.838900089263916, 2.8380000591278076, 2.836699962615967, 2.8366000652313232, 2.8362998962402344, 2.8357999324798584, 2.8343000411987305, 2.8338000774383545, 2.8324999809265137, 2.831199884414673, 2.830699920654297, 2.830199956893921, 2.8280999660491943, 2.8278000354766846, 2.827500104904175, 2.8106000423431396, 2.809799909591675, 2.8201000690460205, 2.7880001068115234, 2.747499942779541, 2.814500093460083, 2.6150999069213867, 2.6517999172210693, 2.7060999870300293, 2.5018999576568604, 2.669800043106079, 2.5794999599456787, 2.5755999088287354, 2.5216000080108643, 2.9291000366210938, 2.9277000427246094, 2.92549991607666, 2.924999952316284, 2.9140000343322754, 2.9100000858306885, 2.9084999561309814, 2.906399965286255, 2.9061999320983887, 2.905400037765503, 2.9031999111175537, 2.902600049972534, 2.901900053024292, 2.901599884033203, 2.9014999866485596, 2.9012999534606934, 2.900599956512451, 2.8989999294281006, 2.8984999656677246, 2.8970000743865967, 2.896699905395508, 2.896699905395508, 2.8961000442504883, 2.895699977874756, 2.8952999114990234, 2.893699884414673, 2.8933000564575195, 2.891700029373169, 2.8915998935699463, 2.890000104904175, 2.890000104904175, 2.8215999603271484, 2.7736001014709473, 2.780600070953369, 2.723099946975708, 2.7507998943328857, 2.712100028991699, 2.599400043487549, 2.6926000118255615, 2.6702001094818115, 2.5383999347686768, 2.3949999809265137, 2.682800054550171, 2.6946001052856445, 2.934799909591675, 2.9312000274658203, 2.9284000396728516, 2.9279000759124756, 2.9238998889923096, 2.920599937438965, 2.9191999435424805, 2.9184999465942383, 2.918299913406372, 2.9137001037597656, 2.9131999015808105, 2.913100004196167, 2.911400079727173, 2.911400079727173, 2.9103000164031982, 2.9086999893188477, 2.908600091934204, 2.9042000770568848, 2.904099941253662, 2.902899980545044, 2.9026999473571777, 2.9022998809814453, 2.9021999835968018, 2.9010000228881836, 2.900899887084961, 2.9000000953674316, 2.8989999294281006, 2.897700071334839, 2.8952999114990234, 2.8912999629974365, 2.8808999061584473, 2.872999906539917, 2.812700033187866, 2.816200017929077, 2.7439000606536865, 2.2925000190734863, 2.670599937438965, 2.5634000301361084, 2.539400100708008, 2.719899892807007, 2.5952999591827393, 2.996299982070923, 2.9860999584198, 2.983599901199341, 2.981600046157837, 2.9791998863220215, 2.977099895477295, 2.976099967956543, 2.969099998474121, 2.968100070953369, 2.9677000045776367, 2.96589994430542, 2.9642999172210693, 2.9635000228881836, 2.956399917602539, 2.9558000564575195, 2.9558000564575195, 2.954699993133545, 2.9546000957489014, 2.9539999961853027, 2.950700044631958, 2.949199914932251, 2.9428999423980713, 2.941200017929077, 2.940000057220459, 2.938800096511841, 2.9382998943328857, 2.938199996948242, 2.9377999305725098, 2.9344000816345215, 2.9340999126434326, 2.880000114440918, 2.8775999546051025, 2.9275999069213867, 2.8989999294281006, 2.6321001052856445, 2.67549991607666, 2.802000045776367, 2.4893999099731445, 2.8770999908447266, 3.075700044631958, 3.039299964904785, 3.031599998474121, 3.02839994430542, 3.0183000564575195, 3.0127999782562256, 3.0109000205993652, 3.0107998847961426, 3.0088000297546387, 3.004300117492676, 2.9983999729156494, 2.9904000759124756, 2.979599952697754, 2.9795000553131104, 2.978600025177002, 2.976900100708008, 2.9744999408721924, 2.972399950027466, 2.971100091934204, 2.9691998958587646, 2.966099977493286, 2.9653000831604004, 2.96370005607605, 2.9611001014709473, 2.9609999656677246, 2.9583001136779785, 2.956199884414673, 2.9530999660491943, 2.9526000022888184, 2.9526000022888184, 2.8606998920440674, 2.868000030517578, 2.7156999111175537, 2.585700035095215, 2.663800001144409, 2.4017999172210693, 2.6191999912261963, 2.4646999835968018]}, \"token.table\": {\"Topic\": [8, 2, 5, 2, 5, 4, 1, 1, 3, 1, 3, 3, 5, 8, 6, 4, 1, 7, 4, 1, 2, 3, 7, 7, 1, 1, 5, 7, 4, 4, 1, 2, 3, 1, 3, 4, 7, 4, 1, 2, 3, 1, 2, 3, 5, 5, 6, 4, 5, 2, 3, 5, 2, 3, 2, 1, 4, 4, 3, 6, 1, 2, 3, 6, 4, 5, 7, 8, 1, 2, 3, 6, 5, 8, 4, 2, 3, 7, 1, 3, 7, 6, 8, 2, 4, 2, 1, 2, 3, 7, 2, 3, 4, 5, 8, 1, 2, 3, 5, 1, 3, 4, 5, 5, 5, 5, 8, 6, 1, 3, 5, 3, 1, 2, 3, 7, 6, 7, 7, 3, 8, 4, 6, 7, 8, 3, 3, 4, 6, 8, 4, 1, 1, 8, 6, 7, 5, 6, 6, 4, 7, 8, 8, 4, 6, 1, 2, 3, 7, 1, 2, 3, 1, 4, 5, 1, 1, 1, 2, 3, 1, 3, 1, 8, 1, 2, 3, 6, 8, 1, 1, 1, 2, 3, 2, 1, 2, 3, 2, 3, 2, 4, 6, 6, 5, 1, 2, 3, 1, 5, 6, 5, 8, 3, 3, 4, 5, 6, 8, 1, 4, 1, 2, 3, 1, 6, 1, 2, 3, 8, 8, 4, 1, 4, 6, 1, 3, 7, 7, 5, 6, 2, 3, 4, 6, 4, 3, 5, 5, 8, 8, 3, 6, 1, 6, 3, 4, 1, 2, 3, 2, 6, 4, 7, 3, 3, 8, 3, 6, 8, 2, 7, 8, 3, 4, 5, 4, 5, 7, 8, 6, 8, 4, 5, 8, 4, 2, 6, 7, 4, 7, 1, 2, 3, 2, 4, 3, 4, 6, 8, 4, 4, 5, 6, 8, 6, 1, 2, 3, 1, 2, 3, 4, 5, 6, 7, 8, 1, 2, 3, 2, 4, 8, 3, 7, 1, 3, 8, 7, 4, 4, 5, 2, 3, 6, 7, 3, 1, 1, 2, 4, 4, 4, 5, 7, 1, 3, 8, 2, 7, 4, 5, 7, 5, 4, 4, 7, 2, 1, 3, 2, 8, 3, 6, 4, 5, 7, 5, 4, 8, 3, 4, 2, 3, 2, 6, 7, 4, 6, 3, 1, 3, 1, 2, 3, 1, 2, 6, 7, 1, 1, 1, 2, 5, 3, 7, 4, 5, 7, 1, 2, 3, 6, 7, 8, 1, 2, 3, 1, 2, 3, 2, 4, 7, 8, 2, 4, 5, 6, 8, 2, 4, 5, 7, 3, 4, 5, 6, 7, 6, 2, 4, 6, 5, 6, 3, 5, 7, 7, 6, 5, 3, 2, 1, 3, 4, 5, 6, 8, 7, 8, 5, 8, 1, 2, 3, 2, 3, 1, 2, 3, 5, 3, 3, 5, 6, 7, 7, 7, 3, 5, 6, 8, 4, 6, 7, 8, 1, 2, 3, 1, 1, 1, 5, 8, 6, 6, 1, 2, 3, 7, 1, 2, 1, 4, 8, 5, 8, 2, 3, 1, 8, 3, 5, 6, 2, 6, 8, 7, 2, 5, 4, 7, 5, 4, 3, 2, 5, 4, 6, 7, 4, 6, 2, 1, 7, 1, 2, 3, 4, 1, 2, 3, 1, 2, 3, 1, 2, 8, 2, 6, 8, 2, 4, 5, 5, 7, 3, 4, 6, 6, 1, 2, 3, 5, 1, 1, 2, 3, 4, 5, 4, 4, 3, 8, 5, 1, 2, 2, 2, 4, 5, 7, 5, 6, 7, 4, 5, 5, 4, 8, 6, 2], \"Freq\": [0.9976186156272888, 0.9913175106048584, 0.8884070515632629, 0.9621971845626831, 0.8522681593894958, 0.9642732739448547, 0.9763703942298889, 0.9532521963119507, 0.04433730989694595, 0.9977734684944153, 0.979397714138031, 0.9045469760894775, 0.04522734880447388, 0.04522734880447388, 0.9504706263542175, 0.8906034231185913, 0.9737516641616821, 0.9284069538116455, 0.875625491142273, 0.2458675652742386, 0.7180894017219543, 0.03512393683195114, 0.8543360829353333, 0.8755260109901428, 0.9913417100906372, 0.9753879308700562, 0.8844443559646606, 0.08040403574705124, 0.9568191170692444, 0.8714537024497986, 0.8808041214942932, 0.03523216396570206, 0.08220838010311127, 0.9804782271385193, 0.9365697503089905, 0.03344891965389252, 0.03344891965389252, 0.9273231029510498, 0.40907785296440125, 0.5688738822937012, 0.01917552575469017, 0.18193630874156952, 0.7959713339805603, 0.02274203859269619, 0.9538851380348206, 0.22200900316238403, 0.814033031463623, 0.8550108075141907, 0.869990885257721, 0.8744668960571289, 0.1150614321231842, 0.8516449332237244, 0.9951974153518677, 0.9890332221984863, 0.9922619462013245, 0.9867965579032898, 0.9549367427825928, 0.9432931542396545, 0.939950168132782, 0.03916459158062935, 0.5834725499153137, 0.04023948684334755, 0.38227513432502747, 0.8679432272911072, 0.7104671597480774, 0.14209343492984772, 0.07104671746492386, 0.9524378776550293, 0.8192079067230225, 0.17066830396652222, 0.008533415384590626, 0.9325973391532898, 0.7432173490524292, 0.24773912131786346, 0.9297683835029602, 0.9233866930007935, 0.06595619022846222, 0.9038330316543579, 0.989427924156189, 0.9555841684341431, 0.9327549934387207, 0.880903959274292, 0.09787821769714355, 0.9653099775314331, 0.03575222194194794, 0.994530200958252, 0.6634018421173096, 0.28310778737068176, 0.05281861498951912, 0.8502045273780823, 0.9700828790664673, 0.8073694109916687, 0.07689232379198074, 0.03844616189599037, 0.03844616189599037, 0.3159302771091461, 0.6576507687568665, 0.025790225714445114, 0.9553499221801758, 0.5555614829063416, 0.43478724360466003, 0.3130573332309723, 0.6261146664619446, 0.8816030025482178, 0.8745937347412109, 0.6927388906478882, 0.13854777812957764, 0.9011789560317993, 0.9695624709129333, 0.0220355112105608, 0.9418014287948608, 0.9576806426048279, 0.7503924369812012, 0.22641150653362274, 0.019406700506806374, 0.9564184546470642, 0.8791100382804871, 0.8691703081130981, 0.8833750486373901, 0.9478086233139038, 0.9378263354301453, 0.21747975051403046, 0.10873987525701523, 0.21747975051403046, 0.5436993837356567, 0.9659013152122498, 0.96077561378479, 0.11845676600933075, 0.11845676600933075, 0.7107406258583069, 0.9310437440872192, 0.9870282411575317, 0.9857279658317566, 0.9470669627189636, 0.8766987919807434, 0.9491334557533264, 0.248363196849823, 0.6209079623222351, 0.8675163984298706, 0.21620364487171173, 0.21620364487171173, 0.6486109495162964, 0.936850905418396, 0.8082292079925537, 0.17960648238658905, 0.756809413433075, 0.2003318965435028, 0.04451819881796837, 0.8886578679084778, 0.749745786190033, 0.19963644444942474, 0.0488000214099884, 0.9691653251647949, 0.92518550157547, 0.9683491587638855, 0.9972569346427917, 0.9788994789123535, 0.9458106160163879, 0.0376816987991333, 0.01884084939956665, 0.965431272983551, 0.02475464902818203, 0.9820203185081482, 0.9736948609352112, 0.8789665699005127, 0.04297169670462608, 0.07813035696744919, 0.852685809135437, 0.09474287182092667, 0.990342915058136, 0.9819232821464539, 0.6732420325279236, 0.29815003275871277, 0.02885322831571102, 0.9984441995620728, 0.6853464245796204, 0.27286940813064575, 0.0380748026072979, 0.7412561774253845, 0.25414496660232544, 0.9206476807594299, 0.0328802727162838, 0.0328802727162838, 0.9674978852272034, 0.841257631778717, 0.7609034180641174, 0.2060207724571228, 0.03296332433819771, 0.9861108064651489, 0.9242914319038391, 0.9358980059623718, 0.8958016037940979, 0.8983926177024841, 0.9778880476951599, 0.9861502051353455, 0.6532281041145325, 0.06532280892133713, 0.13064561784267426, 0.13064561784267426, 0.9788472652435303, 0.8782305121421814, 0.7102077603340149, 0.23673591017723083, 0.05661076307296753, 0.9873145222663879, 0.9704678058624268, 0.8123961091041565, 0.15474212169647217, 0.025790352374315262, 0.9623982310295105, 0.9558748006820679, 0.8405720591545105, 0.9798623919487, 0.9410185813903809, 0.9970014095306396, 0.9652544856071472, 0.026087960228323936, 0.9966278672218323, 0.9958390593528748, 0.848793625831604, 0.8579633235931396, 0.9729861617088318, 0.9888627529144287, 0.13952837884426117, 0.697641909122467, 0.8644621968269348, 0.9259785413742065, 0.04629892855882645, 0.9248412251472473, 0.9775603413581848, 0.9662476181983948, 0.9776729941368103, 0.03760280832648277, 0.9967394471168518, 0.9790773391723633, 0.9076016545295715, 0.10084462910890579, 0.7701002955436707, 0.1961304098367691, 0.03461124747991562, 0.9581912159919739, 0.03685350716114044, 0.12035807222127914, 0.842506468296051, 0.9599565863609314, 0.9649011492729187, 0.8698714375495911, 0.83235102891922, 0.11350241303443909, 0.03783413767814636, 1.0009238719940186, 0.8269256353378296, 0.1033657044172287, 0.9513025283813477, 0.9181680679321289, 0.10201867669820786, 0.0643068179488182, 0.19292046129703522, 0.6430681943893433, 0.0643068179488182, 0.9078197479248047, 0.9840042591094971, 0.24540752172470093, 0.12270376086235046, 0.49081504344940186, 0.9176348447799683, 0.9921847581863403, 0.8586376309394836, 0.9717952013015747, 0.8633624911308289, 0.09592916816473007, 0.6676684021949768, 0.26613354682922363, 0.060697127133607864, 0.983518123626709, 0.025218414142727852, 0.9047222137451172, 0.04523611068725586, 0.9146494269371033, 0.9633163213729858, 0.951386034488678, 0.1018008440732956, 0.610805094242096, 0.305402547121048, 0.8855865597724915, 0.9482021927833557, 0.7114312648773193, 0.23844674229621887, 0.05081651732325554, 0.7272307276725769, 0.22595420479774475, 0.04557059705257416, 0.18342842161655426, 0.137571319937706, 0.5044281482696533, 0.09171421080827713, 0.09171421080827713, 0.7399646043777466, 0.19967299699783325, 0.05872735008597374, 0.9709193706512451, 0.2959674596786499, 0.5919349193572998, 0.9947631359100342, 0.945949137210846, 0.993573009967804, 1.0003890991210938, 0.9488049149513245, 0.9214156270027161, 0.984585702419281, 0.9224844574928284, 0.971973717212677, 0.9940555095672607, 0.979113757610321, 0.7429118156433105, 0.21226052939891815, 0.9856788516044617, 0.9940008521080017, 0.027723567560315132, 0.9426013231277466, 0.9962297677993774, 0.8589222431182861, 0.2566225230693817, 0.7698675394058228, 0.9011855721473694, 0.9613635540008545, 0.02344789169728756, 0.9467839598655701, 0.9908810257911682, 0.8157475590705872, 0.7420623302459717, 0.18551558256149292, 0.09275779128074646, 0.8931345343589783, 0.9825340509414673, 0.9082172513008118, 0.8122785091400146, 0.9637589454650879, 0.9811914563179016, 0.9458051919937134, 0.9688774347305298, 0.960491955280304, 0.983989953994751, 0.8959357738494873, 0.11777321249246597, 0.82441246509552, 0.8554606437683105, 0.9634175896644592, 0.12049081176519394, 0.8434357047080994, 0.9862158298492432, 1.0005900859832764, 0.31451037526130676, 0.6862044334411621, 0.9542977213859558, 0.027265649288892746, 0.027265649288892746, 0.9917787909507751, 0.9652097821235657, 0.9400644898414612, 0.9819766283035278, 0.9923627376556396, 0.6139916777610779, 0.33784228563308716, 0.04700414463877678, 0.21751469373703003, 0.7909625172615051, 0.8371250033378601, 0.9446619749069214, 0.9729043245315552, 0.9771450757980347, 0.9773557186126709, 0.02641502022743225, 0.9968878626823425, 0.979365348815918, 0.8609509468078613, 0.7182285189628601, 0.17955712974071503, 0.08977856487035751, 0.7354776859283447, 0.20727097988128662, 0.05571800470352173, 0.09391248226165771, 0.657387375831604, 0.09391248226165771, 0.7013970017433167, 0.24354062974452972, 0.0535789392888546, 0.737337589263916, 0.20690594613552094, 0.05642889440059662, 0.9914388656616211, 0.3297407627105713, 0.5770463347434998, 0.08243519067764282, 0.9822753071784973, 0.21091562509536743, 0.10545781254768372, 0.6327468752861023, 0.9585761427879333, 0.9833756685256958, 0.259925901889801, 0.7797776460647583, 0.8195918798446655, 0.8106593489646912, 0.1013324186205864, 0.033777475357055664, 0.033777475357055664, 0.033777475357055664, 0.9659683704376221, 1.0007771253585815, 0.8238224983215332, 0.11768893152475357, 0.07826464623212814, 0.8609110713005066, 0.9474825859069824, 0.849798321723938, 0.824053943157196, 0.9766694903373718, 0.9222622513771057, 0.9346637725830078, 0.9482814073562622, 0.9964643716812134, 0.9721490740776062, 0.9717594981193542, 0.08406378328800201, 0.5884464979171753, 0.16812756657600403, 0.25219136476516724, 0.9348745942115784, 0.9158331155776978, 0.8381518125534058, 0.8739959597587585, 0.638329267501831, 0.3011835217475891, 0.05843859165906906, 0.9326267838478088, 0.03454173356294632, 0.4307480752468109, 0.5242123007774353, 0.044700272381305695, 0.9018856287002563, 0.9493219256401062, 0.9816468358039856, 0.1946096569299698, 0.6811338067054749, 0.0973048284649849, 0.8443999886512756, 0.9180150032043457, 0.8717148303985596, 0.04358574002981186, 0.04358574002981186, 0.9128047227859497, 0.6223150491714478, 0.20743834972381592, 0.10371917486190796, 0.8306726217269897, 0.789509654045105, 0.1723136156797409, 0.040728673338890076, 0.9816494584083557, 0.9746748208999634, 0.9714450240135193, 0.889654815196991, 0.8860141634941101, 0.8922751545906067, 0.9855470657348633, 0.5336064696311951, 0.46084195375442505, 0.01212741993367672, 0.8161066770553589, 0.9859025478363037, 0.020976649597287178, 0.976691722869873, 0.15250727534294128, 0.7625364065170288, 0.2836682200431824, 0.7091705203056335, 0.8609590530395508, 0.13886435329914093, 0.9860052466392517, 0.9806643724441528, 0.9965792298316956, 0.9427909851074219, 0.8905400037765503, 0.9747421741485596, 0.8474083542823792, 0.9197635650634766, 0.8800217509269714, 0.9963470697402954, 0.9229300618171692, 0.15182100236415863, 0.7591050267219543, 0.9605518579483032, 0.91140216588974, 0.9733934998512268, 0.9892610311508179, 0.877465009689331, 0.7351634502410889, 0.1050233468413353, 0.1050233468413353, 0.8622844815254211, 0.9977684020996094, 0.986528217792511, 0.9942450523376465, 0.9770945310592651, 0.7403568029403687, 0.220912903547287, 0.03582371398806572, 0.9715157151222229, 0.7573273181915283, 0.20285552740097046, 0.04057110473513603, 0.7507976293563843, 0.2121819406747818, 0.038083937019109726, 0.9814833402633667, 0.9847192764282227, 0.9778291583061218, 0.9972177147865295, 0.93434077501297, 0.9648661613464355, 0.9982686042785645, 0.10096514225006104, 0.8077211380004883, 0.8647429943084717, 0.12353471666574478, 0.9935303330421448, 0.8885602951049805, 0.913462221622467, 0.8593488335609436, 0.7890522480010986, 0.17180976271629333, 0.031816624104976654, 0.9041688442230225, 0.9845763444900513, 0.7571041584014893, 0.202517569065094, 0.03738785907626152, 0.7742215394973755, 0.11060307919979095, 0.8744702339172363, 0.9267280697822571, 0.9869703650474548, 0.8990855813026428, 0.9169947504997253, 0.9835891723632812, 0.9760542511940002, 0.9776293039321899, 0.9086687564849854, 0.03028895892202854, 0.03028895892202854, 0.8993896842002869, 0.7313987016677856, 0.2437995821237564, 0.9801092147827148, 0.20360445976257324, 0.814417839050293, 0.9964393973350525, 0.8466658592224121, 0.8270095586776733, 0.993236243724823, 0.9969441294670105], \"Term\": [\"\", \"\\u0e01\\u0e01\\u0e01\\u0e01\", \"\\u0e01\\u0e22\\u0e48\\u0e32\\u0e07\", \"\\u0e01\\u0e23\\u0e2d\\u0e1a\\u0e21\\u0e32\\u0e01\", \"\\u0e01\\u0e23\\u0e2d\\u0e1a\\u0e2d\\u0e23\\u0e48\\u0e2d\\u0e22\\u0e21\\u0e32\\u0e01\", \"\\u0e01\\u0e23\\u0e30\\u0e1a\\u0e35\\u0e48\", \"\\u0e01\\u0e23\\u0e30\\u0e40\\u0e1e\\u0e23\\u0e32\", \"\\u0e01\\u0e23\\u0e30\\u0e40\\u0e1e\\u0e32\\u0e30\", \"\\u0e01\\u0e23\\u0e30\\u0e40\\u0e1e\\u0e32\\u0e30\", \"\\u0e01\\u0e23\\u0e38\\u0e07\\u0e40\\u0e17\\u0e1e\", \"\\u0e01\\u0e23\\u0e38\\u0e07\\u0e40\\u0e17\\u0e1e\\u0e2f\", \"\\u0e01\\u0e23\\u0e38\\u0e1a\\u0e01\\u0e23\\u0e2d\\u0e1a\", \"\\u0e01\\u0e23\\u0e38\\u0e1a\\u0e01\\u0e23\\u0e2d\\u0e1a\", \"\\u0e01\\u0e23\\u0e38\\u0e1a\\u0e01\\u0e23\\u0e2d\\u0e1a\", \"\\u0e01\\u0e25\\u0e49\\u0e27\\u0e22\\u0e1b\\u0e34\\u0e49\\u0e07\", \"\\u0e01\\u0e30\\u0e17\\u0e30\\u0e23\\u0e49\\u0e2d\\u0e19\", \"\\u0e01\\u0e31\\u0e49\\u0e07\", \"\\u0e01\\u0e32\\u0e01\\u0e2b\\u0e21\\u0e39\", \"\\u0e01\\u0e32\\u0e23\\u0e23\\u0e2d\\u0e04\\u0e2d\\u0e22\", \"\\u0e01\\u0e32\\u0e41\\u0e1f\", \"\\u0e01\\u0e32\\u0e41\\u0e1f\", \"\\u0e01\\u0e32\\u0e41\\u0e1f\", \"\\u0e01\\u0e34\\u0e19\\u0e40\\u0e02\\u0e49\\u0e32\\u0e44\\u0e1b\", \"\\u0e01\\u0e38\\u0e49\\u0e07\\u0e1e\\u0e31\\u0e19\\u0e2d\\u0e49\\u0e2d\\u0e22\", \"\\u0e01\\u0e38\\u0e49\\u0e07\\u0e40\\u0e1c\\u0e32\", \"\\u0e01\\u0e38\\u0e49\\u0e07\\u0e41\\u0e21\\u0e48\\u0e19\\u0e49\\u0e33\", \"\\u0e01\\u0e47\\u0e2d\\u0e23\\u0e48\\u0e2d\\u0e22\\u0e21\\u0e32\\u0e01\", \"\\u0e01\\u0e47\\u0e2d\\u0e23\\u0e48\\u0e2d\\u0e22\\u0e21\\u0e32\\u0e01\", \"\\u0e01\\u0e49\\u0e2d\\u0e2d\\u0e23\\u0e48\\u0e2d\\u0e22\", \"\\u0e01\\u0e49\\u0e2d\\u0e42\\u0e2d\\u0e40\\u0e04\", \"\\u0e01\\u0e4b\\u0e27\\u0e22\\u0e40\\u0e15\\u0e35\\u0e4b\\u0e22\\u0e27\", \"\\u0e01\\u0e4b\\u0e27\\u0e22\\u0e40\\u0e15\\u0e35\\u0e4b\\u0e22\\u0e27\", \"\\u0e01\\u0e4b\\u0e27\\u0e22\\u0e40\\u0e15\\u0e35\\u0e4b\\u0e22\\u0e27\", \"\\u0e01\\u0e4b\\u0e27\\u0e22\\u0e40\\u0e15\\u0e35\\u0e4b\\u0e22\\u0e27\\u0e2b\\u0e21\\u0e39\", \"\\u0e02\\u0e19\\u0e21\\u0e08\\u0e35\\u0e1a\", \"\\u0e02\\u0e19\\u0e21\\u0e08\\u0e35\\u0e1a\", \"\\u0e02\\u0e19\\u0e21\\u0e08\\u0e35\\u0e1a\", \"\\u0e02\\u0e19\\u0e21\\u0e16\\u0e49\\u0e27\\u0e22\", \"\\u0e02\\u0e19\\u0e21\\u0e1b\\u0e31\\u0e07\", \"\\u0e02\\u0e19\\u0e21\\u0e1b\\u0e31\\u0e07\", \"\\u0e02\\u0e19\\u0e21\\u0e1b\\u0e31\\u0e07\", \"\\u0e02\\u0e19\\u0e21\\u0e1b\\u0e31\\u0e07\\u0e1b\\u0e34\\u0e49\\u0e07\", \"\\u0e02\\u0e19\\u0e21\\u0e1b\\u0e31\\u0e07\\u0e1b\\u0e34\\u0e49\\u0e07\", \"\\u0e02\\u0e19\\u0e21\\u0e1b\\u0e31\\u0e07\\u0e1b\\u0e34\\u0e49\\u0e07\", \"\\u0e02\\u0e19\\u0e21\\u0e1c\\u0e31\\u0e01\\u0e01\\u0e32\\u0e14\", \"\\u0e02\\u0e19\\u0e32\\u0e14\\u0e01\\u0e25\\u0e32\\u0e07\", \"\\u0e02\\u0e19\\u0e32\\u0e14\\u0e01\\u0e25\\u0e32\\u0e07\", \"\\u0e02\\u0e19\\u0e38\\u0e19\", \"\\u0e02\\u0e21\\u0e34\\u0e49\\u0e19\", \"\\u0e02\\u0e2d\\u0e07\\u0e04\\u0e32\\u0e27\", \"\\u0e02\\u0e2d\\u0e07\\u0e04\\u0e32\\u0e27\", \"\\u0e02\\u0e2d\\u0e19\\u0e41\\u0e01\\u0e48\\u0e19\", \"\\u0e02\\u0e2d\\u0e1a\", \"\\u0e02\\u0e48\\u0e32\\u0e27\", \"\\u0e02\\u0e49\\u0e32\\u0e27\\u0e02\\u0e32\\u0e2b\\u0e21\\u0e39\", \"\\u0e02\\u0e49\\u0e32\\u0e27\\u0e1c\\u0e31\\u0e14\\u0e1b\\u0e39\", \"\\u0e02\\u0e49\\u0e32\\u0e27\\u0e2b\\u0e21\\u0e01\", \"\\u0e02\\u0e49\\u0e32\\u0e27\\u0e2b\\u0e21\\u0e01\\u0e44\\u0e01\\u0e48\", \"\\u0e02\\u0e49\\u0e32\\u0e27\\u0e2b\\u0e21\\u0e39\\u0e01\\u0e23\\u0e2d\\u0e1a\", \"\\u0e02\\u0e49\\u0e32\\u0e27\\u0e2b\\u0e21\\u0e39\\u0e01\\u0e23\\u0e2d\\u0e1a\", \"\\u0e02\\u0e49\\u0e32\\u0e27\\u0e2b\\u0e21\\u0e39\\u0e41\\u0e14\\u0e07\", \"\\u0e02\\u0e49\\u0e32\\u0e27\\u0e2b\\u0e21\\u0e39\\u0e41\\u0e14\\u0e07\", \"\\u0e02\\u0e49\\u0e32\\u0e27\\u0e2b\\u0e21\\u0e39\\u0e41\\u0e14\\u0e07\", \"\\u0e04\", \"\\u0e04\\u0e19\\u0e40\\u0e22\\u0e2d\\u0e30\\u0e15\\u0e25\\u0e2d\\u0e14\", \"\\u0e04\\u0e19\\u0e40\\u0e22\\u0e2d\\u0e30\\u0e15\\u0e25\\u0e2d\\u0e14\", \"\\u0e04\\u0e19\\u0e40\\u0e22\\u0e2d\\u0e30\\u0e15\\u0e25\\u0e2d\\u0e14\", \"\\u0e04\\u0e1a\", \"\\u0e04\\u0e23\\u0e2d\\u0e1a\\u0e04\\u0e23\\u0e31\\u0e27\", \"\\u0e04\\u0e23\\u0e2d\\u0e1a\\u0e04\\u0e23\\u0e31\\u0e27\", \"\\u0e04\\u0e23\\u0e2d\\u0e1a\\u0e04\\u0e23\\u0e31\\u0e27\", \"\\u0e04\\u0e23\\u0e48\\u0e30\", \"\\u0e04\\u0e2d\\u0e19\\u0e42\\u0e14\", \"\\u0e04\\u0e2d\\u0e19\\u0e42\\u0e14\", \"\\u0e04\\u0e31\\u0e1e\\u0e40\\u0e04\\u0e49\\u0e01\", \"\\u0e04\\u0e32\\u0e23\\u0e32\\u0e40\\u0e21\\u0e25\", \"\\u0e04\\u0e32\\u0e23\\u0e32\\u0e40\\u0e21\\u0e25\", \"\\u0e04\\u0e49\\u0e19\\u0e2b\\u0e32\", \"\\u0e04\\u0e49\\u0e32\", \"\\u0e08\\u0e21\\u0e39\\u0e01\", \"\\u0e08\\u0e23\\u0e49\\u0e32\", \"\\u0e08\\u0e31\\u0e01\\u0e23\\u0e22\\u0e32\\u0e19\", \"\\u0e08\\u0e31\\u0e01\\u0e23\\u0e22\\u0e32\\u0e19\", \"\\u0e08\\u0e32\\u0e19\\u0e40\\u0e25\\u0e47\\u0e01\", \"\\u0e08\\u0e32\\u0e19\\u0e40\\u0e25\\u0e47\\u0e01\", \"\\u0e0a\\u0e21\\u0e1e\\u0e39\", \"\\u0e0a\\u0e2d\\u0e1a\", \"\\u0e0a\\u0e2d\\u0e1a\", \"\\u0e0a\\u0e2d\\u0e1a\", \"\\u0e0a\\u0e32\\u0e15\", \"\\u0e0a\\u0e32\\u0e21\\u0e30\\u0e19\\u0e32\\u0e27\", \"\\u0e0a\\u0e32\\u0e27\\u0e15\\u0e48\\u0e32\\u0e07\\u0e0a\\u0e32\\u0e15\\u0e34\", \"\\u0e0a\\u0e32\\u0e27\\u0e15\\u0e48\\u0e32\\u0e07\\u0e0a\\u0e32\\u0e15\\u0e34\", \"\\u0e0a\\u0e32\\u0e27\\u0e15\\u0e48\\u0e32\\u0e07\\u0e0a\\u0e32\\u0e15\\u0e34\", \"\\u0e0a\\u0e32\\u0e27\\u0e15\\u0e48\\u0e32\\u0e07\\u0e0a\\u0e32\\u0e15\\u0e34\", \"\\u0e0a\\u0e32\\u0e40\\u0e02\\u0e35\\u0e22\\u0e27\", \"\\u0e0a\\u0e32\\u0e40\\u0e02\\u0e35\\u0e22\\u0e27\", \"\\u0e0a\\u0e32\\u0e40\\u0e02\\u0e35\\u0e22\\u0e27\", \"\\u0e0a\\u0e32\\u0e44\\u0e02\\u0e48\\u0e21\\u0e38\\u0e01\", \"\\u0e0a\\u0e35\\u0e2a\\u0e40\\u0e04\\u0e49\\u0e01\", \"\\u0e0a\\u0e35\\u0e2a\\u0e40\\u0e04\\u0e49\\u0e01\", \"\\u0e0a\\u0e37\\u0e14\", \"\\u0e0a\\u0e37\\u0e14\", \"\\u0e0a\\u0e39\\u0e04\\u0e23\\u0e35\\u0e21\", \"\\u0e0a\\u0e4a\\u0e2d\\u0e04\\u0e42\\u0e01\\u0e41\\u0e25\\u0e15\", \"\\u0e0b\\u0e2d\\u0e2a\\u0e23\\u0e32\\u0e14\", \"\\u0e0b\\u0e2d\\u0e2a\\u0e23\\u0e32\\u0e14\", \"\\u0e0b\\u0e35\\u0e0b\\u0e48\\u0e32\\u0e2a\\u0e25\\u0e31\\u0e14\", \"\\u0e0b\\u0e35\\u0e1f\\u0e39\\u0e49\\u0e14\", \"\\u0e0b\\u0e35\\u0e1f\\u0e39\\u0e49\\u0e14\", \"\\u0e0b\\u0e38\\u0e1b\\u0e01\\u0e23\\u0e30\\u0e14\\u0e39\\u0e01\", \"\\u0e0b\\u0e39\", \"\\u0e0d\\u0e35\\u0e48\\u0e1b\\u0e38\\u0e48\\u0e19\", \"\\u0e0d\\u0e35\\u0e48\\u0e1b\\u0e38\\u0e48\\u0e19\", \"\\u0e0d\\u0e35\\u0e48\\u0e1b\\u0e38\\u0e48\\u0e19\", \"\\u0e10\\u0e32\\u0e19\", \"\\u0e14\\u0e32\\u0e14\\u0e1f\\u0e49\\u0e32\", \"\\u0e14\\u0e34\\u0e48\\u0e07\", \"\\u0e14\\u0e35\\u0e40\\u0e25\\u0e22\\u0e17\\u0e35\\u0e40\\u0e14\\u0e35\\u0e22\\u0e27\", \"\\u0e14\\u0e36\\u0e07\\u0e14\\u0e39\\u0e14\", \"\\u0e14\\u0e49\\u0e2d\\u0e22\", \"\\u0e15\\u0e30\\u0e42\\u0e01\\u0e19\", \"\\u0e15\\u0e30\\u0e42\\u0e01\\u0e19\", \"\\u0e15\\u0e30\\u0e42\\u0e01\\u0e19\", \"\\u0e15\\u0e30\\u0e42\\u0e01\\u0e19\", \"\\u0e15\\u0e30\\u0e44\\u0e04\\u0e23\\u0e49\", \"\\u0e15\\u0e33\\u0e16\\u0e32\\u0e14\", \"\\u0e15\\u0e33\\u0e21\\u0e31\\u0e48\\u0e27\", \"\\u0e15\\u0e33\\u0e21\\u0e31\\u0e48\\u0e27\", \"\\u0e15\\u0e33\\u0e21\\u0e31\\u0e48\\u0e27\", \"\\u0e15\\u0e48\\u0e32\\u0e07\\u0e1b\\u0e23\\u0e30\\u0e40\\u0e17\\u0e28\", \"\\u0e15\\u0e49\\u0e21\\u0e22\\u0e33\\u0e01\\u0e38\\u0e49\\u0e07\", \"\\u0e15\\u0e49\\u0e21\\u0e41\\u0e0b\\u0e48\\u0e1a\", \"\\u0e15\\u0e49\\u0e21\\u0e41\\u0e0b\\u0e48\\u0e1a\\u0e01\\u0e23\\u0e30\\u0e14\\u0e39\\u0e01\\u0e2d\\u0e48\\u0e2d\\u0e19\", \"\\u0e16\\u0e48\\u0e32\\u0e22\\u0e40\\u0e17\", \"\\u0e17\\u0e23\\u0e39\", \"\\u0e17\\u0e32\\u0e19\\u0e04\\u0e39\\u0e48\\u0e01\\u0e31\\u0e19\", \"\\u0e17\\u0e32\\u0e19\\u0e04\\u0e39\\u0e48\\u0e01\\u0e31\\u0e19\", \"\\u0e17\\u0e48\\u0e35\", \"\\u0e17\\u0e49\\u0e2d\\u0e07\\u0e16\\u0e34\\u0e48\\u0e19\", \"\\u0e17\\u0e49\\u0e2d\\u0e07\\u0e16\\u0e34\\u0e48\\u0e19\", \"\\u0e17\\u0e49\\u0e2d\\u0e07\\u0e16\\u0e34\\u0e48\\u0e19\", \"\\u0e17\\u0e49\\u0e32\", \"\\u0e17\\u0e4a\\u0e2d\\u0e1b\\u0e1b\\u0e34\\u0e49\\u0e07\", \"\\u0e17\\u0e4a\\u0e2d\\u0e1b\\u0e1b\\u0e34\\u0e49\\u0e07\", \"\\u0e18\\u0e23\\u0e23\\u0e21\\u0e14\\u0e32\", \"\\u0e18\\u0e23\\u0e23\\u0e21\\u0e14\\u0e32\", \"\\u0e18\\u0e23\\u0e23\\u0e21\\u0e14\\u0e32\", \"\\u0e19\\u0e27\\u0e14\", \"\\u0e19\\u0e32\\u0e19\", \"\\u0e19\\u0e32\\u0e19\", \"\\u0e19\\u0e32\\u0e19\", \"\\u0e19\\u0e37\\u0e49\\u0e2d\", \"\\u0e19\\u0e38\\u0e48\\u0e21\\u0e2d\\u0e23\\u0e48\\u0e2d\\u0e22\\u0e21\\u0e32\\u0e01\", \"\\u0e19\\u0e48\\u0e32\\u0e19\", \"\\u0e19\\u0e49\\u0e2d\\u0e22\\u0e44\\u0e1b\", \"\\u0e19\\u0e49\\u0e33\\u0e02\\u0e49\\u0e19\", \"\\u0e19\\u0e49\\u0e33\\u0e08\\u0e34\\u0e49\\u0e21\", \"\\u0e19\\u0e49\\u0e33\\u0e08\\u0e34\\u0e49\\u0e21\", \"\\u0e19\\u0e49\\u0e33\\u0e08\\u0e34\\u0e49\\u0e21\", \"\\u0e19\\u0e49\\u0e33\\u0e08\\u0e34\\u0e49\\u0e21\\u0e0b\\u0e35\\u0e1f\\u0e39\\u0e49\\u0e14\", \"\\u0e19\\u0e49\\u0e33\\u0e08\\u0e34\\u0e49\\u0e21\\u0e0b\\u0e35\\u0e1f\\u0e39\\u0e49\\u0e14\", \"\\u0e19\\u0e49\\u0e33\\u0e08\\u0e34\\u0e49\\u0e21\\u0e2d\\u0e23\\u0e48\\u0e2d\\u0e22\", \"\\u0e19\\u0e49\\u0e33\\u0e0b\\u0e38\\u0e1a\", \"\\u0e19\\u0e49\\u0e33\\u0e0b\\u0e38\\u0e1b\", \"\\u0e19\\u0e49\\u0e33\\u0e0b\\u0e38\\u0e1b\", \"\\u0e19\\u0e49\\u0e33\\u0e0b\\u0e38\\u0e1b\", \"\\u0e19\\u0e49\\u0e33\\u0e0b\\u0e38\\u0e1b\\u0e01\\u0e25\\u0e21\\u0e01\\u0e25\\u0e48\\u0e2d\\u0e21\", \"\\u0e19\\u0e49\\u0e33\\u0e0b\\u0e38\\u0e1b\\u0e01\\u0e25\\u0e21\\u0e01\\u0e25\\u0e48\\u0e2d\\u0e21\", \"\\u0e19\\u0e49\\u0e33\\u0e1e\\u0e23\\u0e34\\u0e01\", \"\\u0e19\\u0e49\\u0e33\\u0e41\\u0e02\\u0e47\\u0e07\\u0e44\\u0e2a\", \"\\u0e1a\\u0e23\\u0e23\\u0e22\\u0e32\\u0e01\\u0e32\\u0e28\", \"\\u0e1a\\u0e23\\u0e23\\u0e22\\u0e32\\u0e01\\u0e32\\u0e28\", \"\\u0e1a\\u0e23\\u0e23\\u0e22\\u0e32\\u0e01\\u0e32\\u0e28\", \"\\u0e1a\\u0e23\\u0e23\\u0e22\\u0e32\\u0e01\\u0e32\\u0e28\\u0e02\\u0e2d\\u0e07\\u0e23\\u0e49\\u0e32\\u0e19\", \"\\u0e1a\\u0e23\\u0e23\\u0e22\\u0e32\\u0e01\\u0e32\\u0e28\\u0e23\\u0e49\\u0e32\\u0e19\", \"\\u0e1a\\u0e23\\u0e23\\u0e22\\u0e32\\u0e01\\u0e32\\u0e28\\u0e23\\u0e49\\u0e32\\u0e19\", \"\\u0e1a\\u0e23\\u0e23\\u0e22\\u0e32\\u0e01\\u0e32\\u0e28\\u0e23\\u0e49\\u0e32\\u0e19\", \"\\u0e1a\\u0e23\\u0e23\\u0e22\\u0e32\\u0e01\\u0e32\\u0e28\\u0e43\\u0e19\\u0e23\\u0e49\\u0e32\\u0e19\", \"\\u0e1a\\u0e23\\u0e23\\u0e22\\u0e32\\u0e01\\u0e32\\u0e28\\u0e43\\u0e19\\u0e23\\u0e49\\u0e32\\u0e19\", \"\\u0e1a\\u0e23\\u0e23\\u0e22\\u0e32\\u0e22\", \"\\u0e1a\\u0e23\\u0e23\\u0e22\\u0e32\\u0e22\", \"\\u0e1a\\u0e23\\u0e23\\u0e22\\u0e32\\u0e22\", \"\\u0e1a\\u0e23\\u0e23\\u0e22\\u0e32\\u0e22\\u0e01\\u0e32\\u0e28\", \"\\u0e1a\\u0e23\\u0e34\\u0e01\\u0e23\", \"\\u0e1a\\u0e23\\u0e34\\u0e01\\u0e32\\u0e23\", \"\\u0e1a\\u0e23\\u0e34\\u0e01\\u0e32\\u0e23\", \"\\u0e1a\\u0e23\\u0e34\\u0e01\\u0e32\\u0e23\", \"\\u0e1a\\u0e23\\u0e34\\u0e01\\u0e32\\u0e23\\u0e14\\u0e35\\u0e21\\u0e32\\u0e01\", \"\\u0e1a\\u0e30\\u0e2b\\u0e21\\u0e35\\u0e48\\u0e2b\\u0e22\\u0e01\", \"\\u0e1a\\u0e30\\u0e2b\\u0e21\\u0e35\\u0e48\\u0e40\\u0e22\", \"\\u0e1a\\u0e31\\u0e07\", \"\\u0e1a\\u0e32\\u0e19\", \"\\u0e1a\\u0e34\\u0e07\", \"\\u0e1a\\u0e34\\u0e07\\u0e0b\\u0e39\", \"\\u0e1a\\u0e34\\u0e19\", \"\\u0e1a\\u0e34\\u0e19\", \"\\u0e1a\\u0e34\\u0e19\", \"\\u0e1a\\u0e34\\u0e19\", \"\\u0e1a\\u0e38\\u0e1f\\u0e40\\u0e1f\\u0e48\", \"\\u0e1a\\u0e39\\u0e14\", \"\\u0e1b\\u0e01\\u0e15\\u0e34\", \"\\u0e1b\\u0e01\\u0e15\\u0e34\", \"\\u0e1b\\u0e01\\u0e15\\u0e34\", \"\\u0e1b\\u0e23\\u0e30\\u0e01\\u0e32\\u0e23\", \"\\u0e1b\\u0e23\\u0e30\\u0e0a\\u0e38\\u0e21\", \"\\u0e1b\\u0e23\\u0e31\\u0e1a\\u0e1b\\u0e23\\u0e38\\u0e07\", \"\\u0e1b\\u0e23\\u0e31\\u0e1a\\u0e1b\\u0e23\\u0e38\\u0e07\", \"\\u0e1b\\u0e23\\u0e31\\u0e1a\\u0e1b\\u0e23\\u0e38\\u0e07\", \"\\u0e1b\\u0e23\\u0e34\\u0e21\\u0e32\\u0e13\\u0e40\\u0e22\\u0e2d\\u0e30\\u0e21\\u0e32\\u0e01\", \"\\u0e1b\\u0e23\\u0e34\\u0e48\\u0e21\", \"\\u0e1b\\u0e25\\u0e32\\u0e01\\u0e23\\u0e2d\\u0e1a\", \"\\u0e1b\\u0e25\\u0e32\\u0e01\\u0e23\\u0e30\\u0e1e\\u0e07\\u0e17\\u0e2d\\u0e14\\u0e19\\u0e49\\u0e33\\u0e1b\\u0e25\\u0e32\", \"\\u0e1b\\u0e25\\u0e32\\u0e01\\u0e30\\u0e1e\\u0e07\", \"\\u0e1b\\u0e25\\u0e32\\u0e01\\u0e30\\u0e1e\\u0e07\\u0e17\\u0e2d\\u0e14\\u0e19\\u0e49\\u0e33\\u0e1b\\u0e25\\u0e32\", \"\\u0e1b\\u0e25\\u0e32\\u0e23\\u0e49\\u0e32\", \"\\u0e1b\\u0e25\\u0e32\\u0e23\\u0e49\\u0e32\", \"\\u0e1b\\u0e25\\u0e32\\u0e2b\\u0e21\\u0e36\\u0e01\\u0e1c\\u0e31\\u0e14\\u0e44\\u0e02\\u0e48\\u0e40\\u0e04\\u0e47\\u0e21\", \"\\u0e1b\\u0e25\\u0e32\\u0e40\\u0e04\\u0e47\\u0e21\", \"\\u0e1b\\u0e25\\u0e32\\u0e40\\u0e19\\u0e37\\u0e49\\u0e2d\\u0e2d\", \"\\u0e1b\\u0e27\\u0e14\", \"\\u0e1b\\u0e31\\u0e07\\u0e40\\u0e22\\u0e47\\u0e19\", \"\\u0e1b\\u0e32\\u0e17\\u0e48\\u0e2d\\u0e07\\u0e42\\u0e01\\u0e4b\", \"\\u0e1b\\u0e39\\u0e19\\u0e36\\u0e48\\u0e07\", \"\\u0e1b\\u0e39\\u0e19\\u0e36\\u0e48\\u0e07\", \"\\u0e1b\\u0e39\\u0e1c\\u0e31\\u0e14\\u0e1c\\u0e07\\u0e01\\u0e23\\u0e30\\u0e2b\\u0e23\\u0e35\\u0e48\", \"\\u0e1c\\u0e25\", \"\\u0e1c\\u0e25\", \"\\u0e1c\\u0e25\\u0e34\\u0e15\", \"\\u0e1c\\u0e31\\u0e01\\u0e2b\\u0e27\\u0e32\\u0e19\", \"\\u0e1c\\u0e31\\u0e14\\u0e2b\\u0e21\\u0e35\\u0e48\", \"\\u0e1c\\u0e31\\u0e14\\u0e44\\u0e17\", \"\\u0e1c\\u0e31\\u0e14\\u0e44\\u0e17\", \"\\u0e1c\\u0e31\\u0e14\\u0e44\\u0e17\\u0e22\", \"\\u0e1c\\u0e34\\u0e14\\u0e1e\\u0e25\\u0e32\\u0e14\", \"\\u0e1c\\u0e39\\u0e49\\u0e0a\\u0e32\\u0e22\", \"\\u0e1c\\u0e39\\u0e49\\u0e0a\\u0e32\\u0e22\", \"\\u0e1e\\u0e19\\u0e31\\u0e01\\u0e07\\u0e32\\u0e19\", \"\\u0e1e\\u0e19\\u0e31\\u0e01\\u0e07\\u0e32\\u0e19\", \"\\u0e1e\\u0e19\\u0e31\\u0e01\\u0e07\\u0e32\\u0e19\", \"\\u0e1e\\u0e19\\u0e31\\u0e01\\u0e07\\u0e32\\u0e19\\u0e1a\\u0e23\\u0e34\\u0e01\\u0e32\\u0e23\\u0e14\\u0e35\\u0e21\\u0e32\\u0e01\", \"\\u0e1e\\u0e19\\u0e31\\u0e01\\u0e07\\u0e32\\u0e19\\u0e1a\\u0e23\\u0e34\\u0e01\\u0e32\\u0e23\\u0e14\\u0e35\\u0e21\\u0e32\\u0e01\", \"\\u0e1e\\u0e22\\u0e32\\u0e1a\\u0e32\\u0e25\", \"\\u0e1e\\u0e22\\u0e32\\u0e1a\\u0e32\\u0e25\", \"\\u0e1e\\u0e23\\u0e30\", \"\\u0e1e\\u0e31\\u0e12\\u0e19\\u0e32\", \"\\u0e1e\\u0e31\\u0e12\\u0e19\\u0e32\\u0e01\\u0e32\\u0e23\", \"\\u0e1e\\u0e32\\u0e22\", \"\\u0e1e\\u0e32\\u0e22\", \"\\u0e1e\\u0e32\\u0e22\", \"\\u0e1e\\u0e32\\u0e23\\u0e32\\u0e01\\u0e2d\\u0e19\", \"\\u0e1e\\u0e35\\u0e48\\u0e2a\\u0e32\\u0e27\", \"\\u0e1e\\u0e35\\u0e48\\u0e2a\\u0e32\\u0e27\", \"\\u0e1f\\u0e31\\u0e01\\u0e17\\u0e2d\\u0e07\", \"\\u0e1f\\u0e32\\u0e23\\u0e4c\\u0e21\", \"\\u0e1f\\u0e32\\u0e23\\u0e4c\\u0e21\", \"\\u0e1f\\u0e39\\u0e08\\u0e34\", \"\\u0e1f\\u0e39\\u0e08\\u0e34\", \"\\u0e1f\\u0e39\\u0e08\\u0e34\", \"\\u0e1f\\u0e39\\u0e08\\u0e34\", \"\\u0e21\\u0e2d\\u0e22\", \"\\u0e21\\u0e30\\u0e15\\u0e39\\u0e21\", \"\\u0e21\\u0e31\\u0e27\", \"\\u0e21\\u0e31\\u0e27\", \"\\u0e21\\u0e31\\u0e27\", \"\\u0e21\\u0e31\\u0e48\\u0e27\", \"\\u0e21\\u0e32\\u0e01\\u0e32\\u0e23\\u0e2d\\u0e07\", \"\\u0e21\\u0e32\\u0e01\\u0e34\\u0e19\", \"\\u0e21\\u0e32\\u0e15\\u0e23\\u0e32\", \"\\u0e21\\u0e32\\u0e23\\u0e22\\u0e32\\u0e17\", \"\\u0e21\\u0e32\\u0e23\\u0e22\\u0e32\\u0e17\", \"\\u0e21\\u0e32\\u0e25\\u0e2d\\u0e07\", \"\\u0e21\\u0e32\\u0e25\\u0e2d\\u0e07\", \"\\u0e21\\u0e32\\u0e25\\u0e2d\\u0e07\", \"\\u0e21\\u0e35\\u0e2b\\u0e25\\u0e32\\u0e22\\u0e2a\\u0e32\\u0e02\\u0e32\", \"\\u0e21\\u0e35\\u0e2b\\u0e25\\u0e32\\u0e22\\u0e2a\\u0e32\\u0e02\\u0e32\", \"\\u0e21\\u0e37\\u0e49\\u0e2d\\u0e01\\u0e25\\u0e32\\u0e07\\u0e27\\u0e31\\u0e19\", \"\\u0e21\\u0e37\\u0e49\\u0e2d\\u0e01\\u0e25\\u0e32\\u0e07\\u0e27\\u0e31\\u0e19\", \"\\u0e22\\u0e31\\u0e14\\u0e44\\u0e2a\\u0e49\", \"\\u0e22\\u0e33\\u0e16\\u0e31\\u0e48\\u0e27\\u0e1e\\u0e25\\u0e39\", \"\\u0e22\\u0e33\\u0e41\\u0e0b\\u0e25\\u0e21\\u0e2d\\u0e19\", \"\\u0e22\\u0e38\\u0e42\\u0e23\\u0e1b\", \"\\u0e22\\u0e38\\u0e42\\u0e23\\u0e1b\", \"\\u0e22\\u0e38\\u0e42\\u0e23\\u0e1b\", \"\\u0e22\\u0e47\\u0e19\\u0e15\\u0e32\\u0e42\\u0e1f\", \"\\u0e23\\u0e2a\\u0e0a\\u0e32\\u0e15\\u0e14\\u0e35\", \"\\u0e23\\u0e2a\\u0e0a\\u0e32\\u0e15\\u0e34\", \"\\u0e23\\u0e2a\\u0e0a\\u0e32\\u0e15\\u0e34\", \"\\u0e23\\u0e2a\\u0e0a\\u0e32\\u0e15\\u0e34\", \"\\u0e23\\u0e32\\u0e04\\u0e32\", \"\\u0e23\\u0e32\\u0e04\\u0e32\", \"\\u0e23\\u0e32\\u0e04\\u0e32\", \"\\u0e23\\u0e32\\u0e04\\u0e32\\u0e04\\u0e48\\u0e2d\\u0e19\\u0e02\\u0e49\\u0e32\\u0e07\\u0e2a\\u0e39\\u0e07\", \"\\u0e23\\u0e32\\u0e04\\u0e32\\u0e04\\u0e48\\u0e2d\\u0e19\\u0e02\\u0e49\\u0e32\\u0e07\\u0e2a\\u0e39\\u0e07\", \"\\u0e23\\u0e32\\u0e04\\u0e32\\u0e04\\u0e48\\u0e2d\\u0e19\\u0e02\\u0e49\\u0e32\\u0e07\\u0e2a\\u0e39\\u0e07\", \"\\u0e23\\u0e32\\u0e04\\u0e32\\u0e04\\u0e48\\u0e2d\\u0e19\\u0e02\\u0e49\\u0e32\\u0e07\\u0e2a\\u0e39\\u0e07\", \"\\u0e23\\u0e32\\u0e04\\u0e32\\u0e04\\u0e48\\u0e2d\\u0e19\\u0e02\\u0e49\\u0e32\\u0e07\\u0e2a\\u0e39\\u0e07\", \"\\u0e23\\u0e32\\u0e04\\u0e32\\u0e16\\u0e39\\u0e01\", \"\\u0e23\\u0e32\\u0e04\\u0e32\\u0e16\\u0e39\\u0e01\", \"\\u0e23\\u0e32\\u0e04\\u0e32\\u0e16\\u0e39\\u0e01\", \"\\u0e23\\u0e32\\u0e04\\u0e32\\u0e1b\\u0e23\\u0e30\\u0e2b\\u0e22\\u0e31\\u0e14\", \"\\u0e23\\u0e32\\u0e0a\\u0e1e\\u0e24\\u0e01\\u0e29\\u0e4c\", \"\\u0e23\\u0e32\\u0e0a\\u0e1e\\u0e24\\u0e01\\u0e29\\u0e4c\", \"\\u0e23\\u0e32\\u0e22\", \"\\u0e23\\u0e32\\u0e40\\u0e21\\u0e47\\u0e07\", \"\\u0e23\\u0e48\\u0e21\", \"\\u0e23\\u0e49\\u0e32\\u0e19\\u0e2a\\u0e40\\u0e15\\u0e47\\u0e01\", \"\\u0e24\\u0e14\\u0e39\\u0e01\\u0e32\\u0e25\", \"\\u0e25\\u0e2d\\u0e07\\u0e40\\u0e21\\u0e19\\u0e39\", \"\\u0e25\\u0e2d\\u0e14\\u0e0a\\u0e48\\u0e2d\\u0e07\", \"\\u0e25\\u0e2d\\u0e14\\u0e0a\\u0e48\\u0e2d\\u0e07\\u0e2a\\u0e34\\u0e07\\u0e04\\u0e42\\u0e1b\\u0e23\", \"\\u0e25\\u0e32\\u0e01\", \"\\u0e25\\u0e32\\u0e14\\u0e1e\\u0e23\\u0e49\\u0e32\\u0e27\", \"\\u0e25\\u0e32\\u0e40\\u0e15\\u0e49\", \"\\u0e25\\u0e37\\u0e48\\u0e19\", \"\\u0e25\\u0e37\\u0e48\\u0e19\", \"\\u0e25\\u0e39\\u0e01\\u0e0a\\u0e34\\u0e49\\u0e19\\u0e2b\\u0e21\\u0e39\", \"\\u0e25\\u0e48\\u0e27\\u0e07\\u0e2b\\u0e19\\u0e49\\u0e32\", \"\\u0e27\\u0e32\\u0e1f\\u0e40\\u0e1f\\u0e34\\u0e25\", \"\\u0e27\\u0e32\\u0e1f\\u0e40\\u0e1f\\u0e34\\u0e25\", \"\\u0e27\\u0e34\\u0e19\", \"\\u0e27\\u0e34\\u0e27\\u0e14\\u0e35\", \"\\u0e27\\u0e34\\u0e27\\u0e17\\u0e30\\u0e40\\u0e25\", \"\\u0e27\\u0e34\\u0e27\\u0e17\\u0e30\\u0e40\\u0e25\", \"\\u0e27\\u0e48\\u0e32\\u0e2d\\u0e23\\u0e48\\u0e2d\\u0e22\\u0e01\\u0e27\\u0e48\\u0e32\", \"\\u0e28\\u0e39\\u0e19\\u0e22\\u0e4c\", \"\\u0e28\\u0e39\\u0e19\\u0e22\\u0e4c\", \"\\u0e2a\\u0e07\\u0e01\\u0e23\\u0e32\\u0e19\\u0e15\\u0e4c\", \"\\u0e2a\\u0e15\\u0e23\\u0e2d\\u0e40\\u0e1a\\u0e2d\\u0e23\\u0e4c\\u0e23\\u0e35\\u0e48\", \"\\u0e2a\\u0e15\\u0e32\\u0e23\\u0e4c\", \"\\u0e2a\\u0e19\\u0e32\\u0e21\\u0e1a\\u0e34\\u0e19\", \"\\u0e2a\\u0e19\\u0e32\\u0e21\\u0e1a\\u0e34\\u0e19\", \"\\u0e2a\\u0e19\\u0e32\\u0e21\\u0e1a\\u0e34\\u0e19\", \"\\u0e2a\\u0e21\\u0e23\\u0e32\\u0e04\\u0e32\\u0e04\\u0e48\\u0e30\", \"\\u0e2a\\u0e21\\u0e31\\u0e04\\u0e23\", \"\\u0e2a\\u0e2d\\u0e07\\u0e2a\\u0e32\\u0e21\", \"\\u0e2a\\u0e30\\u0e14\\u0e38\\u0e14\\u0e15\\u0e32\", \"\\u0e2a\\u0e30\\u0e2a\\u0e21\", \"\\u0e2a\\u0e30\\u0e2d\\u0e32\\u0e14\\u0e2a\\u0e30\\u0e2d\\u0e49\\u0e32\\u0e19\", \"\\u0e2a\\u0e31\\u0e15\\u0e27\\u0e4c\", \"\\u0e2a\\u0e31\\u0e48\\u0e07\\u0e01\\u0e25\\u0e31\\u0e1a\\u0e1a\\u0e49\\u0e32\\u0e19\", \"\\u0e2a\\u0e31\\u0e48\\u0e07\\u0e44\\u0e14\\u0e49\\u0e44\\u0e21\\u0e48\\u0e2d\\u0e31\\u0e49\\u0e19\", \"\\u0e2a\\u0e40\\u0e15\\u0e4a\\u0e01\", \"\\u0e2a\\u0e42\\u0e04\\u0e19\", \"\\u0e2b\\u0e19\\u0e49\\u0e32\\u0e15\\u0e32\\u0e2d\\u0e32\\u0e2b\\u0e32\\u0e23\", \"\\u0e2b\\u0e19\\u0e49\\u0e32\\u0e15\\u0e32\\u0e2d\\u0e32\\u0e2b\\u0e32\\u0e23\", \"\\u0e2b\\u0e21\\u0e14\\u0e40\\u0e01\\u0e25\\u0e35\\u0e49\\u0e22\\u0e07\", \"\\u0e2b\\u0e21\\u0e2d\", \"\\u0e2b\\u0e21\\u0e31\\u0e48\\u0e19\\u0e42\\u0e16\", \"\\u0e2b\\u0e21\\u0e31\\u0e48\\u0e19\\u0e42\\u0e16\", \"\\u0e2b\\u0e21\\u0e39\\u0e01\\u0e23\\u0e30\\u0e17\\u0e30\", \"\\u0e2b\\u0e21\\u0e39\\u0e08\\u0e38\\u0e48\\u0e21\", \"\\u0e2b\\u0e21\\u0e39\\u0e15\\u0e38\\u0e4b\\u0e19\", \"\\u0e2b\\u0e21\\u0e39\\u0e15\\u0e38\\u0e4b\\u0e19\", \"\\u0e2b\\u0e21\\u0e39\\u0e19\\u0e38\\u0e48\\u0e21\", \"\\u0e2b\\u0e21\\u0e39\\u0e19\\u0e38\\u0e48\\u0e21\", \"\\u0e2b\\u0e21\\u0e39\\u0e19\\u0e38\\u0e48\\u0e21\", \"\\u0e2b\\u0e21\\u0e39\\u0e1b\\u0e34\\u0e49\\u0e07\", \"\\u0e2b\\u0e21\\u0e39\\u0e21\\u0e30\\u0e19\\u0e32\\u0e27\", \"\\u0e2b\\u0e21\\u0e39\\u0e41\\u0e14\\u0e14\\u0e40\\u0e14\\u0e35\\u0e22\\u0e27\", \"\\u0e2b\\u0e21\\u0e49\\u0e2d\\u0e44\\u0e1f\", \"\\u0e2b\\u0e25\\u0e1a\", \"\\u0e2b\\u0e27\\u0e32\\u0e19\", \"\\u0e2b\\u0e27\\u0e32\\u0e19\", \"\\u0e2b\\u0e27\\u0e32\\u0e19\", \"\\u0e2b\\u0e27\\u0e32\\u0e19\\u0e19\\u0e49\\u0e2d\\u0e22\", \"\\u0e2b\\u0e27\\u0e32\\u0e19\\u0e19\\u0e49\\u0e2d\\u0e22\", \"\\u0e2b\\u0e27\\u0e37\\u0e2d\\u0e2b\\u0e27\\u0e32\", \"\\u0e2b\\u0e2d\\u0e21\\u0e14\\u0e35\", \"\\u0e2b\\u0e2d\\u0e22\", \"\\u0e2b\\u0e2d\\u0e22\\u0e17\\u0e2d\\u0e14\", \"\\u0e2b\\u0e2d\\u0e22\\u0e19\\u0e32\\u0e07\\u0e23\\u0e21\", \"\\u0e2b\\u0e2d\\u0e22\\u0e19\\u0e32\\u0e07\\u0e23\\u0e21\", \"\\u0e2b\\u0e31\\u0e27\\u0e1b\\u0e25\\u0e32\", \"\\u0e2b\\u0e32\\u0e14\\u0e43\\u0e2b\\u0e0d\\u0e48\", \"\\u0e2b\\u0e34\\u0e21\\u0e30\", \"\\u0e2b\\u0e48\\u0e2d\\u0e01\\u0e25\\u0e31\\u0e1a\", \"\\u0e2b\\u0e48\\u0e2d\\u0e01\\u0e25\\u0e31\\u0e1a\", \"\\u0e2b\\u0e48\\u0e2d\\u0e01\\u0e25\\u0e31\\u0e1a\", \"\\u0e2d\\u0e23\\u0e48\\u0e2d\\u0e22\", \"\\u0e2d\\u0e23\\u0e48\\u0e2d\\u0e22\", \"\\u0e2d\\u0e23\\u0e48\\u0e2d\\u0e22\", \"\\u0e2d\\u0e23\\u0e48\\u0e2d\\u0e22\\u0e04\\u0e30\", \"\\u0e2d\\u0e23\\u0e48\\u0e2d\\u0e22\\u0e04\\u0e30\", \"\\u0e2d\\u0e23\\u0e48\\u0e2d\\u0e22\\u0e04\\u0e30\", \"\\u0e2d\\u0e23\\u0e48\\u0e2d\\u0e22\\u0e14\\u0e35\", \"\\u0e2d\\u0e23\\u0e48\\u0e2d\\u0e22\\u0e14\\u0e35\", \"\\u0e2d\\u0e23\\u0e48\\u0e2d\\u0e22\\u0e14\\u0e35\", \"\\u0e2d\\u0e23\\u0e48\\u0e2d\\u0e22\\u0e21\\u0e32\\u0e01\", \"\\u0e2d\\u0e23\\u0e48\\u0e2d\\u0e22\\u0e21\\u0e32\\u0e01\", \"\\u0e2d\\u0e23\\u0e48\\u0e2d\\u0e22\\u0e21\\u0e32\\u0e01\", \"\\u0e2d\\u0e23\\u0e48\\u0e2d\\u0e22\\u0e21\\u0e32\\u0e01\\u0e40\\u0e25\\u0e22\", \"\\u0e2d\\u0e23\\u0e48\\u0e2d\\u0e22\\u0e22\", \"\\u0e2d\\u0e23\\u0e48\\u0e2d\\u0e22\\u0e22\", \"\\u0e2d\\u0e23\\u0e48\\u0e2d\\u0e22\\u0e22\", \"\\u0e2d\\u0e23\\u0e48\\u0e2d\\u0e22\\u0e2d\\u0e22\\u0e39\\u0e48\", \"\\u0e2d\\u0e2d\\u0e1f\\u0e1f\\u0e34\\u0e28\", \"\\u0e2d\\u0e2d\\u0e1f\\u0e1f\\u0e34\\u0e28\", \"\\u0e2d\\u0e2d\\u0e1f\\u0e1f\\u0e34\\u0e28\", \"\\u0e2d\\u0e2d\\u0e40\\u0e14\\u0e34\\u0e23\\u0e4c\\u0e1f\", \"\\u0e2d\\u0e31\\u0e07\\u0e01\\u0e24\\u0e29\", \"\\u0e2d\\u0e31\\u0e19\\u0e19\\u0e35\\u0e49\\u0e2d\\u0e23\\u0e48\\u0e2d\\u0e22\", \"\\u0e2d\\u0e31\\u0e19\\u0e19\\u0e35\\u0e49\\u0e2d\\u0e23\\u0e48\\u0e2d\\u0e22\", \"\\u0e2d\\u0e32\\u0e21\\u0e48\\u0e32\", \"\\u0e2d\\u0e32\\u0e2b\\u0e32\\u0e23\\u0e17\\u0e30\\u0e40\\u0e25\\u0e2a\\u0e14\", \"\\u0e2d\\u0e32\\u0e2b\\u0e32\\u0e23\\u0e17\\u0e30\\u0e40\\u0e25\\u0e2a\\u0e14\", \"\\u0e2d\\u0e32\\u0e2b\\u0e32\\u0e23\\u0e17\\u0e30\\u0e40\\u0e25\\u0e2a\\u0e14\", \"\\u0e2d\\u0e32\\u0e2b\\u0e32\\u0e23\\u0e17\\u0e30\\u0e40\\u0e25\\u0e2a\\u0e14\", \"\\u0e2d\\u0e32\\u0e2b\\u0e32\\u0e23\\u0e17\\u0e30\\u0e40\\u0e25\\u0e2a\\u0e14\", \"\\u0e2d\\u0e32\\u0e2b\\u0e32\\u0e23\\u0e21\\u0e35\\u0e43\\u0e2b\\u0e49\\u0e40\\u0e25\\u0e37\\u0e2d\\u0e01\\u0e2b\\u0e25\\u0e32\\u0e01\\u0e2b\\u0e25\\u0e32\\u0e22\", \"\\u0e2d\\u0e32\\u0e2b\\u0e32\\u0e23\\u0e2d\\u0e23\\u0e48\\u0e2d\\u0e22\\u0e17\\u0e38\\u0e01\\u0e2d\\u0e22\\u0e48\\u0e32\\u0e07\", \"\\u0e2d\\u0e32\\u0e2b\\u0e32\\u0e23\\u0e2d\\u0e2d\\u0e01\\u0e40\\u0e23\\u0e47\\u0e27\", \"\\u0e2d\\u0e32\\u0e2b\\u0e32\\u0e23\\u0e2d\\u0e2d\\u0e01\\u0e40\\u0e23\\u0e47\\u0e27\", \"\\u0e2d\\u0e32\\u0e2b\\u0e32\\u0e23\\u0e40\\u0e01\\u0e32\\u0e2b\\u0e25\\u0e35\", \"\\u0e2d\\u0e32\\u0e2b\\u0e32\\u0e23\\u0e40\\u0e01\\u0e32\\u0e2b\\u0e25\\u0e35\", \"\\u0e2d\\u0e32\\u0e2b\\u0e32\\u0e23\\u0e40\\u0e2b\\u0e19\\u0e37\\u0e2d\", \"\\u0e2d\\u0e34\\u0e19\\u0e40\\u0e14\\u0e35\\u0e22\", \"\\u0e2d\\u0e34\\u0e19\\u0e40\\u0e15\\u0e2d\\u0e23\\u0e4c\", \"\\u0e2d\\u0e34\\u0e2a\\u0e25\\u0e32\\u0e21\", \"\\u0e2d\\u0e35\\u0e01\\u0e40\\u0e22\\u0e2d\\u0e30\", \"\\u0e2d\\u0e35\\u0e2a\\u0e32\", \"\\u0e2d\\u0e38\\u0e1b\\u0e01\\u0e23\\u0e13\\u0e4c\", \"\\u0e2d\\u0e40\\u0e21\\u0e23\\u0e34\\u0e01\\u0e32\", \"\\u0e2e\\u0e30\", \"\\u0e2e\\u0e31\\u0e19\\u0e19\\u0e35\\u0e48\\u0e42\\u0e17\\u0e2a\", \"\\u0e2e\\u0e48\\u0e2d\\u0e07\\u0e01\\u0e07\", \"\\u0e2e\\u0e48\\u0e2d\\u0e07\\u0e01\\u0e07\", \"\\u0e2e\\u0e48\\u0e2d\\u0e07\\u0e01\\u0e07\", \"\\u0e2e\\u0e48\\u0e2d\\u0e07\\u0e01\\u0e07\", \"\\u0e31\\u0e07\", \"\\u0e40\\u0e01\\u0e25\\u0e47\\u0e14\\u0e19\\u0e49\\u0e33\\u0e41\\u0e02\\u0e47\\u0e07\", \"\\u0e40\\u0e01\\u0e35\\u0e4a\\u0e22\\u0e27\\u0e19\\u0e49\\u0e33\", \"\\u0e40\\u0e02\\u0e35\\u0e22\\u0e27\\u0e2b\\u0e27\\u0e32\\u0e19\", \"\\u0e40\\u0e02\\u0e49\\u0e21\\u0e02\\u0e49\\u0e19\", \"\\u0e40\\u0e02\\u0e49\\u0e21\\u0e02\\u0e49\\u0e19\", \"\\u0e40\\u0e02\\u0e49\\u0e21\\u0e02\\u0e49\\u0e19\", \"\\u0e40\\u0e04\\u0e23\\u0e1b\", \"\\u0e40\\u0e04\\u0e23\\u0e1b\", \"\\u0e40\\u0e04\\u0e23\\u0e37\\u0e48\\u0e2d\\u0e07\\u0e14\\u0e37\\u0e48\\u0e21\", \"\\u0e40\\u0e04\\u0e23\\u0e37\\u0e48\\u0e2d\\u0e07\\u0e14\\u0e37\\u0e48\\u0e21\", \"\\u0e40\\u0e04\\u0e23\\u0e37\\u0e48\\u0e2d\\u0e07\\u0e14\\u0e37\\u0e48\\u0e21\", \"\\u0e40\\u0e04\\u0e23\\u0e37\\u0e48\\u0e2d\\u0e07\\u0e40\\u0e22\\u0e2d\\u0e30\\u0e14\\u0e35\", \"\\u0e40\\u0e04\\u0e25\\u0e37\\u0e2d\\u0e1a\", \"\\u0e40\\u0e04\\u0e32\\u0e19\\u0e4c\\u0e40\\u0e15\\u0e2d\\u0e23\\u0e4c\", \"\\u0e40\\u0e04\\u0e32\\u0e40\\u0e15\\u0e2d\\u0e23\\u0e4c\", \"\\u0e40\\u0e04\\u0e32\\u0e40\\u0e15\\u0e2d\\u0e23\\u0e4c\", \"\\u0e40\\u0e04\\u0e32\\u0e40\\u0e15\\u0e2d\\u0e23\\u0e4c\", \"\\u0e40\\u0e04\\u0e49\\u0e32\\u0e02\\u0e32\\u0e22\", \"\\u0e40\\u0e0a\\u0e48\\u0e32\", \"\\u0e40\\u0e0b\\u0e47\\u0e17\", \"\\u0e40\\u0e0b\\u0e47\\u0e17\", \"\\u0e40\\u0e0b\\u0e47\\u0e17\", \"\\u0e40\\u0e0b\\u0e47\\u0e19\\u0e17\\u0e23\\u0e31\\u0e25\\u0e25\\u0e32\\u0e14\\u0e1e\\u0e23\\u0e49\\u0e32\\u0e27\", \"\\u0e40\\u0e14\\u0e47\\u0e01\\u0e40\\u0e2a\\u0e23\\u0e34\\u0e1f\", \"\\u0e40\\u0e14\\u0e47\\u0e01\\u0e40\\u0e2a\\u0e23\\u0e34\\u0e1f\", \"\\u0e40\\u0e14\\u0e47\\u0e01\\u0e40\\u0e2a\\u0e23\\u0e34\\u0e1f\", \"\\u0e40\\u0e15\\u0e34\\u0e21\\u0e44\\u0e14\\u0e49\\u0e44\\u0e21\\u0e48\\u0e2d\\u0e31\\u0e49\\u0e19\", \"\\u0e40\\u0e19\\u0e37\\u0e49\\u0e2d\", \"\\u0e40\\u0e19\\u0e37\\u0e49\\u0e2d\", \"\\u0e40\\u0e19\\u0e37\\u0e49\\u0e2d\", \"\\u0e40\\u0e19\\u0e37\\u0e49\\u0e2d\\u0e15\\u0e38\\u0e4b\\u0e19\", \"\\u0e40\\u0e19\\u0e37\\u0e49\\u0e2d\\u0e27\\u0e31\\u0e27\", \"\\u0e40\\u0e19\\u0e37\\u0e49\\u0e2d\\u0e2d\", \"\\u0e40\\u0e1a\\u0e19\\u0e42\\u0e15\\u0e30\", \"\\u0e40\\u0e1a\\u0e2d\\u0e40\\u0e01\\u0e2d\\u0e23\\u0e4c\", \"\\u0e40\\u0e1b\\u0e34\\u0e14\\u0e41\\u0e25\\u0e49\\u0e27\", \"\\u0e40\\u0e1b\\u0e47\\u0e14\\u0e1b\\u0e31\\u0e01\\u0e01\\u0e34\\u0e48\\u0e07\", \"\\u0e40\\u0e1b\\u0e47\\u0e19\\u0e23\\u0e49\\u0e32\\u0e19\\u0e40\\u0e25\\u0e47\\u0e01\", \"\\u0e40\\u0e1b\\u0e47\\u0e19\\u0e23\\u0e49\\u0e32\\u0e19\\u0e40\\u0e25\\u0e47\\u0e01\", \"\\u0e40\\u0e1b\\u0e47\\u0e19\\u0e23\\u0e49\\u0e32\\u0e19\\u0e40\\u0e25\\u0e47\\u0e01\", \"\\u0e40\\u0e1b\\u0e48\\u0e32\", \"\\u0e40\\u0e1c\\u0e32\", \"\\u0e40\\u0e1c\\u0e32\", \"\\u0e40\\u0e1c\\u0e47\\u0e14\\u0e21\\u0e32\\u0e01\", \"\\u0e40\\u0e1e\\u0e08\", \"\\u0e40\\u0e1e\\u0e08\", \"\\u0e40\\u0e1e\\u0e0a\\u0e23\\u0e1a\\u0e38\\u0e23\\u0e35\", \"\\u0e40\\u0e1e\\u0e0a\\u0e23\\u0e1a\\u0e38\\u0e23\\u0e35\", \"\\u0e40\\u0e1e\\u0e37\\u0e48\\u0e2d\\u0e19\\u0e1d\\u0e39\\u0e07\", \"\\u0e40\\u0e1e\\u0e37\\u0e48\\u0e2d\\u0e19\\u0e1d\\u0e39\\u0e07\", \"\\u0e40\\u0e1f\\u0e23\\u0e19\\u0e1f\\u0e23\\u0e32\\u0e22\", \"\\u0e40\\u0e21\\u0e19\\u0e39\\u0e02\\u0e19\\u0e21\", \"\\u0e40\\u0e21\\u0e19\\u0e39\\u0e1b\\u0e23\\u0e30\\u0e08\\u0e33\", \"\\u0e40\\u0e21\\u0e25\\u0e48\\u0e2d\\u0e19\", \"\\u0e40\\u0e21\\u0e49\\u0e32\\u0e17\\u0e4c\", \"\\u0e40\\u0e22\\u0e37\\u0e2d\\u0e19\", \"\\u0e40\\u0e23\\u0e48\\u0e07\\u0e23\\u0e35\\u0e1a\", \"\\u0e40\\u0e25\\u0e19\", \"\\u0e40\\u0e25\\u0e35\\u0e22\\u0e19\", \"\\u0e40\\u0e25\\u0e35\\u0e22\\u0e1a\", \"\\u0e40\\u0e25\\u0e37\\u0e2d\\u0e01\\u0e44\\u0e21\\u0e48\\u0e16\\u0e39\\u0e01\", \"\\u0e40\\u0e27\\u0e49\\u0e19\", \"\\u0e40\\u0e27\\u0e49\\u0e19\", \"\\u0e40\\u0e2a\\u0e37\\u0e49\\u0e2d\\u0e1c\\u0e49\\u0e32\", \"\\u0e40\\u0e2b\\u0e21\\u0e32\", \"\\u0e40\\u0e2b\\u0e25\\u0e27\", \"\\u0e40\\u0e2d\\u0e2d\", \"\\u0e40\\u0e2d\\u0e40\\u0e0a\\u0e35\\u0e22\", \"\\u0e40\\u0e40\\u0e1e\\u0e07\", \"\\u0e40\\u0e40\\u0e1e\\u0e07\", \"\\u0e40\\u0e40\\u0e1e\\u0e07\", \"\\u0e40\\u0e40\\u0e27\\u0e30\", \"\\u0e41\\u0e01\\u0e07\\u0e01\\u0e23\\u0e30\\u0e2b\\u0e23\\u0e35\\u0e48\", \"\\u0e41\\u0e01\\u0e07\\u0e01\\u0e30\\u0e2b\\u0e23\\u0e35\", \"\\u0e41\\u0e01\\u0e07\\u0e2a\\u0e49\\u0e21\", \"\\u0e41\\u0e08\\u0e4b\\u0e27\", \"\\u0e41\\u0e19\\u0e30\\u0e19\\u0e33\", \"\\u0e41\\u0e19\\u0e30\\u0e19\\u0e33\", \"\\u0e41\\u0e19\\u0e30\\u0e19\\u0e33\", \"\\u0e41\\u0e1a\\u0e1a\\u0e40\\u0e22\\u0e47\\u0e19\", \"\\u0e41\\u0e1b\\u0e25\\u0e01\", \"\\u0e41\\u0e1b\\u0e25\\u0e01\", \"\\u0e41\\u0e1b\\u0e25\\u0e01\", \"\\u0e41\\u0e1e\\u0e07\", \"\\u0e41\\u0e1e\\u0e07\", \"\\u0e41\\u0e1e\\u0e07\", \"\\u0e41\\u0e1e\\u0e07\\u0e44\\u0e1b\\u0e19\\u0e34\\u0e14\", \"\\u0e41\\u0e1f\", \"\\u0e41\\u0e21\\u0e25\\u0e07\\u0e27\\u0e31\\u0e19\", \"\\u0e41\\u0e21\\u0e27\", \"\\u0e41\\u0e2d\\u0e1a\\u0e41\\u0e1e\\u0e07\", \"\\u0e42\\u0e04\\u0e23\\u0e32\\u0e0a\", \"\\u0e42\\u0e14\\u0e19\\u0e31\\u0e17\", \"\\u0e42\\u0e17\\u0e2a\", \"\\u0e42\\u0e17\\u0e2a\", \"\\u0e42\\u0e1a\\u0e01\", \"\\u0e42\\u0e1a\\u0e01\", \"\\u0e42\\u0e22\\u0e40\\u0e01\\u0e34\\u0e23\\u0e4c\\u0e15\", \"\\u0e42\\u0e23\\u0e1a\\u0e34\\u0e19\", \"\\u0e42\\u0e25\", \"\\u0e42\\u0e25\\u0e25\\u0e30\", \"\\u0e43\\u0e0a\\u0e49\\u0e44\\u0e14\\u0e49\", \"\\u0e43\\u0e0a\\u0e49\\u0e44\\u0e14\\u0e49\", \"\\u0e43\\u0e0a\\u0e49\\u0e44\\u0e14\\u0e49\", \"\\u0e43\\u0e19\\u0e23\\u0e49\\u0e32\\u0e19\\u0e15\\u0e01\\u0e41\\u0e15\\u0e48\\u0e07\", \"\\u0e43\\u0e2a\\u0e48\\u0e16\\u0e38\\u0e07\", \"\\u0e43\\u0e2b\\u0e0d\\u0e48\", \"\\u0e43\\u0e2b\\u0e0d\\u0e48\", \"\\u0e43\\u0e2b\\u0e0d\\u0e48\", \"\\u0e43\\u0e2b\\u0e49\\u0e40\\u0e25\\u0e37\\u0e2d\\u0e01\\u0e40\\u0e22\\u0e2d\\u0e30\\u0e21\\u0e32\\u0e01\", \"\\u0e43\\u0e2b\\u0e49\\u0e40\\u0e25\\u0e37\\u0e2d\\u0e01\\u0e40\\u0e22\\u0e2d\\u0e30\\u0e21\\u0e32\\u0e01\", \"\\u0e44\\u0e01\\u0e48\\u0e04\\u0e32\\u0e23\\u0e32\\u0e40\\u0e01\\u0e30\", \"\\u0e44\\u0e01\\u0e48\\u0e1c\\u0e31\\u0e14\\u0e40\\u0e21\\u0e47\\u0e14\\u0e21\\u0e30\\u0e21\\u0e48\\u0e27\\u0e07\", \"\\u0e44\\u0e02\\u0e48\\u0e21\\u0e38\\u0e01\", \"\\u0e44\\u0e02\\u0e48\\u0e40\\u0e08\\u0e35\\u0e22\\u0e27\\u0e2b\\u0e21\\u0e39\\u0e2a\\u0e31\\u0e1a\", \"\\u0e44\\u0e14\\u0e48\", \"\\u0e44\\u0e14\\u0e49\\u0e40\\u0e22\\u0e2d\\u0e30\\u0e21\\u0e32\\u0e01\", \"\\u0e44\\u0e21\\u0e48\\u0e41\\u0e1e\\u0e07\\u0e21\\u0e32\\u0e01\", \"\\u0e44\\u0e21\\u0e48\\u0e42\\u0e14\\u0e14\\u0e40\\u0e14\\u0e48\\u0e19\", \"\\u0e44\\u0e21\\u0e48\\u0e44\\u0e14\\u0e49\\u0e2d\\u0e23\\u0e48\\u0e2d\\u0e22\", \"\\u0e44\\u0e21\\u0e48\\u0e44\\u0e14\\u0e49\\u0e2d\\u0e23\\u0e48\\u0e2d\\u0e22\", \"\\u0e44\\u0e21\\u0e48\\u0e44\\u0e14\\u0e49\\u0e2d\\u0e23\\u0e48\\u0e2d\\u0e22\", \"\\u0e44\\u0e2a\\u0e49\\u0e04\\u0e23\\u0e35\\u0e21\", \"\\u0e44\\u0e2a\\u0e49\\u0e16\\u0e31\\u0e48\\u0e27\", \"\\u0e44\\u0e2a\\u0e49\\u0e16\\u0e31\\u0e48\\u0e27\", \"\\u0e44\\u0e2a\\u0e49\\u0e2b\\u0e21\\u0e39\\u0e2a\\u0e31\\u0e1a\", \"\\u0e44\\u0e2a\\u0e49\\u0e2d\\u0e31\\u0e48\\u0e27\", \"\\u0e44\\u0e2a\\u0e49\\u0e2d\\u0e31\\u0e48\\u0e27\", \"\\u0e49\\u0e04\\u0e32\\u0e42\\u0e1a\\u0e19\\u0e32\\u0e23\\u0e48\\u0e32\", \"\\u2019\", \"\\u25a0\", \"\\u263a\", \"\\u2b50\"]}, \"R\": 30, \"lambda.step\": 0.01, \"plot.opts\": {\"xlab\": \"PC1\", \"ylab\": \"PC2\"}, \"topic.order\": [4, 7, 6, 3, 5, 8, 2, 1]};\n",
       "\n",
       "function LDAvis_load_lib(url, callback){\n",
       "  var s = document.createElement('script');\n",
       "  s.src = url;\n",
       "  s.async = true;\n",
       "  s.onreadystatechange = s.onload = callback;\n",
       "  s.onerror = function(){console.warn(\"failed to load library \" + url);};\n",
       "  document.getElementsByTagName(\"head\")[0].appendChild(s);\n",
       "}\n",
       "\n",
       "if(typeof(LDAvis) !== \"undefined\"){\n",
       "   // already loaded: just create the visualization\n",
       "   !function(LDAvis){\n",
       "       new LDAvis(\"#\" + \"ldavis_el288114031920723528072345621\", ldavis_el288114031920723528072345621_data);\n",
       "   }(LDAvis);\n",
       "}else if(typeof define === \"function\" && define.amd){\n",
       "   // require.js is available: use it to load d3/LDAvis\n",
       "   require.config({paths: {d3: \"https://cdnjs.cloudflare.com/ajax/libs/d3/3.5.5/d3.min\"}});\n",
       "   require([\"d3\"], function(d3){\n",
       "      window.d3 = d3;\n",
       "      LDAvis_load_lib(\"https://cdn.rawgit.com/bmabey/pyLDAvis/files/ldavis.v1.0.0.js\", function(){\n",
       "        new LDAvis(\"#\" + \"ldavis_el288114031920723528072345621\", ldavis_el288114031920723528072345621_data);\n",
       "      });\n",
       "    });\n",
       "}else{\n",
       "    // require.js not available: dynamically load d3 & LDAvis\n",
       "    LDAvis_load_lib(\"https://cdnjs.cloudflare.com/ajax/libs/d3/3.5.5/d3.min.js\", function(){\n",
       "         LDAvis_load_lib(\"https://cdn.rawgit.com/bmabey/pyLDAvis/files/ldavis.v1.0.0.js\", function(){\n",
       "                 new LDAvis(\"#\" + \"ldavis_el288114031920723528072345621\", ldavis_el288114031920723528072345621_data);\n",
       "            })\n",
       "         });\n",
       "}\n",
       "</script>"
      ],
      "text/plain": [
       "PreparedData(topic_coordinates=              x         y  topics  cluster       Freq\n",
       "topic                                                \n",
       "3     -0.169291  0.232974       1        1  39.631397\n",
       "6     -0.208951 -0.007152       2        1  21.678467\n",
       "5      0.084599  0.134896       3        1  13.889204\n",
       "2      0.117272 -0.056553       4        1   5.402656\n",
       "4      0.021859 -0.062061       5        1   5.031559\n",
       "7      0.069782 -0.104089       6        1   5.019269\n",
       "1      0.069032 -0.031762       7        1   4.755578\n",
       "0      0.015698 -0.106253       8        1   4.591870, topic_info=          Term        Freq       Total Category  logprob  loglift\n",
       "5727             96.000000   96.000000  Default  30.0000  30.0000\n",
       "131       กาแฟ  256.000000  256.000000  Default  29.0000  29.0000\n",
       "28        ราคา  526.000000  526.000000  Default  28.0000  28.0000\n",
       "125     รสชาติ  511.000000  511.000000  Default  27.0000  27.0000\n",
       "51     น้ำจิ้ม  265.000000  265.000000  Default  26.0000  26.0000\n",
       "...        ...         ...         ...      ...      ...      ...\n",
       "4718  ท้องถิ่น    5.637657    9.250538   Topic8  -7.1649   2.5857\n",
       "2585  เพชรบุรี    4.646039    7.050490   Topic8  -7.3583   2.6638\n",
       "2762     ตะโกน    4.663404    9.196259   Topic8  -7.3546   2.4018\n",
       "3517  ราชพฤกษ์    4.258783    6.757500   Topic8  -7.4454   2.6192\n",
       "2873       มัว    4.400677    8.149710   Topic8  -7.4126   2.4647\n",
       "\n",
       "[431 rows x 6 columns], token_table=       Topic      Freq          Term\n",
       "term                                \n",
       "5727       8  0.997619              \n",
       "4387       2  0.991318          กกกก\n",
       "720        5  0.888407         กย่าง\n",
       "3089       2  0.962197       กรอบมาก\n",
       "13834      5  0.852268  กรอบอร่อยมาก\n",
       "...      ...       ...           ...\n",
       "8948       5  0.996439    ้คาโบนาร่า\n",
       "8276       4  0.846666             ’\n",
       "10348      8  0.827010             ■\n",
       "15953      6  0.993236             ☺\n",
       "3556       2  0.996944             ⭐\n",
       "\n",
       "[563 rows x 3 columns], R=30, lambda_step=0.01, plot_opts={'xlab': 'PC1', 'ylab': 'PC2'}, topic_order=[4, 7, 6, 3, 5, 8, 2, 1])"
      ]
     },
     "execution_count": 19,
     "metadata": {},
     "output_type": "execute_result"
    }
   ],
   "source": [
    "%%time\n",
    "pyLDAvis.gensim.prepare(model, corpus, id2word, n_jobs = 15, mds='mmds')"
   ]
  },
  {
   "cell_type": "markdown",
   "metadata": {},
   "source": [
    "this mappign for food top model with food words\n",
    "\n",
    "topics 3 > lda 1 \n",
    "topics 6 > lda 2 \n",
    "topics 5 > lda 3\n",
    "topics 2 > lda 4\n",
    "topics 4 > lda 5\n",
    "topics 7 > lda 6\n",
    "topics 1 > lda 7\n",
    "topics 0 > lda 8 "
   ]
  },
  {
   "cell_type": "markdown",
   "metadata": {},
   "source": [
    "# interpretation"
   ]
  },
  {
   "cell_type": "code",
   "execution_count": 22,
   "metadata": {},
   "outputs": [],
   "source": [
    "from matplotlib import gridspec\n",
    "import math\n",
    "import matplotlib.pyplot as plt\n",
    "import warnings\n",
    "warnings.filterwarnings(action='ignore', category=RuntimeWarning)\n",
    "import matplotlib\n",
    "font = {'family' : 'Tahoma',\n",
    "        'size'   : 20}\n",
    "\n",
    "matplotlib.rc('font', **font)\n",
    "\n",
    "def plot_top_words(lda, nb_topics, nb_words=10, plot=False):\n",
    "\n",
    "    top_words = [[word for word,_ in lda.show_topic(topic_id, topn=50)] for topic_id in range(lda.num_topics)]\n",
    "    top_betas = [[beta for _,beta in lda.show_topic(topic_id, topn=50)] for topic_id in range(lda.num_topics)]\n",
    "\n",
    "    if plot:\n",
    "        gs  = gridspec.GridSpec(round(math.sqrt(nb_topics))+1,round(math.sqrt(nb_topics))+1)\n",
    "        gs.update(wspace=0.5, hspace=0.5)\n",
    "        plt.figure(figsize=(20,15))\n",
    "        for i in range(nb_topics):\n",
    "            ax = plt.subplot(gs[i])\n",
    "            plt.barh(range(nb_words), top_betas[i][:nb_words], align='center',color='blue', ecolor='black')\n",
    "            ax.invert_yaxis()\n",
    "            ax.set_yticks(range(nb_words))\n",
    "            ax.set_yticklabels(top_words[i][:nb_words])\n",
    "            plt.title(\"Topic \"+str(i))\n",
    "        \n",
    "    return top_words, top_betas"
   ]
  },
  {
   "cell_type": "code",
   "execution_count": 23,
   "metadata": {},
   "outputs": [],
   "source": [
    "topic_keywords, top_betas = plot_top_words(model, nb_topics=8, nb_words=100)"
   ]
  },
  {
   "cell_type": "code",
   "execution_count": 24,
   "metadata": {
    "scrolled": true
   },
   "outputs": [
    {
     "name": "stdout",
     "output_type": "stream",
     "text": [
      "0 {'', 'เพชรบุรี', 'สงกรานต์', 'ท้องถิ่น', 'ขุน', 'ราชพฤกษ์', '■', 'มัว', 'เจียง', 'มะตูม', 'เซ็นทรัลลาดพร้าว', 'ตะโกน', 'หมูน้ำ', 'ช็อกโกแล็ต', 'ผัดหมี่', 'หมั่นโถ', 'เพจ', 'ยำถั่วพลู', 'และกุ้ง', 'ยำมะม่วง', 'รู', 'เขียวหวาน', 'ท้า', 'เติมได้ไม่อั้น', 'ปลานึ่ง', 'เบอเกอร์', 'ต้มแซ่บกระดูกอ่อน', 'กรึบ', 'ปริ่ม', 'ย็นตาโฟ', 'แมลงวัน', 'เกล็ดน้ำแข็ง', 'ไข่เจียวหมูสับ', 'บาน', 'ผักหวาน', 'เลน', 'สั่งได้ไม่อั้น', 'เมนูสเต็ก', 'ตำมั่ว', 'คบ', 'กระเฉด', 'น้ำซุบ', 'ปริมาณเยอะมาก', 'ด้อย', 'ฤดูกาล', 'พัฒนาการ', 'โคราช', 'หลุม', 'ออเดิร์ฟ', 'เมนูขนม'} \n",
      "\n",
      "\n",
      "1 {'ซอก', 'กากหมู', 'กกกกกก', 'อิสลาม', 'เว้น', 'ทรู', 'พยาบาล', 'ัง', 'ราเม็ง', 'ฟูด', 'เป่า', 'หม้อดิน', 'ฐาน', 'ดีเลยทีเดียว', 'กินเข้าไป', 'อร่อยย', 'เลียน', 'ลองเมนู', 'ไซด์', 'หมดเกลี้ยง', 'พี่สาว', 'หิมะ', 'ปลาเค็ม', 'ปูม้านึ่ง', 'มาตรา', 'เช่า', 'ลาบทอด', 'สะดุดตา', 'ว่าอร่อยกว่า', 'ไส้หมูสับ', 'สตาร์', 'แจ๋ว', 'เค้าขาย', 'นวด', 'ติ๋มซำ', 'อร่อยคะ', 'ชาต', 'ปลาหมึกผัดไข่เค็ม', 'หอมดี', 'ปูเนื้อ', 'ดิ่ง', 'กุ้งพันอ้อย', 'บริษัท', 'ไส้ครีม', 'ฟูจิ', 'ค้นหา', 'จร้า', 'อินเตอร์', 'อาม่า', 'ลูกค้าไม่เยอะ'} \n",
      "\n",
      "\n",
      "2 {'อย่ามา', 'นุ่มอร่อยมาก', '’', 'ข้าวหมกไก่', 'บิน', 'วิน', 'ข้าวหอมมะลิ', 'การรอคอย', 'ลอดช่อง', 'สองสาม', 'คนเยอะตลอด', 'แบบเย็น', 'ห่อกลับ', 'ปลากรอบ', 'ก้อโอเค', 'เชียงราย', 'อาหารออกเร็ว', 'เหมา', 'สมัคร', 'เด็กเสริฟ', 'ฟาร์ม', 'ลอดช่องสิงคโปร', 'เเพง', 'วิวดี', 'ให้เลือกเยอะมาก', 'ขนมถ้วย', 'กระบี่', 'ไก่คาราเกะ', 'หมูจุ่ม', 'หมูปิ้ง', 'ข้าวหมก', 'บูด', 'ขนุน', 'ปลากะพง', 'ปูผัดผงกระหรี่', 'ไก่ผัดเม็ดมะม่วง', 'สมูตตี้', 'มั่ว', 'กะทะร้อน', 'เหตุ', 'มารยาท', 'ท๊อปปิ้ง', 'รวมมิตร', 'สนามบิน', 'โรบิน', 'ก้ออร่อย', 'คัพเค้ก', 'เเวะ', 'ยำแซลมอน', 'ต่างประเทศ'} \n",
      "\n",
      "\n",
      "3 {'ข้าวผัดปู', 'รสเด็ด', 'กลับบ้าน', 'ปรับปรุง', 'หม้อไฟ', 'ก๋วยเตี๋ยว', 'ข้าวผั', 'หน้าตา', 'พอใช้ได้', 'ไส้กรอก', 'กรุงเทพ', 'ซีฟู้ด', 'ราคาถูก', 'แกงส้ม', 'เผา', 'ก๋วยเตี๋ยวเรือ', 'ครอบครัว', 'น้ำจิ้ม', 'ต้มยำกุ้ง', 'บุฟเฟ่', 'ยุง', 'สถานที่'} \n",
      "\n",
      "\n",
      "4 {'ซุปกระดูก', 'มีหลายร้าน', '้คาโบนาร่า', 'หัวปลา', 'เครื่องเยอะดี', 'ขนมผักกาด', 'ก็อร่อยมาก', 'เอเชีย', 'แล้วแต่ชอบ', 'สมราคาค่ะ', 'ชืด', 'ลาซานญ่า', 'บริกร', 'ยุโรป', 'อีสา', 'ช๊อคโกแลต', 'ชาไข่มุก', 'เลือกไม่ถูก', 'ลาก', 'ขมิ้น', 'ไข่ดิบ', 'ได่', 'วิวทะเล', 'รสกาแฟ', 'ในร้านตกแต่ง', 'ฮ่องกง', 'คอนโด', 'ขอนแก่น', 'น่าน', 'ซอสราด', 'บะหมี่หยก', 'กย่าง', 'กรอบอร่อยมาก', 'เกี๊ยวน้ำ', 'บัง', 'ผลิต', 'เต้าฮวย', 'เมล่อน', 'โบก', 'โทส', 'เสื้อผ้า', 'ปลาเนื้ออ', 'อินเดีย', 'หมอ', 'ไส้อั่ว', 'ชูครีม', 'เบนโตะ', 'ไส้ถั่ว', 'อันนี้อร่อย', 'หน้าตาอาหาร'} \n",
      "\n",
      "\n",
      "5 {'มื้อกลางวัน', 'พัฒนา', 'อาหารเหนือ', 'เหลว', 'ผู้ชาย', 'ฮันนี่โทส', 'ลาเต้', 'เสริม', 'มอคค่า', 'หาดใหญ่', 'พาย', 'จับ', 'ผล', 'ข้าวหมูแดง', 'ตำถาด', 'กุนเชียง', 'ชีสเค้ก', 'ไข่มุก', 'เคาน์เตอร์', 'เมนูประจำ', 'พระ', 'หมูกระทะ', 'ขนมจีบ', 'ลูกชิ้นหมู', 'หมูตุ๋น', 'กรุงเทพฯ', 'บิงซู', 'กรุบกรอบ', 'สัตว์', 'ราย', 'สเต๊ก', 'ร้านอาหารจีน', 'ชาวต่างชาติ', 'เซ็ท', 'ข้าวหมูกรอบ', 'ผัดไท', 'หลบ', 'โยเกิร์ต', 'ตะไคร้', 'ร้านสเต็ก', 'บิง', 'คุ้มค่ามาก', 'อาหารทะเลสด', 'ปาท่องโก๋'} \n",
      "\n",
      "\n",
      "6 {'แมว', 'น้ำผึ้ง', 'โดนัท', 'ไม่ได้อร่อย', 'บรรยาย', 'วาฟเฟิล', 'กกกก', 'มีหลายสาขา', 'เรย', 'หวานน้อย', '⭐', 'เครป', 'ของคาว', 'รอง', 'ซื้อกลับบ้าน', 'หมูนุ่ม', 'เป็นร้านเล็ก', 'ข้าวขาหมู', 'บรรยากาศในร้าน', 'เพื่อนฝูง', 'คาราเมล', 'ขนมเค้ก', 'ขนมปังปิ้ง'} \n",
      "\n",
      "\n",
      "7 {'กล้วยปิ้ง', 'ท้องที่', 'ตำซั่ว', 'ดาดฟ้า', 'ทักทาย', 'บะหมี่เย', 'เป็ดปักกิ่ง', 'บรรยายกาศ', 'ปลากะพงทอดน้ำปลา', 'ปวด', 'ลื่น', 'ถ่ายเท', 'ปูนึ่ง', 'อาหารเกาหลี', 'เปิดแล้ว', 'สโคน', 'ออฟฟิศ', 'นิวคุง', 'หาไม่เจอ', 'ซีซ่าสลัด', 'ค', 'อีกเยอะ', 'ยัดไส้', 'เคาเตอร์', 'เม้าท์', 'ขนาดกลาง', 'โล', 'จักรยาน', 'แกงกระหรี่', 'เร่งรีบ', 'โลละ', 'ท่ี', 'ราคาค่อนข้างสูง', 'เอ็น', 'หวือหวา', 'สันนอก', 'และเครื่องดื่ม', 'มอย', 'น้ำซุปกลมกล่อม', 'ทานคู่กัน', 'ปูทะเล', 'อาหารมีให้เลือกหลากหลาย', 'คร่ะ', 'แอบแพง', 'รสชาตดี', 'ผิดพลาด', 'ประชุม', 'หมูมะนาว', 'มากิน', '☺'} \n",
      "\n",
      "\n"
     ]
    }
   ],
   "source": [
    "# Topic - Keywords Dataframe\n",
    "df_topic_keywords = pd.DataFrame(topic_keywords)\n",
    "df_topic_keywords.columns = ['word_'+str(i) for i in range(df_topic_keywords.shape[1])]\n",
    "df_topic_keywords.index = ['topic_'+str(i) for i in range(df_topic_keywords.shape[0])]\n",
    "df_topic_keywords = df_topic_keywords.transpose()\n",
    "\n",
    "for i in range(df_topic_keywords.shape[1]):\n",
    "    main_ = set(df_topic_keywords.iloc[:,i].tolist())\n",
    "    subtract = set()\n",
    "    for j in range(df_topic_keywords.shape[1]):\n",
    "        if j != i:\n",
    "            subtract_ = set(df_topic_keywords.iloc[:,j].tolist())\n",
    "            subtract = subtract.union(subtract_)\n",
    "            \n",
    "    print(i, main_.difference(subtract), '\\n\\n')"
   ]
  },
  {
   "cell_type": "code",
   "execution_count": 32,
   "metadata": {
    "scrolled": true
   },
   "outputs": [
    {
     "name": "stdout",
     "output_type": "stream",
     "text": [
      "0 {'', 'ผัดหมี่', 'ท้องถิ่น', 'ย็นตาโฟ', 'ปริ่ม', 'เกล็ดน้ำแข็ง', 'หลุม', 'ช็อกโกแล็ต', 'สงกรานต์', 'หมูน้ำ', 'ยำมะม่วง', 'เลน', 'กระเฉด', 'ตำมั่ว', 'ปลานึ่ง', 'ฤดูกาล', 'หมั่นโถ', 'เบอเกอร์', 'เติมได้ไม่อั้น', 'มะตูม', 'ท้า', 'ราชพฤกษ์', 'น้ำซุบ', 'แมลงวัน', 'ปริมาณเยอะมาก', 'พัฒนาการ', 'ยำถั่วพลู', 'ขุน', 'เพจ', 'คบ', 'ออเดิร์ฟ', 'เขียวหวาน', 'เซ็นทรัลลาดพร้าว', 'เจียง', 'ด้อย', 'และกุ้ง', 'เมนูขนม', 'โคราช', 'เมนูสเต็ก', '■', 'ตะโกน', 'ไข่เจียวหมูสับ', 'เพชรบุรี', 'สั่งได้ไม่อั้น', 'ผักหวาน', 'มัว', 'กรึบ', 'บาน', 'ต้มแซ่บกระดูกอ่อน', 'รู'} \n",
      "\n",
      "\n",
      "1 {'ลองเมนู', 'สตาร์', 'เลียน', 'หม้อดิน', 'อาม่า', 'อร่อยย', 'ดีเลยทีเดียว', 'หอมดี', 'กินเข้าไป', 'เว้น', 'บริษัท', 'ไซด์', 'ปูม้านึ่ง', 'ัง', 'ชาต', 'กุ้งพันอ้อย', 'กากหมู', 'สะดุดตา', 'ฟูด', 'มาตรา', 'อร่อยคะ', 'หิมะ', 'หมดเกลี้ยง', 'ฟูจิ', 'แจ๋ว', 'ราเม็ง', 'ลูกค้าไม่เยอะ', 'ซอก', 'เป่า', 'ติ๋มซำ', 'ทรู', 'จร้า', 'ค้นหา', 'อินเตอร์', 'กกกกกก', 'พี่สาว', 'ไส้หมูสับ', 'ปลาเค็ม', 'ปูเนื้อ', 'พยาบาล', 'อิสลาม', 'ปลาหมึกผัดไข่เค็ม', 'ฐาน', 'เค้าขาย', 'ว่าอร่อยกว่า', 'ไส้ครีม', 'ดิ่ง', 'เช่า', 'นวด', 'ลาบทอด'} \n",
      "\n",
      "\n",
      "2 {'กะทะร้อน', 'ข้าวหมกไก่', 'ขนมถ้วย', 'หมูจุ่ม', 'ลอดช่อง', 'รวมมิตร', 'ข้าวหมก', 'นุ่มอร่อยมาก', 'คนเยอะตลอด', 'ต่างประเทศ', 'กระบี่', 'แบบเย็น', 'วิน', 'บิน', 'เชียงราย', 'เเวะ', 'การรอคอย', 'สองสาม', 'ให้เลือกเยอะมาก', 'เเพง', 'ปลากรอบ', 'คัพเค้ก', 'เหมา', 'ขนุน', 'สมัคร', 'ท๊อปปิ้ง', 'มั่ว', 'สมูตตี้', 'เด็กเสริฟ', 'ยำแซลมอน', 'ก้ออร่อย', 'ข้าวหอมมะลิ', '’', 'สนามบิน', 'อย่ามา', 'ไก่คาราเกะ', 'บูด', 'ลอดช่องสิงคโปร', 'วิวดี', 'ก้อโอเค', 'โรบิน', 'ห่อกลับ', 'ปลากะพง', 'หมูปิ้ง', 'ฟาร์ม', 'ปูผัดผงกระหรี่', 'มารยาท', 'อาหารออกเร็ว', 'เหตุ', 'ไก่ผัดเม็ดมะม่วง'} \n",
      "\n",
      "\n",
      "3 {'พอใช้ได้', 'รสเด็ด', 'ก๋วยเตี๋ยว', 'ต้มยำกุ้ง', 'กลับบ้าน', 'น้ำจิ้ม', 'ซีฟู้ด', 'ราคาถูก', 'ยุง', 'บุฟเฟ่', 'ข้าวผัดปู', 'ปรับปรุง', 'หน้าตา', 'ไส้กรอก', 'ข้าวผั', 'กรุงเทพ', 'สถานที่', 'แกงส้ม', 'ก๋วยเตี๋ยวเรือ', 'เผา', 'หม้อไฟ', 'ครอบครัว'} \n",
      "\n",
      "\n",
      "4 {'ขนมผักกาด', 'ไส้อั่ว', 'เกี๊ยวน้ำ', 'หมอ', 'วิวทะเล', 'เอเชีย', 'เครื่องเยอะดี', 'สมราคาค่ะ', 'ซอสราด', 'ช๊อคโกแลต', 'ไข่ดิบ', 'รสกาแฟ', 'กรอบอร่อยมาก', 'ผลิต', 'ชูครีม', '้คาโบนาร่า', 'อินเดีย', 'ก็อร่อยมาก', 'เมล่อน', 'บัง', 'ขอนแก่น', 'เต้าฮวย', 'แล้วแต่ชอบ', 'ลาก', 'เสื้อผ้า', 'เบนโตะ', 'หน้าตาอาหาร', 'หัวปลา', 'กย่าง', 'ลาซานญ่า', 'คอนโด', 'ชืด', 'เลือกไม่ถูก', 'น่าน', 'ปลาเนื้ออ', 'มีหลายร้าน', 'ขมิ้น', 'ได่', 'ยุโรป', 'ฮ่องกง', 'โทส', 'ซุปกระดูก', 'อันนี้อร่อย', 'อีสา', 'ในร้านตกแต่ง', 'ชาไข่มุก', 'บะหมี่หยก', 'โบก', 'ไส้ถั่ว', 'บริกร'} \n",
      "\n",
      "\n",
      "5 {'พระ', 'เมนูประจำ', 'หาดใหญ่', 'คุ้มค่ามาก', 'ไข่มุก', 'เซ็ท', 'หลบ', 'ข้าวหมูแดง', 'ลาเต้', 'ตำถาด', 'พัฒนา', 'ผู้ชาย', 'เคาน์เตอร์', 'อาหารเหนือ', 'พาย', 'ลูกชิ้นหมู', 'เสริม', 'กุนเชียง', 'จับ', 'กรุงเทพฯ', 'บิงซู', 'ร้านสเต็ก', 'ข้าวหมูกรอบ', 'ผล', 'สเต๊ก', 'อาหารทะเลสด', 'หมูตุ๋น', 'มื้อกลางวัน', 'ราย', 'กรุบกรอบ', 'บิง', 'ขนมจีบ', 'ชีสเค้ก', 'มอคค่า', 'ชาวต่างชาติ', 'โยเกิร์ต', 'เหลว', 'ผัดไท', 'หมูกระทะ', 'ร้านอาหารจีน', 'ตะไคร้', 'สัตว์', 'ปาท่องโก๋', 'ฮันนี่โทส'} \n",
      "\n",
      "\n",
      "6 {'ไม่ได้อร่อย', 'แมว', 'คาราเมล', 'กกกก', 'เรย', 'เครป', 'ของคาว', 'ขนมปังปิ้ง', 'เพื่อนฝูง', 'บรรยาย', 'บรรยากาศในร้าน', 'หมูนุ่ม', 'ขนมเค้ก', 'ซื้อกลับบ้าน', 'มีหลายสาขา', 'เป็นร้านเล็ก', 'ข้าวขาหมู', 'รอง', 'น้ำผึ้ง', 'วาฟเฟิล', 'โดนัท', 'หวานน้อย', '⭐'} \n",
      "\n",
      "\n",
      "7 {'ออฟฟิศ', 'สโคน', 'และเครื่องดื่ม', 'ปูทะเล', 'บะหมี่เย', 'โล', 'เร่งรีบ', 'ดาดฟ้า', 'นิวคุง', 'แกงกระหรี่', 'เป็ดปักกิ่ง', 'เคาเตอร์', 'ลื่น', 'ค', '☺', 'ปลากะพงทอดน้ำปลา', 'ทักทาย', 'ผิดพลาด', 'ถ่ายเท', 'หาไม่เจอ', 'ปวด', 'หวือหวา', 'คร่ะ', 'โลละ', 'ปูนึ่ง', 'จักรยาน', 'มากิน', 'ท้องที่', 'รสชาตดี', 'ประชุม', 'ขนาดกลาง', 'แอบแพง', 'บรรยายกาศ', 'ยัดไส้', 'อาหารเกาหลี', 'ราคาค่อนข้างสูง', 'ซีซ่าสลัด', 'มอย', 'น้ำซุปกลมกล่อม', 'อาหารมีให้เลือกหลากหลาย', 'เปิดแล้ว', 'กล้วยปิ้ง', 'เม้าท์', 'สันนอก', 'เอ็น', 'ตำซั่ว', 'ท่ี', 'ทานคู่กัน', 'อีกเยอะ', 'หมูมะนาว'} \n",
      "\n",
      "\n"
     ]
    }
   ],
   "source": [
    "# Topic - Keywords Dataframe\n",
    "df_topic_keywords = pd.DataFrame(topic_keywords)\n",
    "df_topic_keywords.columns = ['word_'+str(i) for i in range(df_topic_keywords.shape[1])]\n",
    "df_topic_keywords.index = ['topic_'+str(i) for i in range(df_topic_keywords.shape[0])]\n",
    "df_topic_keywords = df_topic_keywords.transpose()\n",
    "\n",
    "for i in range(df_topic_keywords.shape[1]):\n",
    "    main_ = set(df_topic_keywords.iloc[:,i].tolist())\n",
    "    subtract = set()\n",
    "    for j in range(df_topic_keywords.shape[1]):\n",
    "        if j != i:\n",
    "            subtract_ = set(df_topic_keywords.iloc[:,j].tolist())\n",
    "            subtract = subtract.union(subtract_)\n",
    "            \n",
    "    print(i, main_.difference(subtract), '\\n\\n')"
   ]
  },
  {
   "cell_type": "markdown",
   "metadata": {},
   "source": [
    "topics 3 > lda 1 \n",
    "topics 6 > lda 2 \n",
    "topics 5 > lda 3\n",
    "topics 2 > lda 4\n",
    "topics 4 > lda 5\n",
    "topics 7 > lda 6\n",
    "topics 1 > lda 7\n",
    "topics 0 > lda 8 "
   ]
  },
  {
   "cell_type": "markdown",
   "metadata": {},
   "source": [
    "Distinct top 100 words\n",
    "\n",
    "8 - ท้องถิ่น / ปริมาณเยอะ / เติมได้ไม่อั้น\n",
    "\n",
    "7 - อร่อย / ลูกค้าไม่เยอะ / (น่าจะมี)อร่อยกว่า\n",
    "\n",
    "4 - คนเยอะตลอด / รอคอย / อาหารให้เลือกหลากหลาย / แพง / การบริการ / ไม่แนะนำ\n",
    "\n",
    "1 - พอใช้ได้ / ปรับปรุง / ครอบครัว \n",
    "\n",
    "5 - นานาชาติ / เลือกไม่ถูก / ร้านตกแต่ง / การบริการ\n",
    "\n",
    "3 - คุ้มค่า / None\n",
    "\n",
    "2 - ไม่อร่อย / ขนามหวาน / บรรยากาศ / สถานที่\n",
    "\n",
    "6 - ราคาแพง / ผิดพลาด / อาหารหลากหลาย / รสชาติดี / ☺ / กลมกล่อม"
   ]
  },
  {
   "cell_type": "markdown",
   "metadata": {},
   "source": [
    "# Assign"
   ]
  },
  {
   "cell_type": "code",
   "execution_count": 111,
   "metadata": {},
   "outputs": [
    {
     "name": "stdout",
     "output_type": "stream",
     "text": [
      "finish 0 samples\n",
      "finish 10000 samples\n",
      "finish 20000 samples\n",
      "finish 30000 samples\n",
      "CPU times: user 2min 36s, sys: 5.34 ms, total: 2min 36s\n",
      "Wall time: 2min 36s\n"
     ]
    }
   ],
   "source": [
    "%%time\n",
    "res_df = None\n",
    "for i in range(len(remove_stopwords_dtm)):\n",
    "    \n",
    "    res = model[corpus[i]][0]\n",
    "    \n",
    "    if res_df is None:\n",
    "        res_df = pd.DataFrame(res).set_index(0).transpose()\n",
    "    else:\n",
    "        res_df = pd.concat([res_df, pd.DataFrame(res).set_index(0).transpose()])\n",
    "    \n",
    "    if i % 10000 == 0:\n",
    "        print('finish {} samples'.format(i))"
   ]
  },
  {
   "cell_type": "code",
   "execution_count": 316,
   "metadata": {},
   "outputs": [],
   "source": [
    "res_df = res_df.reset_index()"
   ]
  },
  {
   "cell_type": "code",
   "execution_count": 317,
   "metadata": {},
   "outputs": [],
   "source": [
    "res_df = res_df.drop('index',axis=1)"
   ]
  },
  {
   "cell_type": "code",
   "execution_count": 318,
   "metadata": {},
   "outputs": [],
   "source": [
    "review = remove_stopwords['review']\n",
    "review_topics = pd.concat([review, res_df],axis=1)"
   ]
  },
  {
   "cell_type": "code",
   "execution_count": 319,
   "metadata": {},
   "outputs": [
    {
     "data": {
      "text/html": [
       "<div>\n",
       "<style scoped>\n",
       "    .dataframe tbody tr th:only-of-type {\n",
       "        vertical-align: middle;\n",
       "    }\n",
       "\n",
       "    .dataframe tbody tr th {\n",
       "        vertical-align: top;\n",
       "    }\n",
       "\n",
       "    .dataframe thead th {\n",
       "        text-align: right;\n",
       "    }\n",
       "</style>\n",
       "<table border=\"1\" class=\"dataframe\">\n",
       "  <thead>\n",
       "    <tr style=\"text-align: right;\">\n",
       "      <th></th>\n",
       "      <th>review</th>\n",
       "      <th>0</th>\n",
       "      <th>1</th>\n",
       "      <th>2</th>\n",
       "      <th>3</th>\n",
       "      <th>4</th>\n",
       "      <th>5</th>\n",
       "      <th>6</th>\n",
       "      <th>7</th>\n",
       "    </tr>\n",
       "  </thead>\n",
       "  <tbody>\n",
       "    <tr>\n",
       "      <th>2711</th>\n",
       "      <td>เมื่อหน้าร้อนปีก่อน เรากับแฟนไปทานมา  พอดีญาติ...</td>\n",
       "      <td>0.047020</td>\n",
       "      <td>0.047020</td>\n",
       "      <td>0.047020</td>\n",
       "      <td>0.047124</td>\n",
       "      <td>0.047020</td>\n",
       "      <td>0.047026</td>\n",
       "      <td>0.670748</td>\n",
       "      <td>0.047020</td>\n",
       "    </tr>\n",
       "    <tr>\n",
       "      <th>12642</th>\n",
       "      <td>อาหารอร่อย รอไม่นานเท่าไหร่ เรื่องบรรยากาศไม่ต...</td>\n",
       "      <td>0.030118</td>\n",
       "      <td>0.030118</td>\n",
       "      <td>0.030118</td>\n",
       "      <td>0.574931</td>\n",
       "      <td>0.030118</td>\n",
       "      <td>0.131603</td>\n",
       "      <td>0.142871</td>\n",
       "      <td>0.030121</td>\n",
       "    </tr>\n",
       "    <tr>\n",
       "      <th>25210</th>\n",
       "      <td>ร้านเจ๊ขวัญเย็นตาโฟร์ทรงเครื่อง เป็นร้านเย็นตา...</td>\n",
       "      <td>0.028563</td>\n",
       "      <td>0.028563</td>\n",
       "      <td>0.028571</td>\n",
       "      <td>0.388787</td>\n",
       "      <td>0.140848</td>\n",
       "      <td>0.028584</td>\n",
       "      <td>0.270987</td>\n",
       "      <td>0.085095</td>\n",
       "    </tr>\n",
       "    <tr>\n",
       "      <th>15851</th>\n",
       "      <td>ร้านหวานเย็นแบบไทย โบราณ  เดี๋ยวนี้หาทานยากมาก...</td>\n",
       "      <td>0.036778</td>\n",
       "      <td>0.036778</td>\n",
       "      <td>0.036778</td>\n",
       "      <td>0.553753</td>\n",
       "      <td>0.036778</td>\n",
       "      <td>0.036853</td>\n",
       "      <td>0.225502</td>\n",
       "      <td>0.036778</td>\n",
       "    </tr>\n",
       "    <tr>\n",
       "      <th>4778</th>\n",
       "      <td>ปกติจะทานที่สาขาสีลมค่ะ วันนี้ผ่านมาแถวอารีย์เ...</td>\n",
       "      <td>0.028340</td>\n",
       "      <td>0.086681</td>\n",
       "      <td>0.028340</td>\n",
       "      <td>0.160760</td>\n",
       "      <td>0.141699</td>\n",
       "      <td>0.132054</td>\n",
       "      <td>0.393787</td>\n",
       "      <td>0.028340</td>\n",
       "    </tr>\n",
       "    <tr>\n",
       "      <th>25715</th>\n",
       "      <td>ก่อนขึ้นเครื่องที่ดอนเมืองเห็น              ...</td>\n",
       "      <td>0.038100</td>\n",
       "      <td>0.038134</td>\n",
       "      <td>0.100540</td>\n",
       "      <td>0.299700</td>\n",
       "      <td>0.038181</td>\n",
       "      <td>0.038128</td>\n",
       "      <td>0.409117</td>\n",
       "      <td>0.038100</td>\n",
       "    </tr>\n",
       "    <tr>\n",
       "      <th>22428</th>\n",
       "      <td>วันนี้มาเน้นอาหารญี่ปุ่นที่ร้านนี้ค่ะ ปิ้งย่าง...</td>\n",
       "      <td>0.029718</td>\n",
       "      <td>0.029718</td>\n",
       "      <td>0.029718</td>\n",
       "      <td>0.453420</td>\n",
       "      <td>0.029718</td>\n",
       "      <td>0.104291</td>\n",
       "      <td>0.293701</td>\n",
       "      <td>0.029718</td>\n",
       "    </tr>\n",
       "    <tr>\n",
       "      <th>11828</th>\n",
       "      <td>เทศกาลไหว้พระจันทร์ทุก ปี จะต้องมาซื้อขนมไหว้พ...</td>\n",
       "      <td>0.025681</td>\n",
       "      <td>0.025681</td>\n",
       "      <td>0.025681</td>\n",
       "      <td>0.681457</td>\n",
       "      <td>0.075468</td>\n",
       "      <td>0.025683</td>\n",
       "      <td>0.114668</td>\n",
       "      <td>0.025681</td>\n",
       "    </tr>\n",
       "    <tr>\n",
       "      <th>6661</th>\n",
       "      <td>ตอนแรกอ่านรีวิวไว้นานแล้ว มีโอกาสเลยแวะไปลอง ก...</td>\n",
       "      <td>0.037922</td>\n",
       "      <td>0.037942</td>\n",
       "      <td>0.037922</td>\n",
       "      <td>0.268537</td>\n",
       "      <td>0.037922</td>\n",
       "      <td>0.198720</td>\n",
       "      <td>0.343114</td>\n",
       "      <td>0.037922</td>\n",
       "    </tr>\n",
       "    <tr>\n",
       "      <th>17867</th>\n",
       "      <td>กินมาตั้งนานแล้ว โหลดรูปขึ้นเมืาอหลายเดือนก่อน...</td>\n",
       "      <td>0.027164</td>\n",
       "      <td>0.106783</td>\n",
       "      <td>0.027164</td>\n",
       "      <td>0.590410</td>\n",
       "      <td>0.027164</td>\n",
       "      <td>0.166960</td>\n",
       "      <td>0.027192</td>\n",
       "      <td>0.027164</td>\n",
       "    </tr>\n",
       "  </tbody>\n",
       "</table>\n",
       "</div>"
      ],
      "text/plain": [
       "                                                  review         0         1  \\\n",
       "2711   เมื่อหน้าร้อนปีก่อน เรากับแฟนไปทานมา  พอดีญาติ...  0.047020  0.047020   \n",
       "12642  อาหารอร่อย รอไม่นานเท่าไหร่ เรื่องบรรยากาศไม่ต...  0.030118  0.030118   \n",
       "25210  ร้านเจ๊ขวัญเย็นตาโฟร์ทรงเครื่อง เป็นร้านเย็นตา...  0.028563  0.028563   \n",
       "15851  ร้านหวานเย็นแบบไทย โบราณ  เดี๋ยวนี้หาทานยากมาก...  0.036778  0.036778   \n",
       "4778   ปกติจะทานที่สาขาสีลมค่ะ วันนี้ผ่านมาแถวอารีย์เ...  0.028340  0.086681   \n",
       "25715    ก่อนขึ้นเครื่องที่ดอนเมืองเห็น              ...  0.038100  0.038134   \n",
       "22428  วันนี้มาเน้นอาหารญี่ปุ่นที่ร้านนี้ค่ะ ปิ้งย่าง...  0.029718  0.029718   \n",
       "11828  เทศกาลไหว้พระจันทร์ทุก ปี จะต้องมาซื้อขนมไหว้พ...  0.025681  0.025681   \n",
       "6661   ตอนแรกอ่านรีวิวไว้นานแล้ว มีโอกาสเลยแวะไปลอง ก...  0.037922  0.037942   \n",
       "17867  กินมาตั้งนานแล้ว โหลดรูปขึ้นเมืาอหลายเดือนก่อน...  0.027164  0.106783   \n",
       "\n",
       "              2         3         4         5         6         7  \n",
       "2711   0.047020  0.047124  0.047020  0.047026  0.670748  0.047020  \n",
       "12642  0.030118  0.574931  0.030118  0.131603  0.142871  0.030121  \n",
       "25210  0.028571  0.388787  0.140848  0.028584  0.270987  0.085095  \n",
       "15851  0.036778  0.553753  0.036778  0.036853  0.225502  0.036778  \n",
       "4778   0.028340  0.160760  0.141699  0.132054  0.393787  0.028340  \n",
       "25715  0.100540  0.299700  0.038181  0.038128  0.409117  0.038100  \n",
       "22428  0.029718  0.453420  0.029718  0.104291  0.293701  0.029718  \n",
       "11828  0.025681  0.681457  0.075468  0.025683  0.114668  0.025681  \n",
       "6661   0.037922  0.268537  0.037922  0.198720  0.343114  0.037922  \n",
       "17867  0.027164  0.590410  0.027164  0.166960  0.027192  0.027164  "
      ]
     },
     "execution_count": 319,
     "metadata": {},
     "output_type": "execute_result"
    }
   ],
   "source": [
    "review_topics.sample(10)"
   ]
  },
  {
   "cell_type": "code",
   "execution_count": 320,
   "metadata": {},
   "outputs": [],
   "source": [
    "review_topics.columns = ['Topic'+str(c+1) if str(c).isdecimal() else c for c in review_topics.columns]"
   ]
  },
  {
   "cell_type": "code",
   "execution_count": 321,
   "metadata": {},
   "outputs": [
    {
     "data": {
      "text/plain": [
       "['Topic1',\n",
       " 'Topic2',\n",
       " 'Topic3',\n",
       " 'Topic4',\n",
       " 'Topic5',\n",
       " 'Topic6',\n",
       " 'Topic7',\n",
       " 'Topic8']"
      ]
     },
     "execution_count": 321,
     "metadata": {},
     "output_type": "execute_result"
    }
   ],
   "source": [
    "topic_cols = [c for c in review_topics.columns if c.startswith('Topic')]\n",
    "topic_cols"
   ]
  },
  {
   "cell_type": "code",
   "execution_count": 322,
   "metadata": {},
   "outputs": [],
   "source": [
    "map_topics = {1:\"'taste','recommendation'\",\n",
    "2:\"'taste','restaurant_env'\",\n",
    "3:\"'price'\",\n",
    "4:\"'food_variety','price','service','other'\",\n",
    "5:\"'food_variety','restaurant_env','service'\",\n",
    "6:\"'food_variety','price','recommendation'\",\n",
    "7:\"'taste','other'\",\n",
    "8:\"'other'\"}"
   ]
  },
  {
   "cell_type": "code",
   "execution_count": 323,
   "metadata": {
    "scrolled": true
   },
   "outputs": [],
   "source": [
    "bool_df = (review_topics.loc[:,topic_cols] > 0.1).astype(int).reset_index(drop=True)\n",
    "\n",
    "build_topic_df_dict = dict()\n",
    "for i, topic in enumerate(topic_cols,1):\n",
    "    build_topic_df_dict[topic] = [i]\n",
    "topic_df = pd.DataFrame(build_topic_df_dict)\n",
    "topic_df = pd.concat([topic_df]*review_topics.shape[0])\n",
    "\n",
    "res = np.multiply(bool_df, topic_df)\n",
    "res = res.replace(map_topics)\n",
    "res['topics'] = res.values.tolist()\n",
    "res['topics'] = res['topics'].apply(lambda x : list(x))\n",
    "res['topics'] = res['topics'].apply(lambda x : [t for t in x if t != 0])\n",
    "res['topics'] = res['topics'].apply(lambda x : ','.join(x))\n",
    "res['topics'] = res['topics'].apply(lambda x : eval('{'+x.replace('\"',\"\")+'}'))"
   ]
  },
  {
   "cell_type": "code",
   "execution_count": 325,
   "metadata": {},
   "outputs": [],
   "source": [
    "review_topics = pd.concat([review, res['topics']],axis=1)"
   ]
  },
  {
   "cell_type": "code",
   "execution_count": 326,
   "metadata": {},
   "outputs": [
    {
     "data": {
      "text/html": [
       "<div>\n",
       "<style scoped>\n",
       "    .dataframe tbody tr th:only-of-type {\n",
       "        vertical-align: middle;\n",
       "    }\n",
       "\n",
       "    .dataframe tbody tr th {\n",
       "        vertical-align: top;\n",
       "    }\n",
       "\n",
       "    .dataframe thead th {\n",
       "        text-align: right;\n",
       "    }\n",
       "</style>\n",
       "<table border=\"1\" class=\"dataframe\">\n",
       "  <thead>\n",
       "    <tr style=\"text-align: right;\">\n",
       "      <th></th>\n",
       "      <th>review</th>\n",
       "      <th>topics</th>\n",
       "    </tr>\n",
       "  </thead>\n",
       "  <tbody>\n",
       "    <tr>\n",
       "      <th>0</th>\n",
       "      <td>ไปเที่ยวเกาะล้าน คงพลาดไม่ได้กับร้านอาหารขึ้นช...</td>\n",
       "      <td>{other, price, food_variety, service, recommen...</td>\n",
       "    </tr>\n",
       "    <tr>\n",
       "      <th>1</th>\n",
       "      <td>อยากหาเค้กทานแถวบ้านพอดีขับผ่านร้านนี้พอดีเล...</td>\n",
       "      <td>{other, food_variety, service, taste, restaura...</td>\n",
       "    </tr>\n",
       "    <tr>\n",
       "      <th>2</th>\n",
       "      <td>จากเส้น พระราม   เลี้ยวเข้า ถนนเจริญราษฎร์ ชิด...</td>\n",
       "      <td>{other, price, food_variety, service, recommen...</td>\n",
       "    </tr>\n",
       "    <tr>\n",
       "      <th>3</th>\n",
       "      <td>ไม่คิดว่าจะมีร้านเนื้อย่างเกาหลีราคาย่อมเยา แล...</td>\n",
       "      <td>{price, other, food_variety, service, taste, r...</td>\n",
       "    </tr>\n",
       "    <tr>\n",
       "      <th>4</th>\n",
       "      <td>เมนูโปรดคือ ซารุเซ็ต เพราะได้ทั้งหมี่เย็น และเ...</td>\n",
       "      <td>{other, price, food_variety, service, taste}</td>\n",
       "    </tr>\n",
       "  </tbody>\n",
       "</table>\n",
       "</div>"
      ],
      "text/plain": [
       "                                              review  \\\n",
       "0  ไปเที่ยวเกาะล้าน คงพลาดไม่ได้กับร้านอาหารขึ้นช...   \n",
       "1    อยากหาเค้กทานแถวบ้านพอดีขับผ่านร้านนี้พอดีเล...   \n",
       "2  จากเส้น พระราม   เลี้ยวเข้า ถนนเจริญราษฎร์ ชิด...   \n",
       "3  ไม่คิดว่าจะมีร้านเนื้อย่างเกาหลีราคาย่อมเยา แล...   \n",
       "4  เมนูโปรดคือ ซารุเซ็ต เพราะได้ทั้งหมี่เย็น และเ...   \n",
       "\n",
       "                                              topics  \n",
       "0  {other, price, food_variety, service, recommen...  \n",
       "1  {other, food_variety, service, taste, restaura...  \n",
       "2  {other, price, food_variety, service, recommen...  \n",
       "3  {price, other, food_variety, service, taste, r...  \n",
       "4       {other, price, food_variety, service, taste}  "
      ]
     },
     "execution_count": 326,
     "metadata": {},
     "output_type": "execute_result"
    }
   ],
   "source": [
    "review_topics.head()"
   ]
  },
  {
   "cell_type": "markdown",
   "metadata": {},
   "source": [
    "# Human test"
   ]
  },
  {
   "cell_type": "code",
   "execution_count": 332,
   "metadata": {
    "scrolled": true
   },
   "outputs": [
    {
     "data": {
      "text/plain": [
       "array([['ร้านนี้มีทีเด็ดนอกเหนือจากการแต่งร้านที่เป็นสไตล์โมสาร์ทแล้ว กาแฟก็อร่อย คุ้กกี้ก็อร่อยมากด้วย ถ้าสั่งกาแฟจะมีให้สองชิ้น  ติดใจจนต้องกลับมาซื้อแบบถุงกลับไปทานเพิ่มราคาก็ไม่แพง อร่อยคุ้มค่าราคาและปริมาณเลยครับ ลองแวะมาชิมกันดู รับประกันความอร่อยของคุ้กกี้ครับ  ',\n",
       "        {'price', 'other', 'food_variety', 'service', 'recommendation', 'taste', 'restaurant_env'}]],\n",
       "      dtype=object)"
      ]
     },
     "execution_count": 332,
     "metadata": {},
     "output_type": "execute_result"
    }
   ],
   "source": [
    "# interpret - food_variety✔, price ✔, service ❌, restaurant_env ✔ ,  recommend ✔, taste ✔\n",
    "review_topics.sample(1,random_state=112).values"
   ]
  },
  {
   "cell_type": "code",
   "execution_count": 333,
   "metadata": {},
   "outputs": [
    {
     "data": {
      "text/plain": [
       "array([['ร้านนี้เปิดมาเนิ่นนานแล้วค่ะ ในย่านปิ่นเกล้า ใครหลายคนคงรู้จัก ร้านอยู่ก่อนถึงเมเจอร์ซินีเพล็กซ์ สาขาปิ่นเกล้าค่ะ  เยื้องเซ็นทรัลปิ่นเกล้า  อยู่ห่างมาประมาณไม่เกิน   ป้ายรถเมล์ หรือจะเรียกว่าตั้งอยู่หน้าลุมพินีคอนโดปิ่นเกล้าเลยค่ะ มีที่จอดรถเพียงพอค่ะ ร้านค่อนข้างใหญ่และกว้างขวาง มีผู้มาใช้บริการเนืองแน่นแทบจะทุก วัน   สำหรับไลน์อาหารที่นี่จะใช้สโลแกนว่ากุ้งกระทะรีสอร์ท โดยจะมีกุ้งสดและอาหารทะเลไว้บริการด้วย คิดผู้ใหญ่ราคาเดียวคือ     บาทค่ะ  เว้นแต่ต้องเปิดเตาให้คุณคนเดียว ถ้ามาทานคนเดียวก็จะประมาณ     ต้น ค่ะ  ราคาอาหารรวมเครื่องดื่มแล้วนะ เว้นแต่สั่งแอลกอฮอล์ค่ะ   อาหารสด มีทั้งเนื้อหมูสไลด์ หมูเบค่อน หมูสามชั้น หมูหมักต่าง  หมูบด เครื่องใน เนื้อหมัก ไก่ ปลาสด  พวกนี้มักจะฟรีซค่ะ แต่ยังพอทานได้ค่ะ โดยเฉพาะหมูเบค่อนนี่อร่อยสุด    หอยเชลล์ ตัวเล็ก ไม่ค่อยสดนัก หอยตลับ  กุ้ง ดูจะค่อนข้างสดหน่อย มีเนื้อโคขุนสไลด์ด้วยค่ะ แต่ให้มาต่อคิวรับได้ทีละจาน แต่เดินไปเบิ้ลซ้ำ ได้ค่ะ    อาหารสดอื่น  ก็มีพวกผักบุ้ง ผักกาดขาว เต้าหู้ไข่ ไข่ไก่ ไส้กรอก ปูอัด วุ้นเส้น บลา    อาหารหม้อไฟและอาหารไทยอื่น  มีต้มยำกุ้งและกุ้งอบวุ้นเส้นทำใหม่ สด  รู้สึกชอบกุ้งอบวุ้นเส้นที่นี่ค่ะ เหนียวนุ่มอร่อย ปรุงตัวเส้นได้พอดีค่ะ ถูกใจ แต่กุ้งก็ตัวเล็ก ตามระเบียบ กุ้งอบวุ้นเส้นนี่ฮิตมาก เลยค่ะ นอกจากนี้ก็พวกส้มตำ ยำปลาดุกฟู ยำไข่เยี่ยวม้า  ไม่ได้ชิม แต่น่าจะแซ่บ เพราะคนตักเยอะ หมดเร็ว    ติ่มซำและซูชิ ซูชิตลาดนัดทั่วไป  แต่ดูน่าทานน้อยกว่า   ติ่มซำเป็นพวกซาลาเปาขนมจีบ ระดับกลาง   ไส้ครีมอร่อยดี ดูสะอาด   ขนมหวาน เป็นพวกขนมไทย น้ำแข็งไส วุ้น ฝอยทอง  เฉาก๊วย ลอดช่อง ไอศครีมเนสเล่ ก็ถือว่าอร่อยสำหรับร้านระดับนี้   เครื่องดื่มแอลกอฮอล์ มีเบียร์หลายยี่ห้อค่ะ เช่น สิงหื ช้าง ซานมิเกล  แล้วก็คอกเทลสีสันสดใสที่ดูน่าจะหวานเจี๊ยบ อันนี้ไม่         ในบุฟเฟ่ต์นะ  โดยรวม เมื่อเทียบกับหมูกระทะด้วยกันถือว่าพอได้แหละค่ะ ยังพอดูสะอาดใช้ได้นะ แต่ตัวอาหารก็ตามคุณภาพน่ะค่ะ ร้านค่อนข้างใหญ่และได้รับความนิยมสูง ที่นั่งกว้างขวาง ให้เลือกเยอะ ราคา     บาทรวมเครื่องดื่มนี่ก็โอเคเลยนะ รสชาติของน้ำจิ้มของที่นี่ก็อร่อยใช้ได้ อาหารก็หลากหลายดี  การบริการทำได้รวดเร็ว แต่ว่าไม่ค่อยมาเก็บจานเท่าไร คงเพราะคนทานเยอะมาก บางทีรู้สึกหน้าตาไม่ค่อยยิ้มแย้ม แต่ไม่เป็นไร โดยรวมโอเคน่ะค่ะ  ',\n",
       "        {'other', 'price', 'food_variety', 'service', 'recommendation'}]],\n",
       "      dtype=object)"
      ]
     },
     "execution_count": 333,
     "metadata": {},
     "output_type": "execute_result"
    }
   ],
   "source": [
    "# price ✔, food_variety ✔, res_env ✔, service ✔ recommendation ✔\n",
    "review_topics.sample(1,random_state=42).values"
   ]
  },
  {
   "cell_type": "code",
   "execution_count": 334,
   "metadata": {},
   "outputs": [
    {
     "data": {
      "text/plain": [
       "array([['ร้านนี้เดอะแกงค์พาเพื่อน พี่ น้อง ไปเที่ยวบ่อยครับ เค้กอร่อยนั่งชิลทำงาน เที่ยง ก็สั่งกับข้าวมาทานได้อีก เค้กมะพร้าวที่นี่หอมนุ่มอร่อยดี ถ่ายรูปแชร์นี่เพื่อน ในแฟนเพจเดอะแกงค์ถามกันใหญ่ว่าร้านใหน เลยครับ                  ',\n",
       "        {'other', 'price', 'food_variety', 'service', 'recommendation', 'taste'}]],\n",
       "      dtype=object)"
      ]
     },
     "execution_count": 334,
     "metadata": {},
     "output_type": "execute_result"
    }
   ],
   "source": [
    "# interpret - food_variety✔, price  ❌, service ❌, recommend ✔, taste ✔\n",
    "review_topics.sample(1,random_state=777).values"
   ]
  },
  {
   "cell_type": "code",
   "execution_count": 335,
   "metadata": {},
   "outputs": [
    {
     "data": {
      "text/plain": [
       "array([['ร้านอยู่ในเซนทรัลฯ ชั้น   ร้านตกแต่งด้วยสีแดงโดดเด่นสะดุดตา ร้านนี้เป็นร้านขนมเปี๊ยะทอดเก่าแก่ที่ขายมานานมาก เคยทานตั้งแต่เด็ก  รสชาติยังเหมือนเดิมไม่เคยเปลี่ยน อร่อยเหมือนเดิม ขนมเปี๊ยะทอดที่ร้านนี้อร่อยทั้งแป้งและไส้ แล้วก็ไม่มันมากด้วย สำหรับไส้ก็มีให้เลือกหลากหลาย เช่น งาดำ ถั่วดำ ถั่วแดง มัน เผือก สับปะรด ฯลฯ ส่วนชอบไส้งาดำมากเพราะมันจะหอมงามาก แล้วไส้ก็ไม่หวานเกินไปด้วย ราคาไม่แพงเลย    บาท    ชื้น    บาท    ชิ้น    บาท    ชิ้น     บาท    ชื้น  ',\n",
       "        {'other', 'price', 'food_variety', 'service', 'recommendation'}]],\n",
       "      dtype=object)"
      ]
     },
     "execution_count": 335,
     "metadata": {},
     "output_type": "execute_result"
    }
   ],
   "source": [
    "# price ✔, food_variety ✔, reccomendation ❌, service ❌\n",
    "review_topics.sample(1,random_state=2020).values"
   ]
  },
  {
   "cell_type": "code",
   "execution_count": 338,
   "metadata": {},
   "outputs": [
    {
     "data": {
      "text/plain": [
       "array([['พอดีไปซื้อของแถวนั้น เลยแวะทานเย็นซะหน่อย   ร้านตามสั่ง มีสุกี้โบราณ  สุกี้ไข่ออนเซ็น เป็นเมนูแนะนำ เราสั่งสุกี้ทะเลแห้ง ผัดไท คอหมูย่าง น้ำกระเจี๊ยบ ไม่หวานเกินไป ถือว่าดีเลย  สุกี้แห้งรสชาติไม่เน้นเผ็ด กลมกล่อมใช้ได้ ถ้าอยากจี๊ดจ๊าด แนะนำขอพริกสดซอยจากร้าน  ผักไท รสชาติดี แนะนำ  คอหมูน่าง เราว่าหั่นชิ้นบางไปหน่อย  ด้วยความที่ร้านไม่ปิดห้องครัว เวลาผัดอาหาร จะมีกลิ่นเข้ามาในร้าน ทำให้ออกจากร้านพร้อมกลิ่นอาหาร แค่ถ้ามากินช่วงเย็นก่อนกลับบ้านก้อช่างมันเถอะโน๊ะ  ',\n",
       "        {'other', 'price', 'food_variety', 'service', 'recommendation', 'taste', 'restaurant_env'}]],\n",
       "      dtype=object)"
      ]
     },
     "execution_count": 338,
     "metadata": {},
     "output_type": "execute_result"
    }
   ],
   "source": [
    "# 'price' ❌, 'food_variety' ✔, 'service' ❌, 'recommendation' ✔, 'taste' ✔, 'restaurant_env' ✔\n",
    "review_topics.sample(1,random_state=21).values"
   ]
  },
  {
   "cell_type": "markdown",
   "metadata": {},
   "source": [
    "# Distribution"
   ]
  },
  {
   "cell_type": "code",
   "execution_count": 348,
   "metadata": {},
   "outputs": [
    {
     "data": {
      "text/plain": [
       "{'other', 'price', 'food_variety', 'service', 'taste'}                                        8667\n",
       "{'other', 'price', 'food_variety', 'service', 'recommendation', 'taste'}                      7105\n",
       "{'other', 'price', 'food_variety', 'service', 'recommendation'}                               6077\n",
       "{'service', 'other', 'price', 'food_variety'}                                                 3515\n",
       "{'price', 'other', 'food_variety', 'service', 'recommendation', 'taste'}                      2348\n",
       "{'price', 'other', 'food_variety', 'service', 'recommendation', 'taste', 'restaurant_env'}    2163\n",
       "{'other', 'price', 'food_variety', 'recommendation', 'taste'}                                 1972\n",
       "{'price', 'other', 'food_variety', 'service', 'taste', 'restaurant_env'}                      1692\n",
       "{'taste', 'other'}                                                                            1398\n",
       "{'other', 'price', 'food_variety', 'service', 'taste', 'restaurant_env'}                      1154\n",
       "{'other', 'price', 'food_variety', 'service', 'recommendation', 'restaurant_env'}              808\n",
       "{'other', 'price', 'food_variety', 'service', 'recommendation', 'taste', 'restaurant_env'}     626\n",
       "{'other', 'price', 'food_variety', 'service', 'restaurant_env'}                                604\n",
       "{'price', 'food_variety', 'recommendation'}                                                    290\n",
       "{'taste', 'other', 'price'}                                                                    285\n",
       "{'other', 'food_variety', 'service', 'taste', 'restaurant_env'}                                256\n",
       "{'taste', 'recommendation'}                                                                    239\n",
       "{'price', 'other', 'food_variety', 'recommendation', 'taste', 'restaurant_env'}                235\n",
       "{'taste', 'other', 'recommendation'}                                                           164\n",
       "{'taste', 'other', 'restaurant_env'}                                                           156\n",
       "Name: topics, dtype: int64"
      ]
     },
     "execution_count": 348,
     "metadata": {},
     "output_type": "execute_result"
    }
   ],
   "source": [
    "review_topics['topics'].astype(str).value_counts().head(20)"
   ]
  },
  {
   "cell_type": "code",
   "execution_count": 345,
   "metadata": {},
   "outputs": [
    {
     "data": {
      "text/plain": [
       "{'other', 'price', 'recommendation', 'taste', 'restaurant_env'}    2\n",
       "{'service', 'restaurant_env', 'food_variety'}                      2\n",
       "{'taste', 'price', 'restaurant_env'}                               1\n",
       "{'taste', 'restaurant_env'}                                        1\n",
       "{'other', 'price'}                                                 1\n",
       "Name: topics, dtype: int64"
      ]
     },
     "execution_count": 345,
     "metadata": {},
     "output_type": "execute_result"
    }
   ],
   "source": [
    "review_topics['topics'].astype(str).value_counts().tail()"
   ]
  },
  {
   "cell_type": "markdown",
   "metadata": {},
   "source": [
    "# export"
   ]
  },
  {
   "cell_type": "code",
   "execution_count": 363,
   "metadata": {},
   "outputs": [],
   "source": [
    "review_topics.to_csv('20200417_lda_classification_dataset.csv',header=True,index=False)"
   ]
  },
  {
   "cell_type": "code",
   "execution_count": 369,
   "metadata": {},
   "outputs": [
    {
     "name": "stdout",
     "output_type": "stream",
     "text": [
      "20200417_lda_classification_dataset.csv\r\n"
     ]
    }
   ],
   "source": [
    "!ls data"
   ]
  }
 ],
 "metadata": {
  "kernelspec": {
   "display_name": "Python 3",
   "language": "python",
   "name": "python3"
  },
  "language_info": {
   "codemirror_mode": {
    "name": "ipython",
    "version": 3
   },
   "file_extension": ".py",
   "mimetype": "text/x-python",
   "name": "python",
   "nbconvert_exporter": "python",
   "pygments_lexer": "ipython3",
   "version": "3.7.6"
  },
  "toc": {
   "base_numbering": 1,
   "nav_menu": {},
   "number_sections": true,
   "sideBar": true,
   "skip_h1_title": false,
   "title_cell": "Table of Contents",
   "title_sidebar": "Contents",
   "toc_cell": false,
   "toc_position": {},
   "toc_section_display": true,
   "toc_window_display": false
  }
 },
 "nbformat": 4,
 "nbformat_minor": 2
}
